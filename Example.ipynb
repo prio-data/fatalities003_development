{
 "cells": [
  {
   "cell_type": "code",
   "execution_count": 1,
   "id": "initial_id",
   "metadata": {
    "collapsed": true,
    "ExecuteTime": {
     "end_time": "2023-11-22T21:00:41.931956Z",
     "start_time": "2023-11-22T21:00:38.759414Z"
    }
   },
   "outputs": [],
   "source": [
    "import numpy as np\n",
    "import warnings\n",
    "warnings.filterwarnings('ignore')\n",
    "import wandb\n",
    "from pathlib import Path\n",
    "\n",
    "from views_forecasts.extensions import *\n",
    "from utils import fetch_data, transform_data, get_config_path, get_config_from_path, retrain_transformed_sweep, evaluate\n",
    "\n",
    "# import importlib\n",
    "# import utils  \n",
    "# importlib.reload(utils)"
   ]
  },
  {
   "cell_type": "code",
   "execution_count": null,
   "outputs": [],
   "source": [
    "import os\n",
    "os.environ['WANDB_SILENT'] = 'true'"
   ],
   "metadata": {
    "collapsed": false
   },
   "id": "dee6d1a90edb0532"
  },
  {
   "cell_type": "code",
   "execution_count": 2,
   "outputs": [],
   "source": [
    "def train():\n",
    "    wandb.init(config=common_config)\n",
    "    \n",
    "    wandb.config.update(model_config, allow_val_change=True)\n",
    "    retrain_transformed_sweep(Datasets_transformed)\n",
    "    evaluate('calib', para_transformed)"
   ],
   "metadata": {
    "collapsed": false,
    "ExecuteTime": {
     "end_time": "2023-11-22T21:00:41.935130Z",
     "start_time": "2023-11-22T21:00:41.933178Z"
    }
   },
   "id": "d27535db37951b21"
  },
  {
   "cell_type": "code",
   "execution_count": 3,
   "outputs": [],
   "source": [
    "level = 'cm'\n",
    "config_path = Path('./my_config')"
   ],
   "metadata": {
    "collapsed": false,
    "ExecuteTime": {
     "end_time": "2023-11-22T21:00:41.937468Z",
     "start_time": "2023-11-22T21:00:41.936147Z"
    }
   },
   "id": "258d80492423936e"
  },
  {
   "cell_type": "code",
   "execution_count": 4,
   "outputs": [
    {
     "name": "stdout",
     "output_type": "stream",
     "text": [
      "Fetching and transforming data\n",
      " .     "
     ]
    }
   ],
   "source": [
    "transforms = ['raw', 'log', 'normalize', 'standardize']\n",
    "Datasets_transformed = {}\n",
    "para_transformed = {}\n",
    "qslist, Datasets = fetch_data(level)\n",
    "for t in transforms:\n",
    "    Datasets_transformed[t], para_transformed[t] = transform_data(Datasets, t)"
   ],
   "metadata": {
    "collapsed": false,
    "ExecuteTime": {
     "end_time": "2023-11-22T21:11:51.343996Z",
     "start_time": "2023-11-22T21:00:41.938733Z"
    }
   },
   "id": "8c67aa78538f2606"
  },
  {
   "cell_type": "code",
   "execution_count": 5,
   "outputs": [],
   "source": [
    "common_config_path, wandb_config_path, model_config_path, sweep_config_path = get_config_path(config_path)\n",
    "common_config = get_config_from_path(common_config_path, 'common')\n",
    "wandb_config = get_config_from_path(wandb_config_path, 'wandb')"
   ],
   "metadata": {
    "collapsed": false,
    "ExecuteTime": {
     "end_time": "2023-11-22T21:11:51.348720Z",
     "start_time": "2023-11-22T21:11:51.346006Z"
    }
   },
   "id": "31ef9d81989d847e"
  },
  {
   "cell_type": "code",
   "execution_count": null,
   "outputs": [
    {
     "name": "stdout",
     "output_type": "stream",
     "text": [
      "Create sweep with ID: tiqmg1o1\n",
      "Sweep URL: https://wandb.ai/model-development-and-deployment/training_example_3/sweeps/tiqmg1o1\n"
     ]
    },
    {
     "name": "stderr",
     "output_type": "stream",
     "text": [
      "wandb: Agent Starting Run: fotzvjni with config:\n",
      "wandb: \tlearning_rate: 0.05\n",
      "wandb: \tn_estimators: 100\n",
      "wandb: \tn_jobs: 12\n",
      "wandb: \ttransform: log\n",
      "wandb: Currently logged in as: xiaolong-sun (model-development-and-deployment). Use `wandb login --relogin` to force relogin\n"
     ]
    },
    {
     "data": {
      "text/plain": "<IPython.core.display.HTML object>",
      "text/html": "Tracking run with wandb version 0.16.0"
     },
     "metadata": {},
     "output_type": "display_data"
    },
    {
     "data": {
      "text/plain": "<IPython.core.display.HTML object>",
      "text/html": "Run data is saved locally in <code>/Users/xiaolong/weights-and-biases/wandb/run-20231122_221154-fotzvjni</code>"
     },
     "metadata": {},
     "output_type": "display_data"
    },
    {
     "data": {
      "text/plain": "<IPython.core.display.HTML object>",
      "text/html": "Syncing run <strong><a href='https://wandb.ai/model-development-and-deployment/training_example_3/runs/fotzvjni' target=\"_blank\">cool-sweep-1</a></strong> to <a href='https://wandb.ai/model-development-and-deployment/training_example_3' target=\"_blank\">Weights & Biases</a> (<a href='https://wandb.me/run' target=\"_blank\">docs</a>)<br/>Sweep page: <a href='https://wandb.ai/model-development-and-deployment/training_example_3/sweeps/tiqmg1o1' target=\"_blank\">https://wandb.ai/model-development-and-deployment/training_example_3/sweeps/tiqmg1o1</a>"
     },
     "metadata": {},
     "output_type": "display_data"
    },
    {
     "data": {
      "text/plain": "<IPython.core.display.HTML object>",
      "text/html": " View project at <a href='https://wandb.ai/model-development-and-deployment/training_example_3' target=\"_blank\">https://wandb.ai/model-development-and-deployment/training_example_3</a>"
     },
     "metadata": {},
     "output_type": "display_data"
    },
    {
     "data": {
      "text/plain": "<IPython.core.display.HTML object>",
      "text/html": " View sweep at <a href='https://wandb.ai/model-development-and-deployment/training_example_3/sweeps/tiqmg1o1' target=\"_blank\">https://wandb.ai/model-development-and-deployment/training_example_3/sweeps/tiqmg1o1</a>"
     },
     "metadata": {},
     "output_type": "display_data"
    },
    {
     "data": {
      "text/plain": "<IPython.core.display.HTML object>",
      "text/html": " View run at <a href='https://wandb.ai/model-development-and-deployment/training_example_3/runs/fotzvjni' target=\"_blank\">https://wandb.ai/model-development-and-deployment/training_example_3/runs/fotzvjni</a>"
     },
     "metadata": {},
     "output_type": "display_data"
    },
    {
     "name": "stdout",
     "output_type": "stream",
     "text": [
      "Training model fatalities003_nl_baseline_rf\n",
      "Calibration partition (log)\n",
      " * == Performing a run: \"fatalities003_nl_baseline_rf_calib_log\" == * \n",
      "Model object named \"fatalities003_nl_baseline_rf_calib_log\" with equivalent metadata already exists.\n",
      "Retrain is true, overwriting \"fatalities003_nl_baseline_rf_calib_log\"\n",
      "Training model(s)...\n",
      "Storing \"fatalities003_nl_baseline_rf_calib_log\"\n",
      "Getting predictions\n",
      "pr_56_cm_fatalities003_nl_baseline_rf_calib_log_estimators_100_lr_0.05.parquet\n",
      "Test partition ({transform})\n",
      " * == Performing a run: \"fatalities003_nl_baseline_rf_test_log\" == * \n",
      "Model object named \"fatalities003_nl_baseline_rf_test_log\" with equivalent metadata already exists.\n",
      "Retrain is true, overwriting \"fatalities003_nl_baseline_rf_test_log\"\n",
      "Training model(s)...\n",
      "Storing \"fatalities003_nl_baseline_rf_test_log\"\n",
      "Getting predictions\n",
      "pr_56_cm_fatalities003_nl_baseline_rf_test_log_estimators_100_lr_0.05.parquet\n",
      "**************************************************************\n",
      "Evaluating model fatalities003_nl_baseline_rf\n",
      "pr_56_cm_fatalities003_nl_baseline_rf_calib_log_estimators_100_lr_0.05.parquet\n",
      "mse_log 230570.73603967126\n"
     ]
    },
    {
     "data": {
      "text/plain": "VBox(children=(Label(value='0.001 MB of 0.001 MB uploaded\\r'), FloatProgress(value=1.0, max=1.0)))",
      "application/vnd.jupyter.widget-view+json": {
       "version_major": 2,
       "version_minor": 0,
       "model_id": "14365064223643e1b0b6dc5e5eb8b69f"
      }
     },
     "metadata": {},
     "output_type": "display_data"
    },
    {
     "data": {
      "text/plain": "<IPython.core.display.HTML object>",
      "text/html": "<style>\n    table.wandb td:nth-child(1) { padding: 0 10px; text-align: left ; width: auto;} td:nth-child(2) {text-align: left ; width: 100%}\n    .wandb-row { display: flex; flex-direction: row; flex-wrap: wrap; justify-content: flex-start; width: 100% }\n    .wandb-col { display: flex; flex-direction: column; flex-basis: 100%; flex: 1; padding: 10px; }\n    </style>\n<div class=\"wandb-row\"><div class=\"wandb-col\"><h3>Run history:</h3><br/><table class=\"wandb\"><tr><td>mse</td><td>▁</td></tr></table><br/></div><div class=\"wandb-col\"><h3>Run summary:</h3><br/><table class=\"wandb\"><tr><td>mse</td><td>230570.73604</td></tr></table><br/></div></div>"
     },
     "metadata": {},
     "output_type": "display_data"
    },
    {
     "data": {
      "text/plain": "<IPython.core.display.HTML object>",
      "text/html": " View run <strong style=\"color:#cdcd00\">cool-sweep-1</strong> at: <a href='https://wandb.ai/model-development-and-deployment/training_example_3/runs/fotzvjni' target=\"_blank\">https://wandb.ai/model-development-and-deployment/training_example_3/runs/fotzvjni</a><br/>Synced 6 W&B file(s), 0 media file(s), 0 artifact file(s) and 0 other file(s)"
     },
     "metadata": {},
     "output_type": "display_data"
    },
    {
     "data": {
      "text/plain": "<IPython.core.display.HTML object>",
      "text/html": "Find logs at: <code>./wandb/run-20231122_221154-fotzvjni/logs</code>"
     },
     "metadata": {},
     "output_type": "display_data"
    },
    {
     "name": "stderr",
     "output_type": "stream",
     "text": [
      "wandb: Agent Starting Run: qpy7zmr6 with config:\n",
      "wandb: \tlearning_rate: 0.05\n",
      "wandb: \tn_estimators: 100\n",
      "wandb: \tn_jobs: 12\n",
      "wandb: \ttransform: standardize\n"
     ]
    },
    {
     "data": {
      "text/plain": "<IPython.core.display.HTML object>",
      "text/html": "Tracking run with wandb version 0.16.0"
     },
     "metadata": {},
     "output_type": "display_data"
    },
    {
     "data": {
      "text/plain": "<IPython.core.display.HTML object>",
      "text/html": "Run data is saved locally in <code>/Users/xiaolong/weights-and-biases/wandb/run-20231122_221306-qpy7zmr6</code>"
     },
     "metadata": {},
     "output_type": "display_data"
    },
    {
     "data": {
      "text/plain": "<IPython.core.display.HTML object>",
      "text/html": "Syncing run <strong><a href='https://wandb.ai/model-development-and-deployment/training_example_3/runs/qpy7zmr6' target=\"_blank\">serene-sweep-2</a></strong> to <a href='https://wandb.ai/model-development-and-deployment/training_example_3' target=\"_blank\">Weights & Biases</a> (<a href='https://wandb.me/run' target=\"_blank\">docs</a>)<br/>Sweep page: <a href='https://wandb.ai/model-development-and-deployment/training_example_3/sweeps/tiqmg1o1' target=\"_blank\">https://wandb.ai/model-development-and-deployment/training_example_3/sweeps/tiqmg1o1</a>"
     },
     "metadata": {},
     "output_type": "display_data"
    },
    {
     "data": {
      "text/plain": "<IPython.core.display.HTML object>",
      "text/html": " View project at <a href='https://wandb.ai/model-development-and-deployment/training_example_3' target=\"_blank\">https://wandb.ai/model-development-and-deployment/training_example_3</a>"
     },
     "metadata": {},
     "output_type": "display_data"
    },
    {
     "data": {
      "text/plain": "<IPython.core.display.HTML object>",
      "text/html": " View sweep at <a href='https://wandb.ai/model-development-and-deployment/training_example_3/sweeps/tiqmg1o1' target=\"_blank\">https://wandb.ai/model-development-and-deployment/training_example_3/sweeps/tiqmg1o1</a>"
     },
     "metadata": {},
     "output_type": "display_data"
    },
    {
     "data": {
      "text/plain": "<IPython.core.display.HTML object>",
      "text/html": " View run at <a href='https://wandb.ai/model-development-and-deployment/training_example_3/runs/qpy7zmr6' target=\"_blank\">https://wandb.ai/model-development-and-deployment/training_example_3/runs/qpy7zmr6</a>"
     },
     "metadata": {},
     "output_type": "display_data"
    },
    {
     "name": "stdout",
     "output_type": "stream",
     "text": [
      "Training model fatalities003_nl_baseline_rf\n",
      "Calibration partition (standardize)\n",
      " * == Performing a run: \"fatalities003_nl_baseline_rf_calib_standardize\" == * \n",
      "Model object named \"fatalities003_nl_baseline_rf_calib_standardize\" with equivalent metadata already exists.\n",
      "Retrain is true, overwriting \"fatalities003_nl_baseline_rf_calib_standardize\"\n",
      "Training model(s)...\n",
      "Storing \"fatalities003_nl_baseline_rf_calib_standardize\"\n",
      "Getting predictions\n",
      "pr_56_cm_fatalities003_nl_baseline_rf_calib_standardize_estimators_100_lr_0.05.parquet\n",
      "Test partition ({transform})\n",
      " * == Performing a run: \"fatalities003_nl_baseline_rf_test_standardize\" == * \n",
      "Model object named \"fatalities003_nl_baseline_rf_test_standardize\" with equivalent metadata already exists.\n",
      "Retrain is true, overwriting \"fatalities003_nl_baseline_rf_test_standardize\"\n",
      "Training model(s)...\n",
      "Storing \"fatalities003_nl_baseline_rf_test_standardize\"\n",
      "Getting predictions\n",
      "pr_56_cm_fatalities003_nl_baseline_rf_test_standardize_estimators_100_lr_0.05.parquet\n",
      "**************************************************************\n",
      "Evaluating model fatalities003_nl_baseline_rf\n",
      "pr_56_cm_fatalities003_nl_baseline_rf_calib_standardize_estimators_100_lr_0.05.parquet\n",
      "mse_standardize 270529.815256172\n"
     ]
    },
    {
     "data": {
      "text/plain": "VBox(children=(Label(value='0.001 MB of 0.008 MB uploaded\\r'), FloatProgress(value=0.11708118254340685, max=1.…",
      "application/vnd.jupyter.widget-view+json": {
       "version_major": 2,
       "version_minor": 0,
       "model_id": "a62a541736d6410e9b4e4956fa96d336"
      }
     },
     "metadata": {},
     "output_type": "display_data"
    },
    {
     "data": {
      "text/plain": "<IPython.core.display.HTML object>",
      "text/html": "<style>\n    table.wandb td:nth-child(1) { padding: 0 10px; text-align: left ; width: auto;} td:nth-child(2) {text-align: left ; width: 100%}\n    .wandb-row { display: flex; flex-direction: row; flex-wrap: wrap; justify-content: flex-start; width: 100% }\n    .wandb-col { display: flex; flex-direction: column; flex-basis: 100%; flex: 1; padding: 10px; }\n    </style>\n<div class=\"wandb-row\"><div class=\"wandb-col\"><h3>Run history:</h3><br/><table class=\"wandb\"><tr><td>mse</td><td>▁</td></tr></table><br/></div><div class=\"wandb-col\"><h3>Run summary:</h3><br/><table class=\"wandb\"><tr><td>mse</td><td>270529.81526</td></tr></table><br/></div></div>"
     },
     "metadata": {},
     "output_type": "display_data"
    },
    {
     "data": {
      "text/plain": "<IPython.core.display.HTML object>",
      "text/html": " View run <strong style=\"color:#cdcd00\">serene-sweep-2</strong> at: <a href='https://wandb.ai/model-development-and-deployment/training_example_3/runs/qpy7zmr6' target=\"_blank\">https://wandb.ai/model-development-and-deployment/training_example_3/runs/qpy7zmr6</a><br/>Synced 6 W&B file(s), 0 media file(s), 0 artifact file(s) and 0 other file(s)"
     },
     "metadata": {},
     "output_type": "display_data"
    },
    {
     "data": {
      "text/plain": "<IPython.core.display.HTML object>",
      "text/html": "Find logs at: <code>./wandb/run-20231122_221306-qpy7zmr6/logs</code>"
     },
     "metadata": {},
     "output_type": "display_data"
    },
    {
     "name": "stderr",
     "output_type": "stream",
     "text": [
      "wandb: Sweep Agent: Waiting for job.\n",
      "wandb: Job received.\n",
      "wandb: Agent Starting Run: zobh1njz with config:\n",
      "wandb: \tlearning_rate: 0.05\n",
      "wandb: \tn_estimators: 100\n",
      "wandb: \tn_jobs: 12\n",
      "wandb: \ttransform: raw\n"
     ]
    },
    {
     "data": {
      "text/plain": "<IPython.core.display.HTML object>",
      "text/html": "Tracking run with wandb version 0.16.0"
     },
     "metadata": {},
     "output_type": "display_data"
    },
    {
     "data": {
      "text/plain": "<IPython.core.display.HTML object>",
      "text/html": "Run data is saved locally in <code>/Users/xiaolong/weights-and-biases/wandb/run-20231122_221425-zobh1njz</code>"
     },
     "metadata": {},
     "output_type": "display_data"
    },
    {
     "data": {
      "text/plain": "<IPython.core.display.HTML object>",
      "text/html": "Syncing run <strong><a href='https://wandb.ai/model-development-and-deployment/training_example_3/runs/zobh1njz' target=\"_blank\">super-sweep-3</a></strong> to <a href='https://wandb.ai/model-development-and-deployment/training_example_3' target=\"_blank\">Weights & Biases</a> (<a href='https://wandb.me/run' target=\"_blank\">docs</a>)<br/>Sweep page: <a href='https://wandb.ai/model-development-and-deployment/training_example_3/sweeps/tiqmg1o1' target=\"_blank\">https://wandb.ai/model-development-and-deployment/training_example_3/sweeps/tiqmg1o1</a>"
     },
     "metadata": {},
     "output_type": "display_data"
    },
    {
     "data": {
      "text/plain": "<IPython.core.display.HTML object>",
      "text/html": " View project at <a href='https://wandb.ai/model-development-and-deployment/training_example_3' target=\"_blank\">https://wandb.ai/model-development-and-deployment/training_example_3</a>"
     },
     "metadata": {},
     "output_type": "display_data"
    },
    {
     "data": {
      "text/plain": "<IPython.core.display.HTML object>",
      "text/html": " View sweep at <a href='https://wandb.ai/model-development-and-deployment/training_example_3/sweeps/tiqmg1o1' target=\"_blank\">https://wandb.ai/model-development-and-deployment/training_example_3/sweeps/tiqmg1o1</a>"
     },
     "metadata": {},
     "output_type": "display_data"
    },
    {
     "data": {
      "text/plain": "<IPython.core.display.HTML object>",
      "text/html": " View run at <a href='https://wandb.ai/model-development-and-deployment/training_example_3/runs/zobh1njz' target=\"_blank\">https://wandb.ai/model-development-and-deployment/training_example_3/runs/zobh1njz</a>"
     },
     "metadata": {},
     "output_type": "display_data"
    },
    {
     "name": "stdout",
     "output_type": "stream",
     "text": [
      "Training model fatalities003_nl_baseline_rf\n",
      "Calibration partition (raw)\n",
      " * == Performing a run: \"fatalities003_nl_baseline_rf_calib_raw\" == * \n",
      "Model object named \"fatalities003_nl_baseline_rf_calib_raw\" with equivalent metadata already exists.\n",
      "Retrain is true, overwriting \"fatalities003_nl_baseline_rf_calib_raw\"\n",
      "Training model(s)...\n",
      "Storing \"fatalities003_nl_baseline_rf_calib_raw\"\n",
      "Getting predictions\n",
      "pr_56_cm_fatalities003_nl_baseline_rf_calib_raw_estimators_100_lr_0.05.parquet\n",
      "cm_fatalities003_nl_baseline_rf_calib_raw_estimators_100_lr_0.05 , run Fatalities003 does not exist, predicting\n",
      "Test partition ({transform})\n",
      " * == Performing a run: \"fatalities003_nl_baseline_rf_test_raw\" == * \n",
      "Training model(s)...\n",
      "Storing \"fatalities003_nl_baseline_rf_test_raw\"\n",
      "Getting predictions\n",
      "pr_56_cm_fatalities003_nl_baseline_rf_test_raw_estimators_100_lr_0.05.parquet\n",
      "cm_fatalities003_nl_baseline_rf_test_raw_estimators_100_lr_0.05 , run Fatalities003 does not exist, predicting\n",
      "**************************************************************\n",
      "Evaluating model fatalities003_nl_baseline_rf\n",
      "pr_56_cm_fatalities003_nl_baseline_rf_calib_raw_estimators_100_lr_0.05.parquet\n",
      "mse_raw 229243.6581918443\n"
     ]
    },
    {
     "data": {
      "text/plain": "VBox(children=(Label(value='0.001 MB of 0.001 MB uploaded\\r'), FloatProgress(value=1.0, max=1.0)))",
      "application/vnd.jupyter.widget-view+json": {
       "version_major": 2,
       "version_minor": 0,
       "model_id": "b4c83ce2f6874c8497232f3723e12dff"
      }
     },
     "metadata": {},
     "output_type": "display_data"
    },
    {
     "data": {
      "text/plain": "<IPython.core.display.HTML object>",
      "text/html": "<style>\n    table.wandb td:nth-child(1) { padding: 0 10px; text-align: left ; width: auto;} td:nth-child(2) {text-align: left ; width: 100%}\n    .wandb-row { display: flex; flex-direction: row; flex-wrap: wrap; justify-content: flex-start; width: 100% }\n    .wandb-col { display: flex; flex-direction: column; flex-basis: 100%; flex: 1; padding: 10px; }\n    </style>\n<div class=\"wandb-row\"><div class=\"wandb-col\"><h3>Run history:</h3><br/><table class=\"wandb\"><tr><td>mse</td><td>▁</td></tr></table><br/></div><div class=\"wandb-col\"><h3>Run summary:</h3><br/><table class=\"wandb\"><tr><td>mse</td><td>229243.65819</td></tr></table><br/></div></div>"
     },
     "metadata": {},
     "output_type": "display_data"
    },
    {
     "data": {
      "text/plain": "<IPython.core.display.HTML object>",
      "text/html": " View run <strong style=\"color:#cdcd00\">super-sweep-3</strong> at: <a href='https://wandb.ai/model-development-and-deployment/training_example_3/runs/zobh1njz' target=\"_blank\">https://wandb.ai/model-development-and-deployment/training_example_3/runs/zobh1njz</a><br/>Synced 6 W&B file(s), 0 media file(s), 0 artifact file(s) and 0 other file(s)"
     },
     "metadata": {},
     "output_type": "display_data"
    },
    {
     "data": {
      "text/plain": "<IPython.core.display.HTML object>",
      "text/html": "Find logs at: <code>./wandb/run-20231122_221425-zobh1njz/logs</code>"
     },
     "metadata": {},
     "output_type": "display_data"
    },
    {
     "name": "stderr",
     "output_type": "stream",
     "text": [
      "wandb: Agent Starting Run: oc1e32s2 with config:\n",
      "wandb: \tlearning_rate: 0.05\n",
      "wandb: \tn_estimators: 100\n",
      "wandb: \tn_jobs: 12\n",
      "wandb: \ttransform: normalize\n"
     ]
    },
    {
     "data": {
      "text/plain": "<IPython.core.display.HTML object>",
      "text/html": "Tracking run with wandb version 0.16.0"
     },
     "metadata": {},
     "output_type": "display_data"
    },
    {
     "data": {
      "text/plain": "<IPython.core.display.HTML object>",
      "text/html": "Run data is saved locally in <code>/Users/xiaolong/weights-and-biases/wandb/run-20231122_221553-oc1e32s2</code>"
     },
     "metadata": {},
     "output_type": "display_data"
    },
    {
     "data": {
      "text/plain": "<IPython.core.display.HTML object>",
      "text/html": "Syncing run <strong><a href='https://wandb.ai/model-development-and-deployment/training_example_3/runs/oc1e32s2' target=\"_blank\">icy-sweep-4</a></strong> to <a href='https://wandb.ai/model-development-and-deployment/training_example_3' target=\"_blank\">Weights & Biases</a> (<a href='https://wandb.me/run' target=\"_blank\">docs</a>)<br/>Sweep page: <a href='https://wandb.ai/model-development-and-deployment/training_example_3/sweeps/tiqmg1o1' target=\"_blank\">https://wandb.ai/model-development-and-deployment/training_example_3/sweeps/tiqmg1o1</a>"
     },
     "metadata": {},
     "output_type": "display_data"
    },
    {
     "data": {
      "text/plain": "<IPython.core.display.HTML object>",
      "text/html": " View project at <a href='https://wandb.ai/model-development-and-deployment/training_example_3' target=\"_blank\">https://wandb.ai/model-development-and-deployment/training_example_3</a>"
     },
     "metadata": {},
     "output_type": "display_data"
    },
    {
     "data": {
      "text/plain": "<IPython.core.display.HTML object>",
      "text/html": " View sweep at <a href='https://wandb.ai/model-development-and-deployment/training_example_3/sweeps/tiqmg1o1' target=\"_blank\">https://wandb.ai/model-development-and-deployment/training_example_3/sweeps/tiqmg1o1</a>"
     },
     "metadata": {},
     "output_type": "display_data"
    },
    {
     "data": {
      "text/plain": "<IPython.core.display.HTML object>",
      "text/html": " View run at <a href='https://wandb.ai/model-development-and-deployment/training_example_3/runs/oc1e32s2' target=\"_blank\">https://wandb.ai/model-development-and-deployment/training_example_3/runs/oc1e32s2</a>"
     },
     "metadata": {},
     "output_type": "display_data"
    },
    {
     "name": "stdout",
     "output_type": "stream",
     "text": [
      "Training model fatalities003_nl_baseline_rf\n",
      "Calibration partition (normalize)\n",
      " * == Performing a run: \"fatalities003_nl_baseline_rf_calib_normalize\" == * \n",
      "Model object named \"fatalities003_nl_baseline_rf_calib_normalize\" with equivalent metadata already exists.\n",
      "Retrain is true, overwriting \"fatalities003_nl_baseline_rf_calib_normalize\"\n",
      "Training model(s)...\n",
      "Storing \"fatalities003_nl_baseline_rf_calib_normalize\"\n",
      "Getting predictions\n",
      "pr_56_cm_fatalities003_nl_baseline_rf_calib_normalize_estimators_100_lr_0.05.parquet\n",
      "cm_fatalities003_nl_baseline_rf_calib_normalize_estimators_100_lr_0.05 , run Fatalities003 does not exist, predicting\n",
      "Test partition ({transform})\n",
      " * == Performing a run: \"fatalities003_nl_baseline_rf_test_normalize\" == * \n",
      "Model object named \"fatalities003_nl_baseline_rf_test_normalize\" with equivalent metadata already exists.\n",
      "Retrain is true, overwriting \"fatalities003_nl_baseline_rf_test_normalize\"\n",
      "Training model(s)...\n",
      "Storing \"fatalities003_nl_baseline_rf_test_normalize\"\n",
      "Getting predictions\n",
      "pr_56_cm_fatalities003_nl_baseline_rf_test_normalize_estimators_100_lr_0.05.parquet\n",
      "cm_fatalities003_nl_baseline_rf_test_normalize_estimators_100_lr_0.05 , run Fatalities003 does not exist, predicting\n",
      "**************************************************************\n",
      "Evaluating model fatalities003_nl_baseline_rf\n",
      "pr_56_cm_fatalities003_nl_baseline_rf_calib_normalize_estimators_100_lr_0.05.parquet\n",
      "mse_normalize 1425421124.8377342\n"
     ]
    },
    {
     "data": {
      "text/plain": "VBox(children=(Label(value='0.001 MB of 0.004 MB uploaded\\r'), FloatProgress(value=0.21866783523225242, max=1.…",
      "application/vnd.jupyter.widget-view+json": {
       "version_major": 2,
       "version_minor": 0,
       "model_id": "d1dca5c84a694472a213d12deb35304d"
      }
     },
     "metadata": {},
     "output_type": "display_data"
    },
    {
     "data": {
      "text/plain": "<IPython.core.display.HTML object>",
      "text/html": "<style>\n    table.wandb td:nth-child(1) { padding: 0 10px; text-align: left ; width: auto;} td:nth-child(2) {text-align: left ; width: 100%}\n    .wandb-row { display: flex; flex-direction: row; flex-wrap: wrap; justify-content: flex-start; width: 100% }\n    .wandb-col { display: flex; flex-direction: column; flex-basis: 100%; flex: 1; padding: 10px; }\n    </style>\n<div class=\"wandb-row\"><div class=\"wandb-col\"><h3>Run history:</h3><br/><table class=\"wandb\"><tr><td>mse</td><td>▁</td></tr></table><br/></div><div class=\"wandb-col\"><h3>Run summary:</h3><br/><table class=\"wandb\"><tr><td>mse</td><td>1425421124.83773</td></tr></table><br/></div></div>"
     },
     "metadata": {},
     "output_type": "display_data"
    },
    {
     "data": {
      "text/plain": "<IPython.core.display.HTML object>",
      "text/html": " View run <strong style=\"color:#cdcd00\">icy-sweep-4</strong> at: <a href='https://wandb.ai/model-development-and-deployment/training_example_3/runs/oc1e32s2' target=\"_blank\">https://wandb.ai/model-development-and-deployment/training_example_3/runs/oc1e32s2</a><br/>Synced 6 W&B file(s), 0 media file(s), 0 artifact file(s) and 0 other file(s)"
     },
     "metadata": {},
     "output_type": "display_data"
    },
    {
     "data": {
      "text/plain": "<IPython.core.display.HTML object>",
      "text/html": "Find logs at: <code>./wandb/run-20231122_221553-oc1e32s2/logs</code>"
     },
     "metadata": {},
     "output_type": "display_data"
    },
    {
     "name": "stderr",
     "output_type": "stream",
     "text": [
      "wandb: Agent Starting Run: wwtnqp5a with config:\n",
      "wandb: \tlearning_rate: 0.05\n",
      "wandb: \tn_estimators: 200\n",
      "wandb: \tn_jobs: 12\n",
      "wandb: \ttransform: log\n"
     ]
    },
    {
     "data": {
      "text/plain": "<IPython.core.display.HTML object>",
      "text/html": "Tracking run with wandb version 0.16.0"
     },
     "metadata": {},
     "output_type": "display_data"
    },
    {
     "data": {
      "text/plain": "<IPython.core.display.HTML object>",
      "text/html": "Run data is saved locally in <code>/Users/xiaolong/weights-and-biases/wandb/run-20231122_221707-wwtnqp5a</code>"
     },
     "metadata": {},
     "output_type": "display_data"
    },
    {
     "data": {
      "text/plain": "<IPython.core.display.HTML object>",
      "text/html": "Syncing run <strong><a href='https://wandb.ai/model-development-and-deployment/training_example_3/runs/wwtnqp5a' target=\"_blank\">brisk-sweep-5</a></strong> to <a href='https://wandb.ai/model-development-and-deployment/training_example_3' target=\"_blank\">Weights & Biases</a> (<a href='https://wandb.me/run' target=\"_blank\">docs</a>)<br/>Sweep page: <a href='https://wandb.ai/model-development-and-deployment/training_example_3/sweeps/tiqmg1o1' target=\"_blank\">https://wandb.ai/model-development-and-deployment/training_example_3/sweeps/tiqmg1o1</a>"
     },
     "metadata": {},
     "output_type": "display_data"
    },
    {
     "data": {
      "text/plain": "<IPython.core.display.HTML object>",
      "text/html": " View project at <a href='https://wandb.ai/model-development-and-deployment/training_example_3' target=\"_blank\">https://wandb.ai/model-development-and-deployment/training_example_3</a>"
     },
     "metadata": {},
     "output_type": "display_data"
    },
    {
     "data": {
      "text/plain": "<IPython.core.display.HTML object>",
      "text/html": " View sweep at <a href='https://wandb.ai/model-development-and-deployment/training_example_3/sweeps/tiqmg1o1' target=\"_blank\">https://wandb.ai/model-development-and-deployment/training_example_3/sweeps/tiqmg1o1</a>"
     },
     "metadata": {},
     "output_type": "display_data"
    },
    {
     "data": {
      "text/plain": "<IPython.core.display.HTML object>",
      "text/html": " View run at <a href='https://wandb.ai/model-development-and-deployment/training_example_3/runs/wwtnqp5a' target=\"_blank\">https://wandb.ai/model-development-and-deployment/training_example_3/runs/wwtnqp5a</a>"
     },
     "metadata": {},
     "output_type": "display_data"
    },
    {
     "name": "stdout",
     "output_type": "stream",
     "text": [
      "Training model fatalities003_nl_baseline_rf\n",
      "Calibration partition (log)\n",
      " * == Performing a run: \"fatalities003_nl_baseline_rf_calib_log\" == * \n",
      "Model object named \"fatalities003_nl_baseline_rf_calib_log\" with equivalent metadata already exists.\n",
      "Retrain is true, overwriting \"fatalities003_nl_baseline_rf_calib_log\"\n",
      "Training model(s)...\n",
      "Storing \"fatalities003_nl_baseline_rf_calib_log\"\n",
      "Getting predictions\n",
      "pr_56_cm_fatalities003_nl_baseline_rf_calib_log_estimators_200_lr_0.05.parquet\n",
      "Test partition ({transform})\n",
      " * == Performing a run: \"fatalities003_nl_baseline_rf_test_log\" == * \n",
      "Model object named \"fatalities003_nl_baseline_rf_test_log\" with equivalent metadata already exists.\n",
      "Retrain is true, overwriting \"fatalities003_nl_baseline_rf_test_log\"\n",
      "Training model(s)...\n",
      "Storing \"fatalities003_nl_baseline_rf_test_log\"\n",
      "Getting predictions\n",
      "pr_56_cm_fatalities003_nl_baseline_rf_test_log_estimators_200_lr_0.05.parquet\n",
      "**************************************************************\n",
      "Evaluating model fatalities003_nl_baseline_rf\n",
      "pr_56_cm_fatalities003_nl_baseline_rf_calib_log_estimators_200_lr_0.05.parquet\n",
      "mse_log 230570.73269130572\n"
     ]
    },
    {
     "data": {
      "text/plain": "VBox(children=(Label(value='0.001 MB of 0.001 MB uploaded\\r'), FloatProgress(value=1.0, max=1.0)))",
      "application/vnd.jupyter.widget-view+json": {
       "version_major": 2,
       "version_minor": 0,
       "model_id": "d2005ff59b9644a8b47dd795c66e44b3"
      }
     },
     "metadata": {},
     "output_type": "display_data"
    },
    {
     "data": {
      "text/plain": "<IPython.core.display.HTML object>",
      "text/html": "<style>\n    table.wandb td:nth-child(1) { padding: 0 10px; text-align: left ; width: auto;} td:nth-child(2) {text-align: left ; width: 100%}\n    .wandb-row { display: flex; flex-direction: row; flex-wrap: wrap; justify-content: flex-start; width: 100% }\n    .wandb-col { display: flex; flex-direction: column; flex-basis: 100%; flex: 1; padding: 10px; }\n    </style>\n<div class=\"wandb-row\"><div class=\"wandb-col\"><h3>Run history:</h3><br/><table class=\"wandb\"><tr><td>mse</td><td>▁</td></tr></table><br/></div><div class=\"wandb-col\"><h3>Run summary:</h3><br/><table class=\"wandb\"><tr><td>mse</td><td>230570.73269</td></tr></table><br/></div></div>"
     },
     "metadata": {},
     "output_type": "display_data"
    },
    {
     "data": {
      "text/plain": "<IPython.core.display.HTML object>",
      "text/html": " View run <strong style=\"color:#cdcd00\">brisk-sweep-5</strong> at: <a href='https://wandb.ai/model-development-and-deployment/training_example_3/runs/wwtnqp5a' target=\"_blank\">https://wandb.ai/model-development-and-deployment/training_example_3/runs/wwtnqp5a</a><br/>Synced 6 W&B file(s), 0 media file(s), 0 artifact file(s) and 0 other file(s)"
     },
     "metadata": {},
     "output_type": "display_data"
    },
    {
     "data": {
      "text/plain": "<IPython.core.display.HTML object>",
      "text/html": "Find logs at: <code>./wandb/run-20231122_221707-wwtnqp5a/logs</code>"
     },
     "metadata": {},
     "output_type": "display_data"
    },
    {
     "name": "stderr",
     "output_type": "stream",
     "text": [
      "wandb: Agent Starting Run: 1r0u2g4n with config:\n",
      "wandb: \tlearning_rate: 0.05\n",
      "wandb: \tn_estimators: 200\n",
      "wandb: \tn_jobs: 12\n",
      "wandb: \ttransform: standardize\n"
     ]
    },
    {
     "data": {
      "text/plain": "<IPython.core.display.HTML object>",
      "text/html": "Tracking run with wandb version 0.16.0"
     },
     "metadata": {},
     "output_type": "display_data"
    },
    {
     "data": {
      "text/plain": "<IPython.core.display.HTML object>",
      "text/html": "Run data is saved locally in <code>/Users/xiaolong/weights-and-biases/wandb/run-20231122_221921-1r0u2g4n</code>"
     },
     "metadata": {},
     "output_type": "display_data"
    },
    {
     "data": {
      "text/plain": "<IPython.core.display.HTML object>",
      "text/html": "Syncing run <strong><a href='https://wandb.ai/model-development-and-deployment/training_example_3/runs/1r0u2g4n' target=\"_blank\">warm-sweep-6</a></strong> to <a href='https://wandb.ai/model-development-and-deployment/training_example_3' target=\"_blank\">Weights & Biases</a> (<a href='https://wandb.me/run' target=\"_blank\">docs</a>)<br/>Sweep page: <a href='https://wandb.ai/model-development-and-deployment/training_example_3/sweeps/tiqmg1o1' target=\"_blank\">https://wandb.ai/model-development-and-deployment/training_example_3/sweeps/tiqmg1o1</a>"
     },
     "metadata": {},
     "output_type": "display_data"
    },
    {
     "data": {
      "text/plain": "<IPython.core.display.HTML object>",
      "text/html": " View project at <a href='https://wandb.ai/model-development-and-deployment/training_example_3' target=\"_blank\">https://wandb.ai/model-development-and-deployment/training_example_3</a>"
     },
     "metadata": {},
     "output_type": "display_data"
    },
    {
     "data": {
      "text/plain": "<IPython.core.display.HTML object>",
      "text/html": " View sweep at <a href='https://wandb.ai/model-development-and-deployment/training_example_3/sweeps/tiqmg1o1' target=\"_blank\">https://wandb.ai/model-development-and-deployment/training_example_3/sweeps/tiqmg1o1</a>"
     },
     "metadata": {},
     "output_type": "display_data"
    },
    {
     "data": {
      "text/plain": "<IPython.core.display.HTML object>",
      "text/html": " View run at <a href='https://wandb.ai/model-development-and-deployment/training_example_3/runs/1r0u2g4n' target=\"_blank\">https://wandb.ai/model-development-and-deployment/training_example_3/runs/1r0u2g4n</a>"
     },
     "metadata": {},
     "output_type": "display_data"
    },
    {
     "name": "stdout",
     "output_type": "stream",
     "text": [
      "Training model fatalities003_nl_baseline_rf\n",
      "Calibration partition (standardize)\n",
      " * == Performing a run: \"fatalities003_nl_baseline_rf_calib_standardize\" == * \n",
      "Model object named \"fatalities003_nl_baseline_rf_calib_standardize\" with equivalent metadata already exists.\n",
      "Retrain is true, overwriting \"fatalities003_nl_baseline_rf_calib_standardize\"\n",
      "Training model(s)...\n",
      "Storing \"fatalities003_nl_baseline_rf_calib_standardize\"\n",
      "Getting predictions\n",
      "pr_56_cm_fatalities003_nl_baseline_rf_calib_standardize_estimators_200_lr_0.05.parquet\n",
      "cm_fatalities003_nl_baseline_rf_calib_standardize_estimators_200_lr_0.05 , run Fatalities003 does not exist, predicting\n",
      "Test partition ({transform})\n",
      " * == Performing a run: \"fatalities003_nl_baseline_rf_test_standardize\" == * \n",
      "Model object named \"fatalities003_nl_baseline_rf_test_standardize\" with equivalent metadata already exists.\n",
      "Retrain is true, overwriting \"fatalities003_nl_baseline_rf_test_standardize\"\n",
      "Training model(s)...\n",
      "Storing \"fatalities003_nl_baseline_rf_test_standardize\"\n",
      "Getting predictions\n",
      "pr_56_cm_fatalities003_nl_baseline_rf_test_standardize_estimators_200_lr_0.05.parquet\n",
      "cm_fatalities003_nl_baseline_rf_test_standardize_estimators_200_lr_0.05 , run Fatalities003 does not exist, predicting\n",
      "**************************************************************\n",
      "Evaluating model fatalities003_nl_baseline_rf\n",
      "pr_56_cm_fatalities003_nl_baseline_rf_calib_standardize_estimators_200_lr_0.05.parquet\n",
      "mse_standardize 270522.3283455102\n"
     ]
    },
    {
     "data": {
      "text/plain": "VBox(children=(Label(value='0.001 MB of 0.001 MB uploaded\\r'), FloatProgress(value=1.0, max=1.0)))",
      "application/vnd.jupyter.widget-view+json": {
       "version_major": 2,
       "version_minor": 0,
       "model_id": "14f29a08fb8541b289121cca7d69c657"
      }
     },
     "metadata": {},
     "output_type": "display_data"
    },
    {
     "data": {
      "text/plain": "<IPython.core.display.HTML object>",
      "text/html": "<style>\n    table.wandb td:nth-child(1) { padding: 0 10px; text-align: left ; width: auto;} td:nth-child(2) {text-align: left ; width: 100%}\n    .wandb-row { display: flex; flex-direction: row; flex-wrap: wrap; justify-content: flex-start; width: 100% }\n    .wandb-col { display: flex; flex-direction: column; flex-basis: 100%; flex: 1; padding: 10px; }\n    </style>\n<div class=\"wandb-row\"><div class=\"wandb-col\"><h3>Run history:</h3><br/><table class=\"wandb\"><tr><td>mse</td><td>▁</td></tr></table><br/></div><div class=\"wandb-col\"><h3>Run summary:</h3><br/><table class=\"wandb\"><tr><td>mse</td><td>270522.32835</td></tr></table><br/></div></div>"
     },
     "metadata": {},
     "output_type": "display_data"
    },
    {
     "data": {
      "text/plain": "<IPython.core.display.HTML object>",
      "text/html": " View run <strong style=\"color:#cdcd00\">warm-sweep-6</strong> at: <a href='https://wandb.ai/model-development-and-deployment/training_example_3/runs/1r0u2g4n' target=\"_blank\">https://wandb.ai/model-development-and-deployment/training_example_3/runs/1r0u2g4n</a><br/>Synced 6 W&B file(s), 0 media file(s), 0 artifact file(s) and 0 other file(s)"
     },
     "metadata": {},
     "output_type": "display_data"
    },
    {
     "data": {
      "text/plain": "<IPython.core.display.HTML object>",
      "text/html": "Find logs at: <code>./wandb/run-20231122_221921-1r0u2g4n/logs</code>"
     },
     "metadata": {},
     "output_type": "display_data"
    },
    {
     "name": "stderr",
     "output_type": "stream",
     "text": [
      "wandb: Agent Starting Run: ekgtcf3w with config:\n",
      "wandb: \tlearning_rate: 0.05\n",
      "wandb: \tn_estimators: 200\n",
      "wandb: \tn_jobs: 12\n",
      "wandb: \ttransform: raw\n"
     ]
    },
    {
     "data": {
      "text/plain": "<IPython.core.display.HTML object>",
      "text/html": "Tracking run with wandb version 0.16.0"
     },
     "metadata": {},
     "output_type": "display_data"
    },
    {
     "data": {
      "text/plain": "<IPython.core.display.HTML object>",
      "text/html": "Run data is saved locally in <code>/Users/xiaolong/weights-and-biases/wandb/run-20231122_222136-ekgtcf3w</code>"
     },
     "metadata": {},
     "output_type": "display_data"
    },
    {
     "data": {
      "text/plain": "<IPython.core.display.HTML object>",
      "text/html": "Syncing run <strong><a href='https://wandb.ai/model-development-and-deployment/training_example_3/runs/ekgtcf3w' target=\"_blank\">sweepy-sweep-7</a></strong> to <a href='https://wandb.ai/model-development-and-deployment/training_example_3' target=\"_blank\">Weights & Biases</a> (<a href='https://wandb.me/run' target=\"_blank\">docs</a>)<br/>Sweep page: <a href='https://wandb.ai/model-development-and-deployment/training_example_3/sweeps/tiqmg1o1' target=\"_blank\">https://wandb.ai/model-development-and-deployment/training_example_3/sweeps/tiqmg1o1</a>"
     },
     "metadata": {},
     "output_type": "display_data"
    },
    {
     "data": {
      "text/plain": "<IPython.core.display.HTML object>",
      "text/html": " View project at <a href='https://wandb.ai/model-development-and-deployment/training_example_3' target=\"_blank\">https://wandb.ai/model-development-and-deployment/training_example_3</a>"
     },
     "metadata": {},
     "output_type": "display_data"
    },
    {
     "data": {
      "text/plain": "<IPython.core.display.HTML object>",
      "text/html": " View sweep at <a href='https://wandb.ai/model-development-and-deployment/training_example_3/sweeps/tiqmg1o1' target=\"_blank\">https://wandb.ai/model-development-and-deployment/training_example_3/sweeps/tiqmg1o1</a>"
     },
     "metadata": {},
     "output_type": "display_data"
    },
    {
     "data": {
      "text/plain": "<IPython.core.display.HTML object>",
      "text/html": " View run at <a href='https://wandb.ai/model-development-and-deployment/training_example_3/runs/ekgtcf3w' target=\"_blank\">https://wandb.ai/model-development-and-deployment/training_example_3/runs/ekgtcf3w</a>"
     },
     "metadata": {},
     "output_type": "display_data"
    },
    {
     "name": "stdout",
     "output_type": "stream",
     "text": [
      "Training model fatalities003_nl_baseline_rf\n",
      "Calibration partition (raw)\n",
      " * == Performing a run: \"fatalities003_nl_baseline_rf_calib_raw\" == * \n",
      "Model object named \"fatalities003_nl_baseline_rf_calib_raw\" with equivalent metadata already exists.\n",
      "Retrain is true, overwriting \"fatalities003_nl_baseline_rf_calib_raw\"\n",
      "Training model(s)...\n",
      "Storing \"fatalities003_nl_baseline_rf_calib_raw\"\n",
      "Getting predictions\n",
      "pr_56_cm_fatalities003_nl_baseline_rf_calib_raw_estimators_200_lr_0.05.parquet\n",
      "cm_fatalities003_nl_baseline_rf_calib_raw_estimators_200_lr_0.05 , run Fatalities003 does not exist, predicting\n",
      "Test partition ({transform})\n",
      " * == Performing a run: \"fatalities003_nl_baseline_rf_test_raw\" == * \n",
      "Model object named \"fatalities003_nl_baseline_rf_test_raw\" with equivalent metadata already exists.\n",
      "Retrain is true, overwriting \"fatalities003_nl_baseline_rf_test_raw\"\n",
      "Training model(s)...\n",
      "Storing \"fatalities003_nl_baseline_rf_test_raw\"\n",
      "Getting predictions\n",
      "pr_56_cm_fatalities003_nl_baseline_rf_test_raw_estimators_200_lr_0.05.parquet\n",
      "cm_fatalities003_nl_baseline_rf_test_raw_estimators_200_lr_0.05 , run Fatalities003 does not exist, predicting\n",
      "**************************************************************\n",
      "Evaluating model fatalities003_nl_baseline_rf\n",
      "pr_56_cm_fatalities003_nl_baseline_rf_calib_raw_estimators_200_lr_0.05.parquet\n",
      "mse_raw 229230.53124621164\n"
     ]
    },
    {
     "data": {
      "text/plain": "VBox(children=(Label(value='0.001 MB of 0.001 MB uploaded\\r'), FloatProgress(value=1.0, max=1.0)))",
      "application/vnd.jupyter.widget-view+json": {
       "version_major": 2,
       "version_minor": 0,
       "model_id": "53b3864078fb4dac88f08c878552a9aa"
      }
     },
     "metadata": {},
     "output_type": "display_data"
    },
    {
     "data": {
      "text/plain": "<IPython.core.display.HTML object>",
      "text/html": "<style>\n    table.wandb td:nth-child(1) { padding: 0 10px; text-align: left ; width: auto;} td:nth-child(2) {text-align: left ; width: 100%}\n    .wandb-row { display: flex; flex-direction: row; flex-wrap: wrap; justify-content: flex-start; width: 100% }\n    .wandb-col { display: flex; flex-direction: column; flex-basis: 100%; flex: 1; padding: 10px; }\n    </style>\n<div class=\"wandb-row\"><div class=\"wandb-col\"><h3>Run history:</h3><br/><table class=\"wandb\"><tr><td>mse</td><td>▁</td></tr></table><br/></div><div class=\"wandb-col\"><h3>Run summary:</h3><br/><table class=\"wandb\"><tr><td>mse</td><td>229230.53125</td></tr></table><br/></div></div>"
     },
     "metadata": {},
     "output_type": "display_data"
    },
    {
     "data": {
      "text/plain": "<IPython.core.display.HTML object>",
      "text/html": " View run <strong style=\"color:#cdcd00\">sweepy-sweep-7</strong> at: <a href='https://wandb.ai/model-development-and-deployment/training_example_3/runs/ekgtcf3w' target=\"_blank\">https://wandb.ai/model-development-and-deployment/training_example_3/runs/ekgtcf3w</a><br/>Synced 6 W&B file(s), 0 media file(s), 0 artifact file(s) and 0 other file(s)"
     },
     "metadata": {},
     "output_type": "display_data"
    },
    {
     "data": {
      "text/plain": "<IPython.core.display.HTML object>",
      "text/html": "Find logs at: <code>./wandb/run-20231122_222136-ekgtcf3w/logs</code>"
     },
     "metadata": {},
     "output_type": "display_data"
    },
    {
     "name": "stderr",
     "output_type": "stream",
     "text": [
      "wandb: Agent Starting Run: 7h1z4a35 with config:\n",
      "wandb: \tlearning_rate: 0.05\n",
      "wandb: \tn_estimators: 200\n",
      "wandb: \tn_jobs: 12\n",
      "wandb: \ttransform: normalize\n"
     ]
    },
    {
     "data": {
      "text/plain": "<IPython.core.display.HTML object>",
      "text/html": "Tracking run with wandb version 0.16.0"
     },
     "metadata": {},
     "output_type": "display_data"
    },
    {
     "data": {
      "text/plain": "<IPython.core.display.HTML object>",
      "text/html": "Run data is saved locally in <code>/Users/xiaolong/weights-and-biases/wandb/run-20231122_222348-7h1z4a35</code>"
     },
     "metadata": {},
     "output_type": "display_data"
    },
    {
     "data": {
      "text/plain": "<IPython.core.display.HTML object>",
      "text/html": "Syncing run <strong><a href='https://wandb.ai/model-development-and-deployment/training_example_3/runs/7h1z4a35' target=\"_blank\">firm-sweep-8</a></strong> to <a href='https://wandb.ai/model-development-and-deployment/training_example_3' target=\"_blank\">Weights & Biases</a> (<a href='https://wandb.me/run' target=\"_blank\">docs</a>)<br/>Sweep page: <a href='https://wandb.ai/model-development-and-deployment/training_example_3/sweeps/tiqmg1o1' target=\"_blank\">https://wandb.ai/model-development-and-deployment/training_example_3/sweeps/tiqmg1o1</a>"
     },
     "metadata": {},
     "output_type": "display_data"
    },
    {
     "data": {
      "text/plain": "<IPython.core.display.HTML object>",
      "text/html": " View project at <a href='https://wandb.ai/model-development-and-deployment/training_example_3' target=\"_blank\">https://wandb.ai/model-development-and-deployment/training_example_3</a>"
     },
     "metadata": {},
     "output_type": "display_data"
    },
    {
     "data": {
      "text/plain": "<IPython.core.display.HTML object>",
      "text/html": " View sweep at <a href='https://wandb.ai/model-development-and-deployment/training_example_3/sweeps/tiqmg1o1' target=\"_blank\">https://wandb.ai/model-development-and-deployment/training_example_3/sweeps/tiqmg1o1</a>"
     },
     "metadata": {},
     "output_type": "display_data"
    },
    {
     "data": {
      "text/plain": "<IPython.core.display.HTML object>",
      "text/html": " View run at <a href='https://wandb.ai/model-development-and-deployment/training_example_3/runs/7h1z4a35' target=\"_blank\">https://wandb.ai/model-development-and-deployment/training_example_3/runs/7h1z4a35</a>"
     },
     "metadata": {},
     "output_type": "display_data"
    },
    {
     "name": "stdout",
     "output_type": "stream",
     "text": [
      "Training model fatalities003_nl_baseline_rf\n",
      "Calibration partition (normalize)\n",
      " * == Performing a run: \"fatalities003_nl_baseline_rf_calib_normalize\" == * \n",
      "Model object named \"fatalities003_nl_baseline_rf_calib_normalize\" with equivalent metadata already exists.\n",
      "Retrain is true, overwriting \"fatalities003_nl_baseline_rf_calib_normalize\"\n",
      "Training model(s)...\n",
      "Storing \"fatalities003_nl_baseline_rf_calib_normalize\"\n",
      "Getting predictions\n",
      "pr_56_cm_fatalities003_nl_baseline_rf_calib_normalize_estimators_200_lr_0.05.parquet\n",
      "cm_fatalities003_nl_baseline_rf_calib_normalize_estimators_200_lr_0.05 , run Fatalities003 does not exist, predicting\n",
      "Test partition ({transform})\n",
      " * == Performing a run: \"fatalities003_nl_baseline_rf_test_normalize\" == * \n",
      "Model object named \"fatalities003_nl_baseline_rf_test_normalize\" with equivalent metadata already exists.\n",
      "Retrain is true, overwriting \"fatalities003_nl_baseline_rf_test_normalize\"\n",
      "Training model(s)...\n",
      "Storing \"fatalities003_nl_baseline_rf_test_normalize\"\n",
      "Getting predictions\n",
      "pr_56_cm_fatalities003_nl_baseline_rf_test_normalize_estimators_200_lr_0.05.parquet\n",
      "cm_fatalities003_nl_baseline_rf_test_normalize_estimators_200_lr_0.05 , run Fatalities003 does not exist, predicting\n",
      "**************************************************************\n",
      "Evaluating model fatalities003_nl_baseline_rf\n",
      "pr_56_cm_fatalities003_nl_baseline_rf_calib_normalize_estimators_200_lr_0.05.parquet\n",
      "mse_normalize 1425421675.2601707\n"
     ]
    },
    {
     "data": {
      "text/plain": "VBox(children=(Label(value='0.001 MB of 0.001 MB uploaded\\r'), FloatProgress(value=1.0, max=1.0)))",
      "application/vnd.jupyter.widget-view+json": {
       "version_major": 2,
       "version_minor": 0,
       "model_id": "64f66dfaee594c8fb325bfa1682ef98d"
      }
     },
     "metadata": {},
     "output_type": "display_data"
    },
    {
     "data": {
      "text/plain": "<IPython.core.display.HTML object>",
      "text/html": "<style>\n    table.wandb td:nth-child(1) { padding: 0 10px; text-align: left ; width: auto;} td:nth-child(2) {text-align: left ; width: 100%}\n    .wandb-row { display: flex; flex-direction: row; flex-wrap: wrap; justify-content: flex-start; width: 100% }\n    .wandb-col { display: flex; flex-direction: column; flex-basis: 100%; flex: 1; padding: 10px; }\n    </style>\n<div class=\"wandb-row\"><div class=\"wandb-col\"><h3>Run history:</h3><br/><table class=\"wandb\"><tr><td>mse</td><td>▁</td></tr></table><br/></div><div class=\"wandb-col\"><h3>Run summary:</h3><br/><table class=\"wandb\"><tr><td>mse</td><td>1425421675.26017</td></tr></table><br/></div></div>"
     },
     "metadata": {},
     "output_type": "display_data"
    },
    {
     "data": {
      "text/plain": "<IPython.core.display.HTML object>",
      "text/html": " View run <strong style=\"color:#cdcd00\">firm-sweep-8</strong> at: <a href='https://wandb.ai/model-development-and-deployment/training_example_3/runs/7h1z4a35' target=\"_blank\">https://wandb.ai/model-development-and-deployment/training_example_3/runs/7h1z4a35</a><br/>Synced 6 W&B file(s), 0 media file(s), 0 artifact file(s) and 0 other file(s)"
     },
     "metadata": {},
     "output_type": "display_data"
    },
    {
     "data": {
      "text/plain": "<IPython.core.display.HTML object>",
      "text/html": "Find logs at: <code>./wandb/run-20231122_222348-7h1z4a35/logs</code>"
     },
     "metadata": {},
     "output_type": "display_data"
    },
    {
     "name": "stderr",
     "output_type": "stream",
     "text": [
      "wandb: Agent Starting Run: lhiirooa with config:\n",
      "wandb: \tlearning_rate: 0.05\n",
      "wandb: \tn_estimators: 300\n",
      "wandb: \tn_jobs: 12\n",
      "wandb: \ttransform: log\n"
     ]
    },
    {
     "data": {
      "text/plain": "<IPython.core.display.HTML object>",
      "text/html": "Tracking run with wandb version 0.16.0"
     },
     "metadata": {},
     "output_type": "display_data"
    },
    {
     "data": {
      "text/plain": "<IPython.core.display.HTML object>",
      "text/html": "Run data is saved locally in <code>/Users/xiaolong/weights-and-biases/wandb/run-20231122_222541-lhiirooa</code>"
     },
     "metadata": {},
     "output_type": "display_data"
    },
    {
     "data": {
      "text/plain": "<IPython.core.display.HTML object>",
      "text/html": "Syncing run <strong><a href='https://wandb.ai/model-development-and-deployment/training_example_3/runs/lhiirooa' target=\"_blank\">cosmic-sweep-9</a></strong> to <a href='https://wandb.ai/model-development-and-deployment/training_example_3' target=\"_blank\">Weights & Biases</a> (<a href='https://wandb.me/run' target=\"_blank\">docs</a>)<br/>Sweep page: <a href='https://wandb.ai/model-development-and-deployment/training_example_3/sweeps/tiqmg1o1' target=\"_blank\">https://wandb.ai/model-development-and-deployment/training_example_3/sweeps/tiqmg1o1</a>"
     },
     "metadata": {},
     "output_type": "display_data"
    },
    {
     "data": {
      "text/plain": "<IPython.core.display.HTML object>",
      "text/html": " View project at <a href='https://wandb.ai/model-development-and-deployment/training_example_3' target=\"_blank\">https://wandb.ai/model-development-and-deployment/training_example_3</a>"
     },
     "metadata": {},
     "output_type": "display_data"
    },
    {
     "data": {
      "text/plain": "<IPython.core.display.HTML object>",
      "text/html": " View sweep at <a href='https://wandb.ai/model-development-and-deployment/training_example_3/sweeps/tiqmg1o1' target=\"_blank\">https://wandb.ai/model-development-and-deployment/training_example_3/sweeps/tiqmg1o1</a>"
     },
     "metadata": {},
     "output_type": "display_data"
    },
    {
     "data": {
      "text/plain": "<IPython.core.display.HTML object>",
      "text/html": " View run at <a href='https://wandb.ai/model-development-and-deployment/training_example_3/runs/lhiirooa' target=\"_blank\">https://wandb.ai/model-development-and-deployment/training_example_3/runs/lhiirooa</a>"
     },
     "metadata": {},
     "output_type": "display_data"
    },
    {
     "name": "stdout",
     "output_type": "stream",
     "text": [
      "Training model fatalities003_nl_baseline_rf\n",
      "Calibration partition (log)\n",
      " * == Performing a run: \"fatalities003_nl_baseline_rf_calib_log\" == * \n",
      "Model object named \"fatalities003_nl_baseline_rf_calib_log\" with equivalent metadata already exists.\n",
      "Retrain is true, overwriting \"fatalities003_nl_baseline_rf_calib_log\"\n",
      "Training model(s)...\n",
      "Storing \"fatalities003_nl_baseline_rf_calib_log\"\n",
      "Getting predictions\n",
      "pr_56_cm_fatalities003_nl_baseline_rf_calib_log_estimators_300_lr_0.05.parquet\n",
      "Test partition ({transform})\n",
      " * == Performing a run: \"fatalities003_nl_baseline_rf_test_log\" == * \n",
      "Model object named \"fatalities003_nl_baseline_rf_test_log\" with equivalent metadata already exists.\n",
      "Retrain is true, overwriting \"fatalities003_nl_baseline_rf_test_log\"\n",
      "Training model(s)...\n",
      "Storing \"fatalities003_nl_baseline_rf_test_log\"\n",
      "Getting predictions\n",
      "pr_56_cm_fatalities003_nl_baseline_rf_test_log_estimators_300_lr_0.05.parquet\n",
      "**************************************************************\n",
      "Evaluating model fatalities003_nl_baseline_rf\n",
      "pr_56_cm_fatalities003_nl_baseline_rf_calib_log_estimators_300_lr_0.05.parquet\n",
      "mse_log 230570.7619828193\n"
     ]
    },
    {
     "data": {
      "text/plain": "VBox(children=(Label(value='0.001 MB of 0.001 MB uploaded\\r'), FloatProgress(value=1.0, max=1.0)))",
      "application/vnd.jupyter.widget-view+json": {
       "version_major": 2,
       "version_minor": 0,
       "model_id": "61019a10ee5d486e9f37571646ede1cb"
      }
     },
     "metadata": {},
     "output_type": "display_data"
    },
    {
     "data": {
      "text/plain": "<IPython.core.display.HTML object>",
      "text/html": "<style>\n    table.wandb td:nth-child(1) { padding: 0 10px; text-align: left ; width: auto;} td:nth-child(2) {text-align: left ; width: 100%}\n    .wandb-row { display: flex; flex-direction: row; flex-wrap: wrap; justify-content: flex-start; width: 100% }\n    .wandb-col { display: flex; flex-direction: column; flex-basis: 100%; flex: 1; padding: 10px; }\n    </style>\n<div class=\"wandb-row\"><div class=\"wandb-col\"><h3>Run history:</h3><br/><table class=\"wandb\"><tr><td>mse</td><td>▁</td></tr></table><br/></div><div class=\"wandb-col\"><h3>Run summary:</h3><br/><table class=\"wandb\"><tr><td>mse</td><td>230570.76198</td></tr></table><br/></div></div>"
     },
     "metadata": {},
     "output_type": "display_data"
    },
    {
     "data": {
      "text/plain": "<IPython.core.display.HTML object>",
      "text/html": " View run <strong style=\"color:#cdcd00\">cosmic-sweep-9</strong> at: <a href='https://wandb.ai/model-development-and-deployment/training_example_3/runs/lhiirooa' target=\"_blank\">https://wandb.ai/model-development-and-deployment/training_example_3/runs/lhiirooa</a><br/>Synced 6 W&B file(s), 0 media file(s), 0 artifact file(s) and 0 other file(s)"
     },
     "metadata": {},
     "output_type": "display_data"
    },
    {
     "data": {
      "text/plain": "<IPython.core.display.HTML object>",
      "text/html": "Find logs at: <code>./wandb/run-20231122_222541-lhiirooa/logs</code>"
     },
     "metadata": {},
     "output_type": "display_data"
    },
    {
     "name": "stderr",
     "output_type": "stream",
     "text": [
      "wandb: Agent Starting Run: 7b4bg6ih with config:\n",
      "wandb: \tlearning_rate: 0.05\n",
      "wandb: \tn_estimators: 300\n",
      "wandb: \tn_jobs: 12\n",
      "wandb: \ttransform: standardize\n"
     ]
    },
    {
     "data": {
      "text/plain": "<IPython.core.display.HTML object>",
      "text/html": "Tracking run with wandb version 0.16.0"
     },
     "metadata": {},
     "output_type": "display_data"
    },
    {
     "data": {
      "text/plain": "<IPython.core.display.HTML object>",
      "text/html": "Run data is saved locally in <code>/Users/xiaolong/weights-and-biases/wandb/run-20231122_222847-7b4bg6ih</code>"
     },
     "metadata": {},
     "output_type": "display_data"
    },
    {
     "data": {
      "text/plain": "<IPython.core.display.HTML object>",
      "text/html": "Syncing run <strong><a href='https://wandb.ai/model-development-and-deployment/training_example_3/runs/7b4bg6ih' target=\"_blank\">dulcet-sweep-10</a></strong> to <a href='https://wandb.ai/model-development-and-deployment/training_example_3' target=\"_blank\">Weights & Biases</a> (<a href='https://wandb.me/run' target=\"_blank\">docs</a>)<br/>Sweep page: <a href='https://wandb.ai/model-development-and-deployment/training_example_3/sweeps/tiqmg1o1' target=\"_blank\">https://wandb.ai/model-development-and-deployment/training_example_3/sweeps/tiqmg1o1</a>"
     },
     "metadata": {},
     "output_type": "display_data"
    },
    {
     "data": {
      "text/plain": "<IPython.core.display.HTML object>",
      "text/html": " View project at <a href='https://wandb.ai/model-development-and-deployment/training_example_3' target=\"_blank\">https://wandb.ai/model-development-and-deployment/training_example_3</a>"
     },
     "metadata": {},
     "output_type": "display_data"
    },
    {
     "data": {
      "text/plain": "<IPython.core.display.HTML object>",
      "text/html": " View sweep at <a href='https://wandb.ai/model-development-and-deployment/training_example_3/sweeps/tiqmg1o1' target=\"_blank\">https://wandb.ai/model-development-and-deployment/training_example_3/sweeps/tiqmg1o1</a>"
     },
     "metadata": {},
     "output_type": "display_data"
    },
    {
     "data": {
      "text/plain": "<IPython.core.display.HTML object>",
      "text/html": " View run at <a href='https://wandb.ai/model-development-and-deployment/training_example_3/runs/7b4bg6ih' target=\"_blank\">https://wandb.ai/model-development-and-deployment/training_example_3/runs/7b4bg6ih</a>"
     },
     "metadata": {},
     "output_type": "display_data"
    },
    {
     "name": "stdout",
     "output_type": "stream",
     "text": [
      "Training model fatalities003_nl_baseline_rf\n",
      "Calibration partition (standardize)\n",
      " * == Performing a run: \"fatalities003_nl_baseline_rf_calib_standardize\" == * \n",
      "Model object named \"fatalities003_nl_baseline_rf_calib_standardize\" with equivalent metadata already exists.\n",
      "Retrain is true, overwriting \"fatalities003_nl_baseline_rf_calib_standardize\"\n",
      "Training model(s)...\n",
      "Storing \"fatalities003_nl_baseline_rf_calib_standardize\"\n",
      "Getting predictions\n",
      "pr_56_cm_fatalities003_nl_baseline_rf_calib_standardize_estimators_300_lr_0.05.parquet\n",
      "cm_fatalities003_nl_baseline_rf_calib_standardize_estimators_300_lr_0.05 , run Fatalities003 does not exist, predicting\n",
      "Test partition ({transform})\n",
      " * == Performing a run: \"fatalities003_nl_baseline_rf_test_standardize\" == * \n",
      "Model object named \"fatalities003_nl_baseline_rf_test_standardize\" with equivalent metadata already exists.\n",
      "Retrain is true, overwriting \"fatalities003_nl_baseline_rf_test_standardize\"\n",
      "Training model(s)...\n",
      "Storing \"fatalities003_nl_baseline_rf_test_standardize\"\n",
      "Getting predictions\n",
      "pr_56_cm_fatalities003_nl_baseline_rf_test_standardize_estimators_300_lr_0.05.parquet\n",
      "cm_fatalities003_nl_baseline_rf_test_standardize_estimators_300_lr_0.05 , run Fatalities003 does not exist, predicting\n",
      "**************************************************************\n",
      "Evaluating model fatalities003_nl_baseline_rf\n",
      "pr_56_cm_fatalities003_nl_baseline_rf_calib_standardize_estimators_300_lr_0.05.parquet\n",
      "mse_standardize 270514.819125058\n"
     ]
    },
    {
     "data": {
      "text/plain": "VBox(children=(Label(value='0.001 MB of 0.001 MB uploaded\\r'), FloatProgress(value=1.0, max=1.0)))",
      "application/vnd.jupyter.widget-view+json": {
       "version_major": 2,
       "version_minor": 0,
       "model_id": "ba46a8a3952a480eb4175a4f378752a8"
      }
     },
     "metadata": {},
     "output_type": "display_data"
    },
    {
     "data": {
      "text/plain": "<IPython.core.display.HTML object>",
      "text/html": "<style>\n    table.wandb td:nth-child(1) { padding: 0 10px; text-align: left ; width: auto;} td:nth-child(2) {text-align: left ; width: 100%}\n    .wandb-row { display: flex; flex-direction: row; flex-wrap: wrap; justify-content: flex-start; width: 100% }\n    .wandb-col { display: flex; flex-direction: column; flex-basis: 100%; flex: 1; padding: 10px; }\n    </style>\n<div class=\"wandb-row\"><div class=\"wandb-col\"><h3>Run history:</h3><br/><table class=\"wandb\"><tr><td>mse</td><td>▁</td></tr></table><br/></div><div class=\"wandb-col\"><h3>Run summary:</h3><br/><table class=\"wandb\"><tr><td>mse</td><td>270514.81913</td></tr></table><br/></div></div>"
     },
     "metadata": {},
     "output_type": "display_data"
    },
    {
     "data": {
      "text/plain": "<IPython.core.display.HTML object>",
      "text/html": " View run <strong style=\"color:#cdcd00\">dulcet-sweep-10</strong> at: <a href='https://wandb.ai/model-development-and-deployment/training_example_3/runs/7b4bg6ih' target=\"_blank\">https://wandb.ai/model-development-and-deployment/training_example_3/runs/7b4bg6ih</a><br/>Synced 6 W&B file(s), 0 media file(s), 0 artifact file(s) and 0 other file(s)"
     },
     "metadata": {},
     "output_type": "display_data"
    },
    {
     "data": {
      "text/plain": "<IPython.core.display.HTML object>",
      "text/html": "Find logs at: <code>./wandb/run-20231122_222847-7b4bg6ih/logs</code>"
     },
     "metadata": {},
     "output_type": "display_data"
    },
    {
     "name": "stderr",
     "output_type": "stream",
     "text": [
      "wandb: Agent Starting Run: xrkfs9ir with config:\n",
      "wandb: \tlearning_rate: 0.05\n",
      "wandb: \tn_estimators: 300\n",
      "wandb: \tn_jobs: 12\n",
      "wandb: \ttransform: raw\n"
     ]
    },
    {
     "data": {
      "text/plain": "<IPython.core.display.HTML object>",
      "text/html": "Tracking run with wandb version 0.16.0"
     },
     "metadata": {},
     "output_type": "display_data"
    },
    {
     "data": {
      "text/plain": "<IPython.core.display.HTML object>",
      "text/html": "Run data is saved locally in <code>/Users/xiaolong/weights-and-biases/wandb/run-20231122_223154-xrkfs9ir</code>"
     },
     "metadata": {},
     "output_type": "display_data"
    },
    {
     "data": {
      "text/plain": "<IPython.core.display.HTML object>",
      "text/html": "Syncing run <strong><a href='https://wandb.ai/model-development-and-deployment/training_example_3/runs/xrkfs9ir' target=\"_blank\">colorful-sweep-11</a></strong> to <a href='https://wandb.ai/model-development-and-deployment/training_example_3' target=\"_blank\">Weights & Biases</a> (<a href='https://wandb.me/run' target=\"_blank\">docs</a>)<br/>Sweep page: <a href='https://wandb.ai/model-development-and-deployment/training_example_3/sweeps/tiqmg1o1' target=\"_blank\">https://wandb.ai/model-development-and-deployment/training_example_3/sweeps/tiqmg1o1</a>"
     },
     "metadata": {},
     "output_type": "display_data"
    },
    {
     "data": {
      "text/plain": "<IPython.core.display.HTML object>",
      "text/html": " View project at <a href='https://wandb.ai/model-development-and-deployment/training_example_3' target=\"_blank\">https://wandb.ai/model-development-and-deployment/training_example_3</a>"
     },
     "metadata": {},
     "output_type": "display_data"
    },
    {
     "data": {
      "text/plain": "<IPython.core.display.HTML object>",
      "text/html": " View sweep at <a href='https://wandb.ai/model-development-and-deployment/training_example_3/sweeps/tiqmg1o1' target=\"_blank\">https://wandb.ai/model-development-and-deployment/training_example_3/sweeps/tiqmg1o1</a>"
     },
     "metadata": {},
     "output_type": "display_data"
    },
    {
     "data": {
      "text/plain": "<IPython.core.display.HTML object>",
      "text/html": " View run at <a href='https://wandb.ai/model-development-and-deployment/training_example_3/runs/xrkfs9ir' target=\"_blank\">https://wandb.ai/model-development-and-deployment/training_example_3/runs/xrkfs9ir</a>"
     },
     "metadata": {},
     "output_type": "display_data"
    },
    {
     "name": "stdout",
     "output_type": "stream",
     "text": [
      "Training model fatalities003_nl_baseline_rf\n",
      "Calibration partition (raw)\n",
      " * == Performing a run: \"fatalities003_nl_baseline_rf_calib_raw\" == * \n",
      "Model object named \"fatalities003_nl_baseline_rf_calib_raw\" with equivalent metadata already exists.\n",
      "Retrain is true, overwriting \"fatalities003_nl_baseline_rf_calib_raw\"\n",
      "Training model(s)...\n",
      "Storing \"fatalities003_nl_baseline_rf_calib_raw\"\n",
      "Getting predictions\n",
      "pr_56_cm_fatalities003_nl_baseline_rf_calib_raw_estimators_300_lr_0.05.parquet\n",
      "cm_fatalities003_nl_baseline_rf_calib_raw_estimators_300_lr_0.05 , run Fatalities003 does not exist, predicting\n",
      "Test partition ({transform})\n",
      " * == Performing a run: \"fatalities003_nl_baseline_rf_test_raw\" == * \n",
      "Model object named \"fatalities003_nl_baseline_rf_test_raw\" with equivalent metadata already exists.\n",
      "Retrain is true, overwriting \"fatalities003_nl_baseline_rf_test_raw\"\n",
      "Training model(s)...\n",
      "Storing \"fatalities003_nl_baseline_rf_test_raw\"\n",
      "Getting predictions\n",
      "pr_56_cm_fatalities003_nl_baseline_rf_test_raw_estimators_300_lr_0.05.parquet\n",
      "cm_fatalities003_nl_baseline_rf_test_raw_estimators_300_lr_0.05 , run Fatalities003 does not exist, predicting\n",
      "**************************************************************\n",
      "Evaluating model fatalities003_nl_baseline_rf\n",
      "pr_56_cm_fatalities003_nl_baseline_rf_calib_raw_estimators_300_lr_0.05.parquet\n",
      "mse_raw 229219.6350991642\n"
     ]
    },
    {
     "data": {
      "text/plain": "VBox(children=(Label(value='0.001 MB of 0.001 MB uploaded\\r'), FloatProgress(value=1.0, max=1.0)))",
      "application/vnd.jupyter.widget-view+json": {
       "version_major": 2,
       "version_minor": 0,
       "model_id": "8423946020d64e5cbde4e6832d669151"
      }
     },
     "metadata": {},
     "output_type": "display_data"
    },
    {
     "data": {
      "text/plain": "<IPython.core.display.HTML object>",
      "text/html": "<style>\n    table.wandb td:nth-child(1) { padding: 0 10px; text-align: left ; width: auto;} td:nth-child(2) {text-align: left ; width: 100%}\n    .wandb-row { display: flex; flex-direction: row; flex-wrap: wrap; justify-content: flex-start; width: 100% }\n    .wandb-col { display: flex; flex-direction: column; flex-basis: 100%; flex: 1; padding: 10px; }\n    </style>\n<div class=\"wandb-row\"><div class=\"wandb-col\"><h3>Run history:</h3><br/><table class=\"wandb\"><tr><td>mse</td><td>▁</td></tr></table><br/></div><div class=\"wandb-col\"><h3>Run summary:</h3><br/><table class=\"wandb\"><tr><td>mse</td><td>229219.6351</td></tr></table><br/></div></div>"
     },
     "metadata": {},
     "output_type": "display_data"
    },
    {
     "data": {
      "text/plain": "<IPython.core.display.HTML object>",
      "text/html": " View run <strong style=\"color:#cdcd00\">colorful-sweep-11</strong> at: <a href='https://wandb.ai/model-development-and-deployment/training_example_3/runs/xrkfs9ir' target=\"_blank\">https://wandb.ai/model-development-and-deployment/training_example_3/runs/xrkfs9ir</a><br/>Synced 6 W&B file(s), 0 media file(s), 0 artifact file(s) and 0 other file(s)"
     },
     "metadata": {},
     "output_type": "display_data"
    },
    {
     "data": {
      "text/plain": "<IPython.core.display.HTML object>",
      "text/html": "Find logs at: <code>./wandb/run-20231122_223154-xrkfs9ir/logs</code>"
     },
     "metadata": {},
     "output_type": "display_data"
    },
    {
     "name": "stderr",
     "output_type": "stream",
     "text": [
      "wandb: Agent Starting Run: c0gs6oh4 with config:\n",
      "wandb: \tlearning_rate: 0.05\n",
      "wandb: \tn_estimators: 300\n",
      "wandb: \tn_jobs: 12\n",
      "wandb: \ttransform: normalize\n"
     ]
    },
    {
     "data": {
      "text/plain": "<IPython.core.display.HTML object>",
      "text/html": "Tracking run with wandb version 0.16.0"
     },
     "metadata": {},
     "output_type": "display_data"
    },
    {
     "data": {
      "text/plain": "<IPython.core.display.HTML object>",
      "text/html": "Run data is saved locally in <code>/Users/xiaolong/weights-and-biases/wandb/run-20231122_223512-c0gs6oh4</code>"
     },
     "metadata": {},
     "output_type": "display_data"
    },
    {
     "data": {
      "text/plain": "<IPython.core.display.HTML object>",
      "text/html": "Syncing run <strong><a href='https://wandb.ai/model-development-and-deployment/training_example_3/runs/c0gs6oh4' target=\"_blank\">mild-sweep-12</a></strong> to <a href='https://wandb.ai/model-development-and-deployment/training_example_3' target=\"_blank\">Weights & Biases</a> (<a href='https://wandb.me/run' target=\"_blank\">docs</a>)<br/>Sweep page: <a href='https://wandb.ai/model-development-and-deployment/training_example_3/sweeps/tiqmg1o1' target=\"_blank\">https://wandb.ai/model-development-and-deployment/training_example_3/sweeps/tiqmg1o1</a>"
     },
     "metadata": {},
     "output_type": "display_data"
    },
    {
     "data": {
      "text/plain": "<IPython.core.display.HTML object>",
      "text/html": " View project at <a href='https://wandb.ai/model-development-and-deployment/training_example_3' target=\"_blank\">https://wandb.ai/model-development-and-deployment/training_example_3</a>"
     },
     "metadata": {},
     "output_type": "display_data"
    },
    {
     "data": {
      "text/plain": "<IPython.core.display.HTML object>",
      "text/html": " View sweep at <a href='https://wandb.ai/model-development-and-deployment/training_example_3/sweeps/tiqmg1o1' target=\"_blank\">https://wandb.ai/model-development-and-deployment/training_example_3/sweeps/tiqmg1o1</a>"
     },
     "metadata": {},
     "output_type": "display_data"
    },
    {
     "data": {
      "text/plain": "<IPython.core.display.HTML object>",
      "text/html": " View run at <a href='https://wandb.ai/model-development-and-deployment/training_example_3/runs/c0gs6oh4' target=\"_blank\">https://wandb.ai/model-development-and-deployment/training_example_3/runs/c0gs6oh4</a>"
     },
     "metadata": {},
     "output_type": "display_data"
    },
    {
     "name": "stdout",
     "output_type": "stream",
     "text": [
      "Training model fatalities003_nl_baseline_rf\n",
      "Calibration partition (normalize)\n",
      " * == Performing a run: \"fatalities003_nl_baseline_rf_calib_normalize\" == * \n",
      "Model object named \"fatalities003_nl_baseline_rf_calib_normalize\" with equivalent metadata already exists.\n",
      "Retrain is true, overwriting \"fatalities003_nl_baseline_rf_calib_normalize\"\n",
      "Training model(s)...\n",
      "Storing \"fatalities003_nl_baseline_rf_calib_normalize\"\n",
      "Getting predictions\n",
      "pr_56_cm_fatalities003_nl_baseline_rf_calib_normalize_estimators_300_lr_0.05.parquet\n",
      "cm_fatalities003_nl_baseline_rf_calib_normalize_estimators_300_lr_0.05 , run Fatalities003 does not exist, predicting\n",
      "Test partition ({transform})\n",
      " * == Performing a run: \"fatalities003_nl_baseline_rf_test_normalize\" == * \n",
      "Model object named \"fatalities003_nl_baseline_rf_test_normalize\" with equivalent metadata already exists.\n",
      "Retrain is true, overwriting \"fatalities003_nl_baseline_rf_test_normalize\"\n",
      "Training model(s)...\n",
      "Storing \"fatalities003_nl_baseline_rf_test_normalize\"\n",
      "Getting predictions\n",
      "pr_56_cm_fatalities003_nl_baseline_rf_test_normalize_estimators_300_lr_0.05.parquet\n",
      "cm_fatalities003_nl_baseline_rf_test_normalize_estimators_300_lr_0.05 , run Fatalities003 does not exist, predicting\n",
      "**************************************************************\n",
      "Evaluating model fatalities003_nl_baseline_rf\n",
      "pr_56_cm_fatalities003_nl_baseline_rf_calib_normalize_estimators_300_lr_0.05.parquet\n",
      "mse_normalize 1425421697.2520216\n"
     ]
    },
    {
     "data": {
      "text/plain": "VBox(children=(Label(value='0.001 MB of 0.001 MB uploaded\\r'), FloatProgress(value=1.0, max=1.0)))",
      "application/vnd.jupyter.widget-view+json": {
       "version_major": 2,
       "version_minor": 0,
       "model_id": "99166b695511435eb4381fc2115383c6"
      }
     },
     "metadata": {},
     "output_type": "display_data"
    },
    {
     "data": {
      "text/plain": "<IPython.core.display.HTML object>",
      "text/html": "<style>\n    table.wandb td:nth-child(1) { padding: 0 10px; text-align: left ; width: auto;} td:nth-child(2) {text-align: left ; width: 100%}\n    .wandb-row { display: flex; flex-direction: row; flex-wrap: wrap; justify-content: flex-start; width: 100% }\n    .wandb-col { display: flex; flex-direction: column; flex-basis: 100%; flex: 1; padding: 10px; }\n    </style>\n<div class=\"wandb-row\"><div class=\"wandb-col\"><h3>Run history:</h3><br/><table class=\"wandb\"><tr><td>mse</td><td>▁</td></tr></table><br/></div><div class=\"wandb-col\"><h3>Run summary:</h3><br/><table class=\"wandb\"><tr><td>mse</td><td>1425421697.25202</td></tr></table><br/></div></div>"
     },
     "metadata": {},
     "output_type": "display_data"
    },
    {
     "data": {
      "text/plain": "<IPython.core.display.HTML object>",
      "text/html": " View run <strong style=\"color:#cdcd00\">mild-sweep-12</strong> at: <a href='https://wandb.ai/model-development-and-deployment/training_example_3/runs/c0gs6oh4' target=\"_blank\">https://wandb.ai/model-development-and-deployment/training_example_3/runs/c0gs6oh4</a><br/>Synced 6 W&B file(s), 0 media file(s), 0 artifact file(s) and 0 other file(s)"
     },
     "metadata": {},
     "output_type": "display_data"
    },
    {
     "data": {
      "text/plain": "<IPython.core.display.HTML object>",
      "text/html": "Find logs at: <code>./wandb/run-20231122_223512-c0gs6oh4/logs</code>"
     },
     "metadata": {},
     "output_type": "display_data"
    },
    {
     "name": "stderr",
     "output_type": "stream",
     "text": [
      "wandb: Sweep Agent: Waiting for job.\n",
      "wandb: Job received.\n",
      "wandb: Agent Starting Run: jrh6e3gy with config:\n",
      "wandb: \tlearning_rate: 0.1\n",
      "wandb: \tn_estimators: 100\n",
      "wandb: \tn_jobs: 12\n",
      "wandb: \ttransform: log\n"
     ]
    },
    {
     "data": {
      "text/plain": "<IPython.core.display.HTML object>",
      "text/html": "Tracking run with wandb version 0.16.0"
     },
     "metadata": {},
     "output_type": "display_data"
    },
    {
     "data": {
      "text/plain": "<IPython.core.display.HTML object>",
      "text/html": "Run data is saved locally in <code>/Users/xiaolong/weights-and-biases/wandb/run-20231122_223818-jrh6e3gy</code>"
     },
     "metadata": {},
     "output_type": "display_data"
    },
    {
     "data": {
      "text/plain": "<IPython.core.display.HTML object>",
      "text/html": "Syncing run <strong><a href='https://wandb.ai/model-development-and-deployment/training_example_3/runs/jrh6e3gy' target=\"_blank\">dainty-sweep-13</a></strong> to <a href='https://wandb.ai/model-development-and-deployment/training_example_3' target=\"_blank\">Weights & Biases</a> (<a href='https://wandb.me/run' target=\"_blank\">docs</a>)<br/>Sweep page: <a href='https://wandb.ai/model-development-and-deployment/training_example_3/sweeps/tiqmg1o1' target=\"_blank\">https://wandb.ai/model-development-and-deployment/training_example_3/sweeps/tiqmg1o1</a>"
     },
     "metadata": {},
     "output_type": "display_data"
    },
    {
     "data": {
      "text/plain": "<IPython.core.display.HTML object>",
      "text/html": " View project at <a href='https://wandb.ai/model-development-and-deployment/training_example_3' target=\"_blank\">https://wandb.ai/model-development-and-deployment/training_example_3</a>"
     },
     "metadata": {},
     "output_type": "display_data"
    },
    {
     "data": {
      "text/plain": "<IPython.core.display.HTML object>",
      "text/html": " View sweep at <a href='https://wandb.ai/model-development-and-deployment/training_example_3/sweeps/tiqmg1o1' target=\"_blank\">https://wandb.ai/model-development-and-deployment/training_example_3/sweeps/tiqmg1o1</a>"
     },
     "metadata": {},
     "output_type": "display_data"
    },
    {
     "data": {
      "text/plain": "<IPython.core.display.HTML object>",
      "text/html": " View run at <a href='https://wandb.ai/model-development-and-deployment/training_example_3/runs/jrh6e3gy' target=\"_blank\">https://wandb.ai/model-development-and-deployment/training_example_3/runs/jrh6e3gy</a>"
     },
     "metadata": {},
     "output_type": "display_data"
    },
    {
     "name": "stdout",
     "output_type": "stream",
     "text": [
      "Training model fatalities003_nl_baseline_rf\n",
      "Calibration partition (log)\n",
      " * == Performing a run: \"fatalities003_nl_baseline_rf_calib_log\" == * \n",
      "Model object named \"fatalities003_nl_baseline_rf_calib_log\" with equivalent metadata already exists.\n",
      "Retrain is true, overwriting \"fatalities003_nl_baseline_rf_calib_log\"\n",
      "Training model(s)...\n",
      "Storing \"fatalities003_nl_baseline_rf_calib_log\"\n",
      "Getting predictions\n",
      "pr_56_cm_fatalities003_nl_baseline_rf_calib_log_estimators_100_lr_0.1.parquet\n",
      "Test partition ({transform})\n",
      " * == Performing a run: \"fatalities003_nl_baseline_rf_test_log\" == * \n",
      "Model object named \"fatalities003_nl_baseline_rf_test_log\" with equivalent metadata already exists.\n",
      "Retrain is true, overwriting \"fatalities003_nl_baseline_rf_test_log\"\n",
      "Training model(s)...\n",
      "Storing \"fatalities003_nl_baseline_rf_test_log\"\n",
      "Getting predictions\n",
      "pr_56_cm_fatalities003_nl_baseline_rf_test_log_estimators_100_lr_0.1.parquet\n",
      "**************************************************************\n",
      "Evaluating model fatalities003_nl_baseline_rf\n",
      "pr_56_cm_fatalities003_nl_baseline_rf_calib_log_estimators_100_lr_0.1.parquet\n",
      "mse_log 230542.31800877582\n"
     ]
    },
    {
     "data": {
      "text/plain": "VBox(children=(Label(value='0.001 MB of 0.001 MB uploaded\\r'), FloatProgress(value=1.0, max=1.0)))",
      "application/vnd.jupyter.widget-view+json": {
       "version_major": 2,
       "version_minor": 0,
       "model_id": "7a7a6afdc04d4f318aed13fd1a8e8ab4"
      }
     },
     "metadata": {},
     "output_type": "display_data"
    },
    {
     "data": {
      "text/plain": "<IPython.core.display.HTML object>",
      "text/html": "<style>\n    table.wandb td:nth-child(1) { padding: 0 10px; text-align: left ; width: auto;} td:nth-child(2) {text-align: left ; width: 100%}\n    .wandb-row { display: flex; flex-direction: row; flex-wrap: wrap; justify-content: flex-start; width: 100% }\n    .wandb-col { display: flex; flex-direction: column; flex-basis: 100%; flex: 1; padding: 10px; }\n    </style>\n<div class=\"wandb-row\"><div class=\"wandb-col\"><h3>Run history:</h3><br/><table class=\"wandb\"><tr><td>mse</td><td>▁</td></tr></table><br/></div><div class=\"wandb-col\"><h3>Run summary:</h3><br/><table class=\"wandb\"><tr><td>mse</td><td>230542.31801</td></tr></table><br/></div></div>"
     },
     "metadata": {},
     "output_type": "display_data"
    },
    {
     "data": {
      "text/plain": "<IPython.core.display.HTML object>",
      "text/html": " View run <strong style=\"color:#cdcd00\">dainty-sweep-13</strong> at: <a href='https://wandb.ai/model-development-and-deployment/training_example_3/runs/jrh6e3gy' target=\"_blank\">https://wandb.ai/model-development-and-deployment/training_example_3/runs/jrh6e3gy</a><br/>Synced 6 W&B file(s), 0 media file(s), 0 artifact file(s) and 0 other file(s)"
     },
     "metadata": {},
     "output_type": "display_data"
    },
    {
     "data": {
      "text/plain": "<IPython.core.display.HTML object>",
      "text/html": "Find logs at: <code>./wandb/run-20231122_223818-jrh6e3gy/logs</code>"
     },
     "metadata": {},
     "output_type": "display_data"
    },
    {
     "name": "stderr",
     "output_type": "stream",
     "text": [
      "wandb: Agent Starting Run: mokdhx0t with config:\n",
      "wandb: \tlearning_rate: 0.1\n",
      "wandb: \tn_estimators: 100\n",
      "wandb: \tn_jobs: 12\n",
      "wandb: \ttransform: standardize\n"
     ]
    },
    {
     "data": {
      "text/plain": "<IPython.core.display.HTML object>",
      "text/html": "Tracking run with wandb version 0.16.0"
     },
     "metadata": {},
     "output_type": "display_data"
    },
    {
     "data": {
      "text/plain": "<IPython.core.display.HTML object>",
      "text/html": "Run data is saved locally in <code>/Users/xiaolong/weights-and-biases/wandb/run-20231122_223942-mokdhx0t</code>"
     },
     "metadata": {},
     "output_type": "display_data"
    },
    {
     "data": {
      "text/plain": "<IPython.core.display.HTML object>",
      "text/html": "Syncing run <strong><a href='https://wandb.ai/model-development-and-deployment/training_example_3/runs/mokdhx0t' target=\"_blank\">young-sweep-14</a></strong> to <a href='https://wandb.ai/model-development-and-deployment/training_example_3' target=\"_blank\">Weights & Biases</a> (<a href='https://wandb.me/run' target=\"_blank\">docs</a>)<br/>Sweep page: <a href='https://wandb.ai/model-development-and-deployment/training_example_3/sweeps/tiqmg1o1' target=\"_blank\">https://wandb.ai/model-development-and-deployment/training_example_3/sweeps/tiqmg1o1</a>"
     },
     "metadata": {},
     "output_type": "display_data"
    },
    {
     "data": {
      "text/plain": "<IPython.core.display.HTML object>",
      "text/html": " View project at <a href='https://wandb.ai/model-development-and-deployment/training_example_3' target=\"_blank\">https://wandb.ai/model-development-and-deployment/training_example_3</a>"
     },
     "metadata": {},
     "output_type": "display_data"
    },
    {
     "data": {
      "text/plain": "<IPython.core.display.HTML object>",
      "text/html": " View sweep at <a href='https://wandb.ai/model-development-and-deployment/training_example_3/sweeps/tiqmg1o1' target=\"_blank\">https://wandb.ai/model-development-and-deployment/training_example_3/sweeps/tiqmg1o1</a>"
     },
     "metadata": {},
     "output_type": "display_data"
    },
    {
     "data": {
      "text/plain": "<IPython.core.display.HTML object>",
      "text/html": " View run at <a href='https://wandb.ai/model-development-and-deployment/training_example_3/runs/mokdhx0t' target=\"_blank\">https://wandb.ai/model-development-and-deployment/training_example_3/runs/mokdhx0t</a>"
     },
     "metadata": {},
     "output_type": "display_data"
    },
    {
     "name": "stdout",
     "output_type": "stream",
     "text": [
      "Training model fatalities003_nl_baseline_rf\n",
      "Calibration partition (standardize)\n",
      " * == Performing a run: \"fatalities003_nl_baseline_rf_calib_standardize\" == * \n",
      "Model object named \"fatalities003_nl_baseline_rf_calib_standardize\" with equivalent metadata already exists.\n",
      "Retrain is true, overwriting \"fatalities003_nl_baseline_rf_calib_standardize\"\n",
      "Training model(s)...\n",
      "Storing \"fatalities003_nl_baseline_rf_calib_standardize\"\n",
      "Getting predictions\n",
      "pr_56_cm_fatalities003_nl_baseline_rf_calib_standardize_estimators_100_lr_0.1.parquet\n",
      "cm_fatalities003_nl_baseline_rf_calib_standardize_estimators_100_lr_0.1 , run Fatalities003 does not exist, predicting\n",
      "Test partition ({transform})\n",
      " * == Performing a run: \"fatalities003_nl_baseline_rf_test_standardize\" == * \n",
      "Model object named \"fatalities003_nl_baseline_rf_test_standardize\" with equivalent metadata already exists.\n",
      "Retrain is true, overwriting \"fatalities003_nl_baseline_rf_test_standardize\"\n",
      "Training model(s)...\n",
      "Storing \"fatalities003_nl_baseline_rf_test_standardize\"\n",
      "Getting predictions\n",
      "pr_56_cm_fatalities003_nl_baseline_rf_test_standardize_estimators_100_lr_0.1.parquet\n",
      "cm_fatalities003_nl_baseline_rf_test_standardize_estimators_100_lr_0.1 , run Fatalities003 does not exist, predicting\n",
      "**************************************************************\n",
      "Evaluating model fatalities003_nl_baseline_rf\n",
      "pr_56_cm_fatalities003_nl_baseline_rf_calib_standardize_estimators_100_lr_0.1.parquet\n",
      "mse_standardize 264466.04461774667\n"
     ]
    },
    {
     "data": {
      "text/plain": "VBox(children=(Label(value='0.001 MB of 0.001 MB uploaded\\r'), FloatProgress(value=1.0, max=1.0)))",
      "application/vnd.jupyter.widget-view+json": {
       "version_major": 2,
       "version_minor": 0,
       "model_id": "eed10507fe324af4a015df131dc7b9e4"
      }
     },
     "metadata": {},
     "output_type": "display_data"
    },
    {
     "data": {
      "text/plain": "<IPython.core.display.HTML object>",
      "text/html": "<style>\n    table.wandb td:nth-child(1) { padding: 0 10px; text-align: left ; width: auto;} td:nth-child(2) {text-align: left ; width: 100%}\n    .wandb-row { display: flex; flex-direction: row; flex-wrap: wrap; justify-content: flex-start; width: 100% }\n    .wandb-col { display: flex; flex-direction: column; flex-basis: 100%; flex: 1; padding: 10px; }\n    </style>\n<div class=\"wandb-row\"><div class=\"wandb-col\"><h3>Run history:</h3><br/><table class=\"wandb\"><tr><td>mse</td><td>▁</td></tr></table><br/></div><div class=\"wandb-col\"><h3>Run summary:</h3><br/><table class=\"wandb\"><tr><td>mse</td><td>264466.04462</td></tr></table><br/></div></div>"
     },
     "metadata": {},
     "output_type": "display_data"
    },
    {
     "data": {
      "text/plain": "<IPython.core.display.HTML object>",
      "text/html": " View run <strong style=\"color:#cdcd00\">young-sweep-14</strong> at: <a href='https://wandb.ai/model-development-and-deployment/training_example_3/runs/mokdhx0t' target=\"_blank\">https://wandb.ai/model-development-and-deployment/training_example_3/runs/mokdhx0t</a><br/>Synced 6 W&B file(s), 0 media file(s), 0 artifact file(s) and 0 other file(s)"
     },
     "metadata": {},
     "output_type": "display_data"
    },
    {
     "data": {
      "text/plain": "<IPython.core.display.HTML object>",
      "text/html": "Find logs at: <code>./wandb/run-20231122_223942-mokdhx0t/logs</code>"
     },
     "metadata": {},
     "output_type": "display_data"
    },
    {
     "name": "stderr",
     "output_type": "stream",
     "text": [
      "wandb: Agent Starting Run: ybf6zkgy with config:\n",
      "wandb: \tlearning_rate: 0.1\n",
      "wandb: \tn_estimators: 100\n",
      "wandb: \tn_jobs: 12\n",
      "wandb: \ttransform: raw\n"
     ]
    },
    {
     "data": {
      "text/plain": "<IPython.core.display.HTML object>",
      "text/html": "Tracking run with wandb version 0.16.0"
     },
     "metadata": {},
     "output_type": "display_data"
    },
    {
     "data": {
      "text/plain": "<IPython.core.display.HTML object>",
      "text/html": "Run data is saved locally in <code>/Users/xiaolong/weights-and-biases/wandb/run-20231122_224116-ybf6zkgy</code>"
     },
     "metadata": {},
     "output_type": "display_data"
    },
    {
     "data": {
      "text/plain": "<IPython.core.display.HTML object>",
      "text/html": "Syncing run <strong><a href='https://wandb.ai/model-development-and-deployment/training_example_3/runs/ybf6zkgy' target=\"_blank\">stellar-sweep-15</a></strong> to <a href='https://wandb.ai/model-development-and-deployment/training_example_3' target=\"_blank\">Weights & Biases</a> (<a href='https://wandb.me/run' target=\"_blank\">docs</a>)<br/>Sweep page: <a href='https://wandb.ai/model-development-and-deployment/training_example_3/sweeps/tiqmg1o1' target=\"_blank\">https://wandb.ai/model-development-and-deployment/training_example_3/sweeps/tiqmg1o1</a>"
     },
     "metadata": {},
     "output_type": "display_data"
    },
    {
     "data": {
      "text/plain": "<IPython.core.display.HTML object>",
      "text/html": " View project at <a href='https://wandb.ai/model-development-and-deployment/training_example_3' target=\"_blank\">https://wandb.ai/model-development-and-deployment/training_example_3</a>"
     },
     "metadata": {},
     "output_type": "display_data"
    },
    {
     "data": {
      "text/plain": "<IPython.core.display.HTML object>",
      "text/html": " View sweep at <a href='https://wandb.ai/model-development-and-deployment/training_example_3/sweeps/tiqmg1o1' target=\"_blank\">https://wandb.ai/model-development-and-deployment/training_example_3/sweeps/tiqmg1o1</a>"
     },
     "metadata": {},
     "output_type": "display_data"
    },
    {
     "data": {
      "text/plain": "<IPython.core.display.HTML object>",
      "text/html": " View run at <a href='https://wandb.ai/model-development-and-deployment/training_example_3/runs/ybf6zkgy' target=\"_blank\">https://wandb.ai/model-development-and-deployment/training_example_3/runs/ybf6zkgy</a>"
     },
     "metadata": {},
     "output_type": "display_data"
    },
    {
     "name": "stdout",
     "output_type": "stream",
     "text": [
      "Training model fatalities003_nl_baseline_rf\n",
      "Calibration partition (raw)\n",
      " * == Performing a run: \"fatalities003_nl_baseline_rf_calib_raw\" == * \n",
      "Model object named \"fatalities003_nl_baseline_rf_calib_raw\" with equivalent metadata already exists.\n",
      "Retrain is true, overwriting \"fatalities003_nl_baseline_rf_calib_raw\"\n",
      "Training model(s)...\n",
      "Storing \"fatalities003_nl_baseline_rf_calib_raw\"\n",
      "Getting predictions\n",
      "pr_56_cm_fatalities003_nl_baseline_rf_calib_raw_estimators_100_lr_0.1.parquet\n",
      "cm_fatalities003_nl_baseline_rf_calib_raw_estimators_100_lr_0.1 , run Fatalities003 does not exist, predicting\n",
      "Test partition ({transform})\n",
      " * == Performing a run: \"fatalities003_nl_baseline_rf_test_raw\" == * \n",
      "Model object named \"fatalities003_nl_baseline_rf_test_raw\" with equivalent metadata already exists.\n",
      "Retrain is true, overwriting \"fatalities003_nl_baseline_rf_test_raw\"\n",
      "Training model(s)...\n",
      "Storing \"fatalities003_nl_baseline_rf_test_raw\"\n",
      "Getting predictions\n",
      "pr_56_cm_fatalities003_nl_baseline_rf_test_raw_estimators_100_lr_0.1.parquet\n",
      "cm_fatalities003_nl_baseline_rf_test_raw_estimators_100_lr_0.1 , run Fatalities003 does not exist, predicting\n",
      "**************************************************************\n",
      "Evaluating model fatalities003_nl_baseline_rf\n",
      "pr_56_cm_fatalities003_nl_baseline_rf_calib_raw_estimators_100_lr_0.1.parquet\n",
      "mse_raw 227999.83703137137\n"
     ]
    },
    {
     "data": {
      "text/plain": "VBox(children=(Label(value='0.001 MB of 0.001 MB uploaded\\r'), FloatProgress(value=1.0, max=1.0)))",
      "application/vnd.jupyter.widget-view+json": {
       "version_major": 2,
       "version_minor": 0,
       "model_id": "84529be553d0402da9ae68ad7c450238"
      }
     },
     "metadata": {},
     "output_type": "display_data"
    },
    {
     "data": {
      "text/plain": "<IPython.core.display.HTML object>",
      "text/html": "<style>\n    table.wandb td:nth-child(1) { padding: 0 10px; text-align: left ; width: auto;} td:nth-child(2) {text-align: left ; width: 100%}\n    .wandb-row { display: flex; flex-direction: row; flex-wrap: wrap; justify-content: flex-start; width: 100% }\n    .wandb-col { display: flex; flex-direction: column; flex-basis: 100%; flex: 1; padding: 10px; }\n    </style>\n<div class=\"wandb-row\"><div class=\"wandb-col\"><h3>Run history:</h3><br/><table class=\"wandb\"><tr><td>mse</td><td>▁</td></tr></table><br/></div><div class=\"wandb-col\"><h3>Run summary:</h3><br/><table class=\"wandb\"><tr><td>mse</td><td>227999.83703</td></tr></table><br/></div></div>"
     },
     "metadata": {},
     "output_type": "display_data"
    },
    {
     "data": {
      "text/plain": "<IPython.core.display.HTML object>",
      "text/html": " View run <strong style=\"color:#cdcd00\">stellar-sweep-15</strong> at: <a href='https://wandb.ai/model-development-and-deployment/training_example_3/runs/ybf6zkgy' target=\"_blank\">https://wandb.ai/model-development-and-deployment/training_example_3/runs/ybf6zkgy</a><br/>Synced 6 W&B file(s), 0 media file(s), 0 artifact file(s) and 0 other file(s)"
     },
     "metadata": {},
     "output_type": "display_data"
    },
    {
     "data": {
      "text/plain": "<IPython.core.display.HTML object>",
      "text/html": "Find logs at: <code>./wandb/run-20231122_224116-ybf6zkgy/logs</code>"
     },
     "metadata": {},
     "output_type": "display_data"
    },
    {
     "name": "stderr",
     "output_type": "stream",
     "text": [
      "wandb: Agent Starting Run: kwl635ft with config:\n",
      "wandb: \tlearning_rate: 0.1\n",
      "wandb: \tn_estimators: 100\n",
      "wandb: \tn_jobs: 12\n",
      "wandb: \ttransform: normalize\n"
     ]
    },
    {
     "data": {
      "text/plain": "<IPython.core.display.HTML object>",
      "text/html": "Tracking run with wandb version 0.16.0"
     },
     "metadata": {},
     "output_type": "display_data"
    },
    {
     "data": {
      "text/plain": "<IPython.core.display.HTML object>",
      "text/html": "Run data is saved locally in <code>/Users/xiaolong/weights-and-biases/wandb/run-20231122_224245-kwl635ft</code>"
     },
     "metadata": {},
     "output_type": "display_data"
    },
    {
     "data": {
      "text/plain": "<IPython.core.display.HTML object>",
      "text/html": "Syncing run <strong><a href='https://wandb.ai/model-development-and-deployment/training_example_3/runs/kwl635ft' target=\"_blank\">faithful-sweep-16</a></strong> to <a href='https://wandb.ai/model-development-and-deployment/training_example_3' target=\"_blank\">Weights & Biases</a> (<a href='https://wandb.me/run' target=\"_blank\">docs</a>)<br/>Sweep page: <a href='https://wandb.ai/model-development-and-deployment/training_example_3/sweeps/tiqmg1o1' target=\"_blank\">https://wandb.ai/model-development-and-deployment/training_example_3/sweeps/tiqmg1o1</a>"
     },
     "metadata": {},
     "output_type": "display_data"
    },
    {
     "data": {
      "text/plain": "<IPython.core.display.HTML object>",
      "text/html": " View project at <a href='https://wandb.ai/model-development-and-deployment/training_example_3' target=\"_blank\">https://wandb.ai/model-development-and-deployment/training_example_3</a>"
     },
     "metadata": {},
     "output_type": "display_data"
    },
    {
     "data": {
      "text/plain": "<IPython.core.display.HTML object>",
      "text/html": " View sweep at <a href='https://wandb.ai/model-development-and-deployment/training_example_3/sweeps/tiqmg1o1' target=\"_blank\">https://wandb.ai/model-development-and-deployment/training_example_3/sweeps/tiqmg1o1</a>"
     },
     "metadata": {},
     "output_type": "display_data"
    },
    {
     "data": {
      "text/plain": "<IPython.core.display.HTML object>",
      "text/html": " View run at <a href='https://wandb.ai/model-development-and-deployment/training_example_3/runs/kwl635ft' target=\"_blank\">https://wandb.ai/model-development-and-deployment/training_example_3/runs/kwl635ft</a>"
     },
     "metadata": {},
     "output_type": "display_data"
    },
    {
     "name": "stdout",
     "output_type": "stream",
     "text": [
      "Training model fatalities003_nl_baseline_rf\n",
      "Calibration partition (normalize)\n",
      " * == Performing a run: \"fatalities003_nl_baseline_rf_calib_normalize\" == * \n",
      "Model object named \"fatalities003_nl_baseline_rf_calib_normalize\" with equivalent metadata already exists.\n",
      "Retrain is true, overwriting \"fatalities003_nl_baseline_rf_calib_normalize\"\n",
      "Training model(s)...\n",
      "Storing \"fatalities003_nl_baseline_rf_calib_normalize\"\n",
      "Getting predictions\n",
      "pr_56_cm_fatalities003_nl_baseline_rf_calib_normalize_estimators_100_lr_0.1.parquet\n",
      "cm_fatalities003_nl_baseline_rf_calib_normalize_estimators_100_lr_0.1 , run Fatalities003 does not exist, predicting\n",
      "Test partition ({transform})\n",
      " * == Performing a run: \"fatalities003_nl_baseline_rf_test_normalize\" == * \n",
      "Model object named \"fatalities003_nl_baseline_rf_test_normalize\" with equivalent metadata already exists.\n",
      "Retrain is true, overwriting \"fatalities003_nl_baseline_rf_test_normalize\"\n",
      "Training model(s)...\n",
      "Storing \"fatalities003_nl_baseline_rf_test_normalize\"\n",
      "Getting predictions\n",
      "pr_56_cm_fatalities003_nl_baseline_rf_test_normalize_estimators_100_lr_0.1.parquet\n",
      "cm_fatalities003_nl_baseline_rf_test_normalize_estimators_100_lr_0.1 , run Fatalities003 does not exist, predicting\n",
      "**************************************************************\n",
      "Evaluating model fatalities003_nl_baseline_rf\n",
      "pr_56_cm_fatalities003_nl_baseline_rf_calib_normalize_estimators_100_lr_0.1.parquet\n",
      "mse_normalize 1279253129.5582032\n"
     ]
    },
    {
     "data": {
      "text/plain": "VBox(children=(Label(value='0.001 MB of 0.001 MB uploaded\\r'), FloatProgress(value=1.0, max=1.0)))",
      "application/vnd.jupyter.widget-view+json": {
       "version_major": 2,
       "version_minor": 0,
       "model_id": "255c8fb5532c4640a41c4ac222224da0"
      }
     },
     "metadata": {},
     "output_type": "display_data"
    },
    {
     "data": {
      "text/plain": "<IPython.core.display.HTML object>",
      "text/html": "<style>\n    table.wandb td:nth-child(1) { padding: 0 10px; text-align: left ; width: auto;} td:nth-child(2) {text-align: left ; width: 100%}\n    .wandb-row { display: flex; flex-direction: row; flex-wrap: wrap; justify-content: flex-start; width: 100% }\n    .wandb-col { display: flex; flex-direction: column; flex-basis: 100%; flex: 1; padding: 10px; }\n    </style>\n<div class=\"wandb-row\"><div class=\"wandb-col\"><h3>Run history:</h3><br/><table class=\"wandb\"><tr><td>mse</td><td>▁</td></tr></table><br/></div><div class=\"wandb-col\"><h3>Run summary:</h3><br/><table class=\"wandb\"><tr><td>mse</td><td>1279253129.5582</td></tr></table><br/></div></div>"
     },
     "metadata": {},
     "output_type": "display_data"
    },
    {
     "data": {
      "text/plain": "<IPython.core.display.HTML object>",
      "text/html": " View run <strong style=\"color:#cdcd00\">faithful-sweep-16</strong> at: <a href='https://wandb.ai/model-development-and-deployment/training_example_3/runs/kwl635ft' target=\"_blank\">https://wandb.ai/model-development-and-deployment/training_example_3/runs/kwl635ft</a><br/>Synced 6 W&B file(s), 0 media file(s), 0 artifact file(s) and 0 other file(s)"
     },
     "metadata": {},
     "output_type": "display_data"
    },
    {
     "data": {
      "text/plain": "<IPython.core.display.HTML object>",
      "text/html": "Find logs at: <code>./wandb/run-20231122_224245-kwl635ft/logs</code>"
     },
     "metadata": {},
     "output_type": "display_data"
    },
    {
     "name": "stderr",
     "output_type": "stream",
     "text": [
      "wandb: Agent Starting Run: y4j2t0d3 with config:\n",
      "wandb: \tlearning_rate: 0.1\n",
      "wandb: \tn_estimators: 200\n",
      "wandb: \tn_jobs: 12\n",
      "wandb: \ttransform: log\n"
     ]
    },
    {
     "data": {
      "text/plain": "<IPython.core.display.HTML object>",
      "text/html": "Tracking run with wandb version 0.16.0"
     },
     "metadata": {},
     "output_type": "display_data"
    },
    {
     "data": {
      "text/plain": "<IPython.core.display.HTML object>",
      "text/html": "Run data is saved locally in <code>/Users/xiaolong/weights-and-biases/wandb/run-20231122_224402-y4j2t0d3</code>"
     },
     "metadata": {},
     "output_type": "display_data"
    },
    {
     "data": {
      "text/plain": "<IPython.core.display.HTML object>",
      "text/html": "Syncing run <strong><a href='https://wandb.ai/model-development-and-deployment/training_example_3/runs/y4j2t0d3' target=\"_blank\">vague-sweep-17</a></strong> to <a href='https://wandb.ai/model-development-and-deployment/training_example_3' target=\"_blank\">Weights & Biases</a> (<a href='https://wandb.me/run' target=\"_blank\">docs</a>)<br/>Sweep page: <a href='https://wandb.ai/model-development-and-deployment/training_example_3/sweeps/tiqmg1o1' target=\"_blank\">https://wandb.ai/model-development-and-deployment/training_example_3/sweeps/tiqmg1o1</a>"
     },
     "metadata": {},
     "output_type": "display_data"
    },
    {
     "data": {
      "text/plain": "<IPython.core.display.HTML object>",
      "text/html": " View project at <a href='https://wandb.ai/model-development-and-deployment/training_example_3' target=\"_blank\">https://wandb.ai/model-development-and-deployment/training_example_3</a>"
     },
     "metadata": {},
     "output_type": "display_data"
    },
    {
     "data": {
      "text/plain": "<IPython.core.display.HTML object>",
      "text/html": " View sweep at <a href='https://wandb.ai/model-development-and-deployment/training_example_3/sweeps/tiqmg1o1' target=\"_blank\">https://wandb.ai/model-development-and-deployment/training_example_3/sweeps/tiqmg1o1</a>"
     },
     "metadata": {},
     "output_type": "display_data"
    },
    {
     "data": {
      "text/plain": "<IPython.core.display.HTML object>",
      "text/html": " View run at <a href='https://wandb.ai/model-development-and-deployment/training_example_3/runs/y4j2t0d3' target=\"_blank\">https://wandb.ai/model-development-and-deployment/training_example_3/runs/y4j2t0d3</a>"
     },
     "metadata": {},
     "output_type": "display_data"
    },
    {
     "name": "stdout",
     "output_type": "stream",
     "text": [
      "Training model fatalities003_nl_baseline_rf\n",
      "Calibration partition (log)\n",
      " * == Performing a run: \"fatalities003_nl_baseline_rf_calib_log\" == * \n",
      "Model object named \"fatalities003_nl_baseline_rf_calib_log\" with equivalent metadata already exists.\n",
      "Retrain is true, overwriting \"fatalities003_nl_baseline_rf_calib_log\"\n",
      "Training model(s)...\n",
      "Storing \"fatalities003_nl_baseline_rf_calib_log\"\n",
      "Getting predictions\n",
      "pr_56_cm_fatalities003_nl_baseline_rf_calib_log_estimators_200_lr_0.1.parquet\n",
      "Test partition ({transform})\n",
      " * == Performing a run: \"fatalities003_nl_baseline_rf_test_log\" == * \n",
      "Model object named \"fatalities003_nl_baseline_rf_test_log\" with equivalent metadata already exists.\n",
      "Retrain is true, overwriting \"fatalities003_nl_baseline_rf_test_log\"\n",
      "Training model(s)...\n",
      "Storing \"fatalities003_nl_baseline_rf_test_log\"\n",
      "Getting predictions\n",
      "pr_56_cm_fatalities003_nl_baseline_rf_test_log_estimators_200_lr_0.1.parquet\n",
      "**************************************************************\n",
      "Evaluating model fatalities003_nl_baseline_rf\n",
      "pr_56_cm_fatalities003_nl_baseline_rf_calib_log_estimators_200_lr_0.1.parquet\n",
      "mse_log 230542.3107394397\n"
     ]
    },
    {
     "data": {
      "text/plain": "VBox(children=(Label(value='0.001 MB of 0.008 MB uploaded\\r'), FloatProgress(value=0.11722516166960611, max=1.…",
      "application/vnd.jupyter.widget-view+json": {
       "version_major": 2,
       "version_minor": 0,
       "model_id": "0d1e87d345b644e2ac1de7bd54fa420b"
      }
     },
     "metadata": {},
     "output_type": "display_data"
    },
    {
     "data": {
      "text/plain": "<IPython.core.display.HTML object>",
      "text/html": "<style>\n    table.wandb td:nth-child(1) { padding: 0 10px; text-align: left ; width: auto;} td:nth-child(2) {text-align: left ; width: 100%}\n    .wandb-row { display: flex; flex-direction: row; flex-wrap: wrap; justify-content: flex-start; width: 100% }\n    .wandb-col { display: flex; flex-direction: column; flex-basis: 100%; flex: 1; padding: 10px; }\n    </style>\n<div class=\"wandb-row\"><div class=\"wandb-col\"><h3>Run history:</h3><br/><table class=\"wandb\"><tr><td>mse</td><td>▁</td></tr></table><br/></div><div class=\"wandb-col\"><h3>Run summary:</h3><br/><table class=\"wandb\"><tr><td>mse</td><td>230542.31074</td></tr></table><br/></div></div>"
     },
     "metadata": {},
     "output_type": "display_data"
    },
    {
     "data": {
      "text/plain": "<IPython.core.display.HTML object>",
      "text/html": " View run <strong style=\"color:#cdcd00\">vague-sweep-17</strong> at: <a href='https://wandb.ai/model-development-and-deployment/training_example_3/runs/y4j2t0d3' target=\"_blank\">https://wandb.ai/model-development-and-deployment/training_example_3/runs/y4j2t0d3</a><br/>Synced 6 W&B file(s), 0 media file(s), 0 artifact file(s) and 0 other file(s)"
     },
     "metadata": {},
     "output_type": "display_data"
    },
    {
     "data": {
      "text/plain": "<IPython.core.display.HTML object>",
      "text/html": "Find logs at: <code>./wandb/run-20231122_224402-y4j2t0d3/logs</code>"
     },
     "metadata": {},
     "output_type": "display_data"
    },
    {
     "name": "stderr",
     "output_type": "stream",
     "text": [
      "wandb: Agent Starting Run: 6peneror with config:\n",
      "wandb: \tlearning_rate: 0.1\n",
      "wandb: \tn_estimators: 200\n",
      "wandb: \tn_jobs: 12\n",
      "wandb: \ttransform: standardize\n"
     ]
    },
    {
     "data": {
      "text/plain": "<IPython.core.display.HTML object>",
      "text/html": "Tracking run with wandb version 0.16.0"
     },
     "metadata": {},
     "output_type": "display_data"
    },
    {
     "data": {
      "text/plain": "<IPython.core.display.HTML object>",
      "text/html": "Run data is saved locally in <code>/Users/xiaolong/weights-and-biases/wandb/run-20231122_224612-6peneror</code>"
     },
     "metadata": {},
     "output_type": "display_data"
    },
    {
     "data": {
      "text/plain": "<IPython.core.display.HTML object>",
      "text/html": "Syncing run <strong><a href='https://wandb.ai/model-development-and-deployment/training_example_3/runs/6peneror' target=\"_blank\">youthful-sweep-18</a></strong> to <a href='https://wandb.ai/model-development-and-deployment/training_example_3' target=\"_blank\">Weights & Biases</a> (<a href='https://wandb.me/run' target=\"_blank\">docs</a>)<br/>Sweep page: <a href='https://wandb.ai/model-development-and-deployment/training_example_3/sweeps/tiqmg1o1' target=\"_blank\">https://wandb.ai/model-development-and-deployment/training_example_3/sweeps/tiqmg1o1</a>"
     },
     "metadata": {},
     "output_type": "display_data"
    },
    {
     "data": {
      "text/plain": "<IPython.core.display.HTML object>",
      "text/html": " View project at <a href='https://wandb.ai/model-development-and-deployment/training_example_3' target=\"_blank\">https://wandb.ai/model-development-and-deployment/training_example_3</a>"
     },
     "metadata": {},
     "output_type": "display_data"
    },
    {
     "data": {
      "text/plain": "<IPython.core.display.HTML object>",
      "text/html": " View sweep at <a href='https://wandb.ai/model-development-and-deployment/training_example_3/sweeps/tiqmg1o1' target=\"_blank\">https://wandb.ai/model-development-and-deployment/training_example_3/sweeps/tiqmg1o1</a>"
     },
     "metadata": {},
     "output_type": "display_data"
    },
    {
     "data": {
      "text/plain": "<IPython.core.display.HTML object>",
      "text/html": " View run at <a href='https://wandb.ai/model-development-and-deployment/training_example_3/runs/6peneror' target=\"_blank\">https://wandb.ai/model-development-and-deployment/training_example_3/runs/6peneror</a>"
     },
     "metadata": {},
     "output_type": "display_data"
    },
    {
     "name": "stdout",
     "output_type": "stream",
     "text": [
      "Training model fatalities003_nl_baseline_rf\n",
      "Calibration partition (standardize)\n",
      " * == Performing a run: \"fatalities003_nl_baseline_rf_calib_standardize\" == * \n",
      "Model object named \"fatalities003_nl_baseline_rf_calib_standardize\" with equivalent metadata already exists.\n",
      "Retrain is true, overwriting \"fatalities003_nl_baseline_rf_calib_standardize\"\n",
      "Training model(s)...\n",
      "Storing \"fatalities003_nl_baseline_rf_calib_standardize\"\n",
      "Getting predictions\n",
      "pr_56_cm_fatalities003_nl_baseline_rf_calib_standardize_estimators_200_lr_0.1.parquet\n",
      "cm_fatalities003_nl_baseline_rf_calib_standardize_estimators_200_lr_0.1 , run Fatalities003 does not exist, predicting\n",
      "Test partition ({transform})\n",
      " * == Performing a run: \"fatalities003_nl_baseline_rf_test_standardize\" == * \n",
      "Model object named \"fatalities003_nl_baseline_rf_test_standardize\" with equivalent metadata already exists.\n",
      "Retrain is true, overwriting \"fatalities003_nl_baseline_rf_test_standardize\"\n",
      "Training model(s)...\n",
      "Storing \"fatalities003_nl_baseline_rf_test_standardize\"\n",
      "Getting predictions\n",
      "pr_56_cm_fatalities003_nl_baseline_rf_test_standardize_estimators_200_lr_0.1.parquet\n",
      "cm_fatalities003_nl_baseline_rf_test_standardize_estimators_200_lr_0.1 , run Fatalities003 does not exist, predicting\n",
      "**************************************************************\n",
      "Evaluating model fatalities003_nl_baseline_rf\n",
      "pr_56_cm_fatalities003_nl_baseline_rf_calib_standardize_estimators_200_lr_0.1.parquet\n",
      "mse_standardize 264456.4716831013\n"
     ]
    },
    {
     "data": {
      "text/plain": "VBox(children=(Label(value='0.019 MB of 0.019 MB uploaded\\r'), FloatProgress(value=1.0, max=1.0)))",
      "application/vnd.jupyter.widget-view+json": {
       "version_major": 2,
       "version_minor": 0,
       "model_id": "0a4d7bdc75434749ae03f843ed27b662"
      }
     },
     "metadata": {},
     "output_type": "display_data"
    },
    {
     "data": {
      "text/plain": "<IPython.core.display.HTML object>",
      "text/html": "<style>\n    table.wandb td:nth-child(1) { padding: 0 10px; text-align: left ; width: auto;} td:nth-child(2) {text-align: left ; width: 100%}\n    .wandb-row { display: flex; flex-direction: row; flex-wrap: wrap; justify-content: flex-start; width: 100% }\n    .wandb-col { display: flex; flex-direction: column; flex-basis: 100%; flex: 1; padding: 10px; }\n    </style>\n<div class=\"wandb-row\"><div class=\"wandb-col\"><h3>Run history:</h3><br/><table class=\"wandb\"><tr><td>mse</td><td>▁</td></tr></table><br/></div><div class=\"wandb-col\"><h3>Run summary:</h3><br/><table class=\"wandb\"><tr><td>mse</td><td>264456.47168</td></tr></table><br/></div></div>"
     },
     "metadata": {},
     "output_type": "display_data"
    },
    {
     "data": {
      "text/plain": "<IPython.core.display.HTML object>",
      "text/html": " View run <strong style=\"color:#cdcd00\">youthful-sweep-18</strong> at: <a href='https://wandb.ai/model-development-and-deployment/training_example_3/runs/6peneror' target=\"_blank\">https://wandb.ai/model-development-and-deployment/training_example_3/runs/6peneror</a><br/>Synced 6 W&B file(s), 0 media file(s), 0 artifact file(s) and 0 other file(s)"
     },
     "metadata": {},
     "output_type": "display_data"
    },
    {
     "data": {
      "text/plain": "<IPython.core.display.HTML object>",
      "text/html": "Find logs at: <code>./wandb/run-20231122_224612-6peneror/logs</code>"
     },
     "metadata": {},
     "output_type": "display_data"
    },
    {
     "name": "stderr",
     "output_type": "stream",
     "text": [
      "wandb: Agent Starting Run: rlin3qcg with config:\n",
      "wandb: \tlearning_rate: 0.1\n",
      "wandb: \tn_estimators: 200\n",
      "wandb: \tn_jobs: 12\n",
      "wandb: \ttransform: raw\n"
     ]
    },
    {
     "data": {
      "text/plain": "<IPython.core.display.HTML object>",
      "text/html": "Tracking run with wandb version 0.16.0"
     },
     "metadata": {},
     "output_type": "display_data"
    },
    {
     "data": {
      "text/plain": "<IPython.core.display.HTML object>",
      "text/html": "Run data is saved locally in <code>/Users/xiaolong/weights-and-biases/wandb/run-20231122_224823-rlin3qcg</code>"
     },
     "metadata": {},
     "output_type": "display_data"
    },
    {
     "data": {
      "text/plain": "<IPython.core.display.HTML object>",
      "text/html": "Syncing run <strong><a href='https://wandb.ai/model-development-and-deployment/training_example_3/runs/rlin3qcg' target=\"_blank\">proud-sweep-19</a></strong> to <a href='https://wandb.ai/model-development-and-deployment/training_example_3' target=\"_blank\">Weights & Biases</a> (<a href='https://wandb.me/run' target=\"_blank\">docs</a>)<br/>Sweep page: <a href='https://wandb.ai/model-development-and-deployment/training_example_3/sweeps/tiqmg1o1' target=\"_blank\">https://wandb.ai/model-development-and-deployment/training_example_3/sweeps/tiqmg1o1</a>"
     },
     "metadata": {},
     "output_type": "display_data"
    },
    {
     "data": {
      "text/plain": "<IPython.core.display.HTML object>",
      "text/html": " View project at <a href='https://wandb.ai/model-development-and-deployment/training_example_3' target=\"_blank\">https://wandb.ai/model-development-and-deployment/training_example_3</a>"
     },
     "metadata": {},
     "output_type": "display_data"
    },
    {
     "data": {
      "text/plain": "<IPython.core.display.HTML object>",
      "text/html": " View sweep at <a href='https://wandb.ai/model-development-and-deployment/training_example_3/sweeps/tiqmg1o1' target=\"_blank\">https://wandb.ai/model-development-and-deployment/training_example_3/sweeps/tiqmg1o1</a>"
     },
     "metadata": {},
     "output_type": "display_data"
    },
    {
     "data": {
      "text/plain": "<IPython.core.display.HTML object>",
      "text/html": " View run at <a href='https://wandb.ai/model-development-and-deployment/training_example_3/runs/rlin3qcg' target=\"_blank\">https://wandb.ai/model-development-and-deployment/training_example_3/runs/rlin3qcg</a>"
     },
     "metadata": {},
     "output_type": "display_data"
    },
    {
     "name": "stdout",
     "output_type": "stream",
     "text": [
      "Training model fatalities003_nl_baseline_rf\n",
      "Calibration partition (raw)\n",
      " * == Performing a run: \"fatalities003_nl_baseline_rf_calib_raw\" == * \n",
      "Model object named \"fatalities003_nl_baseline_rf_calib_raw\" with equivalent metadata already exists.\n",
      "Retrain is true, overwriting \"fatalities003_nl_baseline_rf_calib_raw\"\n",
      "Training model(s)...\n",
      "Storing \"fatalities003_nl_baseline_rf_calib_raw\"\n",
      "Getting predictions\n",
      "pr_56_cm_fatalities003_nl_baseline_rf_calib_raw_estimators_200_lr_0.1.parquet\n",
      "cm_fatalities003_nl_baseline_rf_calib_raw_estimators_200_lr_0.1 , run Fatalities003 does not exist, predicting\n",
      "Test partition ({transform})\n",
      " * == Performing a run: \"fatalities003_nl_baseline_rf_test_raw\" == * \n",
      "Model object named \"fatalities003_nl_baseline_rf_test_raw\" with equivalent metadata already exists.\n",
      "Retrain is true, overwriting \"fatalities003_nl_baseline_rf_test_raw\"\n",
      "Training model(s)...\n",
      "Storing \"fatalities003_nl_baseline_rf_test_raw\"\n",
      "Getting predictions\n",
      "pr_56_cm_fatalities003_nl_baseline_rf_test_raw_estimators_200_lr_0.1.parquet\n",
      "cm_fatalities003_nl_baseline_rf_test_raw_estimators_200_lr_0.1 , run Fatalities003 does not exist, predicting\n",
      "**************************************************************\n",
      "Evaluating model fatalities003_nl_baseline_rf\n",
      "pr_56_cm_fatalities003_nl_baseline_rf_calib_raw_estimators_200_lr_0.1.parquet\n",
      "mse_raw 227979.58225218987\n"
     ]
    },
    {
     "data": {
      "text/plain": "VBox(children=(Label(value='0.019 MB of 0.019 MB uploaded\\r'), FloatProgress(value=1.0, max=1.0)))",
      "application/vnd.jupyter.widget-view+json": {
       "version_major": 2,
       "version_minor": 0,
       "model_id": "82dc0dd4135044d186496b6ff5ee9bd5"
      }
     },
     "metadata": {},
     "output_type": "display_data"
    },
    {
     "data": {
      "text/plain": "<IPython.core.display.HTML object>",
      "text/html": "<style>\n    table.wandb td:nth-child(1) { padding: 0 10px; text-align: left ; width: auto;} td:nth-child(2) {text-align: left ; width: 100%}\n    .wandb-row { display: flex; flex-direction: row; flex-wrap: wrap; justify-content: flex-start; width: 100% }\n    .wandb-col { display: flex; flex-direction: column; flex-basis: 100%; flex: 1; padding: 10px; }\n    </style>\n<div class=\"wandb-row\"><div class=\"wandb-col\"><h3>Run history:</h3><br/><table class=\"wandb\"><tr><td>mse</td><td>▁</td></tr></table><br/></div><div class=\"wandb-col\"><h3>Run summary:</h3><br/><table class=\"wandb\"><tr><td>mse</td><td>227979.58225</td></tr></table><br/></div></div>"
     },
     "metadata": {},
     "output_type": "display_data"
    },
    {
     "data": {
      "text/plain": "<IPython.core.display.HTML object>",
      "text/html": " View run <strong style=\"color:#cdcd00\">proud-sweep-19</strong> at: <a href='https://wandb.ai/model-development-and-deployment/training_example_3/runs/rlin3qcg' target=\"_blank\">https://wandb.ai/model-development-and-deployment/training_example_3/runs/rlin3qcg</a><br/>Synced 6 W&B file(s), 0 media file(s), 0 artifact file(s) and 0 other file(s)"
     },
     "metadata": {},
     "output_type": "display_data"
    },
    {
     "data": {
      "text/plain": "<IPython.core.display.HTML object>",
      "text/html": "Find logs at: <code>./wandb/run-20231122_224823-rlin3qcg/logs</code>"
     },
     "metadata": {},
     "output_type": "display_data"
    },
    {
     "name": "stderr",
     "output_type": "stream",
     "text": [
      "wandb: Agent Starting Run: eckvi2xe with config:\n",
      "wandb: \tlearning_rate: 0.1\n",
      "wandb: \tn_estimators: 200\n",
      "wandb: \tn_jobs: 12\n",
      "wandb: \ttransform: normalize\n"
     ]
    },
    {
     "data": {
      "text/plain": "<IPython.core.display.HTML object>",
      "text/html": "Tracking run with wandb version 0.16.0"
     },
     "metadata": {},
     "output_type": "display_data"
    },
    {
     "data": {
      "text/plain": "<IPython.core.display.HTML object>",
      "text/html": "Run data is saved locally in <code>/Users/xiaolong/weights-and-biases/wandb/run-20231122_225043-eckvi2xe</code>"
     },
     "metadata": {},
     "output_type": "display_data"
    },
    {
     "data": {
      "text/plain": "<IPython.core.display.HTML object>",
      "text/html": "Syncing run <strong><a href='https://wandb.ai/model-development-and-deployment/training_example_3/runs/eckvi2xe' target=\"_blank\">absurd-sweep-20</a></strong> to <a href='https://wandb.ai/model-development-and-deployment/training_example_3' target=\"_blank\">Weights & Biases</a> (<a href='https://wandb.me/run' target=\"_blank\">docs</a>)<br/>Sweep page: <a href='https://wandb.ai/model-development-and-deployment/training_example_3/sweeps/tiqmg1o1' target=\"_blank\">https://wandb.ai/model-development-and-deployment/training_example_3/sweeps/tiqmg1o1</a>"
     },
     "metadata": {},
     "output_type": "display_data"
    },
    {
     "data": {
      "text/plain": "<IPython.core.display.HTML object>",
      "text/html": " View project at <a href='https://wandb.ai/model-development-and-deployment/training_example_3' target=\"_blank\">https://wandb.ai/model-development-and-deployment/training_example_3</a>"
     },
     "metadata": {},
     "output_type": "display_data"
    },
    {
     "data": {
      "text/plain": "<IPython.core.display.HTML object>",
      "text/html": " View sweep at <a href='https://wandb.ai/model-development-and-deployment/training_example_3/sweeps/tiqmg1o1' target=\"_blank\">https://wandb.ai/model-development-and-deployment/training_example_3/sweeps/tiqmg1o1</a>"
     },
     "metadata": {},
     "output_type": "display_data"
    },
    {
     "data": {
      "text/plain": "<IPython.core.display.HTML object>",
      "text/html": " View run at <a href='https://wandb.ai/model-development-and-deployment/training_example_3/runs/eckvi2xe' target=\"_blank\">https://wandb.ai/model-development-and-deployment/training_example_3/runs/eckvi2xe</a>"
     },
     "metadata": {},
     "output_type": "display_data"
    },
    {
     "name": "stdout",
     "output_type": "stream",
     "text": [
      "Training model fatalities003_nl_baseline_rf\n",
      "Calibration partition (normalize)\n",
      " * == Performing a run: \"fatalities003_nl_baseline_rf_calib_normalize\" == * \n",
      "Model object named \"fatalities003_nl_baseline_rf_calib_normalize\" with equivalent metadata already exists.\n",
      "Retrain is true, overwriting \"fatalities003_nl_baseline_rf_calib_normalize\"\n",
      "Training model(s)...\n",
      "Storing \"fatalities003_nl_baseline_rf_calib_normalize\"\n",
      "Getting predictions\n",
      "pr_56_cm_fatalities003_nl_baseline_rf_calib_normalize_estimators_200_lr_0.1.parquet\n",
      "cm_fatalities003_nl_baseline_rf_calib_normalize_estimators_200_lr_0.1 , run Fatalities003 does not exist, predicting\n",
      "Test partition ({transform})\n",
      " * == Performing a run: \"fatalities003_nl_baseline_rf_test_normalize\" == * \n",
      "Model object named \"fatalities003_nl_baseline_rf_test_normalize\" with equivalent metadata already exists.\n",
      "Retrain is true, overwriting \"fatalities003_nl_baseline_rf_test_normalize\"\n",
      "Training model(s)...\n",
      "Storing \"fatalities003_nl_baseline_rf_test_normalize\"\n",
      "Getting predictions\n",
      "pr_56_cm_fatalities003_nl_baseline_rf_test_normalize_estimators_200_lr_0.1.parquet\n",
      "cm_fatalities003_nl_baseline_rf_test_normalize_estimators_200_lr_0.1 , run Fatalities003 does not exist, predicting\n",
      "**************************************************************\n",
      "Evaluating model fatalities003_nl_baseline_rf\n",
      "pr_56_cm_fatalities003_nl_baseline_rf_calib_normalize_estimators_200_lr_0.1.parquet\n",
      "mse_normalize 1279257203.2595997\n"
     ]
    },
    {
     "data": {
      "text/plain": "VBox(children=(Label(value='0.001 MB of 0.001 MB uploaded\\r'), FloatProgress(value=1.0, max=1.0)))",
      "application/vnd.jupyter.widget-view+json": {
       "version_major": 2,
       "version_minor": 0,
       "model_id": "caa5507bd4e64a9a91884b61a7151a24"
      }
     },
     "metadata": {},
     "output_type": "display_data"
    },
    {
     "data": {
      "text/plain": "<IPython.core.display.HTML object>",
      "text/html": "<style>\n    table.wandb td:nth-child(1) { padding: 0 10px; text-align: left ; width: auto;} td:nth-child(2) {text-align: left ; width: 100%}\n    .wandb-row { display: flex; flex-direction: row; flex-wrap: wrap; justify-content: flex-start; width: 100% }\n    .wandb-col { display: flex; flex-direction: column; flex-basis: 100%; flex: 1; padding: 10px; }\n    </style>\n<div class=\"wandb-row\"><div class=\"wandb-col\"><h3>Run history:</h3><br/><table class=\"wandb\"><tr><td>mse</td><td>▁</td></tr></table><br/></div><div class=\"wandb-col\"><h3>Run summary:</h3><br/><table class=\"wandb\"><tr><td>mse</td><td>1279257203.2596</td></tr></table><br/></div></div>"
     },
     "metadata": {},
     "output_type": "display_data"
    },
    {
     "data": {
      "text/plain": "<IPython.core.display.HTML object>",
      "text/html": " View run <strong style=\"color:#cdcd00\">absurd-sweep-20</strong> at: <a href='https://wandb.ai/model-development-and-deployment/training_example_3/runs/eckvi2xe' target=\"_blank\">https://wandb.ai/model-development-and-deployment/training_example_3/runs/eckvi2xe</a><br/>Synced 6 W&B file(s), 0 media file(s), 0 artifact file(s) and 0 other file(s)"
     },
     "metadata": {},
     "output_type": "display_data"
    },
    {
     "data": {
      "text/plain": "<IPython.core.display.HTML object>",
      "text/html": "Find logs at: <code>./wandb/run-20231122_225043-eckvi2xe/logs</code>"
     },
     "metadata": {},
     "output_type": "display_data"
    },
    {
     "name": "stderr",
     "output_type": "stream",
     "text": [
      "wandb: Agent Starting Run: gm70iinj with config:\n",
      "wandb: \tlearning_rate: 0.1\n",
      "wandb: \tn_estimators: 300\n",
      "wandb: \tn_jobs: 12\n",
      "wandb: \ttransform: log\n"
     ]
    },
    {
     "data": {
      "text/plain": "<IPython.core.display.HTML object>",
      "text/html": "Tracking run with wandb version 0.16.0"
     },
     "metadata": {},
     "output_type": "display_data"
    },
    {
     "data": {
      "text/plain": "<IPython.core.display.HTML object>",
      "text/html": "Run data is saved locally in <code>/Users/xiaolong/weights-and-biases/wandb/run-20231122_225242-gm70iinj</code>"
     },
     "metadata": {},
     "output_type": "display_data"
    },
    {
     "data": {
      "text/plain": "<IPython.core.display.HTML object>",
      "text/html": "Syncing run <strong><a href='https://wandb.ai/model-development-and-deployment/training_example_3/runs/gm70iinj' target=\"_blank\">rich-sweep-21</a></strong> to <a href='https://wandb.ai/model-development-and-deployment/training_example_3' target=\"_blank\">Weights & Biases</a> (<a href='https://wandb.me/run' target=\"_blank\">docs</a>)<br/>Sweep page: <a href='https://wandb.ai/model-development-and-deployment/training_example_3/sweeps/tiqmg1o1' target=\"_blank\">https://wandb.ai/model-development-and-deployment/training_example_3/sweeps/tiqmg1o1</a>"
     },
     "metadata": {},
     "output_type": "display_data"
    },
    {
     "data": {
      "text/plain": "<IPython.core.display.HTML object>",
      "text/html": " View project at <a href='https://wandb.ai/model-development-and-deployment/training_example_3' target=\"_blank\">https://wandb.ai/model-development-and-deployment/training_example_3</a>"
     },
     "metadata": {},
     "output_type": "display_data"
    },
    {
     "data": {
      "text/plain": "<IPython.core.display.HTML object>",
      "text/html": " View sweep at <a href='https://wandb.ai/model-development-and-deployment/training_example_3/sweeps/tiqmg1o1' target=\"_blank\">https://wandb.ai/model-development-and-deployment/training_example_3/sweeps/tiqmg1o1</a>"
     },
     "metadata": {},
     "output_type": "display_data"
    },
    {
     "data": {
      "text/plain": "<IPython.core.display.HTML object>",
      "text/html": " View run at <a href='https://wandb.ai/model-development-and-deployment/training_example_3/runs/gm70iinj' target=\"_blank\">https://wandb.ai/model-development-and-deployment/training_example_3/runs/gm70iinj</a>"
     },
     "metadata": {},
     "output_type": "display_data"
    },
    {
     "name": "stdout",
     "output_type": "stream",
     "text": [
      "Training model fatalities003_nl_baseline_rf\n",
      "Calibration partition (log)\n",
      " * == Performing a run: \"fatalities003_nl_baseline_rf_calib_log\" == * \n",
      "Model object named \"fatalities003_nl_baseline_rf_calib_log\" with equivalent metadata already exists.\n",
      "Retrain is true, overwriting \"fatalities003_nl_baseline_rf_calib_log\"\n",
      "Training model(s)...\n",
      "Storing \"fatalities003_nl_baseline_rf_calib_log\"\n",
      "Getting predictions\n",
      "pr_56_cm_fatalities003_nl_baseline_rf_calib_log_estimators_300_lr_0.1.parquet\n",
      "Test partition ({transform})\n",
      " * == Performing a run: \"fatalities003_nl_baseline_rf_test_log\" == * \n",
      "Model object named \"fatalities003_nl_baseline_rf_test_log\" with equivalent metadata already exists.\n",
      "Retrain is true, overwriting \"fatalities003_nl_baseline_rf_test_log\"\n",
      "Training model(s)...\n",
      "Storing \"fatalities003_nl_baseline_rf_test_log\"\n",
      "Getting predictions\n",
      "pr_56_cm_fatalities003_nl_baseline_rf_test_log_estimators_300_lr_0.1.parquet\n",
      "**************************************************************\n",
      "Evaluating model fatalities003_nl_baseline_rf\n",
      "pr_56_cm_fatalities003_nl_baseline_rf_calib_log_estimators_300_lr_0.1.parquet\n",
      "mse_log 230542.38110457914\n"
     ]
    },
    {
     "data": {
      "text/plain": "VBox(children=(Label(value='0.001 MB of 0.001 MB uploaded\\r'), FloatProgress(value=1.0, max=1.0)))",
      "application/vnd.jupyter.widget-view+json": {
       "version_major": 2,
       "version_minor": 0,
       "model_id": "4e21171462594951aa35e8cfeb539588"
      }
     },
     "metadata": {},
     "output_type": "display_data"
    },
    {
     "data": {
      "text/plain": "<IPython.core.display.HTML object>",
      "text/html": "<style>\n    table.wandb td:nth-child(1) { padding: 0 10px; text-align: left ; width: auto;} td:nth-child(2) {text-align: left ; width: 100%}\n    .wandb-row { display: flex; flex-direction: row; flex-wrap: wrap; justify-content: flex-start; width: 100% }\n    .wandb-col { display: flex; flex-direction: column; flex-basis: 100%; flex: 1; padding: 10px; }\n    </style>\n<div class=\"wandb-row\"><div class=\"wandb-col\"><h3>Run history:</h3><br/><table class=\"wandb\"><tr><td>mse</td><td>▁</td></tr></table><br/></div><div class=\"wandb-col\"><h3>Run summary:</h3><br/><table class=\"wandb\"><tr><td>mse</td><td>230542.3811</td></tr></table><br/></div></div>"
     },
     "metadata": {},
     "output_type": "display_data"
    },
    {
     "data": {
      "text/plain": "<IPython.core.display.HTML object>",
      "text/html": " View run <strong style=\"color:#cdcd00\">rich-sweep-21</strong> at: <a href='https://wandb.ai/model-development-and-deployment/training_example_3/runs/gm70iinj' target=\"_blank\">https://wandb.ai/model-development-and-deployment/training_example_3/runs/gm70iinj</a><br/>Synced 6 W&B file(s), 0 media file(s), 0 artifact file(s) and 0 other file(s)"
     },
     "metadata": {},
     "output_type": "display_data"
    },
    {
     "data": {
      "text/plain": "<IPython.core.display.HTML object>",
      "text/html": "Find logs at: <code>./wandb/run-20231122_225242-gm70iinj/logs</code>"
     },
     "metadata": {},
     "output_type": "display_data"
    },
    {
     "name": "stderr",
     "output_type": "stream",
     "text": [
      "wandb: Agent Starting Run: nchm5fxo with config:\n",
      "wandb: \tlearning_rate: 0.1\n",
      "wandb: \tn_estimators: 300\n",
      "wandb: \tn_jobs: 12\n",
      "wandb: \ttransform: standardize\n"
     ]
    },
    {
     "data": {
      "text/plain": "<IPython.core.display.HTML object>",
      "text/html": "Tracking run with wandb version 0.16.0"
     },
     "metadata": {},
     "output_type": "display_data"
    },
    {
     "data": {
      "text/plain": "<IPython.core.display.HTML object>",
      "text/html": "Run data is saved locally in <code>/Users/xiaolong/weights-and-biases/wandb/run-20231122_225543-nchm5fxo</code>"
     },
     "metadata": {},
     "output_type": "display_data"
    },
    {
     "data": {
      "text/plain": "<IPython.core.display.HTML object>",
      "text/html": "Syncing run <strong><a href='https://wandb.ai/model-development-and-deployment/training_example_3/runs/nchm5fxo' target=\"_blank\">ruby-sweep-22</a></strong> to <a href='https://wandb.ai/model-development-and-deployment/training_example_3' target=\"_blank\">Weights & Biases</a> (<a href='https://wandb.me/run' target=\"_blank\">docs</a>)<br/>Sweep page: <a href='https://wandb.ai/model-development-and-deployment/training_example_3/sweeps/tiqmg1o1' target=\"_blank\">https://wandb.ai/model-development-and-deployment/training_example_3/sweeps/tiqmg1o1</a>"
     },
     "metadata": {},
     "output_type": "display_data"
    },
    {
     "data": {
      "text/plain": "<IPython.core.display.HTML object>",
      "text/html": " View project at <a href='https://wandb.ai/model-development-and-deployment/training_example_3' target=\"_blank\">https://wandb.ai/model-development-and-deployment/training_example_3</a>"
     },
     "metadata": {},
     "output_type": "display_data"
    },
    {
     "data": {
      "text/plain": "<IPython.core.display.HTML object>",
      "text/html": " View sweep at <a href='https://wandb.ai/model-development-and-deployment/training_example_3/sweeps/tiqmg1o1' target=\"_blank\">https://wandb.ai/model-development-and-deployment/training_example_3/sweeps/tiqmg1o1</a>"
     },
     "metadata": {},
     "output_type": "display_data"
    },
    {
     "data": {
      "text/plain": "<IPython.core.display.HTML object>",
      "text/html": " View run at <a href='https://wandb.ai/model-development-and-deployment/training_example_3/runs/nchm5fxo' target=\"_blank\">https://wandb.ai/model-development-and-deployment/training_example_3/runs/nchm5fxo</a>"
     },
     "metadata": {},
     "output_type": "display_data"
    },
    {
     "name": "stdout",
     "output_type": "stream",
     "text": [
      "Training model fatalities003_nl_baseline_rf\n",
      "Calibration partition (standardize)\n",
      " * == Performing a run: \"fatalities003_nl_baseline_rf_calib_standardize\" == * \n",
      "Model object named \"fatalities003_nl_baseline_rf_calib_standardize\" with equivalent metadata already exists.\n",
      "Retrain is true, overwriting \"fatalities003_nl_baseline_rf_calib_standardize\"\n",
      "Training model(s)...\n",
      "Storing \"fatalities003_nl_baseline_rf_calib_standardize\"\n",
      "Getting predictions\n",
      "pr_56_cm_fatalities003_nl_baseline_rf_calib_standardize_estimators_300_lr_0.1.parquet\n",
      "cm_fatalities003_nl_baseline_rf_calib_standardize_estimators_300_lr_0.1 , run Fatalities003 does not exist, predicting\n",
      "Test partition ({transform})\n",
      " * == Performing a run: \"fatalities003_nl_baseline_rf_test_standardize\" == * \n",
      "Model object named \"fatalities003_nl_baseline_rf_test_standardize\" with equivalent metadata already exists.\n",
      "Retrain is true, overwriting \"fatalities003_nl_baseline_rf_test_standardize\"\n",
      "Training model(s)...\n",
      "Storing \"fatalities003_nl_baseline_rf_test_standardize\"\n",
      "Getting predictions\n",
      "pr_56_cm_fatalities003_nl_baseline_rf_test_standardize_estimators_300_lr_0.1.parquet\n",
      "cm_fatalities003_nl_baseline_rf_test_standardize_estimators_300_lr_0.1 , run Fatalities003 does not exist, predicting\n",
      "**************************************************************\n",
      "Evaluating model fatalities003_nl_baseline_rf\n",
      "pr_56_cm_fatalities003_nl_baseline_rf_calib_standardize_estimators_300_lr_0.1.parquet\n",
      "mse_standardize 264441.2492534169\n"
     ]
    },
    {
     "data": {
      "text/plain": "VBox(children=(Label(value='0.001 MB of 0.001 MB uploaded\\r'), FloatProgress(value=1.0, max=1.0)))",
      "application/vnd.jupyter.widget-view+json": {
       "version_major": 2,
       "version_minor": 0,
       "model_id": "3020ab39424442aca212d985de44e73d"
      }
     },
     "metadata": {},
     "output_type": "display_data"
    },
    {
     "data": {
      "text/plain": "<IPython.core.display.HTML object>",
      "text/html": "<style>\n    table.wandb td:nth-child(1) { padding: 0 10px; text-align: left ; width: auto;} td:nth-child(2) {text-align: left ; width: 100%}\n    .wandb-row { display: flex; flex-direction: row; flex-wrap: wrap; justify-content: flex-start; width: 100% }\n    .wandb-col { display: flex; flex-direction: column; flex-basis: 100%; flex: 1; padding: 10px; }\n    </style>\n<div class=\"wandb-row\"><div class=\"wandb-col\"><h3>Run history:</h3><br/><table class=\"wandb\"><tr><td>mse</td><td>▁</td></tr></table><br/></div><div class=\"wandb-col\"><h3>Run summary:</h3><br/><table class=\"wandb\"><tr><td>mse</td><td>264441.24925</td></tr></table><br/></div></div>"
     },
     "metadata": {},
     "output_type": "display_data"
    },
    {
     "data": {
      "text/plain": "<IPython.core.display.HTML object>",
      "text/html": " View run <strong style=\"color:#cdcd00\">ruby-sweep-22</strong> at: <a href='https://wandb.ai/model-development-and-deployment/training_example_3/runs/nchm5fxo' target=\"_blank\">https://wandb.ai/model-development-and-deployment/training_example_3/runs/nchm5fxo</a><br/>Synced 6 W&B file(s), 0 media file(s), 0 artifact file(s) and 0 other file(s)"
     },
     "metadata": {},
     "output_type": "display_data"
    },
    {
     "data": {
      "text/plain": "<IPython.core.display.HTML object>",
      "text/html": "Find logs at: <code>./wandb/run-20231122_225543-nchm5fxo/logs</code>"
     },
     "metadata": {},
     "output_type": "display_data"
    },
    {
     "name": "stderr",
     "output_type": "stream",
     "text": [
      "wandb: Agent Starting Run: i8nsgjwi with config:\n",
      "wandb: \tlearning_rate: 0.1\n",
      "wandb: \tn_estimators: 300\n",
      "wandb: \tn_jobs: 12\n",
      "wandb: \ttransform: raw\n"
     ]
    },
    {
     "data": {
      "text/plain": "<IPython.core.display.HTML object>",
      "text/html": "Tracking run with wandb version 0.16.0"
     },
     "metadata": {},
     "output_type": "display_data"
    },
    {
     "data": {
      "text/plain": "<IPython.core.display.HTML object>",
      "text/html": "Run data is saved locally in <code>/Users/xiaolong/weights-and-biases/wandb/run-20231122_225846-i8nsgjwi</code>"
     },
     "metadata": {},
     "output_type": "display_data"
    },
    {
     "data": {
      "text/plain": "<IPython.core.display.HTML object>",
      "text/html": "Syncing run <strong><a href='https://wandb.ai/model-development-and-deployment/training_example_3/runs/i8nsgjwi' target=\"_blank\">sleek-sweep-23</a></strong> to <a href='https://wandb.ai/model-development-and-deployment/training_example_3' target=\"_blank\">Weights & Biases</a> (<a href='https://wandb.me/run' target=\"_blank\">docs</a>)<br/>Sweep page: <a href='https://wandb.ai/model-development-and-deployment/training_example_3/sweeps/tiqmg1o1' target=\"_blank\">https://wandb.ai/model-development-and-deployment/training_example_3/sweeps/tiqmg1o1</a>"
     },
     "metadata": {},
     "output_type": "display_data"
    },
    {
     "data": {
      "text/plain": "<IPython.core.display.HTML object>",
      "text/html": " View project at <a href='https://wandb.ai/model-development-and-deployment/training_example_3' target=\"_blank\">https://wandb.ai/model-development-and-deployment/training_example_3</a>"
     },
     "metadata": {},
     "output_type": "display_data"
    },
    {
     "data": {
      "text/plain": "<IPython.core.display.HTML object>",
      "text/html": " View sweep at <a href='https://wandb.ai/model-development-and-deployment/training_example_3/sweeps/tiqmg1o1' target=\"_blank\">https://wandb.ai/model-development-and-deployment/training_example_3/sweeps/tiqmg1o1</a>"
     },
     "metadata": {},
     "output_type": "display_data"
    },
    {
     "data": {
      "text/plain": "<IPython.core.display.HTML object>",
      "text/html": " View run at <a href='https://wandb.ai/model-development-and-deployment/training_example_3/runs/i8nsgjwi' target=\"_blank\">https://wandb.ai/model-development-and-deployment/training_example_3/runs/i8nsgjwi</a>"
     },
     "metadata": {},
     "output_type": "display_data"
    },
    {
     "name": "stdout",
     "output_type": "stream",
     "text": [
      "Training model fatalities003_nl_baseline_rf\n",
      "Calibration partition (raw)\n",
      " * == Performing a run: \"fatalities003_nl_baseline_rf_calib_raw\" == * \n",
      "Model object named \"fatalities003_nl_baseline_rf_calib_raw\" with equivalent metadata already exists.\n",
      "Retrain is true, overwriting \"fatalities003_nl_baseline_rf_calib_raw\"\n",
      "Training model(s)...\n",
      "Storing \"fatalities003_nl_baseline_rf_calib_raw\"\n",
      "Getting predictions\n",
      "pr_56_cm_fatalities003_nl_baseline_rf_calib_raw_estimators_300_lr_0.1.parquet\n",
      "cm_fatalities003_nl_baseline_rf_calib_raw_estimators_300_lr_0.1 , run Fatalities003 does not exist, predicting\n",
      "Test partition ({transform})\n",
      " * == Performing a run: \"fatalities003_nl_baseline_rf_test_raw\" == * \n",
      "Model object named \"fatalities003_nl_baseline_rf_test_raw\" with equivalent metadata already exists.\n",
      "Retrain is true, overwriting \"fatalities003_nl_baseline_rf_test_raw\"\n",
      "Training model(s)...\n",
      "Storing \"fatalities003_nl_baseline_rf_test_raw\"\n",
      "Getting predictions\n",
      "pr_56_cm_fatalities003_nl_baseline_rf_test_raw_estimators_300_lr_0.1.parquet\n",
      "cm_fatalities003_nl_baseline_rf_test_raw_estimators_300_lr_0.1 , run Fatalities003 does not exist, predicting\n",
      "**************************************************************\n",
      "Evaluating model fatalities003_nl_baseline_rf\n",
      "pr_56_cm_fatalities003_nl_baseline_rf_calib_raw_estimators_300_lr_0.1.parquet\n",
      "mse_raw 227957.8830218261\n"
     ]
    },
    {
     "data": {
      "text/plain": "VBox(children=(Label(value='0.001 MB of 0.001 MB uploaded\\r'), FloatProgress(value=1.0, max=1.0)))",
      "application/vnd.jupyter.widget-view+json": {
       "version_major": 2,
       "version_minor": 0,
       "model_id": "6efb688c0a044a25823e803afa96541a"
      }
     },
     "metadata": {},
     "output_type": "display_data"
    },
    {
     "data": {
      "text/plain": "<IPython.core.display.HTML object>",
      "text/html": "<style>\n    table.wandb td:nth-child(1) { padding: 0 10px; text-align: left ; width: auto;} td:nth-child(2) {text-align: left ; width: 100%}\n    .wandb-row { display: flex; flex-direction: row; flex-wrap: wrap; justify-content: flex-start; width: 100% }\n    .wandb-col { display: flex; flex-direction: column; flex-basis: 100%; flex: 1; padding: 10px; }\n    </style>\n<div class=\"wandb-row\"><div class=\"wandb-col\"><h3>Run history:</h3><br/><table class=\"wandb\"><tr><td>mse</td><td>▁</td></tr></table><br/></div><div class=\"wandb-col\"><h3>Run summary:</h3><br/><table class=\"wandb\"><tr><td>mse</td><td>227957.88302</td></tr></table><br/></div></div>"
     },
     "metadata": {},
     "output_type": "display_data"
    },
    {
     "data": {
      "text/plain": "<IPython.core.display.HTML object>",
      "text/html": " View run <strong style=\"color:#cdcd00\">sleek-sweep-23</strong> at: <a href='https://wandb.ai/model-development-and-deployment/training_example_3/runs/i8nsgjwi' target=\"_blank\">https://wandb.ai/model-development-and-deployment/training_example_3/runs/i8nsgjwi</a><br/>Synced 6 W&B file(s), 0 media file(s), 0 artifact file(s) and 0 other file(s)"
     },
     "metadata": {},
     "output_type": "display_data"
    },
    {
     "data": {
      "text/plain": "<IPython.core.display.HTML object>",
      "text/html": "Find logs at: <code>./wandb/run-20231122_225846-i8nsgjwi/logs</code>"
     },
     "metadata": {},
     "output_type": "display_data"
    },
    {
     "name": "stderr",
     "output_type": "stream",
     "text": [
      "wandb: Sweep Agent: Waiting for job.\n",
      "wandb: Job received.\n",
      "wandb: Agent Starting Run: m90wytqj with config:\n",
      "wandb: \tlearning_rate: 0.1\n",
      "wandb: \tn_estimators: 300\n",
      "wandb: \tn_jobs: 12\n",
      "wandb: \ttransform: normalize\n"
     ]
    },
    {
     "data": {
      "text/plain": "<IPython.core.display.HTML object>",
      "text/html": "Tracking run with wandb version 0.16.0"
     },
     "metadata": {},
     "output_type": "display_data"
    },
    {
     "data": {
      "text/plain": "<IPython.core.display.HTML object>",
      "text/html": "Run data is saved locally in <code>/Users/xiaolong/weights-and-biases/wandb/run-20231122_230203-m90wytqj</code>"
     },
     "metadata": {},
     "output_type": "display_data"
    },
    {
     "data": {
      "text/plain": "<IPython.core.display.HTML object>",
      "text/html": "Syncing run <strong><a href='https://wandb.ai/model-development-and-deployment/training_example_3/runs/m90wytqj' target=\"_blank\">dark-sweep-24</a></strong> to <a href='https://wandb.ai/model-development-and-deployment/training_example_3' target=\"_blank\">Weights & Biases</a> (<a href='https://wandb.me/run' target=\"_blank\">docs</a>)<br/>Sweep page: <a href='https://wandb.ai/model-development-and-deployment/training_example_3/sweeps/tiqmg1o1' target=\"_blank\">https://wandb.ai/model-development-and-deployment/training_example_3/sweeps/tiqmg1o1</a>"
     },
     "metadata": {},
     "output_type": "display_data"
    },
    {
     "data": {
      "text/plain": "<IPython.core.display.HTML object>",
      "text/html": " View project at <a href='https://wandb.ai/model-development-and-deployment/training_example_3' target=\"_blank\">https://wandb.ai/model-development-and-deployment/training_example_3</a>"
     },
     "metadata": {},
     "output_type": "display_data"
    },
    {
     "data": {
      "text/plain": "<IPython.core.display.HTML object>",
      "text/html": " View sweep at <a href='https://wandb.ai/model-development-and-deployment/training_example_3/sweeps/tiqmg1o1' target=\"_blank\">https://wandb.ai/model-development-and-deployment/training_example_3/sweeps/tiqmg1o1</a>"
     },
     "metadata": {},
     "output_type": "display_data"
    },
    {
     "data": {
      "text/plain": "<IPython.core.display.HTML object>",
      "text/html": " View run at <a href='https://wandb.ai/model-development-and-deployment/training_example_3/runs/m90wytqj' target=\"_blank\">https://wandb.ai/model-development-and-deployment/training_example_3/runs/m90wytqj</a>"
     },
     "metadata": {},
     "output_type": "display_data"
    },
    {
     "name": "stdout",
     "output_type": "stream",
     "text": [
      "Training model fatalities003_nl_baseline_rf\n",
      "Calibration partition (normalize)\n",
      " * == Performing a run: \"fatalities003_nl_baseline_rf_calib_normalize\" == * \n",
      "Model object named \"fatalities003_nl_baseline_rf_calib_normalize\" with equivalent metadata already exists.\n",
      "Retrain is true, overwriting \"fatalities003_nl_baseline_rf_calib_normalize\"\n",
      "Training model(s)...\n",
      "Storing \"fatalities003_nl_baseline_rf_calib_normalize\"\n",
      "Getting predictions\n",
      "pr_56_cm_fatalities003_nl_baseline_rf_calib_normalize_estimators_300_lr_0.1.parquet\n",
      "cm_fatalities003_nl_baseline_rf_calib_normalize_estimators_300_lr_0.1 , run Fatalities003 does not exist, predicting\n",
      "Test partition ({transform})\n",
      " * == Performing a run: \"fatalities003_nl_baseline_rf_test_normalize\" == * \n",
      "Model object named \"fatalities003_nl_baseline_rf_test_normalize\" with equivalent metadata already exists.\n",
      "Retrain is true, overwriting \"fatalities003_nl_baseline_rf_test_normalize\"\n",
      "Training model(s)...\n",
      "Storing \"fatalities003_nl_baseline_rf_test_normalize\"\n",
      "Getting predictions\n",
      "pr_56_cm_fatalities003_nl_baseline_rf_test_normalize_estimators_300_lr_0.1.parquet\n",
      "cm_fatalities003_nl_baseline_rf_test_normalize_estimators_300_lr_0.1 , run Fatalities003 does not exist, predicting\n",
      "**************************************************************\n",
      "Evaluating model fatalities003_nl_baseline_rf\n",
      "pr_56_cm_fatalities003_nl_baseline_rf_calib_normalize_estimators_300_lr_0.1.parquet\n",
      "mse_normalize 1279258741.1392179\n"
     ]
    },
    {
     "data": {
      "text/plain": "VBox(children=(Label(value='0.001 MB of 0.001 MB uploaded\\r'), FloatProgress(value=1.0, max=1.0)))",
      "application/vnd.jupyter.widget-view+json": {
       "version_major": 2,
       "version_minor": 0,
       "model_id": "aa988ab765074e4da05b042fb111636c"
      }
     },
     "metadata": {},
     "output_type": "display_data"
    },
    {
     "data": {
      "text/plain": "<IPython.core.display.HTML object>",
      "text/html": "<style>\n    table.wandb td:nth-child(1) { padding: 0 10px; text-align: left ; width: auto;} td:nth-child(2) {text-align: left ; width: 100%}\n    .wandb-row { display: flex; flex-direction: row; flex-wrap: wrap; justify-content: flex-start; width: 100% }\n    .wandb-col { display: flex; flex-direction: column; flex-basis: 100%; flex: 1; padding: 10px; }\n    </style>\n<div class=\"wandb-row\"><div class=\"wandb-col\"><h3>Run history:</h3><br/><table class=\"wandb\"><tr><td>mse</td><td>▁</td></tr></table><br/></div><div class=\"wandb-col\"><h3>Run summary:</h3><br/><table class=\"wandb\"><tr><td>mse</td><td>1279258741.13922</td></tr></table><br/></div></div>"
     },
     "metadata": {},
     "output_type": "display_data"
    },
    {
     "data": {
      "text/plain": "<IPython.core.display.HTML object>",
      "text/html": " View run <strong style=\"color:#cdcd00\">dark-sweep-24</strong> at: <a href='https://wandb.ai/model-development-and-deployment/training_example_3/runs/m90wytqj' target=\"_blank\">https://wandb.ai/model-development-and-deployment/training_example_3/runs/m90wytqj</a><br/>Synced 6 W&B file(s), 0 media file(s), 0 artifact file(s) and 0 other file(s)"
     },
     "metadata": {},
     "output_type": "display_data"
    },
    {
     "data": {
      "text/plain": "<IPython.core.display.HTML object>",
      "text/html": "Find logs at: <code>./wandb/run-20231122_230203-m90wytqj/logs</code>"
     },
     "metadata": {},
     "output_type": "display_data"
    },
    {
     "name": "stderr",
     "output_type": "stream",
     "text": [
      "wandb: Agent Starting Run: 61jghqm9 with config:\n",
      "wandb: \tlearning_rate: 0.2\n",
      "wandb: \tn_estimators: 100\n",
      "wandb: \tn_jobs: 12\n",
      "wandb: \ttransform: log\n"
     ]
    },
    {
     "data": {
      "text/plain": "<IPython.core.display.HTML object>",
      "text/html": "Tracking run with wandb version 0.16.0"
     },
     "metadata": {},
     "output_type": "display_data"
    },
    {
     "data": {
      "text/plain": "<IPython.core.display.HTML object>",
      "text/html": "Run data is saved locally in <code>/Users/xiaolong/weights-and-biases/wandb/run-20231122_230504-61jghqm9</code>"
     },
     "metadata": {},
     "output_type": "display_data"
    },
    {
     "data": {
      "text/plain": "<IPython.core.display.HTML object>",
      "text/html": "Syncing run <strong><a href='https://wandb.ai/model-development-and-deployment/training_example_3/runs/61jghqm9' target=\"_blank\">cerulean-sweep-25</a></strong> to <a href='https://wandb.ai/model-development-and-deployment/training_example_3' target=\"_blank\">Weights & Biases</a> (<a href='https://wandb.me/run' target=\"_blank\">docs</a>)<br/>Sweep page: <a href='https://wandb.ai/model-development-and-deployment/training_example_3/sweeps/tiqmg1o1' target=\"_blank\">https://wandb.ai/model-development-and-deployment/training_example_3/sweeps/tiqmg1o1</a>"
     },
     "metadata": {},
     "output_type": "display_data"
    },
    {
     "data": {
      "text/plain": "<IPython.core.display.HTML object>",
      "text/html": " View project at <a href='https://wandb.ai/model-development-and-deployment/training_example_3' target=\"_blank\">https://wandb.ai/model-development-and-deployment/training_example_3</a>"
     },
     "metadata": {},
     "output_type": "display_data"
    },
    {
     "data": {
      "text/plain": "<IPython.core.display.HTML object>",
      "text/html": " View sweep at <a href='https://wandb.ai/model-development-and-deployment/training_example_3/sweeps/tiqmg1o1' target=\"_blank\">https://wandb.ai/model-development-and-deployment/training_example_3/sweeps/tiqmg1o1</a>"
     },
     "metadata": {},
     "output_type": "display_data"
    },
    {
     "data": {
      "text/plain": "<IPython.core.display.HTML object>",
      "text/html": " View run at <a href='https://wandb.ai/model-development-and-deployment/training_example_3/runs/61jghqm9' target=\"_blank\">https://wandb.ai/model-development-and-deployment/training_example_3/runs/61jghqm9</a>"
     },
     "metadata": {},
     "output_type": "display_data"
    },
    {
     "name": "stdout",
     "output_type": "stream",
     "text": [
      "Training model fatalities003_nl_baseline_rf\n",
      "Calibration partition (log)\n",
      " * == Performing a run: \"fatalities003_nl_baseline_rf_calib_log\" == * \n",
      "Model object named \"fatalities003_nl_baseline_rf_calib_log\" with equivalent metadata already exists.\n",
      "Retrain is true, overwriting \"fatalities003_nl_baseline_rf_calib_log\"\n",
      "Training model(s)...\n",
      "Storing \"fatalities003_nl_baseline_rf_calib_log\"\n",
      "Getting predictions\n",
      "pr_56_cm_fatalities003_nl_baseline_rf_calib_log_estimators_100_lr_0.2.parquet\n",
      "Test partition ({transform})\n",
      " * == Performing a run: \"fatalities003_nl_baseline_rf_test_log\" == * \n",
      "Model object named \"fatalities003_nl_baseline_rf_test_log\" with equivalent metadata already exists.\n",
      "Retrain is true, overwriting \"fatalities003_nl_baseline_rf_test_log\"\n",
      "Training model(s)...\n",
      "Storing \"fatalities003_nl_baseline_rf_test_log\"\n",
      "Getting predictions\n",
      "pr_56_cm_fatalities003_nl_baseline_rf_test_log_estimators_100_lr_0.2.parquet\n",
      "**************************************************************\n",
      "Evaluating model fatalities003_nl_baseline_rf\n",
      "pr_56_cm_fatalities003_nl_baseline_rf_calib_log_estimators_100_lr_0.2.parquet\n",
      "mse_log 230467.62451095402\n"
     ]
    },
    {
     "data": {
      "text/plain": "VBox(children=(Label(value='0.001 MB of 0.018 MB uploaded\\r'), FloatProgress(value=0.05150967741935484, max=1.…",
      "application/vnd.jupyter.widget-view+json": {
       "version_major": 2,
       "version_minor": 0,
       "model_id": "32be630d734d4cb5adfb62294b6f89bf"
      }
     },
     "metadata": {},
     "output_type": "display_data"
    },
    {
     "data": {
      "text/plain": "<IPython.core.display.HTML object>",
      "text/html": "<style>\n    table.wandb td:nth-child(1) { padding: 0 10px; text-align: left ; width: auto;} td:nth-child(2) {text-align: left ; width: 100%}\n    .wandb-row { display: flex; flex-direction: row; flex-wrap: wrap; justify-content: flex-start; width: 100% }\n    .wandb-col { display: flex; flex-direction: column; flex-basis: 100%; flex: 1; padding: 10px; }\n    </style>\n<div class=\"wandb-row\"><div class=\"wandb-col\"><h3>Run history:</h3><br/><table class=\"wandb\"><tr><td>mse</td><td>▁</td></tr></table><br/></div><div class=\"wandb-col\"><h3>Run summary:</h3><br/><table class=\"wandb\"><tr><td>mse</td><td>230467.62451</td></tr></table><br/></div></div>"
     },
     "metadata": {},
     "output_type": "display_data"
    },
    {
     "data": {
      "text/plain": "<IPython.core.display.HTML object>",
      "text/html": " View run <strong style=\"color:#cdcd00\">cerulean-sweep-25</strong> at: <a href='https://wandb.ai/model-development-and-deployment/training_example_3/runs/61jghqm9' target=\"_blank\">https://wandb.ai/model-development-and-deployment/training_example_3/runs/61jghqm9</a><br/>Synced 6 W&B file(s), 0 media file(s), 0 artifact file(s) and 0 other file(s)"
     },
     "metadata": {},
     "output_type": "display_data"
    },
    {
     "data": {
      "text/plain": "<IPython.core.display.HTML object>",
      "text/html": "Find logs at: <code>./wandb/run-20231122_230504-61jghqm9/logs</code>"
     },
     "metadata": {},
     "output_type": "display_data"
    },
    {
     "name": "stderr",
     "output_type": "stream",
     "text": [
      "wandb: Agent Starting Run: znauoufs with config:\n",
      "wandb: \tlearning_rate: 0.2\n",
      "wandb: \tn_estimators: 100\n",
      "wandb: \tn_jobs: 12\n",
      "wandb: \ttransform: standardize\n"
     ]
    },
    {
     "data": {
      "text/plain": "<IPython.core.display.HTML object>",
      "text/html": "Tracking run with wandb version 0.16.0"
     },
     "metadata": {},
     "output_type": "display_data"
    },
    {
     "data": {
      "text/plain": "<IPython.core.display.HTML object>",
      "text/html": "Run data is saved locally in <code>/Users/xiaolong/weights-and-biases/wandb/run-20231122_230622-znauoufs</code>"
     },
     "metadata": {},
     "output_type": "display_data"
    },
    {
     "data": {
      "text/plain": "<IPython.core.display.HTML object>",
      "text/html": "Syncing run <strong><a href='https://wandb.ai/model-development-and-deployment/training_example_3/runs/znauoufs' target=\"_blank\">summer-sweep-26</a></strong> to <a href='https://wandb.ai/model-development-and-deployment/training_example_3' target=\"_blank\">Weights & Biases</a> (<a href='https://wandb.me/run' target=\"_blank\">docs</a>)<br/>Sweep page: <a href='https://wandb.ai/model-development-and-deployment/training_example_3/sweeps/tiqmg1o1' target=\"_blank\">https://wandb.ai/model-development-and-deployment/training_example_3/sweeps/tiqmg1o1</a>"
     },
     "metadata": {},
     "output_type": "display_data"
    },
    {
     "data": {
      "text/plain": "<IPython.core.display.HTML object>",
      "text/html": " View project at <a href='https://wandb.ai/model-development-and-deployment/training_example_3' target=\"_blank\">https://wandb.ai/model-development-and-deployment/training_example_3</a>"
     },
     "metadata": {},
     "output_type": "display_data"
    },
    {
     "data": {
      "text/plain": "<IPython.core.display.HTML object>",
      "text/html": " View sweep at <a href='https://wandb.ai/model-development-and-deployment/training_example_3/sweeps/tiqmg1o1' target=\"_blank\">https://wandb.ai/model-development-and-deployment/training_example_3/sweeps/tiqmg1o1</a>"
     },
     "metadata": {},
     "output_type": "display_data"
    },
    {
     "data": {
      "text/plain": "<IPython.core.display.HTML object>",
      "text/html": " View run at <a href='https://wandb.ai/model-development-and-deployment/training_example_3/runs/znauoufs' target=\"_blank\">https://wandb.ai/model-development-and-deployment/training_example_3/runs/znauoufs</a>"
     },
     "metadata": {},
     "output_type": "display_data"
    },
    {
     "name": "stdout",
     "output_type": "stream",
     "text": [
      "Training model fatalities003_nl_baseline_rf\n",
      "Calibration partition (standardize)\n",
      " * == Performing a run: \"fatalities003_nl_baseline_rf_calib_standardize\" == * \n",
      "Model object named \"fatalities003_nl_baseline_rf_calib_standardize\" with equivalent metadata already exists.\n",
      "Retrain is true, overwriting \"fatalities003_nl_baseline_rf_calib_standardize\"\n",
      "Training model(s)...\n",
      "Storing \"fatalities003_nl_baseline_rf_calib_standardize\"\n",
      "Getting predictions\n",
      "pr_56_cm_fatalities003_nl_baseline_rf_calib_standardize_estimators_100_lr_0.2.parquet\n",
      "cm_fatalities003_nl_baseline_rf_calib_standardize_estimators_100_lr_0.2 , run Fatalities003 does not exist, predicting\n",
      "Test partition ({transform})\n",
      " * == Performing a run: \"fatalities003_nl_baseline_rf_test_standardize\" == * \n",
      "Model object named \"fatalities003_nl_baseline_rf_test_standardize\" with equivalent metadata already exists.\n",
      "Retrain is true, overwriting \"fatalities003_nl_baseline_rf_test_standardize\"\n",
      "Training model(s)...\n",
      "Storing \"fatalities003_nl_baseline_rf_test_standardize\"\n",
      "Getting predictions\n",
      "pr_56_cm_fatalities003_nl_baseline_rf_test_standardize_estimators_100_lr_0.2.parquet\n",
      "cm_fatalities003_nl_baseline_rf_test_standardize_estimators_100_lr_0.2 , run Fatalities003 does not exist, predicting\n",
      "**************************************************************\n",
      "Evaluating model fatalities003_nl_baseline_rf\n",
      "pr_56_cm_fatalities003_nl_baseline_rf_calib_standardize_estimators_100_lr_0.2.parquet\n",
      "mse_standardize 253580.50172489506\n"
     ]
    },
    {
     "data": {
      "text/plain": "VBox(children=(Label(value='0.001 MB of 0.001 MB uploaded\\r'), FloatProgress(value=1.0, max=1.0)))",
      "application/vnd.jupyter.widget-view+json": {
       "version_major": 2,
       "version_minor": 0,
       "model_id": "3da6b1c783bb40efb810d2662ec45cf5"
      }
     },
     "metadata": {},
     "output_type": "display_data"
    },
    {
     "data": {
      "text/plain": "<IPython.core.display.HTML object>",
      "text/html": "<style>\n    table.wandb td:nth-child(1) { padding: 0 10px; text-align: left ; width: auto;} td:nth-child(2) {text-align: left ; width: 100%}\n    .wandb-row { display: flex; flex-direction: row; flex-wrap: wrap; justify-content: flex-start; width: 100% }\n    .wandb-col { display: flex; flex-direction: column; flex-basis: 100%; flex: 1; padding: 10px; }\n    </style>\n<div class=\"wandb-row\"><div class=\"wandb-col\"><h3>Run history:</h3><br/><table class=\"wandb\"><tr><td>mse</td><td>▁</td></tr></table><br/></div><div class=\"wandb-col\"><h3>Run summary:</h3><br/><table class=\"wandb\"><tr><td>mse</td><td>253580.50172</td></tr></table><br/></div></div>"
     },
     "metadata": {},
     "output_type": "display_data"
    },
    {
     "data": {
      "text/plain": "<IPython.core.display.HTML object>",
      "text/html": " View run <strong style=\"color:#cdcd00\">summer-sweep-26</strong> at: <a href='https://wandb.ai/model-development-and-deployment/training_example_3/runs/znauoufs' target=\"_blank\">https://wandb.ai/model-development-and-deployment/training_example_3/runs/znauoufs</a><br/>Synced 6 W&B file(s), 0 media file(s), 0 artifact file(s) and 0 other file(s)"
     },
     "metadata": {},
     "output_type": "display_data"
    },
    {
     "data": {
      "text/plain": "<IPython.core.display.HTML object>",
      "text/html": "Find logs at: <code>./wandb/run-20231122_230622-znauoufs/logs</code>"
     },
     "metadata": {},
     "output_type": "display_data"
    },
    {
     "name": "stderr",
     "output_type": "stream",
     "text": [
      "wandb: Agent Starting Run: p5dmheot with config:\n",
      "wandb: \tlearning_rate: 0.2\n",
      "wandb: \tn_estimators: 100\n",
      "wandb: \tn_jobs: 12\n",
      "wandb: \ttransform: raw\n"
     ]
    },
    {
     "data": {
      "text/plain": "<IPython.core.display.HTML object>",
      "text/html": "Tracking run with wandb version 0.16.0"
     },
     "metadata": {},
     "output_type": "display_data"
    },
    {
     "data": {
      "text/plain": "<IPython.core.display.HTML object>",
      "text/html": "Run data is saved locally in <code>/Users/xiaolong/weights-and-biases/wandb/run-20231122_230751-p5dmheot</code>"
     },
     "metadata": {},
     "output_type": "display_data"
    },
    {
     "data": {
      "text/plain": "<IPython.core.display.HTML object>",
      "text/html": "Syncing run <strong><a href='https://wandb.ai/model-development-and-deployment/training_example_3/runs/p5dmheot' target=\"_blank\">whole-sweep-27</a></strong> to <a href='https://wandb.ai/model-development-and-deployment/training_example_3' target=\"_blank\">Weights & Biases</a> (<a href='https://wandb.me/run' target=\"_blank\">docs</a>)<br/>Sweep page: <a href='https://wandb.ai/model-development-and-deployment/training_example_3/sweeps/tiqmg1o1' target=\"_blank\">https://wandb.ai/model-development-and-deployment/training_example_3/sweeps/tiqmg1o1</a>"
     },
     "metadata": {},
     "output_type": "display_data"
    },
    {
     "data": {
      "text/plain": "<IPython.core.display.HTML object>",
      "text/html": " View project at <a href='https://wandb.ai/model-development-and-deployment/training_example_3' target=\"_blank\">https://wandb.ai/model-development-and-deployment/training_example_3</a>"
     },
     "metadata": {},
     "output_type": "display_data"
    },
    {
     "data": {
      "text/plain": "<IPython.core.display.HTML object>",
      "text/html": " View sweep at <a href='https://wandb.ai/model-development-and-deployment/training_example_3/sweeps/tiqmg1o1' target=\"_blank\">https://wandb.ai/model-development-and-deployment/training_example_3/sweeps/tiqmg1o1</a>"
     },
     "metadata": {},
     "output_type": "display_data"
    },
    {
     "data": {
      "text/plain": "<IPython.core.display.HTML object>",
      "text/html": " View run at <a href='https://wandb.ai/model-development-and-deployment/training_example_3/runs/p5dmheot' target=\"_blank\">https://wandb.ai/model-development-and-deployment/training_example_3/runs/p5dmheot</a>"
     },
     "metadata": {},
     "output_type": "display_data"
    },
    {
     "name": "stdout",
     "output_type": "stream",
     "text": [
      "Training model fatalities003_nl_baseline_rf\n",
      "Calibration partition (raw)\n",
      " * == Performing a run: \"fatalities003_nl_baseline_rf_calib_raw\" == * \n",
      "Model object named \"fatalities003_nl_baseline_rf_calib_raw\" with equivalent metadata already exists.\n",
      "Retrain is true, overwriting \"fatalities003_nl_baseline_rf_calib_raw\"\n",
      "Training model(s)...\n",
      "Storing \"fatalities003_nl_baseline_rf_calib_raw\"\n",
      "Getting predictions\n",
      "pr_56_cm_fatalities003_nl_baseline_rf_calib_raw_estimators_100_lr_0.2.parquet\n",
      "cm_fatalities003_nl_baseline_rf_calib_raw_estimators_100_lr_0.2 , run Fatalities003 does not exist, predicting\n",
      "Test partition ({transform})\n",
      " * == Performing a run: \"fatalities003_nl_baseline_rf_test_raw\" == * \n",
      "Model object named \"fatalities003_nl_baseline_rf_test_raw\" with equivalent metadata already exists.\n",
      "Retrain is true, overwriting \"fatalities003_nl_baseline_rf_test_raw\"\n",
      "Training model(s)...\n",
      "Storing \"fatalities003_nl_baseline_rf_test_raw\"\n",
      "Getting predictions\n",
      "pr_56_cm_fatalities003_nl_baseline_rf_test_raw_estimators_100_lr_0.2.parquet\n",
      "cm_fatalities003_nl_baseline_rf_test_raw_estimators_100_lr_0.2 , run Fatalities003 does not exist, predicting\n",
      "**************************************************************\n",
      "Evaluating model fatalities003_nl_baseline_rf\n",
      "pr_56_cm_fatalities003_nl_baseline_rf_calib_raw_estimators_100_lr_0.2.parquet\n",
      "mse_raw 225871.95455169876\n"
     ]
    },
    {
     "data": {
      "text/plain": "VBox(children=(Label(value='0.001 MB of 0.001 MB uploaded\\r'), FloatProgress(value=1.0, max=1.0)))",
      "application/vnd.jupyter.widget-view+json": {
       "version_major": 2,
       "version_minor": 0,
       "model_id": "a811502e8260493f8b23dbdd510a6cec"
      }
     },
     "metadata": {},
     "output_type": "display_data"
    },
    {
     "data": {
      "text/plain": "<IPython.core.display.HTML object>",
      "text/html": "<style>\n    table.wandb td:nth-child(1) { padding: 0 10px; text-align: left ; width: auto;} td:nth-child(2) {text-align: left ; width: 100%}\n    .wandb-row { display: flex; flex-direction: row; flex-wrap: wrap; justify-content: flex-start; width: 100% }\n    .wandb-col { display: flex; flex-direction: column; flex-basis: 100%; flex: 1; padding: 10px; }\n    </style>\n<div class=\"wandb-row\"><div class=\"wandb-col\"><h3>Run history:</h3><br/><table class=\"wandb\"><tr><td>mse</td><td>▁</td></tr></table><br/></div><div class=\"wandb-col\"><h3>Run summary:</h3><br/><table class=\"wandb\"><tr><td>mse</td><td>225871.95455</td></tr></table><br/></div></div>"
     },
     "metadata": {},
     "output_type": "display_data"
    },
    {
     "data": {
      "text/plain": "<IPython.core.display.HTML object>",
      "text/html": " View run <strong style=\"color:#cdcd00\">whole-sweep-27</strong> at: <a href='https://wandb.ai/model-development-and-deployment/training_example_3/runs/p5dmheot' target=\"_blank\">https://wandb.ai/model-development-and-deployment/training_example_3/runs/p5dmheot</a><br/>Synced 6 W&B file(s), 0 media file(s), 0 artifact file(s) and 0 other file(s)"
     },
     "metadata": {},
     "output_type": "display_data"
    },
    {
     "data": {
      "text/plain": "<IPython.core.display.HTML object>",
      "text/html": "Find logs at: <code>./wandb/run-20231122_230751-p5dmheot/logs</code>"
     },
     "metadata": {},
     "output_type": "display_data"
    },
    {
     "name": "stderr",
     "output_type": "stream",
     "text": [
      "wandb: Sweep Agent: Waiting for job.\n",
      "wandb: Job received.\n",
      "wandb: Agent Starting Run: df0nff8r with config:\n",
      "wandb: \tlearning_rate: 0.2\n",
      "wandb: \tn_estimators: 100\n",
      "wandb: \tn_jobs: 12\n",
      "wandb: \ttransform: normalize\n"
     ]
    },
    {
     "data": {
      "text/plain": "<IPython.core.display.HTML object>",
      "text/html": "Tracking run with wandb version 0.16.0"
     },
     "metadata": {},
     "output_type": "display_data"
    },
    {
     "data": {
      "text/plain": "<IPython.core.display.HTML object>",
      "text/html": "Run data is saved locally in <code>/Users/xiaolong/weights-and-biases/wandb/run-20231122_230935-df0nff8r</code>"
     },
     "metadata": {},
     "output_type": "display_data"
    },
    {
     "data": {
      "text/plain": "<IPython.core.display.HTML object>",
      "text/html": "Syncing run <strong><a href='https://wandb.ai/model-development-and-deployment/training_example_3/runs/df0nff8r' target=\"_blank\">hearty-sweep-28</a></strong> to <a href='https://wandb.ai/model-development-and-deployment/training_example_3' target=\"_blank\">Weights & Biases</a> (<a href='https://wandb.me/run' target=\"_blank\">docs</a>)<br/>Sweep page: <a href='https://wandb.ai/model-development-and-deployment/training_example_3/sweeps/tiqmg1o1' target=\"_blank\">https://wandb.ai/model-development-and-deployment/training_example_3/sweeps/tiqmg1o1</a>"
     },
     "metadata": {},
     "output_type": "display_data"
    },
    {
     "data": {
      "text/plain": "<IPython.core.display.HTML object>",
      "text/html": " View project at <a href='https://wandb.ai/model-development-and-deployment/training_example_3' target=\"_blank\">https://wandb.ai/model-development-and-deployment/training_example_3</a>"
     },
     "metadata": {},
     "output_type": "display_data"
    },
    {
     "data": {
      "text/plain": "<IPython.core.display.HTML object>",
      "text/html": " View sweep at <a href='https://wandb.ai/model-development-and-deployment/training_example_3/sweeps/tiqmg1o1' target=\"_blank\">https://wandb.ai/model-development-and-deployment/training_example_3/sweeps/tiqmg1o1</a>"
     },
     "metadata": {},
     "output_type": "display_data"
    },
    {
     "data": {
      "text/plain": "<IPython.core.display.HTML object>",
      "text/html": " View run at <a href='https://wandb.ai/model-development-and-deployment/training_example_3/runs/df0nff8r' target=\"_blank\">https://wandb.ai/model-development-and-deployment/training_example_3/runs/df0nff8r</a>"
     },
     "metadata": {},
     "output_type": "display_data"
    },
    {
     "name": "stdout",
     "output_type": "stream",
     "text": [
      "Training model fatalities003_nl_baseline_rf\n",
      "Calibration partition (normalize)\n",
      " * == Performing a run: \"fatalities003_nl_baseline_rf_calib_normalize\" == * \n",
      "Model object named \"fatalities003_nl_baseline_rf_calib_normalize\" with equivalent metadata already exists.\n",
      "Retrain is true, overwriting \"fatalities003_nl_baseline_rf_calib_normalize\"\n",
      "Training model(s)...\n",
      "Storing \"fatalities003_nl_baseline_rf_calib_normalize\"\n",
      "Getting predictions\n",
      "pr_56_cm_fatalities003_nl_baseline_rf_calib_normalize_estimators_100_lr_0.2.parquet\n",
      "cm_fatalities003_nl_baseline_rf_calib_normalize_estimators_100_lr_0.2 , run Fatalities003 does not exist, predicting\n",
      "Test partition ({transform})\n",
      " * == Performing a run: \"fatalities003_nl_baseline_rf_test_normalize\" == * \n",
      "Model object named \"fatalities003_nl_baseline_rf_test_normalize\" with equivalent metadata already exists.\n",
      "Retrain is true, overwriting \"fatalities003_nl_baseline_rf_test_normalize\"\n",
      "Training model(s)...\n",
      "Storing \"fatalities003_nl_baseline_rf_test_normalize\"\n",
      "Getting predictions\n",
      "pr_56_cm_fatalities003_nl_baseline_rf_test_normalize_estimators_100_lr_0.2.parquet\n",
      "cm_fatalities003_nl_baseline_rf_test_normalize_estimators_100_lr_0.2 , run Fatalities003 does not exist, predicting\n",
      "**************************************************************\n",
      "Evaluating model fatalities003_nl_baseline_rf\n",
      "pr_56_cm_fatalities003_nl_baseline_rf_calib_normalize_estimators_100_lr_0.2.parquet\n",
      "mse_normalize 1010640548.5223101\n"
     ]
    },
    {
     "data": {
      "text/plain": "VBox(children=(Label(value='0.001 MB of 0.001 MB uploaded\\r'), FloatProgress(value=1.0, max=1.0)))",
      "application/vnd.jupyter.widget-view+json": {
       "version_major": 2,
       "version_minor": 0,
       "model_id": "6a33ade62d714927bac129fba08899b9"
      }
     },
     "metadata": {},
     "output_type": "display_data"
    },
    {
     "data": {
      "text/plain": "<IPython.core.display.HTML object>",
      "text/html": "<style>\n    table.wandb td:nth-child(1) { padding: 0 10px; text-align: left ; width: auto;} td:nth-child(2) {text-align: left ; width: 100%}\n    .wandb-row { display: flex; flex-direction: row; flex-wrap: wrap; justify-content: flex-start; width: 100% }\n    .wandb-col { display: flex; flex-direction: column; flex-basis: 100%; flex: 1; padding: 10px; }\n    </style>\n<div class=\"wandb-row\"><div class=\"wandb-col\"><h3>Run history:</h3><br/><table class=\"wandb\"><tr><td>mse</td><td>▁</td></tr></table><br/></div><div class=\"wandb-col\"><h3>Run summary:</h3><br/><table class=\"wandb\"><tr><td>mse</td><td>1010640548.52231</td></tr></table><br/></div></div>"
     },
     "metadata": {},
     "output_type": "display_data"
    },
    {
     "data": {
      "text/plain": "<IPython.core.display.HTML object>",
      "text/html": " View run <strong style=\"color:#cdcd00\">hearty-sweep-28</strong> at: <a href='https://wandb.ai/model-development-and-deployment/training_example_3/runs/df0nff8r' target=\"_blank\">https://wandb.ai/model-development-and-deployment/training_example_3/runs/df0nff8r</a><br/>Synced 6 W&B file(s), 0 media file(s), 0 artifact file(s) and 0 other file(s)"
     },
     "metadata": {},
     "output_type": "display_data"
    },
    {
     "data": {
      "text/plain": "<IPython.core.display.HTML object>",
      "text/html": "Find logs at: <code>./wandb/run-20231122_230935-df0nff8r/logs</code>"
     },
     "metadata": {},
     "output_type": "display_data"
    },
    {
     "name": "stderr",
     "output_type": "stream",
     "text": [
      "wandb: Agent Starting Run: iaf5rnde with config:\n",
      "wandb: \tlearning_rate: 0.2\n",
      "wandb: \tn_estimators: 200\n",
      "wandb: \tn_jobs: 12\n",
      "wandb: \ttransform: log\n"
     ]
    },
    {
     "data": {
      "text/plain": "<IPython.core.display.HTML object>",
      "text/html": "Tracking run with wandb version 0.16.0"
     },
     "metadata": {},
     "output_type": "display_data"
    },
    {
     "data": {
      "text/plain": "<IPython.core.display.HTML object>",
      "text/html": "Run data is saved locally in <code>/Users/xiaolong/weights-and-biases/wandb/run-20231122_231053-iaf5rnde</code>"
     },
     "metadata": {},
     "output_type": "display_data"
    },
    {
     "data": {
      "text/plain": "<IPython.core.display.HTML object>",
      "text/html": "Syncing run <strong><a href='https://wandb.ai/model-development-and-deployment/training_example_3/runs/iaf5rnde' target=\"_blank\">fluent-sweep-29</a></strong> to <a href='https://wandb.ai/model-development-and-deployment/training_example_3' target=\"_blank\">Weights & Biases</a> (<a href='https://wandb.me/run' target=\"_blank\">docs</a>)<br/>Sweep page: <a href='https://wandb.ai/model-development-and-deployment/training_example_3/sweeps/tiqmg1o1' target=\"_blank\">https://wandb.ai/model-development-and-deployment/training_example_3/sweeps/tiqmg1o1</a>"
     },
     "metadata": {},
     "output_type": "display_data"
    },
    {
     "data": {
      "text/plain": "<IPython.core.display.HTML object>",
      "text/html": " View project at <a href='https://wandb.ai/model-development-and-deployment/training_example_3' target=\"_blank\">https://wandb.ai/model-development-and-deployment/training_example_3</a>"
     },
     "metadata": {},
     "output_type": "display_data"
    },
    {
     "data": {
      "text/plain": "<IPython.core.display.HTML object>",
      "text/html": " View sweep at <a href='https://wandb.ai/model-development-and-deployment/training_example_3/sweeps/tiqmg1o1' target=\"_blank\">https://wandb.ai/model-development-and-deployment/training_example_3/sweeps/tiqmg1o1</a>"
     },
     "metadata": {},
     "output_type": "display_data"
    },
    {
     "data": {
      "text/plain": "<IPython.core.display.HTML object>",
      "text/html": " View run at <a href='https://wandb.ai/model-development-and-deployment/training_example_3/runs/iaf5rnde' target=\"_blank\">https://wandb.ai/model-development-and-deployment/training_example_3/runs/iaf5rnde</a>"
     },
     "metadata": {},
     "output_type": "display_data"
    },
    {
     "name": "stdout",
     "output_type": "stream",
     "text": [
      "Training model fatalities003_nl_baseline_rf\n",
      "Calibration partition (log)\n",
      " * == Performing a run: \"fatalities003_nl_baseline_rf_calib_log\" == * \n",
      "Model object named \"fatalities003_nl_baseline_rf_calib_log\" with equivalent metadata already exists.\n",
      "Retrain is true, overwriting \"fatalities003_nl_baseline_rf_calib_log\"\n",
      "Training model(s)...\n",
      "Storing \"fatalities003_nl_baseline_rf_calib_log\"\n",
      "Getting predictions\n",
      "pr_56_cm_fatalities003_nl_baseline_rf_calib_log_estimators_200_lr_0.2.parquet\n",
      "Test partition ({transform})\n",
      " * == Performing a run: \"fatalities003_nl_baseline_rf_test_log\" == * \n",
      "Model object named \"fatalities003_nl_baseline_rf_test_log\" with equivalent metadata already exists.\n",
      "Retrain is true, overwriting \"fatalities003_nl_baseline_rf_test_log\"\n",
      "Training model(s)...\n",
      "Storing \"fatalities003_nl_baseline_rf_test_log\"\n",
      "Getting predictions\n",
      "pr_56_cm_fatalities003_nl_baseline_rf_test_log_estimators_200_lr_0.2.parquet\n",
      "**************************************************************\n",
      "Evaluating model fatalities003_nl_baseline_rf\n",
      "pr_56_cm_fatalities003_nl_baseline_rf_calib_log_estimators_200_lr_0.2.parquet\n",
      "mse_log 230467.6076039277\n"
     ]
    },
    {
     "data": {
      "text/plain": "VBox(children=(Label(value='0.001 MB of 0.001 MB uploaded\\r'), FloatProgress(value=1.0, max=1.0)))",
      "application/vnd.jupyter.widget-view+json": {
       "version_major": 2,
       "version_minor": 0,
       "model_id": "0b9591430a6d45349186b80b77eff2fc"
      }
     },
     "metadata": {},
     "output_type": "display_data"
    },
    {
     "data": {
      "text/plain": "<IPython.core.display.HTML object>",
      "text/html": "<style>\n    table.wandb td:nth-child(1) { padding: 0 10px; text-align: left ; width: auto;} td:nth-child(2) {text-align: left ; width: 100%}\n    .wandb-row { display: flex; flex-direction: row; flex-wrap: wrap; justify-content: flex-start; width: 100% }\n    .wandb-col { display: flex; flex-direction: column; flex-basis: 100%; flex: 1; padding: 10px; }\n    </style>\n<div class=\"wandb-row\"><div class=\"wandb-col\"><h3>Run history:</h3><br/><table class=\"wandb\"><tr><td>mse</td><td>▁</td></tr></table><br/></div><div class=\"wandb-col\"><h3>Run summary:</h3><br/><table class=\"wandb\"><tr><td>mse</td><td>230467.6076</td></tr></table><br/></div></div>"
     },
     "metadata": {},
     "output_type": "display_data"
    },
    {
     "data": {
      "text/plain": "<IPython.core.display.HTML object>",
      "text/html": " View run <strong style=\"color:#cdcd00\">fluent-sweep-29</strong> at: <a href='https://wandb.ai/model-development-and-deployment/training_example_3/runs/iaf5rnde' target=\"_blank\">https://wandb.ai/model-development-and-deployment/training_example_3/runs/iaf5rnde</a><br/>Synced 6 W&B file(s), 0 media file(s), 0 artifact file(s) and 0 other file(s)"
     },
     "metadata": {},
     "output_type": "display_data"
    },
    {
     "data": {
      "text/plain": "<IPython.core.display.HTML object>",
      "text/html": "Find logs at: <code>./wandb/run-20231122_231053-iaf5rnde/logs</code>"
     },
     "metadata": {},
     "output_type": "display_data"
    },
    {
     "name": "stderr",
     "output_type": "stream",
     "text": [
      "wandb: Sweep Agent: Waiting for job.\n",
      "wandb: Job received.\n",
      "wandb: Agent Starting Run: 7tye0j13 with config:\n",
      "wandb: \tlearning_rate: 0.2\n",
      "wandb: \tn_estimators: 200\n",
      "wandb: \tn_jobs: 12\n",
      "wandb: \ttransform: standardize\n"
     ]
    },
    {
     "data": {
      "text/plain": "<IPython.core.display.HTML object>",
      "text/html": "Tracking run with wandb version 0.16.0"
     },
     "metadata": {},
     "output_type": "display_data"
    },
    {
     "data": {
      "text/plain": "<IPython.core.display.HTML object>",
      "text/html": "Run data is saved locally in <code>/Users/xiaolong/weights-and-biases/wandb/run-20231122_231314-7tye0j13</code>"
     },
     "metadata": {},
     "output_type": "display_data"
    },
    {
     "data": {
      "text/plain": "<IPython.core.display.HTML object>",
      "text/html": "Syncing run <strong><a href='https://wandb.ai/model-development-and-deployment/training_example_3/runs/7tye0j13' target=\"_blank\">laced-sweep-30</a></strong> to <a href='https://wandb.ai/model-development-and-deployment/training_example_3' target=\"_blank\">Weights & Biases</a> (<a href='https://wandb.me/run' target=\"_blank\">docs</a>)<br/>Sweep page: <a href='https://wandb.ai/model-development-and-deployment/training_example_3/sweeps/tiqmg1o1' target=\"_blank\">https://wandb.ai/model-development-and-deployment/training_example_3/sweeps/tiqmg1o1</a>"
     },
     "metadata": {},
     "output_type": "display_data"
    },
    {
     "data": {
      "text/plain": "<IPython.core.display.HTML object>",
      "text/html": " View project at <a href='https://wandb.ai/model-development-and-deployment/training_example_3' target=\"_blank\">https://wandb.ai/model-development-and-deployment/training_example_3</a>"
     },
     "metadata": {},
     "output_type": "display_data"
    },
    {
     "data": {
      "text/plain": "<IPython.core.display.HTML object>",
      "text/html": " View sweep at <a href='https://wandb.ai/model-development-and-deployment/training_example_3/sweeps/tiqmg1o1' target=\"_blank\">https://wandb.ai/model-development-and-deployment/training_example_3/sweeps/tiqmg1o1</a>"
     },
     "metadata": {},
     "output_type": "display_data"
    },
    {
     "data": {
      "text/plain": "<IPython.core.display.HTML object>",
      "text/html": " View run at <a href='https://wandb.ai/model-development-and-deployment/training_example_3/runs/7tye0j13' target=\"_blank\">https://wandb.ai/model-development-and-deployment/training_example_3/runs/7tye0j13</a>"
     },
     "metadata": {},
     "output_type": "display_data"
    },
    {
     "name": "stdout",
     "output_type": "stream",
     "text": [
      "Training model fatalities003_nl_baseline_rf\n",
      "Calibration partition (standardize)\n",
      " * == Performing a run: \"fatalities003_nl_baseline_rf_calib_standardize\" == * \n",
      "Model object named \"fatalities003_nl_baseline_rf_calib_standardize\" with equivalent metadata already exists.\n",
      "Retrain is true, overwriting \"fatalities003_nl_baseline_rf_calib_standardize\"\n",
      "Training model(s)...\n",
      "Storing \"fatalities003_nl_baseline_rf_calib_standardize\"\n",
      "Getting predictions\n",
      "pr_56_cm_fatalities003_nl_baseline_rf_calib_standardize_estimators_200_lr_0.2.parquet\n",
      "cm_fatalities003_nl_baseline_rf_calib_standardize_estimators_200_lr_0.2 , run Fatalities003 does not exist, predicting\n",
      "Test partition ({transform})\n",
      " * == Performing a run: \"fatalities003_nl_baseline_rf_test_standardize\" == * \n",
      "Model object named \"fatalities003_nl_baseline_rf_test_standardize\" with equivalent metadata already exists.\n",
      "Retrain is true, overwriting \"fatalities003_nl_baseline_rf_test_standardize\"\n",
      "Training model(s)...\n",
      "Storing \"fatalities003_nl_baseline_rf_test_standardize\"\n",
      "Getting predictions\n",
      "pr_56_cm_fatalities003_nl_baseline_rf_test_standardize_estimators_200_lr_0.2.parquet\n",
      "cm_fatalities003_nl_baseline_rf_test_standardize_estimators_200_lr_0.2 , run Fatalities003 does not exist, predicting\n",
      "**************************************************************\n",
      "Evaluating model fatalities003_nl_baseline_rf\n",
      "pr_56_cm_fatalities003_nl_baseline_rf_calib_standardize_estimators_200_lr_0.2.parquet\n",
      "mse_standardize 253583.00221833045\n"
     ]
    },
    {
     "data": {
      "text/plain": "VBox(children=(Label(value='0.001 MB of 0.001 MB uploaded\\r'), FloatProgress(value=1.0, max=1.0)))",
      "application/vnd.jupyter.widget-view+json": {
       "version_major": 2,
       "version_minor": 0,
       "model_id": "dc7af0d0b6a04f60b6c4c1575f058993"
      }
     },
     "metadata": {},
     "output_type": "display_data"
    },
    {
     "data": {
      "text/plain": "<IPython.core.display.HTML object>",
      "text/html": "<style>\n    table.wandb td:nth-child(1) { padding: 0 10px; text-align: left ; width: auto;} td:nth-child(2) {text-align: left ; width: 100%}\n    .wandb-row { display: flex; flex-direction: row; flex-wrap: wrap; justify-content: flex-start; width: 100% }\n    .wandb-col { display: flex; flex-direction: column; flex-basis: 100%; flex: 1; padding: 10px; }\n    </style>\n<div class=\"wandb-row\"><div class=\"wandb-col\"><h3>Run history:</h3><br/><table class=\"wandb\"><tr><td>mse</td><td>▁</td></tr></table><br/></div><div class=\"wandb-col\"><h3>Run summary:</h3><br/><table class=\"wandb\"><tr><td>mse</td><td>253583.00222</td></tr></table><br/></div></div>"
     },
     "metadata": {},
     "output_type": "display_data"
    },
    {
     "data": {
      "text/plain": "<IPython.core.display.HTML object>",
      "text/html": " View run <strong style=\"color:#cdcd00\">laced-sweep-30</strong> at: <a href='https://wandb.ai/model-development-and-deployment/training_example_3/runs/7tye0j13' target=\"_blank\">https://wandb.ai/model-development-and-deployment/training_example_3/runs/7tye0j13</a><br/>Synced 6 W&B file(s), 0 media file(s), 0 artifact file(s) and 0 other file(s)"
     },
     "metadata": {},
     "output_type": "display_data"
    },
    {
     "data": {
      "text/plain": "<IPython.core.display.HTML object>",
      "text/html": "Find logs at: <code>./wandb/run-20231122_231314-7tye0j13/logs</code>"
     },
     "metadata": {},
     "output_type": "display_data"
    },
    {
     "name": "stderr",
     "output_type": "stream",
     "text": [
      "wandb: Agent Starting Run: p0fzx869 with config:\n",
      "wandb: \tlearning_rate: 0.2\n",
      "wandb: \tn_estimators: 200\n",
      "wandb: \tn_jobs: 12\n",
      "wandb: \ttransform: raw\n"
     ]
    },
    {
     "data": {
      "text/plain": "<IPython.core.display.HTML object>",
      "text/html": "Tracking run with wandb version 0.16.0"
     },
     "metadata": {},
     "output_type": "display_data"
    },
    {
     "data": {
      "text/plain": "<IPython.core.display.HTML object>",
      "text/html": "Run data is saved locally in <code>/Users/xiaolong/weights-and-biases/wandb/run-20231122_231533-p0fzx869</code>"
     },
     "metadata": {},
     "output_type": "display_data"
    },
    {
     "data": {
      "text/plain": "<IPython.core.display.HTML object>",
      "text/html": "Syncing run <strong><a href='https://wandb.ai/model-development-and-deployment/training_example_3/runs/p0fzx869' target=\"_blank\">genial-sweep-31</a></strong> to <a href='https://wandb.ai/model-development-and-deployment/training_example_3' target=\"_blank\">Weights & Biases</a> (<a href='https://wandb.me/run' target=\"_blank\">docs</a>)<br/>Sweep page: <a href='https://wandb.ai/model-development-and-deployment/training_example_3/sweeps/tiqmg1o1' target=\"_blank\">https://wandb.ai/model-development-and-deployment/training_example_3/sweeps/tiqmg1o1</a>"
     },
     "metadata": {},
     "output_type": "display_data"
    },
    {
     "data": {
      "text/plain": "<IPython.core.display.HTML object>",
      "text/html": " View project at <a href='https://wandb.ai/model-development-and-deployment/training_example_3' target=\"_blank\">https://wandb.ai/model-development-and-deployment/training_example_3</a>"
     },
     "metadata": {},
     "output_type": "display_data"
    },
    {
     "data": {
      "text/plain": "<IPython.core.display.HTML object>",
      "text/html": " View sweep at <a href='https://wandb.ai/model-development-and-deployment/training_example_3/sweeps/tiqmg1o1' target=\"_blank\">https://wandb.ai/model-development-and-deployment/training_example_3/sweeps/tiqmg1o1</a>"
     },
     "metadata": {},
     "output_type": "display_data"
    },
    {
     "data": {
      "text/plain": "<IPython.core.display.HTML object>",
      "text/html": " View run at <a href='https://wandb.ai/model-development-and-deployment/training_example_3/runs/p0fzx869' target=\"_blank\">https://wandb.ai/model-development-and-deployment/training_example_3/runs/p0fzx869</a>"
     },
     "metadata": {},
     "output_type": "display_data"
    },
    {
     "name": "stdout",
     "output_type": "stream",
     "text": [
      "Training model fatalities003_nl_baseline_rf\n",
      "Calibration partition (raw)\n",
      " * == Performing a run: \"fatalities003_nl_baseline_rf_calib_raw\" == * \n",
      "Model object named \"fatalities003_nl_baseline_rf_calib_raw\" with equivalent metadata already exists.\n",
      "Retrain is true, overwriting \"fatalities003_nl_baseline_rf_calib_raw\"\n",
      "Training model(s)...\n",
      "Storing \"fatalities003_nl_baseline_rf_calib_raw\"\n",
      "Getting predictions\n",
      "pr_56_cm_fatalities003_nl_baseline_rf_calib_raw_estimators_200_lr_0.2.parquet\n",
      "cm_fatalities003_nl_baseline_rf_calib_raw_estimators_200_lr_0.2 , run Fatalities003 does not exist, predicting\n",
      "Test partition ({transform})\n",
      " * == Performing a run: \"fatalities003_nl_baseline_rf_test_raw\" == * \n",
      "Model object named \"fatalities003_nl_baseline_rf_test_raw\" with equivalent metadata already exists.\n",
      "Retrain is true, overwriting \"fatalities003_nl_baseline_rf_test_raw\"\n",
      "Training model(s)...\n",
      "Storing \"fatalities003_nl_baseline_rf_test_raw\"\n",
      "Getting predictions\n",
      "pr_56_cm_fatalities003_nl_baseline_rf_test_raw_estimators_200_lr_0.2.parquet\n",
      "cm_fatalities003_nl_baseline_rf_test_raw_estimators_200_lr_0.2 , run Fatalities003 does not exist, predicting\n",
      "**************************************************************\n",
      "Evaluating model fatalities003_nl_baseline_rf\n",
      "pr_56_cm_fatalities003_nl_baseline_rf_calib_raw_estimators_200_lr_0.2.parquet\n",
      "mse_raw 225855.44141497216\n"
     ]
    },
    {
     "data": {
      "text/plain": "VBox(children=(Label(value='0.001 MB of 0.001 MB uploaded\\r'), FloatProgress(value=1.0, max=1.0)))",
      "application/vnd.jupyter.widget-view+json": {
       "version_major": 2,
       "version_minor": 0,
       "model_id": "37e91937d98d47a0968b9f739c52f322"
      }
     },
     "metadata": {},
     "output_type": "display_data"
    },
    {
     "data": {
      "text/plain": "<IPython.core.display.HTML object>",
      "text/html": "<style>\n    table.wandb td:nth-child(1) { padding: 0 10px; text-align: left ; width: auto;} td:nth-child(2) {text-align: left ; width: 100%}\n    .wandb-row { display: flex; flex-direction: row; flex-wrap: wrap; justify-content: flex-start; width: 100% }\n    .wandb-col { display: flex; flex-direction: column; flex-basis: 100%; flex: 1; padding: 10px; }\n    </style>\n<div class=\"wandb-row\"><div class=\"wandb-col\"><h3>Run history:</h3><br/><table class=\"wandb\"><tr><td>mse</td><td>▁</td></tr></table><br/></div><div class=\"wandb-col\"><h3>Run summary:</h3><br/><table class=\"wandb\"><tr><td>mse</td><td>225855.44141</td></tr></table><br/></div></div>"
     },
     "metadata": {},
     "output_type": "display_data"
    },
    {
     "data": {
      "text/plain": "<IPython.core.display.HTML object>",
      "text/html": " View run <strong style=\"color:#cdcd00\">genial-sweep-31</strong> at: <a href='https://wandb.ai/model-development-and-deployment/training_example_3/runs/p0fzx869' target=\"_blank\">https://wandb.ai/model-development-and-deployment/training_example_3/runs/p0fzx869</a><br/>Synced 6 W&B file(s), 0 media file(s), 0 artifact file(s) and 0 other file(s)"
     },
     "metadata": {},
     "output_type": "display_data"
    },
    {
     "data": {
      "text/plain": "<IPython.core.display.HTML object>",
      "text/html": "Find logs at: <code>./wandb/run-20231122_231533-p0fzx869/logs</code>"
     },
     "metadata": {},
     "output_type": "display_data"
    },
    {
     "name": "stderr",
     "output_type": "stream",
     "text": [
      "wandb: Agent Starting Run: ouvyz1kr with config:\n",
      "wandb: \tlearning_rate: 0.2\n",
      "wandb: \tn_estimators: 200\n",
      "wandb: \tn_jobs: 12\n",
      "wandb: \ttransform: normalize\n"
     ]
    },
    {
     "data": {
      "text/plain": "<IPython.core.display.HTML object>",
      "text/html": "Tracking run with wandb version 0.16.0"
     },
     "metadata": {},
     "output_type": "display_data"
    },
    {
     "data": {
      "text/plain": "<IPython.core.display.HTML object>",
      "text/html": "Run data is saved locally in <code>/Users/xiaolong/weights-and-biases/wandb/run-20231122_231754-ouvyz1kr</code>"
     },
     "metadata": {},
     "output_type": "display_data"
    },
    {
     "data": {
      "text/plain": "<IPython.core.display.HTML object>",
      "text/html": "Syncing run <strong><a href='https://wandb.ai/model-development-and-deployment/training_example_3/runs/ouvyz1kr' target=\"_blank\">fast-sweep-32</a></strong> to <a href='https://wandb.ai/model-development-and-deployment/training_example_3' target=\"_blank\">Weights & Biases</a> (<a href='https://wandb.me/run' target=\"_blank\">docs</a>)<br/>Sweep page: <a href='https://wandb.ai/model-development-and-deployment/training_example_3/sweeps/tiqmg1o1' target=\"_blank\">https://wandb.ai/model-development-and-deployment/training_example_3/sweeps/tiqmg1o1</a>"
     },
     "metadata": {},
     "output_type": "display_data"
    },
    {
     "data": {
      "text/plain": "<IPython.core.display.HTML object>",
      "text/html": " View project at <a href='https://wandb.ai/model-development-and-deployment/training_example_3' target=\"_blank\">https://wandb.ai/model-development-and-deployment/training_example_3</a>"
     },
     "metadata": {},
     "output_type": "display_data"
    },
    {
     "data": {
      "text/plain": "<IPython.core.display.HTML object>",
      "text/html": " View sweep at <a href='https://wandb.ai/model-development-and-deployment/training_example_3/sweeps/tiqmg1o1' target=\"_blank\">https://wandb.ai/model-development-and-deployment/training_example_3/sweeps/tiqmg1o1</a>"
     },
     "metadata": {},
     "output_type": "display_data"
    },
    {
     "data": {
      "text/plain": "<IPython.core.display.HTML object>",
      "text/html": " View run at <a href='https://wandb.ai/model-development-and-deployment/training_example_3/runs/ouvyz1kr' target=\"_blank\">https://wandb.ai/model-development-and-deployment/training_example_3/runs/ouvyz1kr</a>"
     },
     "metadata": {},
     "output_type": "display_data"
    },
    {
     "name": "stdout",
     "output_type": "stream",
     "text": [
      "Training model fatalities003_nl_baseline_rf\n",
      "Calibration partition (normalize)\n",
      " * == Performing a run: \"fatalities003_nl_baseline_rf_calib_normalize\" == * \n",
      "Model object named \"fatalities003_nl_baseline_rf_calib_normalize\" with equivalent metadata already exists.\n",
      "Retrain is true, overwriting \"fatalities003_nl_baseline_rf_calib_normalize\"\n",
      "Training model(s)...\n",
      "Storing \"fatalities003_nl_baseline_rf_calib_normalize\"\n",
      "Getting predictions\n",
      "pr_56_cm_fatalities003_nl_baseline_rf_calib_normalize_estimators_200_lr_0.2.parquet\n",
      "cm_fatalities003_nl_baseline_rf_calib_normalize_estimators_200_lr_0.2 , run Fatalities003 does not exist, predicting\n",
      "Test partition ({transform})\n",
      " * == Performing a run: \"fatalities003_nl_baseline_rf_test_normalize\" == * \n",
      "Model object named \"fatalities003_nl_baseline_rf_test_normalize\" with equivalent metadata already exists.\n",
      "Retrain is true, overwriting \"fatalities003_nl_baseline_rf_test_normalize\"\n",
      "Training model(s)...\n",
      "Storing \"fatalities003_nl_baseline_rf_test_normalize\"\n",
      "Getting predictions\n",
      "pr_56_cm_fatalities003_nl_baseline_rf_test_normalize_estimators_200_lr_0.2.parquet\n",
      "cm_fatalities003_nl_baseline_rf_test_normalize_estimators_200_lr_0.2 , run Fatalities003 does not exist, predicting\n",
      "**************************************************************\n",
      "Evaluating model fatalities003_nl_baseline_rf\n",
      "pr_56_cm_fatalities003_nl_baseline_rf_calib_normalize_estimators_200_lr_0.2.parquet\n",
      "mse_normalize 1010639859.2206695\n"
     ]
    },
    {
     "data": {
      "text/plain": "VBox(children=(Label(value='0.001 MB of 0.006 MB uploaded\\r'), FloatProgress(value=0.16627790736421194, max=1.…",
      "application/vnd.jupyter.widget-view+json": {
       "version_major": 2,
       "version_minor": 0,
       "model_id": "f0106daaa6b2464eaf7c19e954e5fe07"
      }
     },
     "metadata": {},
     "output_type": "display_data"
    },
    {
     "data": {
      "text/plain": "<IPython.core.display.HTML object>",
      "text/html": "<style>\n    table.wandb td:nth-child(1) { padding: 0 10px; text-align: left ; width: auto;} td:nth-child(2) {text-align: left ; width: 100%}\n    .wandb-row { display: flex; flex-direction: row; flex-wrap: wrap; justify-content: flex-start; width: 100% }\n    .wandb-col { display: flex; flex-direction: column; flex-basis: 100%; flex: 1; padding: 10px; }\n    </style>\n<div class=\"wandb-row\"><div class=\"wandb-col\"><h3>Run history:</h3><br/><table class=\"wandb\"><tr><td>mse</td><td>▁</td></tr></table><br/></div><div class=\"wandb-col\"><h3>Run summary:</h3><br/><table class=\"wandb\"><tr><td>mse</td><td>1010639859.22067</td></tr></table><br/></div></div>"
     },
     "metadata": {},
     "output_type": "display_data"
    },
    {
     "data": {
      "text/plain": "<IPython.core.display.HTML object>",
      "text/html": " View run <strong style=\"color:#cdcd00\">fast-sweep-32</strong> at: <a href='https://wandb.ai/model-development-and-deployment/training_example_3/runs/ouvyz1kr' target=\"_blank\">https://wandb.ai/model-development-and-deployment/training_example_3/runs/ouvyz1kr</a><br/>Synced 6 W&B file(s), 0 media file(s), 0 artifact file(s) and 0 other file(s)"
     },
     "metadata": {},
     "output_type": "display_data"
    },
    {
     "data": {
      "text/plain": "<IPython.core.display.HTML object>",
      "text/html": "Find logs at: <code>./wandb/run-20231122_231754-ouvyz1kr/logs</code>"
     },
     "metadata": {},
     "output_type": "display_data"
    },
    {
     "name": "stderr",
     "output_type": "stream",
     "text": [
      "wandb: Agent Starting Run: knygof4a with config:\n",
      "wandb: \tlearning_rate: 0.2\n",
      "wandb: \tn_estimators: 300\n",
      "wandb: \tn_jobs: 12\n",
      "wandb: \ttransform: log\n"
     ]
    },
    {
     "data": {
      "text/plain": "<IPython.core.display.HTML object>",
      "text/html": "Tracking run with wandb version 0.16.0"
     },
     "metadata": {},
     "output_type": "display_data"
    },
    {
     "data": {
      "text/plain": "<IPython.core.display.HTML object>",
      "text/html": "Run data is saved locally in <code>/Users/xiaolong/weights-and-biases/wandb/run-20231122_231957-knygof4a</code>"
     },
     "metadata": {},
     "output_type": "display_data"
    },
    {
     "data": {
      "text/plain": "<IPython.core.display.HTML object>",
      "text/html": "Syncing run <strong><a href='https://wandb.ai/model-development-and-deployment/training_example_3/runs/knygof4a' target=\"_blank\">dazzling-sweep-33</a></strong> to <a href='https://wandb.ai/model-development-and-deployment/training_example_3' target=\"_blank\">Weights & Biases</a> (<a href='https://wandb.me/run' target=\"_blank\">docs</a>)<br/>Sweep page: <a href='https://wandb.ai/model-development-and-deployment/training_example_3/sweeps/tiqmg1o1' target=\"_blank\">https://wandb.ai/model-development-and-deployment/training_example_3/sweeps/tiqmg1o1</a>"
     },
     "metadata": {},
     "output_type": "display_data"
    },
    {
     "data": {
      "text/plain": "<IPython.core.display.HTML object>",
      "text/html": " View project at <a href='https://wandb.ai/model-development-and-deployment/training_example_3' target=\"_blank\">https://wandb.ai/model-development-and-deployment/training_example_3</a>"
     },
     "metadata": {},
     "output_type": "display_data"
    },
    {
     "data": {
      "text/plain": "<IPython.core.display.HTML object>",
      "text/html": " View sweep at <a href='https://wandb.ai/model-development-and-deployment/training_example_3/sweeps/tiqmg1o1' target=\"_blank\">https://wandb.ai/model-development-and-deployment/training_example_3/sweeps/tiqmg1o1</a>"
     },
     "metadata": {},
     "output_type": "display_data"
    },
    {
     "data": {
      "text/plain": "<IPython.core.display.HTML object>",
      "text/html": " View run at <a href='https://wandb.ai/model-development-and-deployment/training_example_3/runs/knygof4a' target=\"_blank\">https://wandb.ai/model-development-and-deployment/training_example_3/runs/knygof4a</a>"
     },
     "metadata": {},
     "output_type": "display_data"
    },
    {
     "name": "stdout",
     "output_type": "stream",
     "text": [
      "Training model fatalities003_nl_baseline_rf\n",
      "Calibration partition (log)\n",
      " * == Performing a run: \"fatalities003_nl_baseline_rf_calib_log\" == * \n",
      "Model object named \"fatalities003_nl_baseline_rf_calib_log\" with equivalent metadata already exists.\n",
      "Retrain is true, overwriting \"fatalities003_nl_baseline_rf_calib_log\"\n",
      "Training model(s)...\n",
      "Storing \"fatalities003_nl_baseline_rf_calib_log\"\n",
      "Getting predictions\n",
      "pr_56_cm_fatalities003_nl_baseline_rf_calib_log_estimators_300_lr_0.2.parquet\n",
      "Test partition ({transform})\n",
      " * == Performing a run: \"fatalities003_nl_baseline_rf_test_log\" == * \n",
      "Model object named \"fatalities003_nl_baseline_rf_test_log\" with equivalent metadata already exists.\n",
      "Retrain is true, overwriting \"fatalities003_nl_baseline_rf_test_log\"\n",
      "Training model(s)...\n",
      "Storing \"fatalities003_nl_baseline_rf_test_log\"\n",
      "Getting predictions\n",
      "pr_56_cm_fatalities003_nl_baseline_rf_test_log_estimators_300_lr_0.2.parquet\n",
      "**************************************************************\n",
      "Evaluating model fatalities003_nl_baseline_rf\n",
      "pr_56_cm_fatalities003_nl_baseline_rf_calib_log_estimators_300_lr_0.2.parquet\n",
      "mse_log 230467.81067284368\n"
     ]
    },
    {
     "data": {
      "text/plain": "VBox(children=(Label(value='0.001 MB of 0.001 MB uploaded\\r'), FloatProgress(value=1.0, max=1.0)))",
      "application/vnd.jupyter.widget-view+json": {
       "version_major": 2,
       "version_minor": 0,
       "model_id": "4639ced7d5bf4ee597f98215cc2d491a"
      }
     },
     "metadata": {},
     "output_type": "display_data"
    },
    {
     "data": {
      "text/plain": "<IPython.core.display.HTML object>",
      "text/html": "<style>\n    table.wandb td:nth-child(1) { padding: 0 10px; text-align: left ; width: auto;} td:nth-child(2) {text-align: left ; width: 100%}\n    .wandb-row { display: flex; flex-direction: row; flex-wrap: wrap; justify-content: flex-start; width: 100% }\n    .wandb-col { display: flex; flex-direction: column; flex-basis: 100%; flex: 1; padding: 10px; }\n    </style>\n<div class=\"wandb-row\"><div class=\"wandb-col\"><h3>Run history:</h3><br/><table class=\"wandb\"><tr><td>mse</td><td>▁</td></tr></table><br/></div><div class=\"wandb-col\"><h3>Run summary:</h3><br/><table class=\"wandb\"><tr><td>mse</td><td>230467.81067</td></tr></table><br/></div></div>"
     },
     "metadata": {},
     "output_type": "display_data"
    },
    {
     "data": {
      "text/plain": "<IPython.core.display.HTML object>",
      "text/html": " View run <strong style=\"color:#cdcd00\">dazzling-sweep-33</strong> at: <a href='https://wandb.ai/model-development-and-deployment/training_example_3/runs/knygof4a' target=\"_blank\">https://wandb.ai/model-development-and-deployment/training_example_3/runs/knygof4a</a><br/>Synced 6 W&B file(s), 0 media file(s), 0 artifact file(s) and 0 other file(s)"
     },
     "metadata": {},
     "output_type": "display_data"
    },
    {
     "data": {
      "text/plain": "<IPython.core.display.HTML object>",
      "text/html": "Find logs at: <code>./wandb/run-20231122_231957-knygof4a/logs</code>"
     },
     "metadata": {},
     "output_type": "display_data"
    },
    {
     "name": "stderr",
     "output_type": "stream",
     "text": [
      "wandb: Agent Starting Run: 6bxvuwi7 with config:\n",
      "wandb: \tlearning_rate: 0.2\n",
      "wandb: \tn_estimators: 300\n",
      "wandb: \tn_jobs: 12\n",
      "wandb: \ttransform: standardize\n"
     ]
    },
    {
     "data": {
      "text/plain": "VBox(children=(Label(value='Waiting for wandb.init()...\\r'), FloatProgress(value=0.011143327322254966, max=1.0…",
      "application/vnd.jupyter.widget-view+json": {
       "version_major": 2,
       "version_minor": 0,
       "model_id": "6c6f099c832c48f78925cc0885646426"
      }
     },
     "metadata": {},
     "output_type": "display_data"
    },
    {
     "data": {
      "text/plain": "<IPython.core.display.HTML object>",
      "text/html": "Tracking run with wandb version 0.16.0"
     },
     "metadata": {},
     "output_type": "display_data"
    },
    {
     "data": {
      "text/plain": "<IPython.core.display.HTML object>",
      "text/html": "Run data is saved locally in <code>/Users/xiaolong/weights-and-biases/wandb/run-20231122_232309-6bxvuwi7</code>"
     },
     "metadata": {},
     "output_type": "display_data"
    },
    {
     "data": {
      "text/plain": "<IPython.core.display.HTML object>",
      "text/html": "Syncing run <strong><a href='https://wandb.ai/model-development-and-deployment/training_example_3/runs/6bxvuwi7' target=\"_blank\">snowy-sweep-34</a></strong> to <a href='https://wandb.ai/model-development-and-deployment/training_example_3' target=\"_blank\">Weights & Biases</a> (<a href='https://wandb.me/run' target=\"_blank\">docs</a>)<br/>Sweep page: <a href='https://wandb.ai/model-development-and-deployment/training_example_3/sweeps/tiqmg1o1' target=\"_blank\">https://wandb.ai/model-development-and-deployment/training_example_3/sweeps/tiqmg1o1</a>"
     },
     "metadata": {},
     "output_type": "display_data"
    },
    {
     "data": {
      "text/plain": "<IPython.core.display.HTML object>",
      "text/html": " View project at <a href='https://wandb.ai/model-development-and-deployment/training_example_3' target=\"_blank\">https://wandb.ai/model-development-and-deployment/training_example_3</a>"
     },
     "metadata": {},
     "output_type": "display_data"
    },
    {
     "data": {
      "text/plain": "<IPython.core.display.HTML object>",
      "text/html": " View sweep at <a href='https://wandb.ai/model-development-and-deployment/training_example_3/sweeps/tiqmg1o1' target=\"_blank\">https://wandb.ai/model-development-and-deployment/training_example_3/sweeps/tiqmg1o1</a>"
     },
     "metadata": {},
     "output_type": "display_data"
    },
    {
     "data": {
      "text/plain": "<IPython.core.display.HTML object>",
      "text/html": " View run at <a href='https://wandb.ai/model-development-and-deployment/training_example_3/runs/6bxvuwi7' target=\"_blank\">https://wandb.ai/model-development-and-deployment/training_example_3/runs/6bxvuwi7</a>"
     },
     "metadata": {},
     "output_type": "display_data"
    },
    {
     "name": "stdout",
     "output_type": "stream",
     "text": [
      "Training model fatalities003_nl_baseline_rf\n",
      "Calibration partition (standardize)\n",
      " * == Performing a run: \"fatalities003_nl_baseline_rf_calib_standardize\" == * \n",
      "Model object named \"fatalities003_nl_baseline_rf_calib_standardize\" with equivalent metadata already exists.\n",
      "Retrain is true, overwriting \"fatalities003_nl_baseline_rf_calib_standardize\"\n",
      "Training model(s)...\n",
      "Storing \"fatalities003_nl_baseline_rf_calib_standardize\"\n",
      "Getting predictions\n",
      "pr_56_cm_fatalities003_nl_baseline_rf_calib_standardize_estimators_300_lr_0.2.parquet\n",
      "cm_fatalities003_nl_baseline_rf_calib_standardize_estimators_300_lr_0.2 , run Fatalities003 does not exist, predicting\n",
      "Test partition ({transform})\n",
      " * == Performing a run: \"fatalities003_nl_baseline_rf_test_standardize\" == * \n",
      "Model object named \"fatalities003_nl_baseline_rf_test_standardize\" with equivalent metadata already exists.\n",
      "Retrain is true, overwriting \"fatalities003_nl_baseline_rf_test_standardize\"\n",
      "Training model(s)...\n",
      "Storing \"fatalities003_nl_baseline_rf_test_standardize\"\n",
      "Getting predictions\n",
      "pr_56_cm_fatalities003_nl_baseline_rf_test_standardize_estimators_300_lr_0.2.parquet\n",
      "cm_fatalities003_nl_baseline_rf_test_standardize_estimators_300_lr_0.2 , run Fatalities003 does not exist, predicting\n",
      "**************************************************************\n",
      "Evaluating model fatalities003_nl_baseline_rf\n",
      "pr_56_cm_fatalities003_nl_baseline_rf_calib_standardize_estimators_300_lr_0.2.parquet\n",
      "mse_standardize 253551.48542236767\n"
     ]
    },
    {
     "data": {
      "text/plain": "VBox(children=(Label(value='0.001 MB of 0.001 MB uploaded\\r'), FloatProgress(value=1.0, max=1.0)))",
      "application/vnd.jupyter.widget-view+json": {
       "version_major": 2,
       "version_minor": 0,
       "model_id": "4fc04120acd942fdaa792b7a331d3f74"
      }
     },
     "metadata": {},
     "output_type": "display_data"
    },
    {
     "data": {
      "text/plain": "<IPython.core.display.HTML object>",
      "text/html": "<style>\n    table.wandb td:nth-child(1) { padding: 0 10px; text-align: left ; width: auto;} td:nth-child(2) {text-align: left ; width: 100%}\n    .wandb-row { display: flex; flex-direction: row; flex-wrap: wrap; justify-content: flex-start; width: 100% }\n    .wandb-col { display: flex; flex-direction: column; flex-basis: 100%; flex: 1; padding: 10px; }\n    </style>\n<div class=\"wandb-row\"><div class=\"wandb-col\"><h3>Run history:</h3><br/><table class=\"wandb\"><tr><td>mse</td><td>▁</td></tr></table><br/></div><div class=\"wandb-col\"><h3>Run summary:</h3><br/><table class=\"wandb\"><tr><td>mse</td><td>253551.48542</td></tr></table><br/></div></div>"
     },
     "metadata": {},
     "output_type": "display_data"
    },
    {
     "data": {
      "text/plain": "<IPython.core.display.HTML object>",
      "text/html": " View run <strong style=\"color:#cdcd00\">snowy-sweep-34</strong> at: <a href='https://wandb.ai/model-development-and-deployment/training_example_3/runs/6bxvuwi7' target=\"_blank\">https://wandb.ai/model-development-and-deployment/training_example_3/runs/6bxvuwi7</a><br/>Synced 6 W&B file(s), 0 media file(s), 0 artifact file(s) and 0 other file(s)"
     },
     "metadata": {},
     "output_type": "display_data"
    },
    {
     "data": {
      "text/plain": "<IPython.core.display.HTML object>",
      "text/html": "Find logs at: <code>./wandb/run-20231122_232309-6bxvuwi7/logs</code>"
     },
     "metadata": {},
     "output_type": "display_data"
    },
    {
     "name": "stderr",
     "output_type": "stream",
     "text": [
      "wandb: Sweep Agent: Waiting for job.\n",
      "wandb: Job received.\n",
      "wandb: Agent Starting Run: 8ldux104 with config:\n",
      "wandb: \tlearning_rate: 0.2\n",
      "wandb: \tn_estimators: 300\n",
      "wandb: \tn_jobs: 12\n",
      "wandb: \ttransform: raw\n"
     ]
    },
    {
     "data": {
      "text/plain": "<IPython.core.display.HTML object>",
      "text/html": "Tracking run with wandb version 0.16.0"
     },
     "metadata": {},
     "output_type": "display_data"
    },
    {
     "data": {
      "text/plain": "<IPython.core.display.HTML object>",
      "text/html": "Run data is saved locally in <code>/Users/xiaolong/weights-and-biases/wandb/run-20231122_232631-8ldux104</code>"
     },
     "metadata": {},
     "output_type": "display_data"
    },
    {
     "data": {
      "text/plain": "<IPython.core.display.HTML object>",
      "text/html": "Syncing run <strong><a href='https://wandb.ai/model-development-and-deployment/training_example_3/runs/8ldux104' target=\"_blank\">exalted-sweep-35</a></strong> to <a href='https://wandb.ai/model-development-and-deployment/training_example_3' target=\"_blank\">Weights & Biases</a> (<a href='https://wandb.me/run' target=\"_blank\">docs</a>)<br/>Sweep page: <a href='https://wandb.ai/model-development-and-deployment/training_example_3/sweeps/tiqmg1o1' target=\"_blank\">https://wandb.ai/model-development-and-deployment/training_example_3/sweeps/tiqmg1o1</a>"
     },
     "metadata": {},
     "output_type": "display_data"
    },
    {
     "data": {
      "text/plain": "<IPython.core.display.HTML object>",
      "text/html": " View project at <a href='https://wandb.ai/model-development-and-deployment/training_example_3' target=\"_blank\">https://wandb.ai/model-development-and-deployment/training_example_3</a>"
     },
     "metadata": {},
     "output_type": "display_data"
    },
    {
     "data": {
      "text/plain": "<IPython.core.display.HTML object>",
      "text/html": " View sweep at <a href='https://wandb.ai/model-development-and-deployment/training_example_3/sweeps/tiqmg1o1' target=\"_blank\">https://wandb.ai/model-development-and-deployment/training_example_3/sweeps/tiqmg1o1</a>"
     },
     "metadata": {},
     "output_type": "display_data"
    },
    {
     "data": {
      "text/plain": "<IPython.core.display.HTML object>",
      "text/html": " View run at <a href='https://wandb.ai/model-development-and-deployment/training_example_3/runs/8ldux104' target=\"_blank\">https://wandb.ai/model-development-and-deployment/training_example_3/runs/8ldux104</a>"
     },
     "metadata": {},
     "output_type": "display_data"
    },
    {
     "name": "stdout",
     "output_type": "stream",
     "text": [
      "Training model fatalities003_nl_baseline_rf\n",
      "Calibration partition (raw)\n",
      " * == Performing a run: \"fatalities003_nl_baseline_rf_calib_raw\" == * \n",
      "Model object named \"fatalities003_nl_baseline_rf_calib_raw\" with equivalent metadata already exists.\n",
      "Retrain is true, overwriting \"fatalities003_nl_baseline_rf_calib_raw\"\n",
      "Training model(s)...\n",
      "Storing \"fatalities003_nl_baseline_rf_calib_raw\"\n",
      "Getting predictions\n",
      "pr_56_cm_fatalities003_nl_baseline_rf_calib_raw_estimators_300_lr_0.2.parquet\n",
      "cm_fatalities003_nl_baseline_rf_calib_raw_estimators_300_lr_0.2 , run Fatalities003 does not exist, predicting\n",
      "Test partition ({transform})\n",
      " * == Performing a run: \"fatalities003_nl_baseline_rf_test_raw\" == * \n",
      "Model object named \"fatalities003_nl_baseline_rf_test_raw\" with equivalent metadata already exists.\n",
      "Retrain is true, overwriting \"fatalities003_nl_baseline_rf_test_raw\"\n",
      "Training model(s)...\n",
      "Storing \"fatalities003_nl_baseline_rf_test_raw\"\n",
      "Getting predictions\n",
      "pr_56_cm_fatalities003_nl_baseline_rf_test_raw_estimators_300_lr_0.2.parquet\n",
      "cm_fatalities003_nl_baseline_rf_test_raw_estimators_300_lr_0.2 , run Fatalities003 does not exist, predicting\n",
      "**************************************************************\n",
      "Evaluating model fatalities003_nl_baseline_rf\n",
      "pr_56_cm_fatalities003_nl_baseline_rf_calib_raw_estimators_300_lr_0.2.parquet\n",
      "mse_raw 225812.41524686167\n"
     ]
    },
    {
     "data": {
      "text/plain": "VBox(children=(Label(value='0.001 MB of 0.004 MB uploaded\\r'), FloatProgress(value=0.21866783523225242, max=1.…",
      "application/vnd.jupyter.widget-view+json": {
       "version_major": 2,
       "version_minor": 0,
       "model_id": "4c5f1ede56b84db394ac3b83a1f80e37"
      }
     },
     "metadata": {},
     "output_type": "display_data"
    },
    {
     "data": {
      "text/plain": "<IPython.core.display.HTML object>",
      "text/html": "<style>\n    table.wandb td:nth-child(1) { padding: 0 10px; text-align: left ; width: auto;} td:nth-child(2) {text-align: left ; width: 100%}\n    .wandb-row { display: flex; flex-direction: row; flex-wrap: wrap; justify-content: flex-start; width: 100% }\n    .wandb-col { display: flex; flex-direction: column; flex-basis: 100%; flex: 1; padding: 10px; }\n    </style>\n<div class=\"wandb-row\"><div class=\"wandb-col\"><h3>Run history:</h3><br/><table class=\"wandb\"><tr><td>mse</td><td>▁</td></tr></table><br/></div><div class=\"wandb-col\"><h3>Run summary:</h3><br/><table class=\"wandb\"><tr><td>mse</td><td>225812.41525</td></tr></table><br/></div></div>"
     },
     "metadata": {},
     "output_type": "display_data"
    },
    {
     "data": {
      "text/plain": "<IPython.core.display.HTML object>",
      "text/html": " View run <strong style=\"color:#cdcd00\">exalted-sweep-35</strong> at: <a href='https://wandb.ai/model-development-and-deployment/training_example_3/runs/8ldux104' target=\"_blank\">https://wandb.ai/model-development-and-deployment/training_example_3/runs/8ldux104</a><br/>Synced 6 W&B file(s), 0 media file(s), 0 artifact file(s) and 0 other file(s)"
     },
     "metadata": {},
     "output_type": "display_data"
    },
    {
     "data": {
      "text/plain": "<IPython.core.display.HTML object>",
      "text/html": "Find logs at: <code>./wandb/run-20231122_232631-8ldux104/logs</code>"
     },
     "metadata": {},
     "output_type": "display_data"
    },
    {
     "name": "stderr",
     "output_type": "stream",
     "text": [
      "wandb: Agent Starting Run: ipq3mvzr with config:\n",
      "wandb: \tlearning_rate: 0.2\n",
      "wandb: \tn_estimators: 300\n",
      "wandb: \tn_jobs: 12\n",
      "wandb: \ttransform: normalize\n"
     ]
    },
    {
     "data": {
      "text/plain": "<IPython.core.display.HTML object>",
      "text/html": "Tracking run with wandb version 0.16.0"
     },
     "metadata": {},
     "output_type": "display_data"
    },
    {
     "data": {
      "text/plain": "<IPython.core.display.HTML object>",
      "text/html": "Run data is saved locally in <code>/Users/xiaolong/weights-and-biases/wandb/run-20231122_232943-ipq3mvzr</code>"
     },
     "metadata": {},
     "output_type": "display_data"
    },
    {
     "data": {
      "text/plain": "<IPython.core.display.HTML object>",
      "text/html": "Syncing run <strong><a href='https://wandb.ai/model-development-and-deployment/training_example_3/runs/ipq3mvzr' target=\"_blank\">fast-sweep-36</a></strong> to <a href='https://wandb.ai/model-development-and-deployment/training_example_3' target=\"_blank\">Weights & Biases</a> (<a href='https://wandb.me/run' target=\"_blank\">docs</a>)<br/>Sweep page: <a href='https://wandb.ai/model-development-and-deployment/training_example_3/sweeps/tiqmg1o1' target=\"_blank\">https://wandb.ai/model-development-and-deployment/training_example_3/sweeps/tiqmg1o1</a>"
     },
     "metadata": {},
     "output_type": "display_data"
    },
    {
     "data": {
      "text/plain": "<IPython.core.display.HTML object>",
      "text/html": " View project at <a href='https://wandb.ai/model-development-and-deployment/training_example_3' target=\"_blank\">https://wandb.ai/model-development-and-deployment/training_example_3</a>"
     },
     "metadata": {},
     "output_type": "display_data"
    },
    {
     "data": {
      "text/plain": "<IPython.core.display.HTML object>",
      "text/html": " View sweep at <a href='https://wandb.ai/model-development-and-deployment/training_example_3/sweeps/tiqmg1o1' target=\"_blank\">https://wandb.ai/model-development-and-deployment/training_example_3/sweeps/tiqmg1o1</a>"
     },
     "metadata": {},
     "output_type": "display_data"
    },
    {
     "data": {
      "text/plain": "<IPython.core.display.HTML object>",
      "text/html": " View run at <a href='https://wandb.ai/model-development-and-deployment/training_example_3/runs/ipq3mvzr' target=\"_blank\">https://wandb.ai/model-development-and-deployment/training_example_3/runs/ipq3mvzr</a>"
     },
     "metadata": {},
     "output_type": "display_data"
    },
    {
     "name": "stdout",
     "output_type": "stream",
     "text": [
      "Training model fatalities003_nl_baseline_rf\n",
      "Calibration partition (normalize)\n",
      " * == Performing a run: \"fatalities003_nl_baseline_rf_calib_normalize\" == * \n",
      "Model object named \"fatalities003_nl_baseline_rf_calib_normalize\" with equivalent metadata already exists.\n",
      "Retrain is true, overwriting \"fatalities003_nl_baseline_rf_calib_normalize\"\n",
      "Training model(s)...\n",
      "Storing \"fatalities003_nl_baseline_rf_calib_normalize\"\n",
      "Getting predictions\n",
      "pr_56_cm_fatalities003_nl_baseline_rf_calib_normalize_estimators_300_lr_0.2.parquet\n",
      "cm_fatalities003_nl_baseline_rf_calib_normalize_estimators_300_lr_0.2 , run Fatalities003 does not exist, predicting\n",
      "Test partition ({transform})\n",
      " * == Performing a run: \"fatalities003_nl_baseline_rf_test_normalize\" == * \n",
      "Model object named \"fatalities003_nl_baseline_rf_test_normalize\" with equivalent metadata already exists.\n",
      "Retrain is true, overwriting \"fatalities003_nl_baseline_rf_test_normalize\"\n",
      "Training model(s)...\n",
      "Storing \"fatalities003_nl_baseline_rf_test_normalize\"\n",
      "Getting predictions\n",
      "pr_56_cm_fatalities003_nl_baseline_rf_test_normalize_estimators_300_lr_0.2.parquet\n",
      "cm_fatalities003_nl_baseline_rf_test_normalize_estimators_300_lr_0.2 , run Fatalities003 does not exist, predicting\n",
      "**************************************************************\n",
      "Evaluating model fatalities003_nl_baseline_rf\n",
      "pr_56_cm_fatalities003_nl_baseline_rf_calib_normalize_estimators_300_lr_0.2.parquet\n",
      "mse_normalize 1010642616.3420583\n"
     ]
    },
    {
     "data": {
      "text/plain": "VBox(children=(Label(value='0.001 MB of 0.001 MB uploaded\\r'), FloatProgress(value=1.0, max=1.0)))",
      "application/vnd.jupyter.widget-view+json": {
       "version_major": 2,
       "version_minor": 0,
       "model_id": "62e47a53ea5347598868cee58de524cf"
      }
     },
     "metadata": {},
     "output_type": "display_data"
    },
    {
     "data": {
      "text/plain": "<IPython.core.display.HTML object>",
      "text/html": "<style>\n    table.wandb td:nth-child(1) { padding: 0 10px; text-align: left ; width: auto;} td:nth-child(2) {text-align: left ; width: 100%}\n    .wandb-row { display: flex; flex-direction: row; flex-wrap: wrap; justify-content: flex-start; width: 100% }\n    .wandb-col { display: flex; flex-direction: column; flex-basis: 100%; flex: 1; padding: 10px; }\n    </style>\n<div class=\"wandb-row\"><div class=\"wandb-col\"><h3>Run history:</h3><br/><table class=\"wandb\"><tr><td>mse</td><td>▁</td></tr></table><br/></div><div class=\"wandb-col\"><h3>Run summary:</h3><br/><table class=\"wandb\"><tr><td>mse</td><td>1010642616.34206</td></tr></table><br/></div></div>"
     },
     "metadata": {},
     "output_type": "display_data"
    },
    {
     "data": {
      "text/plain": "<IPython.core.display.HTML object>",
      "text/html": " View run <strong style=\"color:#cdcd00\">fast-sweep-36</strong> at: <a href='https://wandb.ai/model-development-and-deployment/training_example_3/runs/ipq3mvzr' target=\"_blank\">https://wandb.ai/model-development-and-deployment/training_example_3/runs/ipq3mvzr</a><br/>Synced 6 W&B file(s), 0 media file(s), 0 artifact file(s) and 0 other file(s)"
     },
     "metadata": {},
     "output_type": "display_data"
    },
    {
     "data": {
      "text/plain": "<IPython.core.display.HTML object>",
      "text/html": "Find logs at: <code>./wandb/run-20231122_232943-ipq3mvzr/logs</code>"
     },
     "metadata": {},
     "output_type": "display_data"
    },
    {
     "name": "stderr",
     "output_type": "stream",
     "text": [
      "wandb: Sweep Agent: Waiting for job.\n",
      "wandb: Sweep Agent: Exiting.\n"
     ]
    },
    {
     "name": "stdout",
     "output_type": "stream",
     "text": [
      "Create sweep with ID: u4jwjwkx\n",
      "Sweep URL: https://wandb.ai/model-development-and-deployment/training_example_3/sweeps/u4jwjwkx\n"
     ]
    },
    {
     "name": "stderr",
     "output_type": "stream",
     "text": [
      "wandb: Agent Starting Run: 63olwgfy with config:\n",
      "wandb: \tlearning_rate: 0.05\n",
      "wandb: \tn_estimators: 100\n",
      "wandb: \tn_jobs: 12\n",
      "wandb: \ttransform: log\n"
     ]
    },
    {
     "data": {
      "text/plain": "<IPython.core.display.HTML object>",
      "text/html": "Tracking run with wandb version 0.16.0"
     },
     "metadata": {},
     "output_type": "display_data"
    },
    {
     "data": {
      "text/plain": "<IPython.core.display.HTML object>",
      "text/html": "Run data is saved locally in <code>/Users/xiaolong/weights-and-biases/wandb/run-20231122_233249-63olwgfy</code>"
     },
     "metadata": {},
     "output_type": "display_data"
    },
    {
     "data": {
      "text/plain": "<IPython.core.display.HTML object>",
      "text/html": "Syncing run <strong><a href='https://wandb.ai/model-development-and-deployment/training_example_3/runs/63olwgfy' target=\"_blank\">effortless-sweep-1</a></strong> to <a href='https://wandb.ai/model-development-and-deployment/training_example_3' target=\"_blank\">Weights & Biases</a> (<a href='https://wandb.me/run' target=\"_blank\">docs</a>)<br/>Sweep page: <a href='https://wandb.ai/model-development-and-deployment/training_example_3/sweeps/u4jwjwkx' target=\"_blank\">https://wandb.ai/model-development-and-deployment/training_example_3/sweeps/u4jwjwkx</a>"
     },
     "metadata": {},
     "output_type": "display_data"
    },
    {
     "data": {
      "text/plain": "<IPython.core.display.HTML object>",
      "text/html": " View project at <a href='https://wandb.ai/model-development-and-deployment/training_example_3' target=\"_blank\">https://wandb.ai/model-development-and-deployment/training_example_3</a>"
     },
     "metadata": {},
     "output_type": "display_data"
    },
    {
     "data": {
      "text/plain": "<IPython.core.display.HTML object>",
      "text/html": " View sweep at <a href='https://wandb.ai/model-development-and-deployment/training_example_3/sweeps/u4jwjwkx' target=\"_blank\">https://wandb.ai/model-development-and-deployment/training_example_3/sweeps/u4jwjwkx</a>"
     },
     "metadata": {},
     "output_type": "display_data"
    },
    {
     "data": {
      "text/plain": "<IPython.core.display.HTML object>",
      "text/html": " View run at <a href='https://wandb.ai/model-development-and-deployment/training_example_3/runs/63olwgfy' target=\"_blank\">https://wandb.ai/model-development-and-deployment/training_example_3/runs/63olwgfy</a>"
     },
     "metadata": {},
     "output_type": "display_data"
    },
    {
     "name": "stdout",
     "output_type": "stream",
     "text": [
      "Training model fatalities003_joint_narrow_xgb\n",
      "Calibration partition (log)\n",
      " * == Performing a run: \"fatalities003_joint_narrow_xgb_calib_log\" == * \n",
      "Training model(s)...\n"
     ]
    },
    {
     "name": "stderr",
     "output_type": "stream",
     "text": [
      "Reordering feature dimension. Save memory by setting the outcome feature as the first column in your dataframe.\n"
     ]
    },
    {
     "name": "stdout",
     "output_type": "stream",
     "text": [
      "Storing \"fatalities003_joint_narrow_xgb_calib_log\"\n",
      "Getting predictions\n",
      "pr_56_cm_fatalities003_joint_narrow_xgb_calib_log_estimators_100_lr_0.05.parquet\n",
      "cm_fatalities003_joint_narrow_xgb_calib_log_estimators_100_lr_0.05 , run Fatalities003 does not exist, predicting\n",
      "Test partition ({transform})\n",
      " * == Performing a run: \"fatalities003_joint_narrow_xgb_test_log\" == * \n",
      "Training model(s)...\n"
     ]
    },
    {
     "name": "stderr",
     "output_type": "stream",
     "text": [
      "Reordering feature dimension. Save memory by setting the outcome feature as the first column in your dataframe.\n"
     ]
    },
    {
     "name": "stdout",
     "output_type": "stream",
     "text": [
      "Storing \"fatalities003_joint_narrow_xgb_test_log\"\n",
      "Getting predictions\n",
      "pr_56_cm_fatalities003_joint_narrow_xgb_test_log_estimators_100_lr_0.05.parquet\n",
      "cm_fatalities003_joint_narrow_xgb_test_log_estimators_100_lr_0.05 , run Fatalities003 does not exist, predicting\n",
      "**************************************************************\n",
      "Evaluating model fatalities003_joint_narrow_xgb\n",
      "pr_56_cm_fatalities003_joint_narrow_xgb_calib_log_estimators_100_lr_0.05.parquet\n",
      "mse_log 1.994244771197045\n"
     ]
    },
    {
     "data": {
      "text/plain": "VBox(children=(Label(value='0.001 MB of 0.001 MB uploaded\\r'), FloatProgress(value=1.0, max=1.0)))",
      "application/vnd.jupyter.widget-view+json": {
       "version_major": 2,
       "version_minor": 0,
       "model_id": "29a0dea0a7194b86938d1d19cbce1f4b"
      }
     },
     "metadata": {},
     "output_type": "display_data"
    },
    {
     "data": {
      "text/plain": "<IPython.core.display.HTML object>",
      "text/html": "<style>\n    table.wandb td:nth-child(1) { padding: 0 10px; text-align: left ; width: auto;} td:nth-child(2) {text-align: left ; width: 100%}\n    .wandb-row { display: flex; flex-direction: row; flex-wrap: wrap; justify-content: flex-start; width: 100% }\n    .wandb-col { display: flex; flex-direction: column; flex-basis: 100%; flex: 1; padding: 10px; }\n    </style>\n<div class=\"wandb-row\"><div class=\"wandb-col\"><h3>Run history:</h3><br/><table class=\"wandb\"><tr><td>mse</td><td>▁</td></tr></table><br/></div><div class=\"wandb-col\"><h3>Run summary:</h3><br/><table class=\"wandb\"><tr><td>mse</td><td>1.99424</td></tr></table><br/></div></div>"
     },
     "metadata": {},
     "output_type": "display_data"
    },
    {
     "data": {
      "text/plain": "<IPython.core.display.HTML object>",
      "text/html": " View run <strong style=\"color:#cdcd00\">effortless-sweep-1</strong> at: <a href='https://wandb.ai/model-development-and-deployment/training_example_3/runs/63olwgfy' target=\"_blank\">https://wandb.ai/model-development-and-deployment/training_example_3/runs/63olwgfy</a><br/>Synced 6 W&B file(s), 0 media file(s), 0 artifact file(s) and 0 other file(s)"
     },
     "metadata": {},
     "output_type": "display_data"
    },
    {
     "data": {
      "text/plain": "<IPython.core.display.HTML object>",
      "text/html": "Find logs at: <code>./wandb/run-20231122_233249-63olwgfy/logs</code>"
     },
     "metadata": {},
     "output_type": "display_data"
    },
    {
     "name": "stderr",
     "output_type": "stream",
     "text": [
      "wandb: Agent Starting Run: ezmlmy0h with config:\n",
      "wandb: \tlearning_rate: 0.05\n",
      "wandb: \tn_estimators: 100\n",
      "wandb: \tn_jobs: 12\n",
      "wandb: \ttransform: standardize\n"
     ]
    },
    {
     "data": {
      "text/plain": "<IPython.core.display.HTML object>",
      "text/html": "Tracking run with wandb version 0.16.0"
     },
     "metadata": {},
     "output_type": "display_data"
    },
    {
     "data": {
      "text/plain": "<IPython.core.display.HTML object>",
      "text/html": "Run data is saved locally in <code>/Users/xiaolong/weights-and-biases/wandb/run-20231122_233514-ezmlmy0h</code>"
     },
     "metadata": {},
     "output_type": "display_data"
    },
    {
     "data": {
      "text/plain": "<IPython.core.display.HTML object>",
      "text/html": "Syncing run <strong><a href='https://wandb.ai/model-development-and-deployment/training_example_3/runs/ezmlmy0h' target=\"_blank\">light-sweep-2</a></strong> to <a href='https://wandb.ai/model-development-and-deployment/training_example_3' target=\"_blank\">Weights & Biases</a> (<a href='https://wandb.me/run' target=\"_blank\">docs</a>)<br/>Sweep page: <a href='https://wandb.ai/model-development-and-deployment/training_example_3/sweeps/u4jwjwkx' target=\"_blank\">https://wandb.ai/model-development-and-deployment/training_example_3/sweeps/u4jwjwkx</a>"
     },
     "metadata": {},
     "output_type": "display_data"
    },
    {
     "data": {
      "text/plain": "<IPython.core.display.HTML object>",
      "text/html": " View project at <a href='https://wandb.ai/model-development-and-deployment/training_example_3' target=\"_blank\">https://wandb.ai/model-development-and-deployment/training_example_3</a>"
     },
     "metadata": {},
     "output_type": "display_data"
    },
    {
     "data": {
      "text/plain": "<IPython.core.display.HTML object>",
      "text/html": " View sweep at <a href='https://wandb.ai/model-development-and-deployment/training_example_3/sweeps/u4jwjwkx' target=\"_blank\">https://wandb.ai/model-development-and-deployment/training_example_3/sweeps/u4jwjwkx</a>"
     },
     "metadata": {},
     "output_type": "display_data"
    },
    {
     "data": {
      "text/plain": "<IPython.core.display.HTML object>",
      "text/html": " View run at <a href='https://wandb.ai/model-development-and-deployment/training_example_3/runs/ezmlmy0h' target=\"_blank\">https://wandb.ai/model-development-and-deployment/training_example_3/runs/ezmlmy0h</a>"
     },
     "metadata": {},
     "output_type": "display_data"
    },
    {
     "name": "stdout",
     "output_type": "stream",
     "text": [
      "Training model fatalities003_joint_narrow_xgb\n",
      "Calibration partition (standardize)\n",
      " * == Performing a run: \"fatalities003_joint_narrow_xgb_calib_standardize\" == * \n",
      "Training model(s)...\n"
     ]
    },
    {
     "name": "stderr",
     "output_type": "stream",
     "text": [
      "Reordering feature dimension. Save memory by setting the outcome feature as the first column in your dataframe.\n"
     ]
    },
    {
     "name": "stdout",
     "output_type": "stream",
     "text": [
      "Storing \"fatalities003_joint_narrow_xgb_calib_standardize\"\n",
      "Getting predictions\n",
      "pr_56_cm_fatalities003_joint_narrow_xgb_calib_standardize_estimators_100_lr_0.05.parquet\n",
      "cm_fatalities003_joint_narrow_xgb_calib_standardize_estimators_100_lr_0.05 , run Fatalities003 does not exist, predicting\n",
      "Test partition ({transform})\n",
      " * == Performing a run: \"fatalities003_joint_narrow_xgb_test_standardize\" == * \n",
      "Training model(s)...\n"
     ]
    },
    {
     "name": "stderr",
     "output_type": "stream",
     "text": [
      "Reordering feature dimension. Save memory by setting the outcome feature as the first column in your dataframe.\n"
     ]
    },
    {
     "name": "stdout",
     "output_type": "stream",
     "text": [
      "Storing \"fatalities003_joint_narrow_xgb_test_standardize\"\n",
      "Getting predictions\n",
      "pr_56_cm_fatalities003_joint_narrow_xgb_test_standardize_estimators_100_lr_0.05.parquet\n",
      "cm_fatalities003_joint_narrow_xgb_test_standardize_estimators_100_lr_0.05 , run Fatalities003 does not exist, predicting\n",
      "**************************************************************\n",
      "Evaluating model fatalities003_joint_narrow_xgb\n",
      "pr_56_cm_fatalities003_joint_narrow_xgb_calib_standardize_estimators_100_lr_0.05.parquet\n",
      "mse_standardize 2.386741672967808\n"
     ]
    },
    {
     "data": {
      "text/plain": "VBox(children=(Label(value='0.001 MB of 0.001 MB uploaded\\r'), FloatProgress(value=1.0, max=1.0)))",
      "application/vnd.jupyter.widget-view+json": {
       "version_major": 2,
       "version_minor": 0,
       "model_id": "628110eeb6794cd5b557dbfe5614c240"
      }
     },
     "metadata": {},
     "output_type": "display_data"
    },
    {
     "data": {
      "text/plain": "<IPython.core.display.HTML object>",
      "text/html": "<style>\n    table.wandb td:nth-child(1) { padding: 0 10px; text-align: left ; width: auto;} td:nth-child(2) {text-align: left ; width: 100%}\n    .wandb-row { display: flex; flex-direction: row; flex-wrap: wrap; justify-content: flex-start; width: 100% }\n    .wandb-col { display: flex; flex-direction: column; flex-basis: 100%; flex: 1; padding: 10px; }\n    </style>\n<div class=\"wandb-row\"><div class=\"wandb-col\"><h3>Run history:</h3><br/><table class=\"wandb\"><tr><td>mse</td><td>▁</td></tr></table><br/></div><div class=\"wandb-col\"><h3>Run summary:</h3><br/><table class=\"wandb\"><tr><td>mse</td><td>2.38674</td></tr></table><br/></div></div>"
     },
     "metadata": {},
     "output_type": "display_data"
    },
    {
     "data": {
      "text/plain": "<IPython.core.display.HTML object>",
      "text/html": " View run <strong style=\"color:#cdcd00\">light-sweep-2</strong> at: <a href='https://wandb.ai/model-development-and-deployment/training_example_3/runs/ezmlmy0h' target=\"_blank\">https://wandb.ai/model-development-and-deployment/training_example_3/runs/ezmlmy0h</a><br/>Synced 6 W&B file(s), 0 media file(s), 0 artifact file(s) and 0 other file(s)"
     },
     "metadata": {},
     "output_type": "display_data"
    },
    {
     "data": {
      "text/plain": "<IPython.core.display.HTML object>",
      "text/html": "Find logs at: <code>./wandb/run-20231122_233514-ezmlmy0h/logs</code>"
     },
     "metadata": {},
     "output_type": "display_data"
    },
    {
     "name": "stderr",
     "output_type": "stream",
     "text": [
      "wandb: Agent Starting Run: pm4ju7e7 with config:\n",
      "wandb: \tlearning_rate: 0.05\n",
      "wandb: \tn_estimators: 100\n",
      "wandb: \tn_jobs: 12\n",
      "wandb: \ttransform: raw\n"
     ]
    },
    {
     "data": {
      "text/plain": "<IPython.core.display.HTML object>",
      "text/html": "Tracking run with wandb version 0.16.0"
     },
     "metadata": {},
     "output_type": "display_data"
    },
    {
     "data": {
      "text/plain": "<IPython.core.display.HTML object>",
      "text/html": "Run data is saved locally in <code>/Users/xiaolong/weights-and-biases/wandb/run-20231122_233724-pm4ju7e7</code>"
     },
     "metadata": {},
     "output_type": "display_data"
    },
    {
     "data": {
      "text/plain": "<IPython.core.display.HTML object>",
      "text/html": "Syncing run <strong><a href='https://wandb.ai/model-development-and-deployment/training_example_3/runs/pm4ju7e7' target=\"_blank\">clean-sweep-3</a></strong> to <a href='https://wandb.ai/model-development-and-deployment/training_example_3' target=\"_blank\">Weights & Biases</a> (<a href='https://wandb.me/run' target=\"_blank\">docs</a>)<br/>Sweep page: <a href='https://wandb.ai/model-development-and-deployment/training_example_3/sweeps/u4jwjwkx' target=\"_blank\">https://wandb.ai/model-development-and-deployment/training_example_3/sweeps/u4jwjwkx</a>"
     },
     "metadata": {},
     "output_type": "display_data"
    },
    {
     "data": {
      "text/plain": "<IPython.core.display.HTML object>",
      "text/html": " View project at <a href='https://wandb.ai/model-development-and-deployment/training_example_3' target=\"_blank\">https://wandb.ai/model-development-and-deployment/training_example_3</a>"
     },
     "metadata": {},
     "output_type": "display_data"
    },
    {
     "data": {
      "text/plain": "<IPython.core.display.HTML object>",
      "text/html": " View sweep at <a href='https://wandb.ai/model-development-and-deployment/training_example_3/sweeps/u4jwjwkx' target=\"_blank\">https://wandb.ai/model-development-and-deployment/training_example_3/sweeps/u4jwjwkx</a>"
     },
     "metadata": {},
     "output_type": "display_data"
    },
    {
     "data": {
      "text/plain": "<IPython.core.display.HTML object>",
      "text/html": " View run at <a href='https://wandb.ai/model-development-and-deployment/training_example_3/runs/pm4ju7e7' target=\"_blank\">https://wandb.ai/model-development-and-deployment/training_example_3/runs/pm4ju7e7</a>"
     },
     "metadata": {},
     "output_type": "display_data"
    },
    {
     "name": "stdout",
     "output_type": "stream",
     "text": [
      "Training model fatalities003_joint_narrow_xgb\n",
      "Calibration partition (raw)\n",
      " * == Performing a run: \"fatalities003_joint_narrow_xgb_calib_raw\" == * \n",
      "Training model(s)...\n"
     ]
    },
    {
     "name": "stderr",
     "output_type": "stream",
     "text": [
      "Reordering feature dimension. Save memory by setting the outcome feature as the first column in your dataframe.\n"
     ]
    },
    {
     "name": "stdout",
     "output_type": "stream",
     "text": [
      "Storing \"fatalities003_joint_narrow_xgb_calib_raw\"\n",
      "Getting predictions\n",
      "pr_56_cm_fatalities003_joint_narrow_xgb_calib_raw_estimators_100_lr_0.05.parquet\n",
      "cm_fatalities003_joint_narrow_xgb_calib_raw_estimators_100_lr_0.05 , run Fatalities003 does not exist, predicting\n",
      "Test partition ({transform})\n",
      " * == Performing a run: \"fatalities003_joint_narrow_xgb_test_raw\" == * \n",
      "Training model(s)...\n"
     ]
    },
    {
     "name": "stderr",
     "output_type": "stream",
     "text": [
      "Reordering feature dimension. Save memory by setting the outcome feature as the first column in your dataframe.\n"
     ]
    },
    {
     "name": "stdout",
     "output_type": "stream",
     "text": [
      "Storing \"fatalities003_joint_narrow_xgb_test_raw\"\n",
      "Getting predictions\n",
      "pr_56_cm_fatalities003_joint_narrow_xgb_test_raw_estimators_100_lr_0.05.parquet\n",
      "cm_fatalities003_joint_narrow_xgb_test_raw_estimators_100_lr_0.05 , run Fatalities003 does not exist, predicting\n",
      "**************************************************************\n",
      "Evaluating model fatalities003_joint_narrow_xgb\n",
      "pr_56_cm_fatalities003_joint_narrow_xgb_calib_raw_estimators_100_lr_0.05.parquet\n",
      "mse_raw 1.9397141392677488\n"
     ]
    },
    {
     "data": {
      "text/plain": "VBox(children=(Label(value='0.001 MB of 0.001 MB uploaded\\r'), FloatProgress(value=1.0, max=1.0)))",
      "application/vnd.jupyter.widget-view+json": {
       "version_major": 2,
       "version_minor": 0,
       "model_id": "731f1cf921b749428ae8205e94eaa5fb"
      }
     },
     "metadata": {},
     "output_type": "display_data"
    },
    {
     "data": {
      "text/plain": "<IPython.core.display.HTML object>",
      "text/html": "<style>\n    table.wandb td:nth-child(1) { padding: 0 10px; text-align: left ; width: auto;} td:nth-child(2) {text-align: left ; width: 100%}\n    .wandb-row { display: flex; flex-direction: row; flex-wrap: wrap; justify-content: flex-start; width: 100% }\n    .wandb-col { display: flex; flex-direction: column; flex-basis: 100%; flex: 1; padding: 10px; }\n    </style>\n<div class=\"wandb-row\"><div class=\"wandb-col\"><h3>Run history:</h3><br/><table class=\"wandb\"><tr><td>mse</td><td>▁</td></tr></table><br/></div><div class=\"wandb-col\"><h3>Run summary:</h3><br/><table class=\"wandb\"><tr><td>mse</td><td>1.93971</td></tr></table><br/></div></div>"
     },
     "metadata": {},
     "output_type": "display_data"
    },
    {
     "data": {
      "text/plain": "<IPython.core.display.HTML object>",
      "text/html": " View run <strong style=\"color:#cdcd00\">clean-sweep-3</strong> at: <a href='https://wandb.ai/model-development-and-deployment/training_example_3/runs/pm4ju7e7' target=\"_blank\">https://wandb.ai/model-development-and-deployment/training_example_3/runs/pm4ju7e7</a><br/>Synced 6 W&B file(s), 0 media file(s), 0 artifact file(s) and 0 other file(s)"
     },
     "metadata": {},
     "output_type": "display_data"
    },
    {
     "data": {
      "text/plain": "<IPython.core.display.HTML object>",
      "text/html": "Find logs at: <code>./wandb/run-20231122_233724-pm4ju7e7/logs</code>"
     },
     "metadata": {},
     "output_type": "display_data"
    },
    {
     "name": "stderr",
     "output_type": "stream",
     "text": [
      "wandb: Agent Starting Run: t9furlyk with config:\n",
      "wandb: \tlearning_rate: 0.05\n",
      "wandb: \tn_estimators: 100\n",
      "wandb: \tn_jobs: 12\n",
      "wandb: \ttransform: normalize\n"
     ]
    },
    {
     "data": {
      "text/plain": "<IPython.core.display.HTML object>",
      "text/html": "Tracking run with wandb version 0.16.0"
     },
     "metadata": {},
     "output_type": "display_data"
    },
    {
     "data": {
      "text/plain": "<IPython.core.display.HTML object>",
      "text/html": "Run data is saved locally in <code>/Users/xiaolong/weights-and-biases/wandb/run-20231122_233933-t9furlyk</code>"
     },
     "metadata": {},
     "output_type": "display_data"
    },
    {
     "data": {
      "text/plain": "<IPython.core.display.HTML object>",
      "text/html": "Syncing run <strong><a href='https://wandb.ai/model-development-and-deployment/training_example_3/runs/t9furlyk' target=\"_blank\">dark-sweep-4</a></strong> to <a href='https://wandb.ai/model-development-and-deployment/training_example_3' target=\"_blank\">Weights & Biases</a> (<a href='https://wandb.me/run' target=\"_blank\">docs</a>)<br/>Sweep page: <a href='https://wandb.ai/model-development-and-deployment/training_example_3/sweeps/u4jwjwkx' target=\"_blank\">https://wandb.ai/model-development-and-deployment/training_example_3/sweeps/u4jwjwkx</a>"
     },
     "metadata": {},
     "output_type": "display_data"
    },
    {
     "data": {
      "text/plain": "<IPython.core.display.HTML object>",
      "text/html": " View project at <a href='https://wandb.ai/model-development-and-deployment/training_example_3' target=\"_blank\">https://wandb.ai/model-development-and-deployment/training_example_3</a>"
     },
     "metadata": {},
     "output_type": "display_data"
    },
    {
     "data": {
      "text/plain": "<IPython.core.display.HTML object>",
      "text/html": " View sweep at <a href='https://wandb.ai/model-development-and-deployment/training_example_3/sweeps/u4jwjwkx' target=\"_blank\">https://wandb.ai/model-development-and-deployment/training_example_3/sweeps/u4jwjwkx</a>"
     },
     "metadata": {},
     "output_type": "display_data"
    },
    {
     "data": {
      "text/plain": "<IPython.core.display.HTML object>",
      "text/html": " View run at <a href='https://wandb.ai/model-development-and-deployment/training_example_3/runs/t9furlyk' target=\"_blank\">https://wandb.ai/model-development-and-deployment/training_example_3/runs/t9furlyk</a>"
     },
     "metadata": {},
     "output_type": "display_data"
    },
    {
     "name": "stdout",
     "output_type": "stream",
     "text": [
      "Training model fatalities003_joint_narrow_xgb\n",
      "Calibration partition (normalize)\n",
      " * == Performing a run: \"fatalities003_joint_narrow_xgb_calib_normalize\" == * \n",
      "Training model(s)...\n"
     ]
    },
    {
     "name": "stderr",
     "output_type": "stream",
     "text": [
      "Reordering feature dimension. Save memory by setting the outcome feature as the first column in your dataframe.\n"
     ]
    },
    {
     "name": "stdout",
     "output_type": "stream",
     "text": [
      "Storing \"fatalities003_joint_narrow_xgb_calib_normalize\"\n",
      "Getting predictions\n",
      "pr_56_cm_fatalities003_joint_narrow_xgb_calib_normalize_estimators_100_lr_0.05.parquet\n",
      "cm_fatalities003_joint_narrow_xgb_calib_normalize_estimators_100_lr_0.05 , run Fatalities003 does not exist, predicting\n",
      "Test partition ({transform})\n",
      " * == Performing a run: \"fatalities003_joint_narrow_xgb_test_normalize\" == * \n",
      "Training model(s)...\n"
     ]
    },
    {
     "name": "stderr",
     "output_type": "stream",
     "text": [
      "Reordering feature dimension. Save memory by setting the outcome feature as the first column in your dataframe.\n"
     ]
    },
    {
     "name": "stdout",
     "output_type": "stream",
     "text": [
      "Storing \"fatalities003_joint_narrow_xgb_test_normalize\"\n",
      "Getting predictions\n",
      "pr_56_cm_fatalities003_joint_narrow_xgb_test_normalize_estimators_100_lr_0.05.parquet\n",
      "cm_fatalities003_joint_narrow_xgb_test_normalize_estimators_100_lr_0.05 , run Fatalities003 does not exist, predicting\n",
      "**************************************************************\n",
      "Evaluating model fatalities003_joint_narrow_xgb\n",
      "pr_56_cm_fatalities003_joint_narrow_xgb_calib_normalize_estimators_100_lr_0.05.parquet\n",
      "mse_normalize 25.840437515554036\n"
     ]
    },
    {
     "data": {
      "text/plain": "VBox(children=(Label(value='0.001 MB of 0.001 MB uploaded\\r'), FloatProgress(value=1.0, max=1.0)))",
      "application/vnd.jupyter.widget-view+json": {
       "version_major": 2,
       "version_minor": 0,
       "model_id": "a460294796414bf1a0a76b9d2b6210db"
      }
     },
     "metadata": {},
     "output_type": "display_data"
    },
    {
     "data": {
      "text/plain": "<IPython.core.display.HTML object>",
      "text/html": "<style>\n    table.wandb td:nth-child(1) { padding: 0 10px; text-align: left ; width: auto;} td:nth-child(2) {text-align: left ; width: 100%}\n    .wandb-row { display: flex; flex-direction: row; flex-wrap: wrap; justify-content: flex-start; width: 100% }\n    .wandb-col { display: flex; flex-direction: column; flex-basis: 100%; flex: 1; padding: 10px; }\n    </style>\n<div class=\"wandb-row\"><div class=\"wandb-col\"><h3>Run history:</h3><br/><table class=\"wandb\"><tr><td>mse</td><td>▁</td></tr></table><br/></div><div class=\"wandb-col\"><h3>Run summary:</h3><br/><table class=\"wandb\"><tr><td>mse</td><td>25.84044</td></tr></table><br/></div></div>"
     },
     "metadata": {},
     "output_type": "display_data"
    },
    {
     "data": {
      "text/plain": "<IPython.core.display.HTML object>",
      "text/html": " View run <strong style=\"color:#cdcd00\">dark-sweep-4</strong> at: <a href='https://wandb.ai/model-development-and-deployment/training_example_3/runs/t9furlyk' target=\"_blank\">https://wandb.ai/model-development-and-deployment/training_example_3/runs/t9furlyk</a><br/>Synced 6 W&B file(s), 0 media file(s), 0 artifact file(s) and 0 other file(s)"
     },
     "metadata": {},
     "output_type": "display_data"
    },
    {
     "data": {
      "text/plain": "<IPython.core.display.HTML object>",
      "text/html": "Find logs at: <code>./wandb/run-20231122_233933-t9furlyk/logs</code>"
     },
     "metadata": {},
     "output_type": "display_data"
    },
    {
     "name": "stderr",
     "output_type": "stream",
     "text": [
      "wandb: Agent Starting Run: ljiqsu88 with config:\n",
      "wandb: \tlearning_rate: 0.05\n",
      "wandb: \tn_estimators: 200\n",
      "wandb: \tn_jobs: 12\n",
      "wandb: \ttransform: log\n"
     ]
    },
    {
     "data": {
      "text/plain": "<IPython.core.display.HTML object>",
      "text/html": "Tracking run with wandb version 0.16.0"
     },
     "metadata": {},
     "output_type": "display_data"
    },
    {
     "data": {
      "text/plain": "<IPython.core.display.HTML object>",
      "text/html": "Run data is saved locally in <code>/Users/xiaolong/weights-and-biases/wandb/run-20231122_234143-ljiqsu88</code>"
     },
     "metadata": {},
     "output_type": "display_data"
    },
    {
     "data": {
      "text/plain": "<IPython.core.display.HTML object>",
      "text/html": "Syncing run <strong><a href='https://wandb.ai/model-development-and-deployment/training_example_3/runs/ljiqsu88' target=\"_blank\">efficient-sweep-5</a></strong> to <a href='https://wandb.ai/model-development-and-deployment/training_example_3' target=\"_blank\">Weights & Biases</a> (<a href='https://wandb.me/run' target=\"_blank\">docs</a>)<br/>Sweep page: <a href='https://wandb.ai/model-development-and-deployment/training_example_3/sweeps/u4jwjwkx' target=\"_blank\">https://wandb.ai/model-development-and-deployment/training_example_3/sweeps/u4jwjwkx</a>"
     },
     "metadata": {},
     "output_type": "display_data"
    },
    {
     "data": {
      "text/plain": "<IPython.core.display.HTML object>",
      "text/html": " View project at <a href='https://wandb.ai/model-development-and-deployment/training_example_3' target=\"_blank\">https://wandb.ai/model-development-and-deployment/training_example_3</a>"
     },
     "metadata": {},
     "output_type": "display_data"
    },
    {
     "data": {
      "text/plain": "<IPython.core.display.HTML object>",
      "text/html": " View sweep at <a href='https://wandb.ai/model-development-and-deployment/training_example_3/sweeps/u4jwjwkx' target=\"_blank\">https://wandb.ai/model-development-and-deployment/training_example_3/sweeps/u4jwjwkx</a>"
     },
     "metadata": {},
     "output_type": "display_data"
    },
    {
     "data": {
      "text/plain": "<IPython.core.display.HTML object>",
      "text/html": " View run at <a href='https://wandb.ai/model-development-and-deployment/training_example_3/runs/ljiqsu88' target=\"_blank\">https://wandb.ai/model-development-and-deployment/training_example_3/runs/ljiqsu88</a>"
     },
     "metadata": {},
     "output_type": "display_data"
    },
    {
     "name": "stdout",
     "output_type": "stream",
     "text": [
      "Training model fatalities003_joint_narrow_xgb\n",
      "Calibration partition (log)\n",
      " * == Performing a run: \"fatalities003_joint_narrow_xgb_calib_log\" == * \n",
      "Model object named \"fatalities003_joint_narrow_xgb_calib_log\" with equivalent metadata already exists.\n",
      "Retrain is true, overwriting \"fatalities003_joint_narrow_xgb_calib_log\"\n",
      "Training model(s)...\n"
     ]
    },
    {
     "name": "stderr",
     "output_type": "stream",
     "text": [
      "Reordering feature dimension. Save memory by setting the outcome feature as the first column in your dataframe.\n"
     ]
    },
    {
     "name": "stdout",
     "output_type": "stream",
     "text": [
      "Storing \"fatalities003_joint_narrow_xgb_calib_log\"\n",
      "Getting predictions\n",
      "pr_56_cm_fatalities003_joint_narrow_xgb_calib_log_estimators_200_lr_0.05.parquet\n",
      "cm_fatalities003_joint_narrow_xgb_calib_log_estimators_200_lr_0.05 , run Fatalities003 does not exist, predicting\n",
      "Test partition ({transform})\n",
      " * == Performing a run: \"fatalities003_joint_narrow_xgb_test_log\" == * \n",
      "Model object named \"fatalities003_joint_narrow_xgb_test_log\" with equivalent metadata already exists.\n",
      "Retrain is true, overwriting \"fatalities003_joint_narrow_xgb_test_log\"\n",
      "Training model(s)...\n"
     ]
    },
    {
     "name": "stderr",
     "output_type": "stream",
     "text": [
      "Reordering feature dimension. Save memory by setting the outcome feature as the first column in your dataframe.\n"
     ]
    },
    {
     "name": "stdout",
     "output_type": "stream",
     "text": [
      "Storing \"fatalities003_joint_narrow_xgb_test_log\"\n",
      "Getting predictions\n",
      "pr_56_cm_fatalities003_joint_narrow_xgb_test_log_estimators_200_lr_0.05.parquet\n",
      "cm_fatalities003_joint_narrow_xgb_test_log_estimators_200_lr_0.05 , run Fatalities003 does not exist, predicting\n",
      "**************************************************************\n",
      "Evaluating model fatalities003_joint_narrow_xgb\n",
      "pr_56_cm_fatalities003_joint_narrow_xgb_calib_log_estimators_200_lr_0.05.parquet\n",
      "mse_log 1.9940684306260539\n"
     ]
    },
    {
     "data": {
      "text/plain": "VBox(children=(Label(value='0.001 MB of 0.001 MB uploaded\\r'), FloatProgress(value=1.0, max=1.0)))",
      "application/vnd.jupyter.widget-view+json": {
       "version_major": 2,
       "version_minor": 0,
       "model_id": "59a0f32cd1a14ec48cf66d700a0d2c0e"
      }
     },
     "metadata": {},
     "output_type": "display_data"
    },
    {
     "data": {
      "text/plain": "<IPython.core.display.HTML object>",
      "text/html": "<style>\n    table.wandb td:nth-child(1) { padding: 0 10px; text-align: left ; width: auto;} td:nth-child(2) {text-align: left ; width: 100%}\n    .wandb-row { display: flex; flex-direction: row; flex-wrap: wrap; justify-content: flex-start; width: 100% }\n    .wandb-col { display: flex; flex-direction: column; flex-basis: 100%; flex: 1; padding: 10px; }\n    </style>\n<div class=\"wandb-row\"><div class=\"wandb-col\"><h3>Run history:</h3><br/><table class=\"wandb\"><tr><td>mse</td><td>▁</td></tr></table><br/></div><div class=\"wandb-col\"><h3>Run summary:</h3><br/><table class=\"wandb\"><tr><td>mse</td><td>1.99407</td></tr></table><br/></div></div>"
     },
     "metadata": {},
     "output_type": "display_data"
    },
    {
     "data": {
      "text/plain": "<IPython.core.display.HTML object>",
      "text/html": " View run <strong style=\"color:#cdcd00\">efficient-sweep-5</strong> at: <a href='https://wandb.ai/model-development-and-deployment/training_example_3/runs/ljiqsu88' target=\"_blank\">https://wandb.ai/model-development-and-deployment/training_example_3/runs/ljiqsu88</a><br/>Synced 6 W&B file(s), 0 media file(s), 0 artifact file(s) and 0 other file(s)"
     },
     "metadata": {},
     "output_type": "display_data"
    },
    {
     "data": {
      "text/plain": "<IPython.core.display.HTML object>",
      "text/html": "Find logs at: <code>./wandb/run-20231122_234143-ljiqsu88/logs</code>"
     },
     "metadata": {},
     "output_type": "display_data"
    },
    {
     "name": "stderr",
     "output_type": "stream",
     "text": [
      "wandb: Agent Starting Run: mb5yii08 with config:\n",
      "wandb: \tlearning_rate: 0.05\n",
      "wandb: \tn_estimators: 200\n",
      "wandb: \tn_jobs: 12\n",
      "wandb: \ttransform: standardize\n"
     ]
    },
    {
     "data": {
      "text/plain": "<IPython.core.display.HTML object>",
      "text/html": "Tracking run with wandb version 0.16.0"
     },
     "metadata": {},
     "output_type": "display_data"
    },
    {
     "data": {
      "text/plain": "<IPython.core.display.HTML object>",
      "text/html": "Run data is saved locally in <code>/Users/xiaolong/weights-and-biases/wandb/run-20231122_234530-mb5yii08</code>"
     },
     "metadata": {},
     "output_type": "display_data"
    },
    {
     "data": {
      "text/plain": "<IPython.core.display.HTML object>",
      "text/html": "Syncing run <strong><a href='https://wandb.ai/model-development-and-deployment/training_example_3/runs/mb5yii08' target=\"_blank\">crisp-sweep-6</a></strong> to <a href='https://wandb.ai/model-development-and-deployment/training_example_3' target=\"_blank\">Weights & Biases</a> (<a href='https://wandb.me/run' target=\"_blank\">docs</a>)<br/>Sweep page: <a href='https://wandb.ai/model-development-and-deployment/training_example_3/sweeps/u4jwjwkx' target=\"_blank\">https://wandb.ai/model-development-and-deployment/training_example_3/sweeps/u4jwjwkx</a>"
     },
     "metadata": {},
     "output_type": "display_data"
    },
    {
     "data": {
      "text/plain": "<IPython.core.display.HTML object>",
      "text/html": " View project at <a href='https://wandb.ai/model-development-and-deployment/training_example_3' target=\"_blank\">https://wandb.ai/model-development-and-deployment/training_example_3</a>"
     },
     "metadata": {},
     "output_type": "display_data"
    },
    {
     "data": {
      "text/plain": "<IPython.core.display.HTML object>",
      "text/html": " View sweep at <a href='https://wandb.ai/model-development-and-deployment/training_example_3/sweeps/u4jwjwkx' target=\"_blank\">https://wandb.ai/model-development-and-deployment/training_example_3/sweeps/u4jwjwkx</a>"
     },
     "metadata": {},
     "output_type": "display_data"
    },
    {
     "data": {
      "text/plain": "<IPython.core.display.HTML object>",
      "text/html": " View run at <a href='https://wandb.ai/model-development-and-deployment/training_example_3/runs/mb5yii08' target=\"_blank\">https://wandb.ai/model-development-and-deployment/training_example_3/runs/mb5yii08</a>"
     },
     "metadata": {},
     "output_type": "display_data"
    },
    {
     "name": "stdout",
     "output_type": "stream",
     "text": [
      "Training model fatalities003_joint_narrow_xgb\n",
      "Calibration partition (standardize)\n",
      " * == Performing a run: \"fatalities003_joint_narrow_xgb_calib_standardize\" == * \n",
      "Model object named \"fatalities003_joint_narrow_xgb_calib_standardize\" with equivalent metadata already exists.\n",
      "Retrain is true, overwriting \"fatalities003_joint_narrow_xgb_calib_standardize\"\n",
      "Training model(s)...\n"
     ]
    },
    {
     "name": "stderr",
     "output_type": "stream",
     "text": [
      "Reordering feature dimension. Save memory by setting the outcome feature as the first column in your dataframe.\n"
     ]
    },
    {
     "name": "stdout",
     "output_type": "stream",
     "text": [
      "Storing \"fatalities003_joint_narrow_xgb_calib_standardize\"\n",
      "Getting predictions\n",
      "pr_56_cm_fatalities003_joint_narrow_xgb_calib_standardize_estimators_200_lr_0.05.parquet\n",
      "cm_fatalities003_joint_narrow_xgb_calib_standardize_estimators_200_lr_0.05 , run Fatalities003 does not exist, predicting\n",
      "Test partition ({transform})\n",
      " * == Performing a run: \"fatalities003_joint_narrow_xgb_test_standardize\" == * \n",
      "Model object named \"fatalities003_joint_narrow_xgb_test_standardize\" with equivalent metadata already exists.\n",
      "Retrain is true, overwriting \"fatalities003_joint_narrow_xgb_test_standardize\"\n",
      "Training model(s)...\n"
     ]
    },
    {
     "name": "stderr",
     "output_type": "stream",
     "text": [
      "Reordering feature dimension. Save memory by setting the outcome feature as the first column in your dataframe.\n"
     ]
    },
    {
     "name": "stdout",
     "output_type": "stream",
     "text": [
      "Storing \"fatalities003_joint_narrow_xgb_test_standardize\"\n",
      "Getting predictions\n",
      "pr_56_cm_fatalities003_joint_narrow_xgb_test_standardize_estimators_200_lr_0.05.parquet\n",
      "cm_fatalities003_joint_narrow_xgb_test_standardize_estimators_200_lr_0.05 , run Fatalities003 does not exist, predicting\n",
      "**************************************************************\n",
      "Evaluating model fatalities003_joint_narrow_xgb\n",
      "pr_56_cm_fatalities003_joint_narrow_xgb_calib_standardize_estimators_200_lr_0.05.parquet\n",
      "mse_standardize 2.3869016431653725\n"
     ]
    },
    {
     "data": {
      "text/plain": "VBox(children=(Label(value='0.001 MB of 0.001 MB uploaded\\r'), FloatProgress(value=1.0, max=1.0)))",
      "application/vnd.jupyter.widget-view+json": {
       "version_major": 2,
       "version_minor": 0,
       "model_id": "93b47b8e85da49139de7b0268dd5d243"
      }
     },
     "metadata": {},
     "output_type": "display_data"
    },
    {
     "data": {
      "text/plain": "<IPython.core.display.HTML object>",
      "text/html": "<style>\n    table.wandb td:nth-child(1) { padding: 0 10px; text-align: left ; width: auto;} td:nth-child(2) {text-align: left ; width: 100%}\n    .wandb-row { display: flex; flex-direction: row; flex-wrap: wrap; justify-content: flex-start; width: 100% }\n    .wandb-col { display: flex; flex-direction: column; flex-basis: 100%; flex: 1; padding: 10px; }\n    </style>\n<div class=\"wandb-row\"><div class=\"wandb-col\"><h3>Run history:</h3><br/><table class=\"wandb\"><tr><td>mse</td><td>▁</td></tr></table><br/></div><div class=\"wandb-col\"><h3>Run summary:</h3><br/><table class=\"wandb\"><tr><td>mse</td><td>2.3869</td></tr></table><br/></div></div>"
     },
     "metadata": {},
     "output_type": "display_data"
    },
    {
     "data": {
      "text/plain": "<IPython.core.display.HTML object>",
      "text/html": " View run <strong style=\"color:#cdcd00\">crisp-sweep-6</strong> at: <a href='https://wandb.ai/model-development-and-deployment/training_example_3/runs/mb5yii08' target=\"_blank\">https://wandb.ai/model-development-and-deployment/training_example_3/runs/mb5yii08</a><br/>Synced 6 W&B file(s), 0 media file(s), 0 artifact file(s) and 0 other file(s)"
     },
     "metadata": {},
     "output_type": "display_data"
    },
    {
     "data": {
      "text/plain": "<IPython.core.display.HTML object>",
      "text/html": "Find logs at: <code>./wandb/run-20231122_234530-mb5yii08/logs</code>"
     },
     "metadata": {},
     "output_type": "display_data"
    },
    {
     "name": "stderr",
     "output_type": "stream",
     "text": [
      "wandb: Agent Starting Run: 26k1cmmr with config:\n",
      "wandb: \tlearning_rate: 0.05\n",
      "wandb: \tn_estimators: 200\n",
      "wandb: \tn_jobs: 12\n",
      "wandb: \ttransform: raw\n"
     ]
    },
    {
     "data": {
      "text/plain": "<IPython.core.display.HTML object>",
      "text/html": "Tracking run with wandb version 0.16.0"
     },
     "metadata": {},
     "output_type": "display_data"
    },
    {
     "data": {
      "text/plain": "<IPython.core.display.HTML object>",
      "text/html": "Run data is saved locally in <code>/Users/xiaolong/weights-and-biases/wandb/run-20231122_234920-26k1cmmr</code>"
     },
     "metadata": {},
     "output_type": "display_data"
    },
    {
     "data": {
      "text/plain": "<IPython.core.display.HTML object>",
      "text/html": "Syncing run <strong><a href='https://wandb.ai/model-development-and-deployment/training_example_3/runs/26k1cmmr' target=\"_blank\">valiant-sweep-7</a></strong> to <a href='https://wandb.ai/model-development-and-deployment/training_example_3' target=\"_blank\">Weights & Biases</a> (<a href='https://wandb.me/run' target=\"_blank\">docs</a>)<br/>Sweep page: <a href='https://wandb.ai/model-development-and-deployment/training_example_3/sweeps/u4jwjwkx' target=\"_blank\">https://wandb.ai/model-development-and-deployment/training_example_3/sweeps/u4jwjwkx</a>"
     },
     "metadata": {},
     "output_type": "display_data"
    },
    {
     "data": {
      "text/plain": "<IPython.core.display.HTML object>",
      "text/html": " View project at <a href='https://wandb.ai/model-development-and-deployment/training_example_3' target=\"_blank\">https://wandb.ai/model-development-and-deployment/training_example_3</a>"
     },
     "metadata": {},
     "output_type": "display_data"
    },
    {
     "data": {
      "text/plain": "<IPython.core.display.HTML object>",
      "text/html": " View sweep at <a href='https://wandb.ai/model-development-and-deployment/training_example_3/sweeps/u4jwjwkx' target=\"_blank\">https://wandb.ai/model-development-and-deployment/training_example_3/sweeps/u4jwjwkx</a>"
     },
     "metadata": {},
     "output_type": "display_data"
    },
    {
     "data": {
      "text/plain": "<IPython.core.display.HTML object>",
      "text/html": " View run at <a href='https://wandb.ai/model-development-and-deployment/training_example_3/runs/26k1cmmr' target=\"_blank\">https://wandb.ai/model-development-and-deployment/training_example_3/runs/26k1cmmr</a>"
     },
     "metadata": {},
     "output_type": "display_data"
    },
    {
     "name": "stdout",
     "output_type": "stream",
     "text": [
      "Training model fatalities003_joint_narrow_xgb\n",
      "Calibration partition (raw)\n",
      " * == Performing a run: \"fatalities003_joint_narrow_xgb_calib_raw\" == * \n",
      "Model object named \"fatalities003_joint_narrow_xgb_calib_raw\" with equivalent metadata already exists.\n",
      "Retrain is true, overwriting \"fatalities003_joint_narrow_xgb_calib_raw\"\n",
      "Training model(s)...\n"
     ]
    },
    {
     "name": "stderr",
     "output_type": "stream",
     "text": [
      "Reordering feature dimension. Save memory by setting the outcome feature as the first column in your dataframe.\n"
     ]
    },
    {
     "name": "stdout",
     "output_type": "stream",
     "text": [
      "Storing \"fatalities003_joint_narrow_xgb_calib_raw\"\n",
      "Getting predictions\n",
      "pr_56_cm_fatalities003_joint_narrow_xgb_calib_raw_estimators_200_lr_0.05.parquet\n",
      "cm_fatalities003_joint_narrow_xgb_calib_raw_estimators_200_lr_0.05 , run Fatalities003 does not exist, predicting\n",
      "Test partition ({transform})\n",
      " * == Performing a run: \"fatalities003_joint_narrow_xgb_test_raw\" == * \n",
      "Model object named \"fatalities003_joint_narrow_xgb_test_raw\" with equivalent metadata already exists.\n",
      "Retrain is true, overwriting \"fatalities003_joint_narrow_xgb_test_raw\"\n",
      "Training model(s)...\n"
     ]
    },
    {
     "name": "stderr",
     "output_type": "stream",
     "text": [
      "Reordering feature dimension. Save memory by setting the outcome feature as the first column in your dataframe.\n"
     ]
    },
    {
     "name": "stdout",
     "output_type": "stream",
     "text": [
      "Storing \"fatalities003_joint_narrow_xgb_test_raw\"\n",
      "Getting predictions\n",
      "pr_56_cm_fatalities003_joint_narrow_xgb_test_raw_estimators_200_lr_0.05.parquet\n",
      "cm_fatalities003_joint_narrow_xgb_test_raw_estimators_200_lr_0.05 , run Fatalities003 does not exist, predicting\n",
      "**************************************************************\n",
      "Evaluating model fatalities003_joint_narrow_xgb\n",
      "pr_56_cm_fatalities003_joint_narrow_xgb_calib_raw_estimators_200_lr_0.05.parquet\n",
      "mse_raw 1.939872715988875\n"
     ]
    },
    {
     "data": {
      "text/plain": "VBox(children=(Label(value='0.001 MB of 0.001 MB uploaded\\r'), FloatProgress(value=1.0, max=1.0)))",
      "application/vnd.jupyter.widget-view+json": {
       "version_major": 2,
       "version_minor": 0,
       "model_id": "bd90225350c446ff8d8552ee2cc6c3e7"
      }
     },
     "metadata": {},
     "output_type": "display_data"
    },
    {
     "data": {
      "text/plain": "<IPython.core.display.HTML object>",
      "text/html": "<style>\n    table.wandb td:nth-child(1) { padding: 0 10px; text-align: left ; width: auto;} td:nth-child(2) {text-align: left ; width: 100%}\n    .wandb-row { display: flex; flex-direction: row; flex-wrap: wrap; justify-content: flex-start; width: 100% }\n    .wandb-col { display: flex; flex-direction: column; flex-basis: 100%; flex: 1; padding: 10px; }\n    </style>\n<div class=\"wandb-row\"><div class=\"wandb-col\"><h3>Run history:</h3><br/><table class=\"wandb\"><tr><td>mse</td><td>▁</td></tr></table><br/></div><div class=\"wandb-col\"><h3>Run summary:</h3><br/><table class=\"wandb\"><tr><td>mse</td><td>1.93987</td></tr></table><br/></div></div>"
     },
     "metadata": {},
     "output_type": "display_data"
    },
    {
     "data": {
      "text/plain": "<IPython.core.display.HTML object>",
      "text/html": " View run <strong style=\"color:#cdcd00\">valiant-sweep-7</strong> at: <a href='https://wandb.ai/model-development-and-deployment/training_example_3/runs/26k1cmmr' target=\"_blank\">https://wandb.ai/model-development-and-deployment/training_example_3/runs/26k1cmmr</a><br/>Synced 6 W&B file(s), 0 media file(s), 0 artifact file(s) and 0 other file(s)"
     },
     "metadata": {},
     "output_type": "display_data"
    },
    {
     "data": {
      "text/plain": "<IPython.core.display.HTML object>",
      "text/html": "Find logs at: <code>./wandb/run-20231122_234920-26k1cmmr/logs</code>"
     },
     "metadata": {},
     "output_type": "display_data"
    },
    {
     "name": "stderr",
     "output_type": "stream",
     "text": [
      "wandb: Agent Starting Run: 4nkv09np with config:\n",
      "wandb: \tlearning_rate: 0.05\n",
      "wandb: \tn_estimators: 200\n",
      "wandb: \tn_jobs: 12\n",
      "wandb: \ttransform: normalize\n"
     ]
    },
    {
     "data": {
      "text/plain": "<IPython.core.display.HTML object>",
      "text/html": "Tracking run with wandb version 0.16.0"
     },
     "metadata": {},
     "output_type": "display_data"
    },
    {
     "data": {
      "text/plain": "<IPython.core.display.HTML object>",
      "text/html": "Run data is saved locally in <code>/Users/xiaolong/weights-and-biases/wandb/run-20231122_235311-4nkv09np</code>"
     },
     "metadata": {},
     "output_type": "display_data"
    },
    {
     "data": {
      "text/plain": "<IPython.core.display.HTML object>",
      "text/html": "Syncing run <strong><a href='https://wandb.ai/model-development-and-deployment/training_example_3/runs/4nkv09np' target=\"_blank\">sunny-sweep-8</a></strong> to <a href='https://wandb.ai/model-development-and-deployment/training_example_3' target=\"_blank\">Weights & Biases</a> (<a href='https://wandb.me/run' target=\"_blank\">docs</a>)<br/>Sweep page: <a href='https://wandb.ai/model-development-and-deployment/training_example_3/sweeps/u4jwjwkx' target=\"_blank\">https://wandb.ai/model-development-and-deployment/training_example_3/sweeps/u4jwjwkx</a>"
     },
     "metadata": {},
     "output_type": "display_data"
    },
    {
     "data": {
      "text/plain": "<IPython.core.display.HTML object>",
      "text/html": " View project at <a href='https://wandb.ai/model-development-and-deployment/training_example_3' target=\"_blank\">https://wandb.ai/model-development-and-deployment/training_example_3</a>"
     },
     "metadata": {},
     "output_type": "display_data"
    },
    {
     "data": {
      "text/plain": "<IPython.core.display.HTML object>",
      "text/html": " View sweep at <a href='https://wandb.ai/model-development-and-deployment/training_example_3/sweeps/u4jwjwkx' target=\"_blank\">https://wandb.ai/model-development-and-deployment/training_example_3/sweeps/u4jwjwkx</a>"
     },
     "metadata": {},
     "output_type": "display_data"
    },
    {
     "data": {
      "text/plain": "<IPython.core.display.HTML object>",
      "text/html": " View run at <a href='https://wandb.ai/model-development-and-deployment/training_example_3/runs/4nkv09np' target=\"_blank\">https://wandb.ai/model-development-and-deployment/training_example_3/runs/4nkv09np</a>"
     },
     "metadata": {},
     "output_type": "display_data"
    },
    {
     "name": "stdout",
     "output_type": "stream",
     "text": [
      "Training model fatalities003_joint_narrow_xgb\n",
      "Calibration partition (normalize)\n",
      " * == Performing a run: \"fatalities003_joint_narrow_xgb_calib_normalize\" == * \n",
      "Model object named \"fatalities003_joint_narrow_xgb_calib_normalize\" with equivalent metadata already exists.\n",
      "Retrain is true, overwriting \"fatalities003_joint_narrow_xgb_calib_normalize\"\n",
      "Training model(s)...\n"
     ]
    },
    {
     "name": "stderr",
     "output_type": "stream",
     "text": [
      "Reordering feature dimension. Save memory by setting the outcome feature as the first column in your dataframe.\n"
     ]
    },
    {
     "name": "stdout",
     "output_type": "stream",
     "text": [
      "Storing \"fatalities003_joint_narrow_xgb_calib_normalize\"\n",
      "Getting predictions\n",
      "pr_56_cm_fatalities003_joint_narrow_xgb_calib_normalize_estimators_200_lr_0.05.parquet\n",
      "cm_fatalities003_joint_narrow_xgb_calib_normalize_estimators_200_lr_0.05 , run Fatalities003 does not exist, predicting\n",
      "Test partition ({transform})\n",
      " * == Performing a run: \"fatalities003_joint_narrow_xgb_test_normalize\" == * \n",
      "Model object named \"fatalities003_joint_narrow_xgb_test_normalize\" with equivalent metadata already exists.\n",
      "Retrain is true, overwriting \"fatalities003_joint_narrow_xgb_test_normalize\"\n",
      "Training model(s)...\n"
     ]
    },
    {
     "name": "stderr",
     "output_type": "stream",
     "text": [
      "Reordering feature dimension. Save memory by setting the outcome feature as the first column in your dataframe.\n"
     ]
    },
    {
     "name": "stdout",
     "output_type": "stream",
     "text": [
      "Storing \"fatalities003_joint_narrow_xgb_test_normalize\"\n",
      "Getting predictions\n",
      "pr_56_cm_fatalities003_joint_narrow_xgb_test_normalize_estimators_200_lr_0.05.parquet\n",
      "cm_fatalities003_joint_narrow_xgb_test_normalize_estimators_200_lr_0.05 , run Fatalities003 does not exist, predicting\n",
      "**************************************************************\n",
      "Evaluating model fatalities003_joint_narrow_xgb\n",
      "pr_56_cm_fatalities003_joint_narrow_xgb_calib_normalize_estimators_200_lr_0.05.parquet\n",
      "mse_normalize 25.84057955614758\n"
     ]
    },
    {
     "data": {
      "text/plain": "VBox(children=(Label(value='0.001 MB of 0.001 MB uploaded\\r'), FloatProgress(value=1.0, max=1.0)))",
      "application/vnd.jupyter.widget-view+json": {
       "version_major": 2,
       "version_minor": 0,
       "model_id": "7c9e044afd5f49e3adc2ccb7165feed9"
      }
     },
     "metadata": {},
     "output_type": "display_data"
    },
    {
     "data": {
      "text/plain": "<IPython.core.display.HTML object>",
      "text/html": "<style>\n    table.wandb td:nth-child(1) { padding: 0 10px; text-align: left ; width: auto;} td:nth-child(2) {text-align: left ; width: 100%}\n    .wandb-row { display: flex; flex-direction: row; flex-wrap: wrap; justify-content: flex-start; width: 100% }\n    .wandb-col { display: flex; flex-direction: column; flex-basis: 100%; flex: 1; padding: 10px; }\n    </style>\n<div class=\"wandb-row\"><div class=\"wandb-col\"><h3>Run history:</h3><br/><table class=\"wandb\"><tr><td>mse</td><td>▁</td></tr></table><br/></div><div class=\"wandb-col\"><h3>Run summary:</h3><br/><table class=\"wandb\"><tr><td>mse</td><td>25.84058</td></tr></table><br/></div></div>"
     },
     "metadata": {},
     "output_type": "display_data"
    },
    {
     "data": {
      "text/plain": "<IPython.core.display.HTML object>",
      "text/html": " View run <strong style=\"color:#cdcd00\">sunny-sweep-8</strong> at: <a href='https://wandb.ai/model-development-and-deployment/training_example_3/runs/4nkv09np' target=\"_blank\">https://wandb.ai/model-development-and-deployment/training_example_3/runs/4nkv09np</a><br/>Synced 6 W&B file(s), 0 media file(s), 0 artifact file(s) and 0 other file(s)"
     },
     "metadata": {},
     "output_type": "display_data"
    },
    {
     "data": {
      "text/plain": "<IPython.core.display.HTML object>",
      "text/html": "Find logs at: <code>./wandb/run-20231122_235311-4nkv09np/logs</code>"
     },
     "metadata": {},
     "output_type": "display_data"
    },
    {
     "name": "stderr",
     "output_type": "stream",
     "text": [
      "wandb: Agent Starting Run: c3jwz9fp with config:\n",
      "wandb: \tlearning_rate: 0.05\n",
      "wandb: \tn_estimators: 300\n",
      "wandb: \tn_jobs: 12\n",
      "wandb: \ttransform: log\n"
     ]
    },
    {
     "data": {
      "text/plain": "<IPython.core.display.HTML object>",
      "text/html": "Tracking run with wandb version 0.16.0"
     },
     "metadata": {},
     "output_type": "display_data"
    },
    {
     "data": {
      "text/plain": "<IPython.core.display.HTML object>",
      "text/html": "Run data is saved locally in <code>/Users/xiaolong/weights-and-biases/wandb/run-20231122_235658-c3jwz9fp</code>"
     },
     "metadata": {},
     "output_type": "display_data"
    },
    {
     "data": {
      "text/plain": "<IPython.core.display.HTML object>",
      "text/html": "Syncing run <strong><a href='https://wandb.ai/model-development-and-deployment/training_example_3/runs/c3jwz9fp' target=\"_blank\">spring-sweep-9</a></strong> to <a href='https://wandb.ai/model-development-and-deployment/training_example_3' target=\"_blank\">Weights & Biases</a> (<a href='https://wandb.me/run' target=\"_blank\">docs</a>)<br/>Sweep page: <a href='https://wandb.ai/model-development-and-deployment/training_example_3/sweeps/u4jwjwkx' target=\"_blank\">https://wandb.ai/model-development-and-deployment/training_example_3/sweeps/u4jwjwkx</a>"
     },
     "metadata": {},
     "output_type": "display_data"
    },
    {
     "data": {
      "text/plain": "<IPython.core.display.HTML object>",
      "text/html": " View project at <a href='https://wandb.ai/model-development-and-deployment/training_example_3' target=\"_blank\">https://wandb.ai/model-development-and-deployment/training_example_3</a>"
     },
     "metadata": {},
     "output_type": "display_data"
    },
    {
     "data": {
      "text/plain": "<IPython.core.display.HTML object>",
      "text/html": " View sweep at <a href='https://wandb.ai/model-development-and-deployment/training_example_3/sweeps/u4jwjwkx' target=\"_blank\">https://wandb.ai/model-development-and-deployment/training_example_3/sweeps/u4jwjwkx</a>"
     },
     "metadata": {},
     "output_type": "display_data"
    },
    {
     "data": {
      "text/plain": "<IPython.core.display.HTML object>",
      "text/html": " View run at <a href='https://wandb.ai/model-development-and-deployment/training_example_3/runs/c3jwz9fp' target=\"_blank\">https://wandb.ai/model-development-and-deployment/training_example_3/runs/c3jwz9fp</a>"
     },
     "metadata": {},
     "output_type": "display_data"
    },
    {
     "name": "stdout",
     "output_type": "stream",
     "text": [
      "Training model fatalities003_joint_narrow_xgb\n",
      "Calibration partition (log)\n",
      " * == Performing a run: \"fatalities003_joint_narrow_xgb_calib_log\" == * \n",
      "Model object named \"fatalities003_joint_narrow_xgb_calib_log\" with equivalent metadata already exists.\n",
      "Retrain is true, overwriting \"fatalities003_joint_narrow_xgb_calib_log\"\n",
      "Training model(s)...\n"
     ]
    },
    {
     "name": "stderr",
     "output_type": "stream",
     "text": [
      "Reordering feature dimension. Save memory by setting the outcome feature as the first column in your dataframe.\n"
     ]
    },
    {
     "name": "stdout",
     "output_type": "stream",
     "text": [
      "Storing \"fatalities003_joint_narrow_xgb_calib_log\"\n",
      "Getting predictions\n",
      "pr_56_cm_fatalities003_joint_narrow_xgb_calib_log_estimators_300_lr_0.05.parquet\n",
      "cm_fatalities003_joint_narrow_xgb_calib_log_estimators_300_lr_0.05 , run Fatalities003 does not exist, predicting\n",
      "Test partition ({transform})\n",
      " * == Performing a run: \"fatalities003_joint_narrow_xgb_test_log\" == * \n",
      "Model object named \"fatalities003_joint_narrow_xgb_test_log\" with equivalent metadata already exists.\n",
      "Retrain is true, overwriting \"fatalities003_joint_narrow_xgb_test_log\"\n",
      "Training model(s)...\n"
     ]
    },
    {
     "name": "stderr",
     "output_type": "stream",
     "text": [
      "Reordering feature dimension. Save memory by setting the outcome feature as the first column in your dataframe.\n"
     ]
    },
    {
     "name": "stdout",
     "output_type": "stream",
     "text": [
      "Storing \"fatalities003_joint_narrow_xgb_test_log\"\n",
      "Getting predictions\n",
      "pr_56_cm_fatalities003_joint_narrow_xgb_test_log_estimators_300_lr_0.05.parquet\n",
      "cm_fatalities003_joint_narrow_xgb_test_log_estimators_300_lr_0.05 , run Fatalities003 does not exist, predicting\n",
      "**************************************************************\n",
      "Evaluating model fatalities003_joint_narrow_xgb\n",
      "pr_56_cm_fatalities003_joint_narrow_xgb_calib_log_estimators_300_lr_0.05.parquet\n",
      "mse_log 1.9940774974383462\n"
     ]
    },
    {
     "data": {
      "text/plain": "VBox(children=(Label(value='0.001 MB of 0.001 MB uploaded\\r'), FloatProgress(value=1.0, max=1.0)))",
      "application/vnd.jupyter.widget-view+json": {
       "version_major": 2,
       "version_minor": 0,
       "model_id": "72a32ac6299a4988aa0355b1babcd045"
      }
     },
     "metadata": {},
     "output_type": "display_data"
    },
    {
     "data": {
      "text/plain": "<IPython.core.display.HTML object>",
      "text/html": "<style>\n    table.wandb td:nth-child(1) { padding: 0 10px; text-align: left ; width: auto;} td:nth-child(2) {text-align: left ; width: 100%}\n    .wandb-row { display: flex; flex-direction: row; flex-wrap: wrap; justify-content: flex-start; width: 100% }\n    .wandb-col { display: flex; flex-direction: column; flex-basis: 100%; flex: 1; padding: 10px; }\n    </style>\n<div class=\"wandb-row\"><div class=\"wandb-col\"><h3>Run history:</h3><br/><table class=\"wandb\"><tr><td>mse</td><td>▁</td></tr></table><br/></div><div class=\"wandb-col\"><h3>Run summary:</h3><br/><table class=\"wandb\"><tr><td>mse</td><td>1.99408</td></tr></table><br/></div></div>"
     },
     "metadata": {},
     "output_type": "display_data"
    },
    {
     "data": {
      "text/plain": "<IPython.core.display.HTML object>",
      "text/html": " View run <strong style=\"color:#cdcd00\">spring-sweep-9</strong> at: <a href='https://wandb.ai/model-development-and-deployment/training_example_3/runs/c3jwz9fp' target=\"_blank\">https://wandb.ai/model-development-and-deployment/training_example_3/runs/c3jwz9fp</a><br/>Synced 6 W&B file(s), 0 media file(s), 0 artifact file(s) and 0 other file(s)"
     },
     "metadata": {},
     "output_type": "display_data"
    },
    {
     "data": {
      "text/plain": "<IPython.core.display.HTML object>",
      "text/html": "Find logs at: <code>./wandb/run-20231122_235658-c3jwz9fp/logs</code>"
     },
     "metadata": {},
     "output_type": "display_data"
    },
    {
     "name": "stderr",
     "output_type": "stream",
     "text": [
      "wandb: Agent Starting Run: f8vphwjh with config:\n",
      "wandb: \tlearning_rate: 0.05\n",
      "wandb: \tn_estimators: 300\n",
      "wandb: \tn_jobs: 12\n",
      "wandb: \ttransform: standardize\n"
     ]
    },
    {
     "data": {
      "text/plain": "<IPython.core.display.HTML object>",
      "text/html": "Tracking run with wandb version 0.16.0"
     },
     "metadata": {},
     "output_type": "display_data"
    },
    {
     "data": {
      "text/plain": "<IPython.core.display.HTML object>",
      "text/html": "Run data is saved locally in <code>/Users/xiaolong/weights-and-biases/wandb/run-20231123_000235-f8vphwjh</code>"
     },
     "metadata": {},
     "output_type": "display_data"
    },
    {
     "data": {
      "text/plain": "<IPython.core.display.HTML object>",
      "text/html": "Syncing run <strong><a href='https://wandb.ai/model-development-and-deployment/training_example_3/runs/f8vphwjh' target=\"_blank\">dashing-sweep-10</a></strong> to <a href='https://wandb.ai/model-development-and-deployment/training_example_3' target=\"_blank\">Weights & Biases</a> (<a href='https://wandb.me/run' target=\"_blank\">docs</a>)<br/>Sweep page: <a href='https://wandb.ai/model-development-and-deployment/training_example_3/sweeps/u4jwjwkx' target=\"_blank\">https://wandb.ai/model-development-and-deployment/training_example_3/sweeps/u4jwjwkx</a>"
     },
     "metadata": {},
     "output_type": "display_data"
    },
    {
     "data": {
      "text/plain": "<IPython.core.display.HTML object>",
      "text/html": " View project at <a href='https://wandb.ai/model-development-and-deployment/training_example_3' target=\"_blank\">https://wandb.ai/model-development-and-deployment/training_example_3</a>"
     },
     "metadata": {},
     "output_type": "display_data"
    },
    {
     "data": {
      "text/plain": "<IPython.core.display.HTML object>",
      "text/html": " View sweep at <a href='https://wandb.ai/model-development-and-deployment/training_example_3/sweeps/u4jwjwkx' target=\"_blank\">https://wandb.ai/model-development-and-deployment/training_example_3/sweeps/u4jwjwkx</a>"
     },
     "metadata": {},
     "output_type": "display_data"
    },
    {
     "data": {
      "text/plain": "<IPython.core.display.HTML object>",
      "text/html": " View run at <a href='https://wandb.ai/model-development-and-deployment/training_example_3/runs/f8vphwjh' target=\"_blank\">https://wandb.ai/model-development-and-deployment/training_example_3/runs/f8vphwjh</a>"
     },
     "metadata": {},
     "output_type": "display_data"
    },
    {
     "name": "stdout",
     "output_type": "stream",
     "text": [
      "Training model fatalities003_joint_narrow_xgb\n",
      "Calibration partition (standardize)\n",
      " * == Performing a run: \"fatalities003_joint_narrow_xgb_calib_standardize\" == * \n",
      "Model object named \"fatalities003_joint_narrow_xgb_calib_standardize\" with equivalent metadata already exists.\n",
      "Retrain is true, overwriting \"fatalities003_joint_narrow_xgb_calib_standardize\"\n",
      "Training model(s)...\n"
     ]
    },
    {
     "name": "stderr",
     "output_type": "stream",
     "text": [
      "Reordering feature dimension. Save memory by setting the outcome feature as the first column in your dataframe.\n"
     ]
    },
    {
     "name": "stdout",
     "output_type": "stream",
     "text": [
      "Storing \"fatalities003_joint_narrow_xgb_calib_standardize\"\n",
      "Getting predictions\n",
      "pr_56_cm_fatalities003_joint_narrow_xgb_calib_standardize_estimators_300_lr_0.05.parquet\n",
      "cm_fatalities003_joint_narrow_xgb_calib_standardize_estimators_300_lr_0.05 , run Fatalities003 does not exist, predicting\n",
      "Test partition ({transform})\n",
      " * == Performing a run: \"fatalities003_joint_narrow_xgb_test_standardize\" == * \n",
      "Model object named \"fatalities003_joint_narrow_xgb_test_standardize\" with equivalent metadata already exists.\n",
      "Retrain is true, overwriting \"fatalities003_joint_narrow_xgb_test_standardize\"\n",
      "Training model(s)...\n"
     ]
    },
    {
     "name": "stderr",
     "output_type": "stream",
     "text": [
      "Reordering feature dimension. Save memory by setting the outcome feature as the first column in your dataframe.\n"
     ]
    },
    {
     "name": "stdout",
     "output_type": "stream",
     "text": [
      "Storing \"fatalities003_joint_narrow_xgb_test_standardize\"\n",
      "Getting predictions\n",
      "pr_56_cm_fatalities003_joint_narrow_xgb_test_standardize_estimators_300_lr_0.05.parquet\n",
      "cm_fatalities003_joint_narrow_xgb_test_standardize_estimators_300_lr_0.05 , run Fatalities003 does not exist, predicting\n",
      "**************************************************************\n",
      "Evaluating model fatalities003_joint_narrow_xgb\n",
      "pr_56_cm_fatalities003_joint_narrow_xgb_calib_standardize_estimators_300_lr_0.05.parquet\n",
      "mse_standardize 2.386841606607075\n"
     ]
    },
    {
     "data": {
      "text/plain": "VBox(children=(Label(value='0.001 MB of 0.001 MB uploaded\\r'), FloatProgress(value=1.0, max=1.0)))",
      "application/vnd.jupyter.widget-view+json": {
       "version_major": 2,
       "version_minor": 0,
       "model_id": "bb62d477f3544df893bf6993068bf23a"
      }
     },
     "metadata": {},
     "output_type": "display_data"
    },
    {
     "data": {
      "text/plain": "<IPython.core.display.HTML object>",
      "text/html": "<style>\n    table.wandb td:nth-child(1) { padding: 0 10px; text-align: left ; width: auto;} td:nth-child(2) {text-align: left ; width: 100%}\n    .wandb-row { display: flex; flex-direction: row; flex-wrap: wrap; justify-content: flex-start; width: 100% }\n    .wandb-col { display: flex; flex-direction: column; flex-basis: 100%; flex: 1; padding: 10px; }\n    </style>\n<div class=\"wandb-row\"><div class=\"wandb-col\"><h3>Run history:</h3><br/><table class=\"wandb\"><tr><td>mse</td><td>▁</td></tr></table><br/></div><div class=\"wandb-col\"><h3>Run summary:</h3><br/><table class=\"wandb\"><tr><td>mse</td><td>2.38684</td></tr></table><br/></div></div>"
     },
     "metadata": {},
     "output_type": "display_data"
    },
    {
     "data": {
      "text/plain": "<IPython.core.display.HTML object>",
      "text/html": " View run <strong style=\"color:#cdcd00\">dashing-sweep-10</strong> at: <a href='https://wandb.ai/model-development-and-deployment/training_example_3/runs/f8vphwjh' target=\"_blank\">https://wandb.ai/model-development-and-deployment/training_example_3/runs/f8vphwjh</a><br/>Synced 6 W&B file(s), 0 media file(s), 0 artifact file(s) and 0 other file(s)"
     },
     "metadata": {},
     "output_type": "display_data"
    },
    {
     "data": {
      "text/plain": "<IPython.core.display.HTML object>",
      "text/html": "Find logs at: <code>./wandb/run-20231123_000235-f8vphwjh/logs</code>"
     },
     "metadata": {},
     "output_type": "display_data"
    },
    {
     "name": "stderr",
     "output_type": "stream",
     "text": [
      "wandb: Agent Starting Run: w26tvjpi with config:\n",
      "wandb: \tlearning_rate: 0.05\n",
      "wandb: \tn_estimators: 300\n",
      "wandb: \tn_jobs: 12\n",
      "wandb: \ttransform: raw\n"
     ]
    },
    {
     "data": {
      "text/plain": "<IPython.core.display.HTML object>",
      "text/html": "Tracking run with wandb version 0.16.0"
     },
     "metadata": {},
     "output_type": "display_data"
    },
    {
     "data": {
      "text/plain": "<IPython.core.display.HTML object>",
      "text/html": "Run data is saved locally in <code>/Users/xiaolong/weights-and-biases/wandb/run-20231123_000807-w26tvjpi</code>"
     },
     "metadata": {},
     "output_type": "display_data"
    },
    {
     "data": {
      "text/plain": "<IPython.core.display.HTML object>",
      "text/html": "Syncing run <strong><a href='https://wandb.ai/model-development-and-deployment/training_example_3/runs/w26tvjpi' target=\"_blank\">comfy-sweep-11</a></strong> to <a href='https://wandb.ai/model-development-and-deployment/training_example_3' target=\"_blank\">Weights & Biases</a> (<a href='https://wandb.me/run' target=\"_blank\">docs</a>)<br/>Sweep page: <a href='https://wandb.ai/model-development-and-deployment/training_example_3/sweeps/u4jwjwkx' target=\"_blank\">https://wandb.ai/model-development-and-deployment/training_example_3/sweeps/u4jwjwkx</a>"
     },
     "metadata": {},
     "output_type": "display_data"
    },
    {
     "data": {
      "text/plain": "<IPython.core.display.HTML object>",
      "text/html": " View project at <a href='https://wandb.ai/model-development-and-deployment/training_example_3' target=\"_blank\">https://wandb.ai/model-development-and-deployment/training_example_3</a>"
     },
     "metadata": {},
     "output_type": "display_data"
    },
    {
     "data": {
      "text/plain": "<IPython.core.display.HTML object>",
      "text/html": " View sweep at <a href='https://wandb.ai/model-development-and-deployment/training_example_3/sweeps/u4jwjwkx' target=\"_blank\">https://wandb.ai/model-development-and-deployment/training_example_3/sweeps/u4jwjwkx</a>"
     },
     "metadata": {},
     "output_type": "display_data"
    },
    {
     "data": {
      "text/plain": "<IPython.core.display.HTML object>",
      "text/html": " View run at <a href='https://wandb.ai/model-development-and-deployment/training_example_3/runs/w26tvjpi' target=\"_blank\">https://wandb.ai/model-development-and-deployment/training_example_3/runs/w26tvjpi</a>"
     },
     "metadata": {},
     "output_type": "display_data"
    },
    {
     "name": "stdout",
     "output_type": "stream",
     "text": [
      "Training model fatalities003_joint_narrow_xgb\n",
      "Calibration partition (raw)\n",
      " * == Performing a run: \"fatalities003_joint_narrow_xgb_calib_raw\" == * \n",
      "Model object named \"fatalities003_joint_narrow_xgb_calib_raw\" with equivalent metadata already exists.\n",
      "Retrain is true, overwriting \"fatalities003_joint_narrow_xgb_calib_raw\"\n",
      "Training model(s)...\n"
     ]
    },
    {
     "name": "stderr",
     "output_type": "stream",
     "text": [
      "Reordering feature dimension. Save memory by setting the outcome feature as the first column in your dataframe.\n"
     ]
    },
    {
     "name": "stdout",
     "output_type": "stream",
     "text": [
      "Storing \"fatalities003_joint_narrow_xgb_calib_raw\"\n",
      "Getting predictions\n",
      "pr_56_cm_fatalities003_joint_narrow_xgb_calib_raw_estimators_300_lr_0.05.parquet\n",
      "cm_fatalities003_joint_narrow_xgb_calib_raw_estimators_300_lr_0.05 , run Fatalities003 does not exist, predicting\n",
      "Test partition ({transform})\n",
      " * == Performing a run: \"fatalities003_joint_narrow_xgb_test_raw\" == * \n",
      "Model object named \"fatalities003_joint_narrow_xgb_test_raw\" with equivalent metadata already exists.\n",
      "Retrain is true, overwriting \"fatalities003_joint_narrow_xgb_test_raw\"\n",
      "Training model(s)...\n"
     ]
    },
    {
     "name": "stderr",
     "output_type": "stream",
     "text": [
      "Reordering feature dimension. Save memory by setting the outcome feature as the first column in your dataframe.\n"
     ]
    },
    {
     "name": "stdout",
     "output_type": "stream",
     "text": [
      "Storing \"fatalities003_joint_narrow_xgb_test_raw\"\n",
      "Getting predictions\n",
      "pr_56_cm_fatalities003_joint_narrow_xgb_test_raw_estimators_300_lr_0.05.parquet\n",
      "cm_fatalities003_joint_narrow_xgb_test_raw_estimators_300_lr_0.05 , run Fatalities003 does not exist, predicting\n",
      "**************************************************************\n",
      "Evaluating model fatalities003_joint_narrow_xgb\n",
      "pr_56_cm_fatalities003_joint_narrow_xgb_calib_raw_estimators_300_lr_0.05.parquet\n",
      "mse_raw 1.9397998599646862\n"
     ]
    },
    {
     "data": {
      "text/plain": "VBox(children=(Label(value='0.001 MB of 0.001 MB uploaded\\r'), FloatProgress(value=1.0, max=1.0)))",
      "application/vnd.jupyter.widget-view+json": {
       "version_major": 2,
       "version_minor": 0,
       "model_id": "8990c928fdab4ad284138dde465e6916"
      }
     },
     "metadata": {},
     "output_type": "display_data"
    },
    {
     "data": {
      "text/plain": "<IPython.core.display.HTML object>",
      "text/html": "<style>\n    table.wandb td:nth-child(1) { padding: 0 10px; text-align: left ; width: auto;} td:nth-child(2) {text-align: left ; width: 100%}\n    .wandb-row { display: flex; flex-direction: row; flex-wrap: wrap; justify-content: flex-start; width: 100% }\n    .wandb-col { display: flex; flex-direction: column; flex-basis: 100%; flex: 1; padding: 10px; }\n    </style>\n<div class=\"wandb-row\"><div class=\"wandb-col\"><h3>Run history:</h3><br/><table class=\"wandb\"><tr><td>mse</td><td>▁</td></tr></table><br/></div><div class=\"wandb-col\"><h3>Run summary:</h3><br/><table class=\"wandb\"><tr><td>mse</td><td>1.9398</td></tr></table><br/></div></div>"
     },
     "metadata": {},
     "output_type": "display_data"
    },
    {
     "data": {
      "text/plain": "<IPython.core.display.HTML object>",
      "text/html": " View run <strong style=\"color:#cdcd00\">comfy-sweep-11</strong> at: <a href='https://wandb.ai/model-development-and-deployment/training_example_3/runs/w26tvjpi' target=\"_blank\">https://wandb.ai/model-development-and-deployment/training_example_3/runs/w26tvjpi</a><br/>Synced 6 W&B file(s), 0 media file(s), 0 artifact file(s) and 0 other file(s)"
     },
     "metadata": {},
     "output_type": "display_data"
    },
    {
     "data": {
      "text/plain": "<IPython.core.display.HTML object>",
      "text/html": "Find logs at: <code>./wandb/run-20231123_000807-w26tvjpi/logs</code>"
     },
     "metadata": {},
     "output_type": "display_data"
    },
    {
     "name": "stderr",
     "output_type": "stream",
     "text": [
      "wandb: Agent Starting Run: dbafoldi with config:\n",
      "wandb: \tlearning_rate: 0.05\n",
      "wandb: \tn_estimators: 300\n",
      "wandb: \tn_jobs: 12\n",
      "wandb: \ttransform: normalize\n"
     ]
    },
    {
     "data": {
      "text/plain": "<IPython.core.display.HTML object>",
      "text/html": "Tracking run with wandb version 0.16.0"
     },
     "metadata": {},
     "output_type": "display_data"
    },
    {
     "data": {
      "text/plain": "<IPython.core.display.HTML object>",
      "text/html": "Run data is saved locally in <code>/Users/xiaolong/weights-and-biases/wandb/run-20231123_001343-dbafoldi</code>"
     },
     "metadata": {},
     "output_type": "display_data"
    },
    {
     "data": {
      "text/plain": "<IPython.core.display.HTML object>",
      "text/html": "Syncing run <strong><a href='https://wandb.ai/model-development-and-deployment/training_example_3/runs/dbafoldi' target=\"_blank\">divine-sweep-12</a></strong> to <a href='https://wandb.ai/model-development-and-deployment/training_example_3' target=\"_blank\">Weights & Biases</a> (<a href='https://wandb.me/run' target=\"_blank\">docs</a>)<br/>Sweep page: <a href='https://wandb.ai/model-development-and-deployment/training_example_3/sweeps/u4jwjwkx' target=\"_blank\">https://wandb.ai/model-development-and-deployment/training_example_3/sweeps/u4jwjwkx</a>"
     },
     "metadata": {},
     "output_type": "display_data"
    },
    {
     "data": {
      "text/plain": "<IPython.core.display.HTML object>",
      "text/html": " View project at <a href='https://wandb.ai/model-development-and-deployment/training_example_3' target=\"_blank\">https://wandb.ai/model-development-and-deployment/training_example_3</a>"
     },
     "metadata": {},
     "output_type": "display_data"
    },
    {
     "data": {
      "text/plain": "<IPython.core.display.HTML object>",
      "text/html": " View sweep at <a href='https://wandb.ai/model-development-and-deployment/training_example_3/sweeps/u4jwjwkx' target=\"_blank\">https://wandb.ai/model-development-and-deployment/training_example_3/sweeps/u4jwjwkx</a>"
     },
     "metadata": {},
     "output_type": "display_data"
    },
    {
     "data": {
      "text/plain": "<IPython.core.display.HTML object>",
      "text/html": " View run at <a href='https://wandb.ai/model-development-and-deployment/training_example_3/runs/dbafoldi' target=\"_blank\">https://wandb.ai/model-development-and-deployment/training_example_3/runs/dbafoldi</a>"
     },
     "metadata": {},
     "output_type": "display_data"
    },
    {
     "name": "stdout",
     "output_type": "stream",
     "text": [
      "Training model fatalities003_joint_narrow_xgb\n",
      "Calibration partition (normalize)\n",
      " * == Performing a run: \"fatalities003_joint_narrow_xgb_calib_normalize\" == * \n",
      "Model object named \"fatalities003_joint_narrow_xgb_calib_normalize\" with equivalent metadata already exists.\n",
      "Retrain is true, overwriting \"fatalities003_joint_narrow_xgb_calib_normalize\"\n",
      "Training model(s)...\n"
     ]
    },
    {
     "name": "stderr",
     "output_type": "stream",
     "text": [
      "Reordering feature dimension. Save memory by setting the outcome feature as the first column in your dataframe.\n"
     ]
    },
    {
     "name": "stdout",
     "output_type": "stream",
     "text": [
      "Storing \"fatalities003_joint_narrow_xgb_calib_normalize\"\n",
      "Getting predictions\n",
      "pr_56_cm_fatalities003_joint_narrow_xgb_calib_normalize_estimators_300_lr_0.05.parquet\n",
      "cm_fatalities003_joint_narrow_xgb_calib_normalize_estimators_300_lr_0.05 , run Fatalities003 does not exist, predicting\n",
      "Test partition ({transform})\n",
      " * == Performing a run: \"fatalities003_joint_narrow_xgb_test_normalize\" == * \n",
      "Model object named \"fatalities003_joint_narrow_xgb_test_normalize\" with equivalent metadata already exists.\n",
      "Retrain is true, overwriting \"fatalities003_joint_narrow_xgb_test_normalize\"\n",
      "Training model(s)...\n"
     ]
    },
    {
     "name": "stderr",
     "output_type": "stream",
     "text": [
      "Reordering feature dimension. Save memory by setting the outcome feature as the first column in your dataframe.\n"
     ]
    },
    {
     "name": "stdout",
     "output_type": "stream",
     "text": [
      "Storing \"fatalities003_joint_narrow_xgb_test_normalize\"\n",
      "Getting predictions\n",
      "pr_56_cm_fatalities003_joint_narrow_xgb_test_normalize_estimators_300_lr_0.05.parquet\n",
      "cm_fatalities003_joint_narrow_xgb_test_normalize_estimators_300_lr_0.05 , run Fatalities003 does not exist, predicting\n",
      "**************************************************************\n",
      "Evaluating model fatalities003_joint_narrow_xgb\n",
      "pr_56_cm_fatalities003_joint_narrow_xgb_calib_normalize_estimators_300_lr_0.05.parquet\n",
      "mse_normalize 25.84060005310882\n"
     ]
    },
    {
     "data": {
      "text/plain": "VBox(children=(Label(value='0.001 MB of 0.001 MB uploaded\\r'), FloatProgress(value=1.0, max=1.0)))",
      "application/vnd.jupyter.widget-view+json": {
       "version_major": 2,
       "version_minor": 0,
       "model_id": "0c5e83753ccd49f7b6c47633b27f52f6"
      }
     },
     "metadata": {},
     "output_type": "display_data"
    },
    {
     "data": {
      "text/plain": "<IPython.core.display.HTML object>",
      "text/html": "<style>\n    table.wandb td:nth-child(1) { padding: 0 10px; text-align: left ; width: auto;} td:nth-child(2) {text-align: left ; width: 100%}\n    .wandb-row { display: flex; flex-direction: row; flex-wrap: wrap; justify-content: flex-start; width: 100% }\n    .wandb-col { display: flex; flex-direction: column; flex-basis: 100%; flex: 1; padding: 10px; }\n    </style>\n<div class=\"wandb-row\"><div class=\"wandb-col\"><h3>Run history:</h3><br/><table class=\"wandb\"><tr><td>mse</td><td>▁</td></tr></table><br/></div><div class=\"wandb-col\"><h3>Run summary:</h3><br/><table class=\"wandb\"><tr><td>mse</td><td>25.8406</td></tr></table><br/></div></div>"
     },
     "metadata": {},
     "output_type": "display_data"
    },
    {
     "data": {
      "text/plain": "<IPython.core.display.HTML object>",
      "text/html": " View run <strong style=\"color:#cdcd00\">divine-sweep-12</strong> at: <a href='https://wandb.ai/model-development-and-deployment/training_example_3/runs/dbafoldi' target=\"_blank\">https://wandb.ai/model-development-and-deployment/training_example_3/runs/dbafoldi</a><br/>Synced 6 W&B file(s), 0 media file(s), 0 artifact file(s) and 0 other file(s)"
     },
     "metadata": {},
     "output_type": "display_data"
    },
    {
     "data": {
      "text/plain": "<IPython.core.display.HTML object>",
      "text/html": "Find logs at: <code>./wandb/run-20231123_001343-dbafoldi/logs</code>"
     },
     "metadata": {},
     "output_type": "display_data"
    },
    {
     "name": "stderr",
     "output_type": "stream",
     "text": [
      "wandb: Agent Starting Run: l4ir5cj7 with config:\n",
      "wandb: \tlearning_rate: 0.1\n",
      "wandb: \tn_estimators: 100\n",
      "wandb: \tn_jobs: 12\n",
      "wandb: \ttransform: log\n"
     ]
    },
    {
     "data": {
      "text/plain": "<IPython.core.display.HTML object>",
      "text/html": "Tracking run with wandb version 0.16.0"
     },
     "metadata": {},
     "output_type": "display_data"
    },
    {
     "data": {
      "text/plain": "<IPython.core.display.HTML object>",
      "text/html": "Run data is saved locally in <code>/Users/xiaolong/weights-and-biases/wandb/run-20231123_001924-l4ir5cj7</code>"
     },
     "metadata": {},
     "output_type": "display_data"
    },
    {
     "data": {
      "text/plain": "<IPython.core.display.HTML object>",
      "text/html": "Syncing run <strong><a href='https://wandb.ai/model-development-and-deployment/training_example_3/runs/l4ir5cj7' target=\"_blank\">sage-sweep-13</a></strong> to <a href='https://wandb.ai/model-development-and-deployment/training_example_3' target=\"_blank\">Weights & Biases</a> (<a href='https://wandb.me/run' target=\"_blank\">docs</a>)<br/>Sweep page: <a href='https://wandb.ai/model-development-and-deployment/training_example_3/sweeps/u4jwjwkx' target=\"_blank\">https://wandb.ai/model-development-and-deployment/training_example_3/sweeps/u4jwjwkx</a>"
     },
     "metadata": {},
     "output_type": "display_data"
    },
    {
     "data": {
      "text/plain": "<IPython.core.display.HTML object>",
      "text/html": " View project at <a href='https://wandb.ai/model-development-and-deployment/training_example_3' target=\"_blank\">https://wandb.ai/model-development-and-deployment/training_example_3</a>"
     },
     "metadata": {},
     "output_type": "display_data"
    },
    {
     "data": {
      "text/plain": "<IPython.core.display.HTML object>",
      "text/html": " View sweep at <a href='https://wandb.ai/model-development-and-deployment/training_example_3/sweeps/u4jwjwkx' target=\"_blank\">https://wandb.ai/model-development-and-deployment/training_example_3/sweeps/u4jwjwkx</a>"
     },
     "metadata": {},
     "output_type": "display_data"
    },
    {
     "data": {
      "text/plain": "<IPython.core.display.HTML object>",
      "text/html": " View run at <a href='https://wandb.ai/model-development-and-deployment/training_example_3/runs/l4ir5cj7' target=\"_blank\">https://wandb.ai/model-development-and-deployment/training_example_3/runs/l4ir5cj7</a>"
     },
     "metadata": {},
     "output_type": "display_data"
    },
    {
     "name": "stdout",
     "output_type": "stream",
     "text": [
      "Training model fatalities003_joint_narrow_xgb\n",
      "Calibration partition (log)\n",
      " * == Performing a run: \"fatalities003_joint_narrow_xgb_calib_log\" == * \n",
      "Model object named \"fatalities003_joint_narrow_xgb_calib_log\" with equivalent metadata already exists.\n",
      "Retrain is true, overwriting \"fatalities003_joint_narrow_xgb_calib_log\"\n",
      "Training model(s)...\n"
     ]
    },
    {
     "name": "stderr",
     "output_type": "stream",
     "text": [
      "Reordering feature dimension. Save memory by setting the outcome feature as the first column in your dataframe.\n"
     ]
    },
    {
     "name": "stdout",
     "output_type": "stream",
     "text": [
      "Storing \"fatalities003_joint_narrow_xgb_calib_log\"\n",
      "Getting predictions\n",
      "pr_56_cm_fatalities003_joint_narrow_xgb_calib_log_estimators_100_lr_0.1.parquet\n",
      "cm_fatalities003_joint_narrow_xgb_calib_log_estimators_100_lr_0.1 , run Fatalities003 does not exist, predicting\n",
      "Test partition ({transform})\n",
      " * == Performing a run: \"fatalities003_joint_narrow_xgb_test_log\" == * \n",
      "Model object named \"fatalities003_joint_narrow_xgb_test_log\" with equivalent metadata already exists.\n",
      "Retrain is true, overwriting \"fatalities003_joint_narrow_xgb_test_log\"\n",
      "Training model(s)...\n"
     ]
    },
    {
     "name": "stderr",
     "output_type": "stream",
     "text": [
      "Reordering feature dimension. Save memory by setting the outcome feature as the first column in your dataframe.\n"
     ]
    },
    {
     "name": "stdout",
     "output_type": "stream",
     "text": [
      "Storing \"fatalities003_joint_narrow_xgb_test_log\"\n",
      "Getting predictions\n",
      "pr_56_cm_fatalities003_joint_narrow_xgb_test_log_estimators_100_lr_0.1.parquet\n",
      "cm_fatalities003_joint_narrow_xgb_test_log_estimators_100_lr_0.1 , run Fatalities003 does not exist, predicting\n",
      "**************************************************************\n",
      "Evaluating model fatalities003_joint_narrow_xgb\n",
      "pr_56_cm_fatalities003_joint_narrow_xgb_calib_log_estimators_100_lr_0.1.parquet\n",
      "mse_log 1.925737408617712\n"
     ]
    },
    {
     "data": {
      "text/plain": "VBox(children=(Label(value='0.001 MB of 0.001 MB uploaded\\r'), FloatProgress(value=1.0, max=1.0)))",
      "application/vnd.jupyter.widget-view+json": {
       "version_major": 2,
       "version_minor": 0,
       "model_id": "9b4895b24e2747329f878c9c2e2b4311"
      }
     },
     "metadata": {},
     "output_type": "display_data"
    },
    {
     "data": {
      "text/plain": "<IPython.core.display.HTML object>",
      "text/html": "<style>\n    table.wandb td:nth-child(1) { padding: 0 10px; text-align: left ; width: auto;} td:nth-child(2) {text-align: left ; width: 100%}\n    .wandb-row { display: flex; flex-direction: row; flex-wrap: wrap; justify-content: flex-start; width: 100% }\n    .wandb-col { display: flex; flex-direction: column; flex-basis: 100%; flex: 1; padding: 10px; }\n    </style>\n<div class=\"wandb-row\"><div class=\"wandb-col\"><h3>Run history:</h3><br/><table class=\"wandb\"><tr><td>mse</td><td>▁</td></tr></table><br/></div><div class=\"wandb-col\"><h3>Run summary:</h3><br/><table class=\"wandb\"><tr><td>mse</td><td>1.92574</td></tr></table><br/></div></div>"
     },
     "metadata": {},
     "output_type": "display_data"
    },
    {
     "data": {
      "text/plain": "<IPython.core.display.HTML object>",
      "text/html": " View run <strong style=\"color:#cdcd00\">sage-sweep-13</strong> at: <a href='https://wandb.ai/model-development-and-deployment/training_example_3/runs/l4ir5cj7' target=\"_blank\">https://wandb.ai/model-development-and-deployment/training_example_3/runs/l4ir5cj7</a><br/>Synced 6 W&B file(s), 0 media file(s), 0 artifact file(s) and 0 other file(s)"
     },
     "metadata": {},
     "output_type": "display_data"
    },
    {
     "data": {
      "text/plain": "<IPython.core.display.HTML object>",
      "text/html": "Find logs at: <code>./wandb/run-20231123_001924-l4ir5cj7/logs</code>"
     },
     "metadata": {},
     "output_type": "display_data"
    },
    {
     "name": "stderr",
     "output_type": "stream",
     "text": [
      "wandb: Agent Starting Run: z2pgi9r8 with config:\n",
      "wandb: \tlearning_rate: 0.1\n",
      "wandb: \tn_estimators: 100\n",
      "wandb: \tn_jobs: 12\n",
      "wandb: \ttransform: standardize\n"
     ]
    },
    {
     "data": {
      "text/plain": "<IPython.core.display.HTML object>",
      "text/html": "Tracking run with wandb version 0.16.0"
     },
     "metadata": {},
     "output_type": "display_data"
    },
    {
     "data": {
      "text/plain": "<IPython.core.display.HTML object>",
      "text/html": "Run data is saved locally in <code>/Users/xiaolong/weights-and-biases/wandb/run-20231123_002144-z2pgi9r8</code>"
     },
     "metadata": {},
     "output_type": "display_data"
    },
    {
     "data": {
      "text/plain": "<IPython.core.display.HTML object>",
      "text/html": "Syncing run <strong><a href='https://wandb.ai/model-development-and-deployment/training_example_3/runs/z2pgi9r8' target=\"_blank\">lyric-sweep-14</a></strong> to <a href='https://wandb.ai/model-development-and-deployment/training_example_3' target=\"_blank\">Weights & Biases</a> (<a href='https://wandb.me/run' target=\"_blank\">docs</a>)<br/>Sweep page: <a href='https://wandb.ai/model-development-and-deployment/training_example_3/sweeps/u4jwjwkx' target=\"_blank\">https://wandb.ai/model-development-and-deployment/training_example_3/sweeps/u4jwjwkx</a>"
     },
     "metadata": {},
     "output_type": "display_data"
    },
    {
     "data": {
      "text/plain": "<IPython.core.display.HTML object>",
      "text/html": " View project at <a href='https://wandb.ai/model-development-and-deployment/training_example_3' target=\"_blank\">https://wandb.ai/model-development-and-deployment/training_example_3</a>"
     },
     "metadata": {},
     "output_type": "display_data"
    },
    {
     "data": {
      "text/plain": "<IPython.core.display.HTML object>",
      "text/html": " View sweep at <a href='https://wandb.ai/model-development-and-deployment/training_example_3/sweeps/u4jwjwkx' target=\"_blank\">https://wandb.ai/model-development-and-deployment/training_example_3/sweeps/u4jwjwkx</a>"
     },
     "metadata": {},
     "output_type": "display_data"
    },
    {
     "data": {
      "text/plain": "<IPython.core.display.HTML object>",
      "text/html": " View run at <a href='https://wandb.ai/model-development-and-deployment/training_example_3/runs/z2pgi9r8' target=\"_blank\">https://wandb.ai/model-development-and-deployment/training_example_3/runs/z2pgi9r8</a>"
     },
     "metadata": {},
     "output_type": "display_data"
    },
    {
     "name": "stdout",
     "output_type": "stream",
     "text": [
      "Training model fatalities003_joint_narrow_xgb\n",
      "Calibration partition (standardize)\n",
      " * == Performing a run: \"fatalities003_joint_narrow_xgb_calib_standardize\" == * \n",
      "Model object named \"fatalities003_joint_narrow_xgb_calib_standardize\" with equivalent metadata already exists.\n",
      "Retrain is true, overwriting \"fatalities003_joint_narrow_xgb_calib_standardize\"\n",
      "Training model(s)...\n"
     ]
    },
    {
     "name": "stderr",
     "output_type": "stream",
     "text": [
      "Reordering feature dimension. Save memory by setting the outcome feature as the first column in your dataframe.\n"
     ]
    },
    {
     "name": "stdout",
     "output_type": "stream",
     "text": [
      "Storing \"fatalities003_joint_narrow_xgb_calib_standardize\"\n",
      "Getting predictions\n",
      "pr_56_cm_fatalities003_joint_narrow_xgb_calib_standardize_estimators_100_lr_0.1.parquet\n",
      "cm_fatalities003_joint_narrow_xgb_calib_standardize_estimators_100_lr_0.1 , run Fatalities003 does not exist, predicting\n",
      "Test partition ({transform})\n",
      " * == Performing a run: \"fatalities003_joint_narrow_xgb_test_standardize\" == * \n",
      "Model object named \"fatalities003_joint_narrow_xgb_test_standardize\" with equivalent metadata already exists.\n",
      "Retrain is true, overwriting \"fatalities003_joint_narrow_xgb_test_standardize\"\n",
      "Training model(s)...\n"
     ]
    },
    {
     "name": "stderr",
     "output_type": "stream",
     "text": [
      "Reordering feature dimension. Save memory by setting the outcome feature as the first column in your dataframe.\n"
     ]
    },
    {
     "name": "stdout",
     "output_type": "stream",
     "text": [
      "Storing \"fatalities003_joint_narrow_xgb_test_standardize\"\n",
      "Getting predictions\n",
      "pr_56_cm_fatalities003_joint_narrow_xgb_test_standardize_estimators_100_lr_0.1.parquet\n",
      "cm_fatalities003_joint_narrow_xgb_test_standardize_estimators_100_lr_0.1 , run Fatalities003 does not exist, predicting\n",
      "**************************************************************\n",
      "Evaluating model fatalities003_joint_narrow_xgb\n",
      "pr_56_cm_fatalities003_joint_narrow_xgb_calib_standardize_estimators_100_lr_0.1.parquet\n",
      "mse_standardize 2.237982785439048\n"
     ]
    },
    {
     "data": {
      "text/plain": "VBox(children=(Label(value='0.001 MB of 0.001 MB uploaded\\r'), FloatProgress(value=1.0, max=1.0)))",
      "application/vnd.jupyter.widget-view+json": {
       "version_major": 2,
       "version_minor": 0,
       "model_id": "0a696f5f88ca4749bd0ca0746f18d1dc"
      }
     },
     "metadata": {},
     "output_type": "display_data"
    },
    {
     "data": {
      "text/plain": "<IPython.core.display.HTML object>",
      "text/html": "<style>\n    table.wandb td:nth-child(1) { padding: 0 10px; text-align: left ; width: auto;} td:nth-child(2) {text-align: left ; width: 100%}\n    .wandb-row { display: flex; flex-direction: row; flex-wrap: wrap; justify-content: flex-start; width: 100% }\n    .wandb-col { display: flex; flex-direction: column; flex-basis: 100%; flex: 1; padding: 10px; }\n    </style>\n<div class=\"wandb-row\"><div class=\"wandb-col\"><h3>Run history:</h3><br/><table class=\"wandb\"><tr><td>mse</td><td>▁</td></tr></table><br/></div><div class=\"wandb-col\"><h3>Run summary:</h3><br/><table class=\"wandb\"><tr><td>mse</td><td>2.23798</td></tr></table><br/></div></div>"
     },
     "metadata": {},
     "output_type": "display_data"
    },
    {
     "data": {
      "text/plain": "<IPython.core.display.HTML object>",
      "text/html": " View run <strong style=\"color:#cdcd00\">lyric-sweep-14</strong> at: <a href='https://wandb.ai/model-development-and-deployment/training_example_3/runs/z2pgi9r8' target=\"_blank\">https://wandb.ai/model-development-and-deployment/training_example_3/runs/z2pgi9r8</a><br/>Synced 6 W&B file(s), 0 media file(s), 0 artifact file(s) and 0 other file(s)"
     },
     "metadata": {},
     "output_type": "display_data"
    },
    {
     "data": {
      "text/plain": "<IPython.core.display.HTML object>",
      "text/html": "Find logs at: <code>./wandb/run-20231123_002144-z2pgi9r8/logs</code>"
     },
     "metadata": {},
     "output_type": "display_data"
    },
    {
     "name": "stderr",
     "output_type": "stream",
     "text": [
      "wandb: Agent Starting Run: 84ksrea6 with config:\n",
      "wandb: \tlearning_rate: 0.1\n",
      "wandb: \tn_estimators: 100\n",
      "wandb: \tn_jobs: 12\n",
      "wandb: \ttransform: raw\n"
     ]
    },
    {
     "data": {
      "text/plain": "<IPython.core.display.HTML object>",
      "text/html": "Tracking run with wandb version 0.16.0"
     },
     "metadata": {},
     "output_type": "display_data"
    },
    {
     "data": {
      "text/plain": "<IPython.core.display.HTML object>",
      "text/html": "Run data is saved locally in <code>/Users/xiaolong/weights-and-biases/wandb/run-20231123_002410-84ksrea6</code>"
     },
     "metadata": {},
     "output_type": "display_data"
    },
    {
     "data": {
      "text/plain": "<IPython.core.display.HTML object>",
      "text/html": "Syncing run <strong><a href='https://wandb.ai/model-development-and-deployment/training_example_3/runs/84ksrea6' target=\"_blank\">different-sweep-15</a></strong> to <a href='https://wandb.ai/model-development-and-deployment/training_example_3' target=\"_blank\">Weights & Biases</a> (<a href='https://wandb.me/run' target=\"_blank\">docs</a>)<br/>Sweep page: <a href='https://wandb.ai/model-development-and-deployment/training_example_3/sweeps/u4jwjwkx' target=\"_blank\">https://wandb.ai/model-development-and-deployment/training_example_3/sweeps/u4jwjwkx</a>"
     },
     "metadata": {},
     "output_type": "display_data"
    },
    {
     "data": {
      "text/plain": "<IPython.core.display.HTML object>",
      "text/html": " View project at <a href='https://wandb.ai/model-development-and-deployment/training_example_3' target=\"_blank\">https://wandb.ai/model-development-and-deployment/training_example_3</a>"
     },
     "metadata": {},
     "output_type": "display_data"
    },
    {
     "data": {
      "text/plain": "<IPython.core.display.HTML object>",
      "text/html": " View sweep at <a href='https://wandb.ai/model-development-and-deployment/training_example_3/sweeps/u4jwjwkx' target=\"_blank\">https://wandb.ai/model-development-and-deployment/training_example_3/sweeps/u4jwjwkx</a>"
     },
     "metadata": {},
     "output_type": "display_data"
    },
    {
     "data": {
      "text/plain": "<IPython.core.display.HTML object>",
      "text/html": " View run at <a href='https://wandb.ai/model-development-and-deployment/training_example_3/runs/84ksrea6' target=\"_blank\">https://wandb.ai/model-development-and-deployment/training_example_3/runs/84ksrea6</a>"
     },
     "metadata": {},
     "output_type": "display_data"
    },
    {
     "name": "stdout",
     "output_type": "stream",
     "text": [
      "Training model fatalities003_joint_narrow_xgb\n",
      "Calibration partition (raw)\n",
      " * == Performing a run: \"fatalities003_joint_narrow_xgb_calib_raw\" == * \n",
      "Model object named \"fatalities003_joint_narrow_xgb_calib_raw\" with equivalent metadata already exists.\n",
      "Retrain is true, overwriting \"fatalities003_joint_narrow_xgb_calib_raw\"\n",
      "Training model(s)...\n"
     ]
    },
    {
     "name": "stderr",
     "output_type": "stream",
     "text": [
      "Reordering feature dimension. Save memory by setting the outcome feature as the first column in your dataframe.\n"
     ]
    },
    {
     "name": "stdout",
     "output_type": "stream",
     "text": [
      "Storing \"fatalities003_joint_narrow_xgb_calib_raw\"\n",
      "Getting predictions\n",
      "pr_56_cm_fatalities003_joint_narrow_xgb_calib_raw_estimators_100_lr_0.1.parquet\n",
      "cm_fatalities003_joint_narrow_xgb_calib_raw_estimators_100_lr_0.1 , run Fatalities003 does not exist, predicting\n",
      "Test partition ({transform})\n",
      " * == Performing a run: \"fatalities003_joint_narrow_xgb_test_raw\" == * \n",
      "Model object named \"fatalities003_joint_narrow_xgb_test_raw\" with equivalent metadata already exists.\n",
      "Retrain is true, overwriting \"fatalities003_joint_narrow_xgb_test_raw\"\n",
      "Training model(s)...\n"
     ]
    },
    {
     "name": "stderr",
     "output_type": "stream",
     "text": [
      "Reordering feature dimension. Save memory by setting the outcome feature as the first column in your dataframe.\n"
     ]
    },
    {
     "name": "stdout",
     "output_type": "stream",
     "text": [
      "Storing \"fatalities003_joint_narrow_xgb_test_raw\"\n",
      "Getting predictions\n",
      "pr_56_cm_fatalities003_joint_narrow_xgb_test_raw_estimators_100_lr_0.1.parquet\n",
      "cm_fatalities003_joint_narrow_xgb_test_raw_estimators_100_lr_0.1 , run Fatalities003 does not exist, predicting\n",
      "**************************************************************\n",
      "Evaluating model fatalities003_joint_narrow_xgb\n",
      "pr_56_cm_fatalities003_joint_narrow_xgb_calib_raw_estimators_100_lr_0.1.parquet\n",
      "mse_raw 1.8438888563416984\n"
     ]
    },
    {
     "data": {
      "text/plain": "VBox(children=(Label(value='0.001 MB of 0.001 MB uploaded\\r'), FloatProgress(value=1.0, max=1.0)))",
      "application/vnd.jupyter.widget-view+json": {
       "version_major": 2,
       "version_minor": 0,
       "model_id": "76e16f07fa4143fea02e6e80bf4417d6"
      }
     },
     "metadata": {},
     "output_type": "display_data"
    },
    {
     "data": {
      "text/plain": "<IPython.core.display.HTML object>",
      "text/html": "<style>\n    table.wandb td:nth-child(1) { padding: 0 10px; text-align: left ; width: auto;} td:nth-child(2) {text-align: left ; width: 100%}\n    .wandb-row { display: flex; flex-direction: row; flex-wrap: wrap; justify-content: flex-start; width: 100% }\n    .wandb-col { display: flex; flex-direction: column; flex-basis: 100%; flex: 1; padding: 10px; }\n    </style>\n<div class=\"wandb-row\"><div class=\"wandb-col\"><h3>Run history:</h3><br/><table class=\"wandb\"><tr><td>mse</td><td>▁</td></tr></table><br/></div><div class=\"wandb-col\"><h3>Run summary:</h3><br/><table class=\"wandb\"><tr><td>mse</td><td>1.84389</td></tr></table><br/></div></div>"
     },
     "metadata": {},
     "output_type": "display_data"
    },
    {
     "data": {
      "text/plain": "<IPython.core.display.HTML object>",
      "text/html": " View run <strong style=\"color:#cdcd00\">different-sweep-15</strong> at: <a href='https://wandb.ai/model-development-and-deployment/training_example_3/runs/84ksrea6' target=\"_blank\">https://wandb.ai/model-development-and-deployment/training_example_3/runs/84ksrea6</a><br/>Synced 6 W&B file(s), 0 media file(s), 0 artifact file(s) and 0 other file(s)"
     },
     "metadata": {},
     "output_type": "display_data"
    },
    {
     "data": {
      "text/plain": "<IPython.core.display.HTML object>",
      "text/html": "Find logs at: <code>./wandb/run-20231123_002410-84ksrea6/logs</code>"
     },
     "metadata": {},
     "output_type": "display_data"
    },
    {
     "name": "stderr",
     "output_type": "stream",
     "text": [
      "wandb: Agent Starting Run: z4pb70x6 with config:\n",
      "wandb: \tlearning_rate: 0.1\n",
      "wandb: \tn_estimators: 100\n",
      "wandb: \tn_jobs: 12\n",
      "wandb: \ttransform: normalize\n"
     ]
    },
    {
     "data": {
      "text/plain": "<IPython.core.display.HTML object>",
      "text/html": "Tracking run with wandb version 0.16.0"
     },
     "metadata": {},
     "output_type": "display_data"
    },
    {
     "data": {
      "text/plain": "<IPython.core.display.HTML object>",
      "text/html": "Run data is saved locally in <code>/Users/xiaolong/weights-and-biases/wandb/run-20231123_002629-z4pb70x6</code>"
     },
     "metadata": {},
     "output_type": "display_data"
    },
    {
     "data": {
      "text/plain": "<IPython.core.display.HTML object>",
      "text/html": "Syncing run <strong><a href='https://wandb.ai/model-development-and-deployment/training_example_3/runs/z4pb70x6' target=\"_blank\">clear-sweep-16</a></strong> to <a href='https://wandb.ai/model-development-and-deployment/training_example_3' target=\"_blank\">Weights & Biases</a> (<a href='https://wandb.me/run' target=\"_blank\">docs</a>)<br/>Sweep page: <a href='https://wandb.ai/model-development-and-deployment/training_example_3/sweeps/u4jwjwkx' target=\"_blank\">https://wandb.ai/model-development-and-deployment/training_example_3/sweeps/u4jwjwkx</a>"
     },
     "metadata": {},
     "output_type": "display_data"
    },
    {
     "data": {
      "text/plain": "<IPython.core.display.HTML object>",
      "text/html": " View project at <a href='https://wandb.ai/model-development-and-deployment/training_example_3' target=\"_blank\">https://wandb.ai/model-development-and-deployment/training_example_3</a>"
     },
     "metadata": {},
     "output_type": "display_data"
    },
    {
     "data": {
      "text/plain": "<IPython.core.display.HTML object>",
      "text/html": " View sweep at <a href='https://wandb.ai/model-development-and-deployment/training_example_3/sweeps/u4jwjwkx' target=\"_blank\">https://wandb.ai/model-development-and-deployment/training_example_3/sweeps/u4jwjwkx</a>"
     },
     "metadata": {},
     "output_type": "display_data"
    },
    {
     "data": {
      "text/plain": "<IPython.core.display.HTML object>",
      "text/html": " View run at <a href='https://wandb.ai/model-development-and-deployment/training_example_3/runs/z4pb70x6' target=\"_blank\">https://wandb.ai/model-development-and-deployment/training_example_3/runs/z4pb70x6</a>"
     },
     "metadata": {},
     "output_type": "display_data"
    },
    {
     "name": "stdout",
     "output_type": "stream",
     "text": [
      "Training model fatalities003_joint_narrow_xgb\n",
      "Calibration partition (normalize)\n",
      " * == Performing a run: \"fatalities003_joint_narrow_xgb_calib_normalize\" == * \n",
      "Model object named \"fatalities003_joint_narrow_xgb_calib_normalize\" with equivalent metadata already exists.\n",
      "Retrain is true, overwriting \"fatalities003_joint_narrow_xgb_calib_normalize\"\n",
      "Training model(s)...\n"
     ]
    },
    {
     "name": "stderr",
     "output_type": "stream",
     "text": [
      "Reordering feature dimension. Save memory by setting the outcome feature as the first column in your dataframe.\n"
     ]
    },
    {
     "name": "stdout",
     "output_type": "stream",
     "text": [
      "Storing \"fatalities003_joint_narrow_xgb_calib_normalize\"\n",
      "Getting predictions\n",
      "pr_56_cm_fatalities003_joint_narrow_xgb_calib_normalize_estimators_100_lr_0.1.parquet\n",
      "cm_fatalities003_joint_narrow_xgb_calib_normalize_estimators_100_lr_0.1 , run Fatalities003 does not exist, predicting\n",
      "Test partition ({transform})\n",
      " * == Performing a run: \"fatalities003_joint_narrow_xgb_test_normalize\" == * \n",
      "Model object named \"fatalities003_joint_narrow_xgb_test_normalize\" with equivalent metadata already exists.\n",
      "Retrain is true, overwriting \"fatalities003_joint_narrow_xgb_test_normalize\"\n",
      "Training model(s)...\n"
     ]
    },
    {
     "name": "stderr",
     "output_type": "stream",
     "text": [
      "Reordering feature dimension. Save memory by setting the outcome feature as the first column in your dataframe.\n"
     ]
    },
    {
     "name": "stdout",
     "output_type": "stream",
     "text": [
      "Storing \"fatalities003_joint_narrow_xgb_test_normalize\"\n",
      "Getting predictions\n",
      "pr_56_cm_fatalities003_joint_narrow_xgb_test_normalize_estimators_100_lr_0.1.parquet\n",
      "cm_fatalities003_joint_narrow_xgb_test_normalize_estimators_100_lr_0.1 , run Fatalities003 does not exist, predicting\n",
      "**************************************************************\n",
      "Evaluating model fatalities003_joint_narrow_xgb\n",
      "pr_56_cm_fatalities003_joint_narrow_xgb_calib_normalize_estimators_100_lr_0.1.parquet\n",
      "mse_normalize 23.24434216653327\n"
     ]
    },
    {
     "data": {
      "text/plain": "VBox(children=(Label(value='0.001 MB of 0.001 MB uploaded\\r'), FloatProgress(value=1.0, max=1.0)))",
      "application/vnd.jupyter.widget-view+json": {
       "version_major": 2,
       "version_minor": 0,
       "model_id": "d4be421655564885950bb74954c3d659"
      }
     },
     "metadata": {},
     "output_type": "display_data"
    },
    {
     "data": {
      "text/plain": "<IPython.core.display.HTML object>",
      "text/html": "<style>\n    table.wandb td:nth-child(1) { padding: 0 10px; text-align: left ; width: auto;} td:nth-child(2) {text-align: left ; width: 100%}\n    .wandb-row { display: flex; flex-direction: row; flex-wrap: wrap; justify-content: flex-start; width: 100% }\n    .wandb-col { display: flex; flex-direction: column; flex-basis: 100%; flex: 1; padding: 10px; }\n    </style>\n<div class=\"wandb-row\"><div class=\"wandb-col\"><h3>Run history:</h3><br/><table class=\"wandb\"><tr><td>mse</td><td>▁</td></tr></table><br/></div><div class=\"wandb-col\"><h3>Run summary:</h3><br/><table class=\"wandb\"><tr><td>mse</td><td>23.24434</td></tr></table><br/></div></div>"
     },
     "metadata": {},
     "output_type": "display_data"
    },
    {
     "data": {
      "text/plain": "<IPython.core.display.HTML object>",
      "text/html": " View run <strong style=\"color:#cdcd00\">clear-sweep-16</strong> at: <a href='https://wandb.ai/model-development-and-deployment/training_example_3/runs/z4pb70x6' target=\"_blank\">https://wandb.ai/model-development-and-deployment/training_example_3/runs/z4pb70x6</a><br/>Synced 6 W&B file(s), 0 media file(s), 0 artifact file(s) and 0 other file(s)"
     },
     "metadata": {},
     "output_type": "display_data"
    },
    {
     "data": {
      "text/plain": "<IPython.core.display.HTML object>",
      "text/html": "Find logs at: <code>./wandb/run-20231123_002629-z4pb70x6/logs</code>"
     },
     "metadata": {},
     "output_type": "display_data"
    },
    {
     "name": "stderr",
     "output_type": "stream",
     "text": [
      "wandb: Agent Starting Run: mah4mbtc with config:\n",
      "wandb: \tlearning_rate: 0.1\n",
      "wandb: \tn_estimators: 200\n",
      "wandb: \tn_jobs: 12\n",
      "wandb: \ttransform: log\n"
     ]
    },
    {
     "data": {
      "text/plain": "<IPython.core.display.HTML object>",
      "text/html": "Tracking run with wandb version 0.16.0"
     },
     "metadata": {},
     "output_type": "display_data"
    },
    {
     "data": {
      "text/plain": "<IPython.core.display.HTML object>",
      "text/html": "Run data is saved locally in <code>/Users/xiaolong/weights-and-biases/wandb/run-20231123_002848-mah4mbtc</code>"
     },
     "metadata": {},
     "output_type": "display_data"
    },
    {
     "data": {
      "text/plain": "<IPython.core.display.HTML object>",
      "text/html": "Syncing run <strong><a href='https://wandb.ai/model-development-and-deployment/training_example_3/runs/mah4mbtc' target=\"_blank\">rich-sweep-17</a></strong> to <a href='https://wandb.ai/model-development-and-deployment/training_example_3' target=\"_blank\">Weights & Biases</a> (<a href='https://wandb.me/run' target=\"_blank\">docs</a>)<br/>Sweep page: <a href='https://wandb.ai/model-development-and-deployment/training_example_3/sweeps/u4jwjwkx' target=\"_blank\">https://wandb.ai/model-development-and-deployment/training_example_3/sweeps/u4jwjwkx</a>"
     },
     "metadata": {},
     "output_type": "display_data"
    },
    {
     "data": {
      "text/plain": "<IPython.core.display.HTML object>",
      "text/html": " View project at <a href='https://wandb.ai/model-development-and-deployment/training_example_3' target=\"_blank\">https://wandb.ai/model-development-and-deployment/training_example_3</a>"
     },
     "metadata": {},
     "output_type": "display_data"
    },
    {
     "data": {
      "text/plain": "<IPython.core.display.HTML object>",
      "text/html": " View sweep at <a href='https://wandb.ai/model-development-and-deployment/training_example_3/sweeps/u4jwjwkx' target=\"_blank\">https://wandb.ai/model-development-and-deployment/training_example_3/sweeps/u4jwjwkx</a>"
     },
     "metadata": {},
     "output_type": "display_data"
    },
    {
     "data": {
      "text/plain": "<IPython.core.display.HTML object>",
      "text/html": " View run at <a href='https://wandb.ai/model-development-and-deployment/training_example_3/runs/mah4mbtc' target=\"_blank\">https://wandb.ai/model-development-and-deployment/training_example_3/runs/mah4mbtc</a>"
     },
     "metadata": {},
     "output_type": "display_data"
    },
    {
     "name": "stdout",
     "output_type": "stream",
     "text": [
      "Training model fatalities003_joint_narrow_xgb\n",
      "Calibration partition (log)\n",
      " * == Performing a run: \"fatalities003_joint_narrow_xgb_calib_log\" == * \n",
      "Model object named \"fatalities003_joint_narrow_xgb_calib_log\" with equivalent metadata already exists.\n",
      "Retrain is true, overwriting \"fatalities003_joint_narrow_xgb_calib_log\"\n",
      "Training model(s)...\n"
     ]
    },
    {
     "name": "stderr",
     "output_type": "stream",
     "text": [
      "Reordering feature dimension. Save memory by setting the outcome feature as the first column in your dataframe.\n"
     ]
    },
    {
     "name": "stdout",
     "output_type": "stream",
     "text": [
      "Storing \"fatalities003_joint_narrow_xgb_calib_log\"\n",
      "Getting predictions\n",
      "pr_56_cm_fatalities003_joint_narrow_xgb_calib_log_estimators_200_lr_0.1.parquet\n",
      "cm_fatalities003_joint_narrow_xgb_calib_log_estimators_200_lr_0.1 , run Fatalities003 does not exist, predicting\n",
      "Test partition ({transform})\n",
      " * == Performing a run: \"fatalities003_joint_narrow_xgb_test_log\" == * \n",
      "Model object named \"fatalities003_joint_narrow_xgb_test_log\" with equivalent metadata already exists.\n",
      "Retrain is true, overwriting \"fatalities003_joint_narrow_xgb_test_log\"\n",
      "Training model(s)...\n"
     ]
    },
    {
     "name": "stderr",
     "output_type": "stream",
     "text": [
      "Reordering feature dimension. Save memory by setting the outcome feature as the first column in your dataframe.\n"
     ]
    },
    {
     "name": "stdout",
     "output_type": "stream",
     "text": [
      "Storing \"fatalities003_joint_narrow_xgb_test_log\"\n",
      "Getting predictions\n",
      "pr_56_cm_fatalities003_joint_narrow_xgb_test_log_estimators_200_lr_0.1.parquet\n",
      "cm_fatalities003_joint_narrow_xgb_test_log_estimators_200_lr_0.1 , run Fatalities003 does not exist, predicting\n",
      "**************************************************************\n",
      "Evaluating model fatalities003_joint_narrow_xgb\n",
      "pr_56_cm_fatalities003_joint_narrow_xgb_calib_log_estimators_200_lr_0.1.parquet\n",
      "mse_log 1.9253756925130567\n"
     ]
    },
    {
     "data": {
      "text/plain": "VBox(children=(Label(value='0.001 MB of 0.001 MB uploaded\\r'), FloatProgress(value=1.0, max=1.0)))",
      "application/vnd.jupyter.widget-view+json": {
       "version_major": 2,
       "version_minor": 0,
       "model_id": "7db71887a08e44728107b87c874152a2"
      }
     },
     "metadata": {},
     "output_type": "display_data"
    },
    {
     "data": {
      "text/plain": "<IPython.core.display.HTML object>",
      "text/html": "<style>\n    table.wandb td:nth-child(1) { padding: 0 10px; text-align: left ; width: auto;} td:nth-child(2) {text-align: left ; width: 100%}\n    .wandb-row { display: flex; flex-direction: row; flex-wrap: wrap; justify-content: flex-start; width: 100% }\n    .wandb-col { display: flex; flex-direction: column; flex-basis: 100%; flex: 1; padding: 10px; }\n    </style>\n<div class=\"wandb-row\"><div class=\"wandb-col\"><h3>Run history:</h3><br/><table class=\"wandb\"><tr><td>mse</td><td>▁</td></tr></table><br/></div><div class=\"wandb-col\"><h3>Run summary:</h3><br/><table class=\"wandb\"><tr><td>mse</td><td>1.92538</td></tr></table><br/></div></div>"
     },
     "metadata": {},
     "output_type": "display_data"
    },
    {
     "data": {
      "text/plain": "<IPython.core.display.HTML object>",
      "text/html": " View run <strong style=\"color:#cdcd00\">rich-sweep-17</strong> at: <a href='https://wandb.ai/model-development-and-deployment/training_example_3/runs/mah4mbtc' target=\"_blank\">https://wandb.ai/model-development-and-deployment/training_example_3/runs/mah4mbtc</a><br/>Synced 6 W&B file(s), 0 media file(s), 0 artifact file(s) and 0 other file(s)"
     },
     "metadata": {},
     "output_type": "display_data"
    },
    {
     "data": {
      "text/plain": "<IPython.core.display.HTML object>",
      "text/html": "Find logs at: <code>./wandb/run-20231123_002848-mah4mbtc/logs</code>"
     },
     "metadata": {},
     "output_type": "display_data"
    },
    {
     "name": "stderr",
     "output_type": "stream",
     "text": [
      "wandb: Agent Starting Run: c5uirxvt with config:\n",
      "wandb: \tlearning_rate: 0.1\n",
      "wandb: \tn_estimators: 200\n",
      "wandb: \tn_jobs: 12\n",
      "wandb: \ttransform: standardize\n"
     ]
    },
    {
     "data": {
      "text/plain": "<IPython.core.display.HTML object>",
      "text/html": "Tracking run with wandb version 0.16.0"
     },
     "metadata": {},
     "output_type": "display_data"
    },
    {
     "data": {
      "text/plain": "<IPython.core.display.HTML object>",
      "text/html": "Run data is saved locally in <code>/Users/xiaolong/weights-and-biases/wandb/run-20231123_003236-c5uirxvt</code>"
     },
     "metadata": {},
     "output_type": "display_data"
    },
    {
     "data": {
      "text/plain": "<IPython.core.display.HTML object>",
      "text/html": "Syncing run <strong><a href='https://wandb.ai/model-development-and-deployment/training_example_3/runs/c5uirxvt' target=\"_blank\">polar-sweep-18</a></strong> to <a href='https://wandb.ai/model-development-and-deployment/training_example_3' target=\"_blank\">Weights & Biases</a> (<a href='https://wandb.me/run' target=\"_blank\">docs</a>)<br/>Sweep page: <a href='https://wandb.ai/model-development-and-deployment/training_example_3/sweeps/u4jwjwkx' target=\"_blank\">https://wandb.ai/model-development-and-deployment/training_example_3/sweeps/u4jwjwkx</a>"
     },
     "metadata": {},
     "output_type": "display_data"
    },
    {
     "data": {
      "text/plain": "<IPython.core.display.HTML object>",
      "text/html": " View project at <a href='https://wandb.ai/model-development-and-deployment/training_example_3' target=\"_blank\">https://wandb.ai/model-development-and-deployment/training_example_3</a>"
     },
     "metadata": {},
     "output_type": "display_data"
    },
    {
     "data": {
      "text/plain": "<IPython.core.display.HTML object>",
      "text/html": " View sweep at <a href='https://wandb.ai/model-development-and-deployment/training_example_3/sweeps/u4jwjwkx' target=\"_blank\">https://wandb.ai/model-development-and-deployment/training_example_3/sweeps/u4jwjwkx</a>"
     },
     "metadata": {},
     "output_type": "display_data"
    },
    {
     "data": {
      "text/plain": "<IPython.core.display.HTML object>",
      "text/html": " View run at <a href='https://wandb.ai/model-development-and-deployment/training_example_3/runs/c5uirxvt' target=\"_blank\">https://wandb.ai/model-development-and-deployment/training_example_3/runs/c5uirxvt</a>"
     },
     "metadata": {},
     "output_type": "display_data"
    },
    {
     "name": "stdout",
     "output_type": "stream",
     "text": [
      "Training model fatalities003_joint_narrow_xgb\n",
      "Calibration partition (standardize)\n",
      " * == Performing a run: \"fatalities003_joint_narrow_xgb_calib_standardize\" == * \n",
      "Model object named \"fatalities003_joint_narrow_xgb_calib_standardize\" with equivalent metadata already exists.\n",
      "Retrain is true, overwriting \"fatalities003_joint_narrow_xgb_calib_standardize\"\n",
      "Training model(s)...\n"
     ]
    },
    {
     "name": "stderr",
     "output_type": "stream",
     "text": [
      "Reordering feature dimension. Save memory by setting the outcome feature as the first column in your dataframe.\n"
     ]
    },
    {
     "name": "stdout",
     "output_type": "stream",
     "text": [
      "Storing \"fatalities003_joint_narrow_xgb_calib_standardize\"\n",
      "Getting predictions\n",
      "pr_56_cm_fatalities003_joint_narrow_xgb_calib_standardize_estimators_200_lr_0.1.parquet\n",
      "cm_fatalities003_joint_narrow_xgb_calib_standardize_estimators_200_lr_0.1 , run Fatalities003 does not exist, predicting\n",
      "Test partition ({transform})\n",
      " * == Performing a run: \"fatalities003_joint_narrow_xgb_test_standardize\" == * \n",
      "Model object named \"fatalities003_joint_narrow_xgb_test_standardize\" with equivalent metadata already exists.\n",
      "Retrain is true, overwriting \"fatalities003_joint_narrow_xgb_test_standardize\"\n",
      "Training model(s)...\n"
     ]
    },
    {
     "name": "stderr",
     "output_type": "stream",
     "text": [
      "Reordering feature dimension. Save memory by setting the outcome feature as the first column in your dataframe.\n"
     ]
    },
    {
     "name": "stdout",
     "output_type": "stream",
     "text": [
      "Storing \"fatalities003_joint_narrow_xgb_test_standardize\"\n",
      "Getting predictions\n",
      "pr_56_cm_fatalities003_joint_narrow_xgb_test_standardize_estimators_200_lr_0.1.parquet\n",
      "cm_fatalities003_joint_narrow_xgb_test_standardize_estimators_200_lr_0.1 , run Fatalities003 does not exist, predicting\n",
      "**************************************************************\n",
      "Evaluating model fatalities003_joint_narrow_xgb\n",
      "pr_56_cm_fatalities003_joint_narrow_xgb_calib_standardize_estimators_200_lr_0.1.parquet\n",
      "mse_standardize 2.238291477532994\n"
     ]
    },
    {
     "data": {
      "text/plain": "VBox(children=(Label(value='0.001 MB of 0.019 MB uploaded\\r'), FloatProgress(value=0.051132288144277074, max=1…",
      "application/vnd.jupyter.widget-view+json": {
       "version_major": 2,
       "version_minor": 0,
       "model_id": "4e4b1f9ca2be4e04b497355fb8076e17"
      }
     },
     "metadata": {},
     "output_type": "display_data"
    },
    {
     "data": {
      "text/plain": "<IPython.core.display.HTML object>",
      "text/html": "<style>\n    table.wandb td:nth-child(1) { padding: 0 10px; text-align: left ; width: auto;} td:nth-child(2) {text-align: left ; width: 100%}\n    .wandb-row { display: flex; flex-direction: row; flex-wrap: wrap; justify-content: flex-start; width: 100% }\n    .wandb-col { display: flex; flex-direction: column; flex-basis: 100%; flex: 1; padding: 10px; }\n    </style>\n<div class=\"wandb-row\"><div class=\"wandb-col\"><h3>Run history:</h3><br/><table class=\"wandb\"><tr><td>mse</td><td>▁</td></tr></table><br/></div><div class=\"wandb-col\"><h3>Run summary:</h3><br/><table class=\"wandb\"><tr><td>mse</td><td>2.23829</td></tr></table><br/></div></div>"
     },
     "metadata": {},
     "output_type": "display_data"
    },
    {
     "data": {
      "text/plain": "<IPython.core.display.HTML object>",
      "text/html": " View run <strong style=\"color:#cdcd00\">polar-sweep-18</strong> at: <a href='https://wandb.ai/model-development-and-deployment/training_example_3/runs/c5uirxvt' target=\"_blank\">https://wandb.ai/model-development-and-deployment/training_example_3/runs/c5uirxvt</a><br/>Synced 6 W&B file(s), 0 media file(s), 0 artifact file(s) and 0 other file(s)"
     },
     "metadata": {},
     "output_type": "display_data"
    },
    {
     "data": {
      "text/plain": "<IPython.core.display.HTML object>",
      "text/html": "Find logs at: <code>./wandb/run-20231123_003236-c5uirxvt/logs</code>"
     },
     "metadata": {},
     "output_type": "display_data"
    },
    {
     "name": "stderr",
     "output_type": "stream",
     "text": [
      "wandb: Agent Starting Run: qrlzvs9o with config:\n",
      "wandb: \tlearning_rate: 0.1\n",
      "wandb: \tn_estimators: 200\n",
      "wandb: \tn_jobs: 12\n",
      "wandb: \ttransform: raw\n"
     ]
    },
    {
     "data": {
      "text/plain": "<IPython.core.display.HTML object>",
      "text/html": "Tracking run with wandb version 0.16.0"
     },
     "metadata": {},
     "output_type": "display_data"
    },
    {
     "data": {
      "text/plain": "<IPython.core.display.HTML object>",
      "text/html": "Run data is saved locally in <code>/Users/xiaolong/weights-and-biases/wandb/run-20231123_003629-qrlzvs9o</code>"
     },
     "metadata": {},
     "output_type": "display_data"
    },
    {
     "data": {
      "text/plain": "<IPython.core.display.HTML object>",
      "text/html": "Syncing run <strong><a href='https://wandb.ai/model-development-and-deployment/training_example_3/runs/qrlzvs9o' target=\"_blank\">colorful-sweep-19</a></strong> to <a href='https://wandb.ai/model-development-and-deployment/training_example_3' target=\"_blank\">Weights & Biases</a> (<a href='https://wandb.me/run' target=\"_blank\">docs</a>)<br/>Sweep page: <a href='https://wandb.ai/model-development-and-deployment/training_example_3/sweeps/u4jwjwkx' target=\"_blank\">https://wandb.ai/model-development-and-deployment/training_example_3/sweeps/u4jwjwkx</a>"
     },
     "metadata": {},
     "output_type": "display_data"
    },
    {
     "data": {
      "text/plain": "<IPython.core.display.HTML object>",
      "text/html": " View project at <a href='https://wandb.ai/model-development-and-deployment/training_example_3' target=\"_blank\">https://wandb.ai/model-development-and-deployment/training_example_3</a>"
     },
     "metadata": {},
     "output_type": "display_data"
    },
    {
     "data": {
      "text/plain": "<IPython.core.display.HTML object>",
      "text/html": " View sweep at <a href='https://wandb.ai/model-development-and-deployment/training_example_3/sweeps/u4jwjwkx' target=\"_blank\">https://wandb.ai/model-development-and-deployment/training_example_3/sweeps/u4jwjwkx</a>"
     },
     "metadata": {},
     "output_type": "display_data"
    },
    {
     "data": {
      "text/plain": "<IPython.core.display.HTML object>",
      "text/html": " View run at <a href='https://wandb.ai/model-development-and-deployment/training_example_3/runs/qrlzvs9o' target=\"_blank\">https://wandb.ai/model-development-and-deployment/training_example_3/runs/qrlzvs9o</a>"
     },
     "metadata": {},
     "output_type": "display_data"
    },
    {
     "name": "stdout",
     "output_type": "stream",
     "text": [
      "Training model fatalities003_joint_narrow_xgb\n",
      "Calibration partition (raw)\n",
      " * == Performing a run: \"fatalities003_joint_narrow_xgb_calib_raw\" == * \n",
      "Model object named \"fatalities003_joint_narrow_xgb_calib_raw\" with equivalent metadata already exists.\n",
      "Retrain is true, overwriting \"fatalities003_joint_narrow_xgb_calib_raw\"\n",
      "Training model(s)...\n"
     ]
    },
    {
     "name": "stderr",
     "output_type": "stream",
     "text": [
      "Reordering feature dimension. Save memory by setting the outcome feature as the first column in your dataframe.\n"
     ]
    },
    {
     "name": "stdout",
     "output_type": "stream",
     "text": [
      "Storing \"fatalities003_joint_narrow_xgb_calib_raw\"\n",
      "Getting predictions\n",
      "pr_56_cm_fatalities003_joint_narrow_xgb_calib_raw_estimators_200_lr_0.1.parquet\n",
      "cm_fatalities003_joint_narrow_xgb_calib_raw_estimators_200_lr_0.1 , run Fatalities003 does not exist, predicting\n",
      "Test partition ({transform})\n",
      " * == Performing a run: \"fatalities003_joint_narrow_xgb_test_raw\" == * \n",
      "Model object named \"fatalities003_joint_narrow_xgb_test_raw\" with equivalent metadata already exists.\n",
      "Retrain is true, overwriting \"fatalities003_joint_narrow_xgb_test_raw\"\n",
      "Training model(s)...\n"
     ]
    },
    {
     "name": "stderr",
     "output_type": "stream",
     "text": [
      "Reordering feature dimension. Save memory by setting the outcome feature as the first column in your dataframe.\n"
     ]
    },
    {
     "name": "stdout",
     "output_type": "stream",
     "text": [
      "Storing \"fatalities003_joint_narrow_xgb_test_raw\"\n",
      "Getting predictions\n",
      "pr_56_cm_fatalities003_joint_narrow_xgb_test_raw_estimators_200_lr_0.1.parquet\n",
      "cm_fatalities003_joint_narrow_xgb_test_raw_estimators_200_lr_0.1 , run Fatalities003 does not exist, predicting\n",
      "**************************************************************\n",
      "Evaluating model fatalities003_joint_narrow_xgb\n",
      "pr_56_cm_fatalities003_joint_narrow_xgb_calib_raw_estimators_200_lr_0.1.parquet\n",
      "mse_raw 1.8441947061130612\n"
     ]
    },
    {
     "data": {
      "text/plain": "VBox(children=(Label(value='0.001 MB of 0.001 MB uploaded\\r'), FloatProgress(value=1.0, max=1.0)))",
      "application/vnd.jupyter.widget-view+json": {
       "version_major": 2,
       "version_minor": 0,
       "model_id": "a399362035a84c3880ef0d632b90a3be"
      }
     },
     "metadata": {},
     "output_type": "display_data"
    },
    {
     "data": {
      "text/plain": "<IPython.core.display.HTML object>",
      "text/html": "<style>\n    table.wandb td:nth-child(1) { padding: 0 10px; text-align: left ; width: auto;} td:nth-child(2) {text-align: left ; width: 100%}\n    .wandb-row { display: flex; flex-direction: row; flex-wrap: wrap; justify-content: flex-start; width: 100% }\n    .wandb-col { display: flex; flex-direction: column; flex-basis: 100%; flex: 1; padding: 10px; }\n    </style>\n<div class=\"wandb-row\"><div class=\"wandb-col\"><h3>Run history:</h3><br/><table class=\"wandb\"><tr><td>mse</td><td>▁</td></tr></table><br/></div><div class=\"wandb-col\"><h3>Run summary:</h3><br/><table class=\"wandb\"><tr><td>mse</td><td>1.84419</td></tr></table><br/></div></div>"
     },
     "metadata": {},
     "output_type": "display_data"
    },
    {
     "data": {
      "text/plain": "<IPython.core.display.HTML object>",
      "text/html": " View run <strong style=\"color:#cdcd00\">colorful-sweep-19</strong> at: <a href='https://wandb.ai/model-development-and-deployment/training_example_3/runs/qrlzvs9o' target=\"_blank\">https://wandb.ai/model-development-and-deployment/training_example_3/runs/qrlzvs9o</a><br/>Synced 6 W&B file(s), 0 media file(s), 0 artifact file(s) and 0 other file(s)"
     },
     "metadata": {},
     "output_type": "display_data"
    },
    {
     "data": {
      "text/plain": "<IPython.core.display.HTML object>",
      "text/html": "Find logs at: <code>./wandb/run-20231123_003629-qrlzvs9o/logs</code>"
     },
     "metadata": {},
     "output_type": "display_data"
    },
    {
     "name": "stderr",
     "output_type": "stream",
     "text": [
      "wandb: Agent Starting Run: 5lln03vc with config:\n",
      "wandb: \tlearning_rate: 0.1\n",
      "wandb: \tn_estimators: 200\n",
      "wandb: \tn_jobs: 12\n",
      "wandb: \ttransform: normalize\n"
     ]
    },
    {
     "data": {
      "text/plain": "<IPython.core.display.HTML object>",
      "text/html": "Tracking run with wandb version 0.16.0"
     },
     "metadata": {},
     "output_type": "display_data"
    },
    {
     "data": {
      "text/plain": "<IPython.core.display.HTML object>",
      "text/html": "Run data is saved locally in <code>/Users/xiaolong/weights-and-biases/wandb/run-20231123_004015-5lln03vc</code>"
     },
     "metadata": {},
     "output_type": "display_data"
    },
    {
     "data": {
      "text/plain": "<IPython.core.display.HTML object>",
      "text/html": "Syncing run <strong><a href='https://wandb.ai/model-development-and-deployment/training_example_3/runs/5lln03vc' target=\"_blank\">colorful-sweep-20</a></strong> to <a href='https://wandb.ai/model-development-and-deployment/training_example_3' target=\"_blank\">Weights & Biases</a> (<a href='https://wandb.me/run' target=\"_blank\">docs</a>)<br/>Sweep page: <a href='https://wandb.ai/model-development-and-deployment/training_example_3/sweeps/u4jwjwkx' target=\"_blank\">https://wandb.ai/model-development-and-deployment/training_example_3/sweeps/u4jwjwkx</a>"
     },
     "metadata": {},
     "output_type": "display_data"
    },
    {
     "data": {
      "text/plain": "<IPython.core.display.HTML object>",
      "text/html": " View project at <a href='https://wandb.ai/model-development-and-deployment/training_example_3' target=\"_blank\">https://wandb.ai/model-development-and-deployment/training_example_3</a>"
     },
     "metadata": {},
     "output_type": "display_data"
    },
    {
     "data": {
      "text/plain": "<IPython.core.display.HTML object>",
      "text/html": " View sweep at <a href='https://wandb.ai/model-development-and-deployment/training_example_3/sweeps/u4jwjwkx' target=\"_blank\">https://wandb.ai/model-development-and-deployment/training_example_3/sweeps/u4jwjwkx</a>"
     },
     "metadata": {},
     "output_type": "display_data"
    },
    {
     "data": {
      "text/plain": "<IPython.core.display.HTML object>",
      "text/html": " View run at <a href='https://wandb.ai/model-development-and-deployment/training_example_3/runs/5lln03vc' target=\"_blank\">https://wandb.ai/model-development-and-deployment/training_example_3/runs/5lln03vc</a>"
     },
     "metadata": {},
     "output_type": "display_data"
    },
    {
     "name": "stdout",
     "output_type": "stream",
     "text": [
      "Training model fatalities003_joint_narrow_xgb\n",
      "Calibration partition (normalize)\n",
      " * == Performing a run: \"fatalities003_joint_narrow_xgb_calib_normalize\" == * \n",
      "Model object named \"fatalities003_joint_narrow_xgb_calib_normalize\" with equivalent metadata already exists.\n",
      "Retrain is true, overwriting \"fatalities003_joint_narrow_xgb_calib_normalize\"\n",
      "Training model(s)...\n"
     ]
    },
    {
     "name": "stderr",
     "output_type": "stream",
     "text": [
      "Reordering feature dimension. Save memory by setting the outcome feature as the first column in your dataframe.\n"
     ]
    },
    {
     "name": "stdout",
     "output_type": "stream",
     "text": [
      "Storing \"fatalities003_joint_narrow_xgb_calib_normalize\"\n",
      "Getting predictions\n",
      "pr_56_cm_fatalities003_joint_narrow_xgb_calib_normalize_estimators_200_lr_0.1.parquet\n",
      "cm_fatalities003_joint_narrow_xgb_calib_normalize_estimators_200_lr_0.1 , run Fatalities003 does not exist, predicting\n",
      "Test partition ({transform})\n",
      " * == Performing a run: \"fatalities003_joint_narrow_xgb_test_normalize\" == * \n",
      "Model object named \"fatalities003_joint_narrow_xgb_test_normalize\" with equivalent metadata already exists.\n",
      "Retrain is true, overwriting \"fatalities003_joint_narrow_xgb_test_normalize\"\n",
      "Training model(s)...\n"
     ]
    },
    {
     "name": "stderr",
     "output_type": "stream",
     "text": [
      "Reordering feature dimension. Save memory by setting the outcome feature as the first column in your dataframe.\n"
     ]
    },
    {
     "name": "stdout",
     "output_type": "stream",
     "text": [
      "Storing \"fatalities003_joint_narrow_xgb_test_normalize\"\n",
      "Getting predictions\n",
      "pr_56_cm_fatalities003_joint_narrow_xgb_test_normalize_estimators_200_lr_0.1.parquet\n",
      "cm_fatalities003_joint_narrow_xgb_test_normalize_estimators_200_lr_0.1 , run Fatalities003 does not exist, predicting\n",
      "**************************************************************\n",
      "Evaluating model fatalities003_joint_narrow_xgb\n",
      "pr_56_cm_fatalities003_joint_narrow_xgb_calib_normalize_estimators_200_lr_0.1.parquet\n",
      "mse_normalize 23.244614848609974\n"
     ]
    },
    {
     "data": {
      "text/plain": "VBox(children=(Label(value='0.001 MB of 0.001 MB uploaded\\r'), FloatProgress(value=1.0, max=1.0)))",
      "application/vnd.jupyter.widget-view+json": {
       "version_major": 2,
       "version_minor": 0,
       "model_id": "1c598a0432ee4d2eb9c17687aac3468f"
      }
     },
     "metadata": {},
     "output_type": "display_data"
    },
    {
     "data": {
      "text/plain": "<IPython.core.display.HTML object>",
      "text/html": "<style>\n    table.wandb td:nth-child(1) { padding: 0 10px; text-align: left ; width: auto;} td:nth-child(2) {text-align: left ; width: 100%}\n    .wandb-row { display: flex; flex-direction: row; flex-wrap: wrap; justify-content: flex-start; width: 100% }\n    .wandb-col { display: flex; flex-direction: column; flex-basis: 100%; flex: 1; padding: 10px; }\n    </style>\n<div class=\"wandb-row\"><div class=\"wandb-col\"><h3>Run history:</h3><br/><table class=\"wandb\"><tr><td>mse</td><td>▁</td></tr></table><br/></div><div class=\"wandb-col\"><h3>Run summary:</h3><br/><table class=\"wandb\"><tr><td>mse</td><td>23.24461</td></tr></table><br/></div></div>"
     },
     "metadata": {},
     "output_type": "display_data"
    },
    {
     "data": {
      "text/plain": "<IPython.core.display.HTML object>",
      "text/html": " View run <strong style=\"color:#cdcd00\">colorful-sweep-20</strong> at: <a href='https://wandb.ai/model-development-and-deployment/training_example_3/runs/5lln03vc' target=\"_blank\">https://wandb.ai/model-development-and-deployment/training_example_3/runs/5lln03vc</a><br/>Synced 6 W&B file(s), 0 media file(s), 0 artifact file(s) and 0 other file(s)"
     },
     "metadata": {},
     "output_type": "display_data"
    },
    {
     "data": {
      "text/plain": "<IPython.core.display.HTML object>",
      "text/html": "Find logs at: <code>./wandb/run-20231123_004015-5lln03vc/logs</code>"
     },
     "metadata": {},
     "output_type": "display_data"
    },
    {
     "name": "stderr",
     "output_type": "stream",
     "text": [
      "wandb: Agent Starting Run: 31531kz9 with config:\n",
      "wandb: \tlearning_rate: 0.1\n",
      "wandb: \tn_estimators: 300\n",
      "wandb: \tn_jobs: 12\n",
      "wandb: \ttransform: log\n"
     ]
    },
    {
     "data": {
      "text/plain": "<IPython.core.display.HTML object>",
      "text/html": "Tracking run with wandb version 0.16.0"
     },
     "metadata": {},
     "output_type": "display_data"
    },
    {
     "data": {
      "text/plain": "<IPython.core.display.HTML object>",
      "text/html": "Run data is saved locally in <code>/Users/xiaolong/weights-and-biases/wandb/run-20231123_004359-31531kz9</code>"
     },
     "metadata": {},
     "output_type": "display_data"
    },
    {
     "data": {
      "text/plain": "<IPython.core.display.HTML object>",
      "text/html": "Syncing run <strong><a href='https://wandb.ai/model-development-and-deployment/training_example_3/runs/31531kz9' target=\"_blank\">twilight-sweep-21</a></strong> to <a href='https://wandb.ai/model-development-and-deployment/training_example_3' target=\"_blank\">Weights & Biases</a> (<a href='https://wandb.me/run' target=\"_blank\">docs</a>)<br/>Sweep page: <a href='https://wandb.ai/model-development-and-deployment/training_example_3/sweeps/u4jwjwkx' target=\"_blank\">https://wandb.ai/model-development-and-deployment/training_example_3/sweeps/u4jwjwkx</a>"
     },
     "metadata": {},
     "output_type": "display_data"
    },
    {
     "data": {
      "text/plain": "<IPython.core.display.HTML object>",
      "text/html": " View project at <a href='https://wandb.ai/model-development-and-deployment/training_example_3' target=\"_blank\">https://wandb.ai/model-development-and-deployment/training_example_3</a>"
     },
     "metadata": {},
     "output_type": "display_data"
    },
    {
     "data": {
      "text/plain": "<IPython.core.display.HTML object>",
      "text/html": " View sweep at <a href='https://wandb.ai/model-development-and-deployment/training_example_3/sweeps/u4jwjwkx' target=\"_blank\">https://wandb.ai/model-development-and-deployment/training_example_3/sweeps/u4jwjwkx</a>"
     },
     "metadata": {},
     "output_type": "display_data"
    },
    {
     "data": {
      "text/plain": "<IPython.core.display.HTML object>",
      "text/html": " View run at <a href='https://wandb.ai/model-development-and-deployment/training_example_3/runs/31531kz9' target=\"_blank\">https://wandb.ai/model-development-and-deployment/training_example_3/runs/31531kz9</a>"
     },
     "metadata": {},
     "output_type": "display_data"
    },
    {
     "name": "stdout",
     "output_type": "stream",
     "text": [
      "Training model fatalities003_joint_narrow_xgb\n",
      "Calibration partition (log)\n",
      " * == Performing a run: \"fatalities003_joint_narrow_xgb_calib_log\" == * \n",
      "Model object named \"fatalities003_joint_narrow_xgb_calib_log\" with equivalent metadata already exists.\n",
      "Retrain is true, overwriting \"fatalities003_joint_narrow_xgb_calib_log\"\n",
      "Training model(s)...\n"
     ]
    },
    {
     "name": "stderr",
     "output_type": "stream",
     "text": [
      "Reordering feature dimension. Save memory by setting the outcome feature as the first column in your dataframe.\n"
     ]
    },
    {
     "name": "stdout",
     "output_type": "stream",
     "text": [
      "Storing \"fatalities003_joint_narrow_xgb_calib_log\"\n",
      "Getting predictions\n",
      "pr_56_cm_fatalities003_joint_narrow_xgb_calib_log_estimators_300_lr_0.1.parquet\n",
      "cm_fatalities003_joint_narrow_xgb_calib_log_estimators_300_lr_0.1 , run Fatalities003 does not exist, predicting\n",
      "Test partition ({transform})\n",
      " * == Performing a run: \"fatalities003_joint_narrow_xgb_test_log\" == * \n",
      "Model object named \"fatalities003_joint_narrow_xgb_test_log\" with equivalent metadata already exists.\n",
      "Retrain is true, overwriting \"fatalities003_joint_narrow_xgb_test_log\"\n",
      "Training model(s)...\n"
     ]
    },
    {
     "name": "stderr",
     "output_type": "stream",
     "text": [
      "Reordering feature dimension. Save memory by setting the outcome feature as the first column in your dataframe.\n"
     ]
    },
    {
     "name": "stdout",
     "output_type": "stream",
     "text": [
      "Storing \"fatalities003_joint_narrow_xgb_test_log\"\n",
      "Getting predictions\n",
      "pr_56_cm_fatalities003_joint_narrow_xgb_test_log_estimators_300_lr_0.1.parquet\n",
      "cm_fatalities003_joint_narrow_xgb_test_log_estimators_300_lr_0.1 , run Fatalities003 does not exist, predicting\n",
      "**************************************************************\n",
      "Evaluating model fatalities003_joint_narrow_xgb\n",
      "pr_56_cm_fatalities003_joint_narrow_xgb_calib_log_estimators_300_lr_0.1.parquet\n",
      "mse_log 1.925392966358261\n"
     ]
    },
    {
     "data": {
      "text/plain": "VBox(children=(Label(value='0.001 MB of 0.001 MB uploaded\\r'), FloatProgress(value=1.0, max=1.0)))",
      "application/vnd.jupyter.widget-view+json": {
       "version_major": 2,
       "version_minor": 0,
       "model_id": "c6b59be433fa4b7396cbe63dbc1722dd"
      }
     },
     "metadata": {},
     "output_type": "display_data"
    },
    {
     "data": {
      "text/plain": "<IPython.core.display.HTML object>",
      "text/html": "<style>\n    table.wandb td:nth-child(1) { padding: 0 10px; text-align: left ; width: auto;} td:nth-child(2) {text-align: left ; width: 100%}\n    .wandb-row { display: flex; flex-direction: row; flex-wrap: wrap; justify-content: flex-start; width: 100% }\n    .wandb-col { display: flex; flex-direction: column; flex-basis: 100%; flex: 1; padding: 10px; }\n    </style>\n<div class=\"wandb-row\"><div class=\"wandb-col\"><h3>Run history:</h3><br/><table class=\"wandb\"><tr><td>mse</td><td>▁</td></tr></table><br/></div><div class=\"wandb-col\"><h3>Run summary:</h3><br/><table class=\"wandb\"><tr><td>mse</td><td>1.92539</td></tr></table><br/></div></div>"
     },
     "metadata": {},
     "output_type": "display_data"
    },
    {
     "data": {
      "text/plain": "<IPython.core.display.HTML object>",
      "text/html": " View run <strong style=\"color:#cdcd00\">twilight-sweep-21</strong> at: <a href='https://wandb.ai/model-development-and-deployment/training_example_3/runs/31531kz9' target=\"_blank\">https://wandb.ai/model-development-and-deployment/training_example_3/runs/31531kz9</a><br/>Synced 6 W&B file(s), 0 media file(s), 0 artifact file(s) and 0 other file(s)"
     },
     "metadata": {},
     "output_type": "display_data"
    },
    {
     "data": {
      "text/plain": "<IPython.core.display.HTML object>",
      "text/html": "Find logs at: <code>./wandb/run-20231123_004359-31531kz9/logs</code>"
     },
     "metadata": {},
     "output_type": "display_data"
    },
    {
     "name": "stderr",
     "output_type": "stream",
     "text": [
      "wandb: Agent Starting Run: a5x6szx2 with config:\n",
      "wandb: \tlearning_rate: 0.1\n",
      "wandb: \tn_estimators: 300\n",
      "wandb: \tn_jobs: 12\n",
      "wandb: \ttransform: standardize\n"
     ]
    },
    {
     "data": {
      "text/plain": "<IPython.core.display.HTML object>",
      "text/html": "Tracking run with wandb version 0.16.0"
     },
     "metadata": {},
     "output_type": "display_data"
    },
    {
     "data": {
      "text/plain": "<IPython.core.display.HTML object>",
      "text/html": "Run data is saved locally in <code>/Users/xiaolong/weights-and-biases/wandb/run-20231123_004924-a5x6szx2</code>"
     },
     "metadata": {},
     "output_type": "display_data"
    },
    {
     "data": {
      "text/plain": "<IPython.core.display.HTML object>",
      "text/html": "Syncing run <strong><a href='https://wandb.ai/model-development-and-deployment/training_example_3/runs/a5x6szx2' target=\"_blank\">leafy-sweep-22</a></strong> to <a href='https://wandb.ai/model-development-and-deployment/training_example_3' target=\"_blank\">Weights & Biases</a> (<a href='https://wandb.me/run' target=\"_blank\">docs</a>)<br/>Sweep page: <a href='https://wandb.ai/model-development-and-deployment/training_example_3/sweeps/u4jwjwkx' target=\"_blank\">https://wandb.ai/model-development-and-deployment/training_example_3/sweeps/u4jwjwkx</a>"
     },
     "metadata": {},
     "output_type": "display_data"
    },
    {
     "data": {
      "text/plain": "<IPython.core.display.HTML object>",
      "text/html": " View project at <a href='https://wandb.ai/model-development-and-deployment/training_example_3' target=\"_blank\">https://wandb.ai/model-development-and-deployment/training_example_3</a>"
     },
     "metadata": {},
     "output_type": "display_data"
    },
    {
     "data": {
      "text/plain": "<IPython.core.display.HTML object>",
      "text/html": " View sweep at <a href='https://wandb.ai/model-development-and-deployment/training_example_3/sweeps/u4jwjwkx' target=\"_blank\">https://wandb.ai/model-development-and-deployment/training_example_3/sweeps/u4jwjwkx</a>"
     },
     "metadata": {},
     "output_type": "display_data"
    },
    {
     "data": {
      "text/plain": "<IPython.core.display.HTML object>",
      "text/html": " View run at <a href='https://wandb.ai/model-development-and-deployment/training_example_3/runs/a5x6szx2' target=\"_blank\">https://wandb.ai/model-development-and-deployment/training_example_3/runs/a5x6szx2</a>"
     },
     "metadata": {},
     "output_type": "display_data"
    },
    {
     "name": "stdout",
     "output_type": "stream",
     "text": [
      "Training model fatalities003_joint_narrow_xgb\n",
      "Calibration partition (standardize)\n",
      " * == Performing a run: \"fatalities003_joint_narrow_xgb_calib_standardize\" == * \n",
      "Model object named \"fatalities003_joint_narrow_xgb_calib_standardize\" with equivalent metadata already exists.\n",
      "Retrain is true, overwriting \"fatalities003_joint_narrow_xgb_calib_standardize\"\n",
      "Training model(s)...\n"
     ]
    },
    {
     "name": "stderr",
     "output_type": "stream",
     "text": [
      "Reordering feature dimension. Save memory by setting the outcome feature as the first column in your dataframe.\n"
     ]
    },
    {
     "name": "stdout",
     "output_type": "stream",
     "text": [
      "Storing \"fatalities003_joint_narrow_xgb_calib_standardize\"\n",
      "Getting predictions\n",
      "pr_56_cm_fatalities003_joint_narrow_xgb_calib_standardize_estimators_300_lr_0.1.parquet\n",
      "cm_fatalities003_joint_narrow_xgb_calib_standardize_estimators_300_lr_0.1 , run Fatalities003 does not exist, predicting\n",
      "Test partition ({transform})\n",
      " * == Performing a run: \"fatalities003_joint_narrow_xgb_test_standardize\" == * \n",
      "Model object named \"fatalities003_joint_narrow_xgb_test_standardize\" with equivalent metadata already exists.\n",
      "Retrain is true, overwriting \"fatalities003_joint_narrow_xgb_test_standardize\"\n",
      "Training model(s)...\n"
     ]
    },
    {
     "name": "stderr",
     "output_type": "stream",
     "text": [
      "Reordering feature dimension. Save memory by setting the outcome feature as the first column in your dataframe.\n"
     ]
    },
    {
     "name": "stdout",
     "output_type": "stream",
     "text": [
      "Storing \"fatalities003_joint_narrow_xgb_test_standardize\"\n",
      "Getting predictions\n",
      "pr_56_cm_fatalities003_joint_narrow_xgb_test_standardize_estimators_300_lr_0.1.parquet\n",
      "cm_fatalities003_joint_narrow_xgb_test_standardize_estimators_300_lr_0.1 , run Fatalities003 does not exist, predicting\n",
      "**************************************************************\n",
      "Evaluating model fatalities003_joint_narrow_xgb\n",
      "pr_56_cm_fatalities003_joint_narrow_xgb_calib_standardize_estimators_300_lr_0.1.parquet\n",
      "mse_standardize 2.238169198252043\n"
     ]
    },
    {
     "data": {
      "text/plain": "VBox(children=(Label(value='0.001 MB of 0.001 MB uploaded\\r'), FloatProgress(value=1.0, max=1.0)))",
      "application/vnd.jupyter.widget-view+json": {
       "version_major": 2,
       "version_minor": 0,
       "model_id": "bda9ec5a069646529c827fb7c997f2c2"
      }
     },
     "metadata": {},
     "output_type": "display_data"
    },
    {
     "data": {
      "text/plain": "<IPython.core.display.HTML object>",
      "text/html": "<style>\n    table.wandb td:nth-child(1) { padding: 0 10px; text-align: left ; width: auto;} td:nth-child(2) {text-align: left ; width: 100%}\n    .wandb-row { display: flex; flex-direction: row; flex-wrap: wrap; justify-content: flex-start; width: 100% }\n    .wandb-col { display: flex; flex-direction: column; flex-basis: 100%; flex: 1; padding: 10px; }\n    </style>\n<div class=\"wandb-row\"><div class=\"wandb-col\"><h3>Run history:</h3><br/><table class=\"wandb\"><tr><td>mse</td><td>▁</td></tr></table><br/></div><div class=\"wandb-col\"><h3>Run summary:</h3><br/><table class=\"wandb\"><tr><td>mse</td><td>2.23817</td></tr></table><br/></div></div>"
     },
     "metadata": {},
     "output_type": "display_data"
    },
    {
     "data": {
      "text/plain": "<IPython.core.display.HTML object>",
      "text/html": " View run <strong style=\"color:#cdcd00\">leafy-sweep-22</strong> at: <a href='https://wandb.ai/model-development-and-deployment/training_example_3/runs/a5x6szx2' target=\"_blank\">https://wandb.ai/model-development-and-deployment/training_example_3/runs/a5x6szx2</a><br/>Synced 6 W&B file(s), 0 media file(s), 0 artifact file(s) and 0 other file(s)"
     },
     "metadata": {},
     "output_type": "display_data"
    },
    {
     "data": {
      "text/plain": "<IPython.core.display.HTML object>",
      "text/html": "Find logs at: <code>./wandb/run-20231123_004924-a5x6szx2/logs</code>"
     },
     "metadata": {},
     "output_type": "display_data"
    },
    {
     "name": "stderr",
     "output_type": "stream",
     "text": [
      "wandb: Sweep Agent: Waiting for job.\n",
      "wandb: Job received.\n",
      "wandb: Agent Starting Run: z7kdxf56 with config:\n",
      "wandb: \tlearning_rate: 0.1\n",
      "wandb: \tn_estimators: 300\n",
      "wandb: \tn_jobs: 12\n",
      "wandb: \ttransform: raw\n"
     ]
    },
    {
     "data": {
      "text/plain": "<IPython.core.display.HTML object>",
      "text/html": "Tracking run with wandb version 0.16.0"
     },
     "metadata": {},
     "output_type": "display_data"
    },
    {
     "data": {
      "text/plain": "<IPython.core.display.HTML object>",
      "text/html": "Run data is saved locally in <code>/Users/xiaolong/weights-and-biases/wandb/run-20231123_005449-z7kdxf56</code>"
     },
     "metadata": {},
     "output_type": "display_data"
    },
    {
     "data": {
      "text/plain": "<IPython.core.display.HTML object>",
      "text/html": "Syncing run <strong><a href='https://wandb.ai/model-development-and-deployment/training_example_3/runs/z7kdxf56' target=\"_blank\">earnest-sweep-23</a></strong> to <a href='https://wandb.ai/model-development-and-deployment/training_example_3' target=\"_blank\">Weights & Biases</a> (<a href='https://wandb.me/run' target=\"_blank\">docs</a>)<br/>Sweep page: <a href='https://wandb.ai/model-development-and-deployment/training_example_3/sweeps/u4jwjwkx' target=\"_blank\">https://wandb.ai/model-development-and-deployment/training_example_3/sweeps/u4jwjwkx</a>"
     },
     "metadata": {},
     "output_type": "display_data"
    },
    {
     "data": {
      "text/plain": "<IPython.core.display.HTML object>",
      "text/html": " View project at <a href='https://wandb.ai/model-development-and-deployment/training_example_3' target=\"_blank\">https://wandb.ai/model-development-and-deployment/training_example_3</a>"
     },
     "metadata": {},
     "output_type": "display_data"
    },
    {
     "data": {
      "text/plain": "<IPython.core.display.HTML object>",
      "text/html": " View sweep at <a href='https://wandb.ai/model-development-and-deployment/training_example_3/sweeps/u4jwjwkx' target=\"_blank\">https://wandb.ai/model-development-and-deployment/training_example_3/sweeps/u4jwjwkx</a>"
     },
     "metadata": {},
     "output_type": "display_data"
    },
    {
     "data": {
      "text/plain": "<IPython.core.display.HTML object>",
      "text/html": " View run at <a href='https://wandb.ai/model-development-and-deployment/training_example_3/runs/z7kdxf56' target=\"_blank\">https://wandb.ai/model-development-and-deployment/training_example_3/runs/z7kdxf56</a>"
     },
     "metadata": {},
     "output_type": "display_data"
    },
    {
     "name": "stdout",
     "output_type": "stream",
     "text": [
      "Training model fatalities003_joint_narrow_xgb\n",
      "Calibration partition (raw)\n",
      " * == Performing a run: \"fatalities003_joint_narrow_xgb_calib_raw\" == * \n",
      "Model object named \"fatalities003_joint_narrow_xgb_calib_raw\" with equivalent metadata already exists.\n",
      "Retrain is true, overwriting \"fatalities003_joint_narrow_xgb_calib_raw\"\n",
      "Training model(s)...\n"
     ]
    },
    {
     "name": "stderr",
     "output_type": "stream",
     "text": [
      "Reordering feature dimension. Save memory by setting the outcome feature as the first column in your dataframe.\n"
     ]
    },
    {
     "name": "stdout",
     "output_type": "stream",
     "text": [
      "Storing \"fatalities003_joint_narrow_xgb_calib_raw\"\n",
      "Getting predictions\n",
      "pr_56_cm_fatalities003_joint_narrow_xgb_calib_raw_estimators_300_lr_0.1.parquet\n",
      "cm_fatalities003_joint_narrow_xgb_calib_raw_estimators_300_lr_0.1 , run Fatalities003 does not exist, predicting\n",
      "Test partition ({transform})\n",
      " * == Performing a run: \"fatalities003_joint_narrow_xgb_test_raw\" == * \n",
      "Model object named \"fatalities003_joint_narrow_xgb_test_raw\" with equivalent metadata already exists.\n",
      "Retrain is true, overwriting \"fatalities003_joint_narrow_xgb_test_raw\"\n",
      "Training model(s)...\n"
     ]
    },
    {
     "name": "stderr",
     "output_type": "stream",
     "text": [
      "Reordering feature dimension. Save memory by setting the outcome feature as the first column in your dataframe.\n"
     ]
    },
    {
     "name": "stdout",
     "output_type": "stream",
     "text": [
      "Storing \"fatalities003_joint_narrow_xgb_test_raw\"\n",
      "Getting predictions\n"
     ]
    },
    {
     "name": "stderr",
     "output_type": "stream",
     "text": [
      "Exception during reset or similar\n",
      "Traceback (most recent call last):\n",
      "  File \"/Users/xiaolong/mambaforge/envs/viewser/lib/python3.11/site-packages/sqlalchemy/pool/base.py\", line 739, in _finalize_fairy\n",
      "    fairy._reset(pool)\n",
      "  File \"/Users/xiaolong/mambaforge/envs/viewser/lib/python3.11/site-packages/sqlalchemy/pool/base.py\", line 988, in _reset\n",
      "    pool._dialect.do_rollback(self)\n",
      "  File \"/Users/xiaolong/mambaforge/envs/viewser/lib/python3.11/site-packages/sqlalchemy/engine/default.py\", line 682, in do_rollback\n",
      "    dbapi_connection.rollback()\n",
      "psycopg2.OperationalError: could not receive data from server: Operation timed out\n",
      "SSL SYSCALL error: Operation timed out\n",
      "\n"
     ]
    },
    {
     "name": "stdout",
     "output_type": "stream",
     "text": [
      "pr_56_cm_fatalities003_joint_narrow_xgb_test_raw_estimators_300_lr_0.1.parquet\n",
      "cm_fatalities003_joint_narrow_xgb_test_raw_estimators_300_lr_0.1 , run Fatalities003 does not exist, predicting\n",
      "**************************************************************\n",
      "Evaluating model fatalities003_joint_narrow_xgb\n",
      "pr_56_cm_fatalities003_joint_narrow_xgb_calib_raw_estimators_300_lr_0.1.parquet\n",
      "mse_raw 1.8440483864602304\n"
     ]
    },
    {
     "data": {
      "text/plain": "VBox(children=(Label(value='0.001 MB of 0.001 MB uploaded\\r'), FloatProgress(value=1.0, max=1.0)))",
      "application/vnd.jupyter.widget-view+json": {
       "version_major": 2,
       "version_minor": 0,
       "model_id": "460f30818fb44d178d8e3c8f6173257e"
      }
     },
     "metadata": {},
     "output_type": "display_data"
    },
    {
     "data": {
      "text/plain": "<IPython.core.display.HTML object>",
      "text/html": "<style>\n    table.wandb td:nth-child(1) { padding: 0 10px; text-align: left ; width: auto;} td:nth-child(2) {text-align: left ; width: 100%}\n    .wandb-row { display: flex; flex-direction: row; flex-wrap: wrap; justify-content: flex-start; width: 100% }\n    .wandb-col { display: flex; flex-direction: column; flex-basis: 100%; flex: 1; padding: 10px; }\n    </style>\n<div class=\"wandb-row\"><div class=\"wandb-col\"><h3>Run history:</h3><br/><table class=\"wandb\"><tr><td>mse</td><td>▁</td></tr></table><br/></div><div class=\"wandb-col\"><h3>Run summary:</h3><br/><table class=\"wandb\"><tr><td>mse</td><td>1.84405</td></tr></table><br/></div></div>"
     },
     "metadata": {},
     "output_type": "display_data"
    },
    {
     "data": {
      "text/plain": "<IPython.core.display.HTML object>",
      "text/html": " View run <strong style=\"color:#cdcd00\">earnest-sweep-23</strong> at: <a href='https://wandb.ai/model-development-and-deployment/training_example_3/runs/z7kdxf56' target=\"_blank\">https://wandb.ai/model-development-and-deployment/training_example_3/runs/z7kdxf56</a><br/>Synced 6 W&B file(s), 0 media file(s), 0 artifact file(s) and 0 other file(s)"
     },
     "metadata": {},
     "output_type": "display_data"
    },
    {
     "data": {
      "text/plain": "<IPython.core.display.HTML object>",
      "text/html": "Find logs at: <code>./wandb/run-20231123_005449-z7kdxf56/logs</code>"
     },
     "metadata": {},
     "output_type": "display_data"
    },
    {
     "name": "stderr",
     "output_type": "stream",
     "text": [
      "wandb: Agent Starting Run: wztdn87x with config:\n",
      "wandb: \tlearning_rate: 0.1\n",
      "wandb: \tn_estimators: 300\n",
      "wandb: \tn_jobs: 12\n",
      "wandb: \ttransform: normalize\n"
     ]
    },
    {
     "data": {
      "text/plain": "<IPython.core.display.HTML object>",
      "text/html": "Tracking run with wandb version 0.16.0"
     },
     "metadata": {},
     "output_type": "display_data"
    },
    {
     "data": {
      "text/plain": "<IPython.core.display.HTML object>",
      "text/html": "Run data is saved locally in <code>/Users/xiaolong/weights-and-biases/wandb/run-20231123_022147-wztdn87x</code>"
     },
     "metadata": {},
     "output_type": "display_data"
    },
    {
     "data": {
      "text/plain": "<IPython.core.display.HTML object>",
      "text/html": "Syncing run <strong><a href='https://wandb.ai/model-development-and-deployment/training_example_3/runs/wztdn87x' target=\"_blank\">breezy-sweep-24</a></strong> to <a href='https://wandb.ai/model-development-and-deployment/training_example_3' target=\"_blank\">Weights & Biases</a> (<a href='https://wandb.me/run' target=\"_blank\">docs</a>)<br/>Sweep page: <a href='https://wandb.ai/model-development-and-deployment/training_example_3/sweeps/u4jwjwkx' target=\"_blank\">https://wandb.ai/model-development-and-deployment/training_example_3/sweeps/u4jwjwkx</a>"
     },
     "metadata": {},
     "output_type": "display_data"
    },
    {
     "data": {
      "text/plain": "<IPython.core.display.HTML object>",
      "text/html": " View project at <a href='https://wandb.ai/model-development-and-deployment/training_example_3' target=\"_blank\">https://wandb.ai/model-development-and-deployment/training_example_3</a>"
     },
     "metadata": {},
     "output_type": "display_data"
    },
    {
     "data": {
      "text/plain": "<IPython.core.display.HTML object>",
      "text/html": " View sweep at <a href='https://wandb.ai/model-development-and-deployment/training_example_3/sweeps/u4jwjwkx' target=\"_blank\">https://wandb.ai/model-development-and-deployment/training_example_3/sweeps/u4jwjwkx</a>"
     },
     "metadata": {},
     "output_type": "display_data"
    },
    {
     "data": {
      "text/plain": "<IPython.core.display.HTML object>",
      "text/html": " View run at <a href='https://wandb.ai/model-development-and-deployment/training_example_3/runs/wztdn87x' target=\"_blank\">https://wandb.ai/model-development-and-deployment/training_example_3/runs/wztdn87x</a>"
     },
     "metadata": {},
     "output_type": "display_data"
    },
    {
     "name": "stdout",
     "output_type": "stream",
     "text": [
      "Training model fatalities003_joint_narrow_xgb\n",
      "Calibration partition (normalize)\n",
      " * == Performing a run: \"fatalities003_joint_narrow_xgb_calib_normalize\" == * \n",
      "Model object named \"fatalities003_joint_narrow_xgb_calib_normalize\" with equivalent metadata already exists.\n",
      "Retrain is true, overwriting \"fatalities003_joint_narrow_xgb_calib_normalize\"\n",
      "Training model(s)...\n"
     ]
    },
    {
     "name": "stderr",
     "output_type": "stream",
     "text": [
      "Reordering feature dimension. Save memory by setting the outcome feature as the first column in your dataframe.\n"
     ]
    },
    {
     "name": "stdout",
     "output_type": "stream",
     "text": [
      "Storing \"fatalities003_joint_narrow_xgb_calib_normalize\"\n",
      "Getting predictions\n",
      "pr_56_cm_fatalities003_joint_narrow_xgb_calib_normalize_estimators_300_lr_0.1.parquet\n",
      "cm_fatalities003_joint_narrow_xgb_calib_normalize_estimators_300_lr_0.1 , run Fatalities003 does not exist, predicting\n",
      "Test partition ({transform})\n",
      " * == Performing a run: \"fatalities003_joint_narrow_xgb_test_normalize\" == * \n",
      "Model object named \"fatalities003_joint_narrow_xgb_test_normalize\" with equivalent metadata already exists.\n",
      "Retrain is true, overwriting \"fatalities003_joint_narrow_xgb_test_normalize\"\n",
      "Training model(s)...\n"
     ]
    },
    {
     "name": "stderr",
     "output_type": "stream",
     "text": [
      "Reordering feature dimension. Save memory by setting the outcome feature as the first column in your dataframe.\n",
      "Exception during reset or similar\n",
      "Traceback (most recent call last):\n",
      "  File \"/Users/xiaolong/mambaforge/envs/viewser/lib/python3.11/site-packages/sqlalchemy/pool/base.py\", line 739, in _finalize_fairy\n",
      "    fairy._reset(pool)\n",
      "  File \"/Users/xiaolong/mambaforge/envs/viewser/lib/python3.11/site-packages/sqlalchemy/pool/base.py\", line 988, in _reset\n",
      "    pool._dialect.do_rollback(self)\n",
      "  File \"/Users/xiaolong/mambaforge/envs/viewser/lib/python3.11/site-packages/sqlalchemy/engine/default.py\", line 682, in do_rollback\n",
      "    dbapi_connection.rollback()\n",
      "psycopg2.OperationalError: could not receive data from server: Operation timed out\n",
      "SSL SYSCALL error: Operation timed out\n",
      "\n"
     ]
    },
    {
     "name": "stdout",
     "output_type": "stream",
     "text": [
      "Storing \"fatalities003_joint_narrow_xgb_test_normalize\"\n",
      "Getting predictions\n",
      "pr_56_cm_fatalities003_joint_narrow_xgb_test_normalize_estimators_300_lr_0.1.parquet\n",
      "cm_fatalities003_joint_narrow_xgb_test_normalize_estimators_300_lr_0.1 , run Fatalities003 does not exist, predicting\n",
      "**************************************************************\n",
      "Evaluating model fatalities003_joint_narrow_xgb\n",
      "pr_56_cm_fatalities003_joint_narrow_xgb_calib_normalize_estimators_300_lr_0.1.parquet\n",
      "mse_normalize 23.244645983684084\n"
     ]
    },
    {
     "data": {
      "text/plain": "VBox(children=(Label(value='0.001 MB of 0.001 MB uploaded\\r'), FloatProgress(value=1.0, max=1.0)))",
      "application/vnd.jupyter.widget-view+json": {
       "version_major": 2,
       "version_minor": 0,
       "model_id": "438ba24811e94eb192538e08dc7ce5d4"
      }
     },
     "metadata": {},
     "output_type": "display_data"
    },
    {
     "data": {
      "text/plain": "<IPython.core.display.HTML object>",
      "text/html": "<style>\n    table.wandb td:nth-child(1) { padding: 0 10px; text-align: left ; width: auto;} td:nth-child(2) {text-align: left ; width: 100%}\n    .wandb-row { display: flex; flex-direction: row; flex-wrap: wrap; justify-content: flex-start; width: 100% }\n    .wandb-col { display: flex; flex-direction: column; flex-basis: 100%; flex: 1; padding: 10px; }\n    </style>\n<div class=\"wandb-row\"><div class=\"wandb-col\"><h3>Run history:</h3><br/><table class=\"wandb\"><tr><td>mse</td><td>▁</td></tr></table><br/></div><div class=\"wandb-col\"><h3>Run summary:</h3><br/><table class=\"wandb\"><tr><td>mse</td><td>23.24465</td></tr></table><br/></div></div>"
     },
     "metadata": {},
     "output_type": "display_data"
    },
    {
     "data": {
      "text/plain": "<IPython.core.display.HTML object>",
      "text/html": " View run <strong style=\"color:#cdcd00\">breezy-sweep-24</strong> at: <a href='https://wandb.ai/model-development-and-deployment/training_example_3/runs/wztdn87x' target=\"_blank\">https://wandb.ai/model-development-and-deployment/training_example_3/runs/wztdn87x</a><br/>Synced 6 W&B file(s), 0 media file(s), 0 artifact file(s) and 0 other file(s)"
     },
     "metadata": {},
     "output_type": "display_data"
    },
    {
     "data": {
      "text/plain": "<IPython.core.display.HTML object>",
      "text/html": "Find logs at: <code>./wandb/run-20231123_022147-wztdn87x/logs</code>"
     },
     "metadata": {},
     "output_type": "display_data"
    },
    {
     "name": "stderr",
     "output_type": "stream",
     "text": [
      "wandb: Agent Starting Run: m3nce8af with config:\n",
      "wandb: \tlearning_rate: 0.2\n",
      "wandb: \tn_estimators: 100\n",
      "wandb: \tn_jobs: 12\n",
      "wandb: \ttransform: log\n"
     ]
    },
    {
     "data": {
      "text/plain": "<IPython.core.display.HTML object>",
      "text/html": "Tracking run with wandb version 0.16.0"
     },
     "metadata": {},
     "output_type": "display_data"
    },
    {
     "data": {
      "text/plain": "<IPython.core.display.HTML object>",
      "text/html": "Run data is saved locally in <code>/Users/xiaolong/weights-and-biases/wandb/run-20231123_040022-m3nce8af</code>"
     },
     "metadata": {},
     "output_type": "display_data"
    },
    {
     "data": {
      "text/plain": "<IPython.core.display.HTML object>",
      "text/html": "Syncing run <strong><a href='https://wandb.ai/model-development-and-deployment/training_example_3/runs/m3nce8af' target=\"_blank\">playful-sweep-25</a></strong> to <a href='https://wandb.ai/model-development-and-deployment/training_example_3' target=\"_blank\">Weights & Biases</a> (<a href='https://wandb.me/run' target=\"_blank\">docs</a>)<br/>Sweep page: <a href='https://wandb.ai/model-development-and-deployment/training_example_3/sweeps/u4jwjwkx' target=\"_blank\">https://wandb.ai/model-development-and-deployment/training_example_3/sweeps/u4jwjwkx</a>"
     },
     "metadata": {},
     "output_type": "display_data"
    },
    {
     "data": {
      "text/plain": "<IPython.core.display.HTML object>",
      "text/html": " View project at <a href='https://wandb.ai/model-development-and-deployment/training_example_3' target=\"_blank\">https://wandb.ai/model-development-and-deployment/training_example_3</a>"
     },
     "metadata": {},
     "output_type": "display_data"
    },
    {
     "data": {
      "text/plain": "<IPython.core.display.HTML object>",
      "text/html": " View sweep at <a href='https://wandb.ai/model-development-and-deployment/training_example_3/sweeps/u4jwjwkx' target=\"_blank\">https://wandb.ai/model-development-and-deployment/training_example_3/sweeps/u4jwjwkx</a>"
     },
     "metadata": {},
     "output_type": "display_data"
    },
    {
     "data": {
      "text/plain": "<IPython.core.display.HTML object>",
      "text/html": " View run at <a href='https://wandb.ai/model-development-and-deployment/training_example_3/runs/m3nce8af' target=\"_blank\">https://wandb.ai/model-development-and-deployment/training_example_3/runs/m3nce8af</a>"
     },
     "metadata": {},
     "output_type": "display_data"
    },
    {
     "name": "stdout",
     "output_type": "stream",
     "text": [
      "Training model fatalities003_joint_narrow_xgb\n",
      "Calibration partition (log)\n",
      " * == Performing a run: \"fatalities003_joint_narrow_xgb_calib_log\" == * \n",
      "Model object named \"fatalities003_joint_narrow_xgb_calib_log\" with equivalent metadata already exists.\n",
      "Retrain is true, overwriting \"fatalities003_joint_narrow_xgb_calib_log\"\n",
      "Training model(s)...\n"
     ]
    },
    {
     "name": "stderr",
     "output_type": "stream",
     "text": [
      "Reordering feature dimension. Save memory by setting the outcome feature as the first column in your dataframe.\n"
     ]
    },
    {
     "name": "stdout",
     "output_type": "stream",
     "text": [
      "Storing \"fatalities003_joint_narrow_xgb_calib_log\"\n",
      "Getting predictions\n",
      "pr_56_cm_fatalities003_joint_narrow_xgb_calib_log_estimators_100_lr_0.2.parquet\n",
      "cm_fatalities003_joint_narrow_xgb_calib_log_estimators_100_lr_0.2 , run Fatalities003 does not exist, predicting\n"
     ]
    }
   ],
   "source": [
    "for sweep_file in sweep_config_path.iterdir():\n",
    "    if sweep_file.is_file():\n",
    "        model_file = model_config_path / sweep_file.name\n",
    "        if not model_file.is_file():\n",
    "            raise FileNotFoundError(f'The corresponding model configuration file {model_file} does not exist.')\n",
    "\n",
    "        sweep_config = get_config_from_path(sweep_file, 'sweep')\n",
    "        model_config = get_config_from_path(model_file, 'model')\n",
    "\n",
    "        sweep_id = wandb.sweep(sweep_config, project=wandb_config['project'],\n",
    "                               entity=wandb_config['entity'])\n",
    "        wandb.agent(sweep_id, function=train)"
   ],
   "metadata": {
    "collapsed": false,
    "is_executing": true,
    "ExecuteTime": {
     "start_time": "2023-11-22T21:11:51.350832Z"
    }
   },
   "id": "a626b357890f0e85"
  },
  {
   "cell_type": "code",
   "execution_count": null,
   "outputs": [],
   "source": [],
   "metadata": {
    "collapsed": false,
    "is_executing": true
   },
   "id": "2e078c1e190edcd5"
  }
 ],
 "metadata": {
  "kernelspec": {
   "display_name": "Python 3",
   "language": "python",
   "name": "python3"
  },
  "language_info": {
   "codemirror_mode": {
    "name": "ipython",
    "version": 2
   },
   "file_extension": ".py",
   "mimetype": "text/x-python",
   "name": "python",
   "nbconvert_exporter": "python",
   "pygments_lexer": "ipython2",
   "version": "2.7.6"
  }
 },
 "nbformat": 4,
 "nbformat_minor": 5
}
