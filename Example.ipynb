{
 "cells": [
  {
   "cell_type": "code",
   "execution_count": 1,
   "id": "initial_id",
   "metadata": {
    "collapsed": true,
    "ExecuteTime": {
     "end_time": "2023-12-06T12:15:23.078539Z",
     "start_time": "2023-12-06T12:15:19.850259Z"
    }
   },
   "outputs": [],
   "source": [
    "import numpy as np\n",
    "import warnings\n",
    "\n",
    "import pandas as pd\n",
    "import copy\n",
    "warnings.filterwarnings('ignore')\n",
    "import wandb\n",
    "from pathlib import Path\n",
    "\n",
    "from views_forecasts.extensions import *\n",
    "from utils import fetch_data, transform_data, get_config_path, get_config_from_path, retrain_transformed_sweep, evaluate\n",
    "\n",
    "from sklearn.metrics import mean_squared_error\n",
    "# import importlib\n",
    "# import utils  \n",
    "# importlib.reload(utils)\n",
    "\n",
    "import os\n",
    "os.environ['WANDB_SILENT'] = 'true'\n",
    "\n",
    "PARA_DICT = {\n",
    "    'rf': ['transform', 'n_estimators', 'n_jobs', 'learning_rate', 'max_depth', 'min_child_weight', 'subsample', 'colsample_bytree'],\n",
    "    'xgb': ['transform', 'n_estimators', 'n_jobs', 'learning_rate', 'max_depth', 'min_child_weight', 'subsample', 'colsample_bytree'],\n",
    "    'gbm': ['transform', 'n_estimators', 'n_jobs', 'learning_rate', 'max_depth', 'min_samples_split', 'min_samples_leaf']\n",
    "}"
   ]
  },
  {
   "cell_type": "code",
   "execution_count": 3,
   "outputs": [],
   "source": [
    "level = 'cm'\n",
    "config_path = Path('./my_config')"
   ],
   "metadata": {
    "collapsed": false,
    "ExecuteTime": {
     "end_time": "2023-12-06T12:15:23.084491Z",
     "start_time": "2023-12-06T12:15:23.082150Z"
    }
   },
   "id": "258d80492423936e"
  },
  {
   "cell_type": "code",
   "execution_count": 4,
   "outputs": [
    {
     "name": "stdout",
     "output_type": "stream",
     "text": [
      "Fetching query sets\n",
      "Fetching datasets\n",
      " .     Transforming datasets\n",
      "Transforming datasets\n",
      "Transforming datasets\n",
      "Transforming datasets\n"
     ]
    }
   ],
   "source": [
    "transforms = ['raw', 'log', 'normalize', 'standardize']\n",
    "Datasets_transformed = {}\n",
    "para_transformed = {}\n",
    "qslist, Datasets = fetch_data(level)\n",
    "for t in transforms:\n",
    "    Datasets_transformed[t], para_transformed[t] = transform_data(Datasets, t, by_group=True)"
   ],
   "metadata": {
    "collapsed": false,
    "ExecuteTime": {
     "end_time": "2023-12-06T12:19:43.545798Z",
     "start_time": "2023-12-06T12:15:23.084813Z"
    }
   },
   "id": "8c67aa78538f2606"
  },
  {
   "cell_type": "code",
   "execution_count": 5,
   "outputs": [],
   "source": [
    "def train():\n",
    "    run = wandb.init(config=common_config, project=wandb_config['project'], entity=wandb_config['entity'])\n",
    "    wandb.config.update(model_config, allow_val_change=True)\n",
    "    \n",
    "    run_name = ''\n",
    "    for para in sweep_paras:\n",
    "        run_name += f'{para}_{run.config[para]}_'\n",
    "    run_name = run_name.rstrip('_')\n",
    "    wandb.run.name = run_name\n",
    "    \n",
    "    retrain_transformed_sweep(Datasets_transformed, sweep_paras)\n",
    "    evaluate('calib', para_transformed, by_group=True)\n",
    "    run.finish()"
   ],
   "metadata": {
    "collapsed": false,
    "ExecuteTime": {
     "end_time": "2023-12-06T12:19:43.550128Z",
     "start_time": "2023-12-06T12:19:43.547780Z"
    }
   },
   "id": "fe9dd60a4acbe489"
  },
  {
   "cell_type": "code",
   "execution_count": 12,
   "outputs": [],
   "source": [
    "common_config_path, wandb_config_path, model_config_path, sweep_config_path = get_config_path(config_path)\n",
    "common_config = get_config_from_path(common_config_path, 'common')\n",
    "wandb_config = get_config_from_path(wandb_config_path, 'wandb')"
   ],
   "metadata": {
    "collapsed": false,
    "ExecuteTime": {
     "end_time": "2023-12-06T12:25:35.983196Z",
     "start_time": "2023-12-06T12:25:35.976417Z"
    }
   },
   "id": "31ef9d81989d847e"
  },
  {
   "cell_type": "code",
   "execution_count": 13,
   "outputs": [
    {
     "name": "stdout",
     "output_type": "stream",
     "text": [
      "Create sweep with ID: 0wap8h48\n",
      "Sweep URL: https://wandb.ai/model-development-and-deployment/training_example_4/sweeps/0wap8h48\n",
      "transform_log_n_estimators_100_n_jobs_12_learning_rate_0.05_max_depth_12_min_child_weight_12_subsample_0.5_colsample_bytree_0.5\n",
      "{'n_estimators': 100, 'n_jobs': 12, 'learning_rate': 0.05, 'max_depth': 12, 'min_child_weight': 12, 'subsample': 0.5, 'colsample_bytree': 0.5}\n",
      "Training model fatalities003_nl_baseline_rf\n",
      "Calibration partition (log)\n",
      " * == Performing a run: \"fatalities003_nl_baseline_rf_calib_transform_log_n_estimators_100_n_jobs_12_learning_rate_0.05_max_depth_12_min_child_weight_12_subsample_0.5_colsample_bytree_0.5\" == * \n",
      "Training model(s)...\n",
      "Storing \"fatalities003_nl_baseline_rf_calib_transform_log_n_estimators_100_n_jobs_12_learning_rate_0.05_max_depth_12_min_child_weight_12_subsample_0.5_colsample_bytree_0.5\"\n",
      "Getting predictions\n",
      "pr_56_cm_fatalities003_nl_baseline_rf_calib_transform_log_n_estimators_100_n_jobs_12_learning_rate_0.05_max_depth_12_min_child_weight_12_subsample_0.5_colsample_bytree_0.5.parquet\n",
      "cm_fatalities003_nl_baseline_rf_calib_transform_log_n_estimators_100_n_jobs_12_learning_rate_0.05_max_depth_12_min_child_weight_12_subsample_0.5_colsample_bytree_0.5 , run Fatalities003 does not exist, predicting\n",
      "Test partition (log)\n",
      " * == Performing a run: \"fatalities003_nl_baseline_rf_test_transform_log_n_estimators_100_n_jobs_12_learning_rate_0.05_max_depth_12_min_child_weight_12_subsample_0.5_colsample_bytree_0.5\" == * \n",
      "Training model(s)...\n",
      "Storing \"fatalities003_nl_baseline_rf_test_transform_log_n_estimators_100_n_jobs_12_learning_rate_0.05_max_depth_12_min_child_weight_12_subsample_0.5_colsample_bytree_0.5\"\n",
      "Getting predictions\n",
      "pr_56_cm_fatalities003_nl_baseline_rf_test_transform_log_n_estimators_100_n_jobs_12_learning_rate_0.05_max_depth_12_min_child_weight_12_subsample_0.5_colsample_bytree_0.5.parquet\n",
      "cm_fatalities003_nl_baseline_rf_test_transform_log_n_estimators_100_n_jobs_12_learning_rate_0.05_max_depth_12_min_child_weight_12_subsample_0.5_colsample_bytree_0.5 , run Fatalities003 does not exist, predicting\n",
      "**************************************************************\n",
      "Evaluating model fatalities003_nl_baseline_rf\n",
      "pr_56_cm_fatalities003_nl_baseline_rf_calib_transform_log_n_estimators_100_n_jobs_12_learning_rate_0.05_max_depth_12_min_child_weight_12_subsample_0.5_colsample_bytree_0.5.parquet\n",
      "mse_log 230577.4813833737\n",
      "**************************************************************\n",
      "transform_standardize_n_estimators_100_n_jobs_12_learning_rate_0.05_max_depth_12_min_child_weight_12_subsample_0.5_colsample_bytree_0.5\n",
      "{'n_estimators': 100, 'n_jobs': 12, 'learning_rate': 0.05, 'max_depth': 12, 'min_child_weight': 12, 'subsample': 0.5, 'colsample_bytree': 0.5}\n",
      "Training model fatalities003_nl_baseline_rf\n",
      "Calibration partition (standardize)\n",
      " * == Performing a run: \"fatalities003_nl_baseline_rf_calib_transform_standardize_n_estimators_100_n_jobs_12_learning_rate_0.05_max_depth_12_min_child_weight_12_subsample_0.5_colsample_bytree_0.5\" == * \n",
      "Training model(s)...\n",
      "Storing \"fatalities003_nl_baseline_rf_calib_transform_standardize_n_estimators_100_n_jobs_12_learning_rate_0.05_max_depth_12_min_child_weight_12_subsample_0.5_colsample_bytree_0.5\"\n",
      "Getting predictions\n",
      "pr_56_cm_fatalities003_nl_baseline_rf_calib_transform_standardize_n_estimators_100_n_jobs_12_learning_rate_0.05_max_depth_12_min_child_weight_12_subsample_0.5_colsample_bytree_0.5.parquet\n",
      "cm_fatalities003_nl_baseline_rf_calib_transform_standardize_n_estimators_100_n_jobs_12_learning_rate_0.05_max_depth_12_min_child_weight_12_subsample_0.5_colsample_bytree_0.5 , run Fatalities003 does not exist, predicting\n",
      "Test partition (standardize)\n",
      " * == Performing a run: \"fatalities003_nl_baseline_rf_test_transform_standardize_n_estimators_100_n_jobs_12_learning_rate_0.05_max_depth_12_min_child_weight_12_subsample_0.5_colsample_bytree_0.5\" == * \n",
      "Training model(s)...\n",
      "Storing \"fatalities003_nl_baseline_rf_test_transform_standardize_n_estimators_100_n_jobs_12_learning_rate_0.05_max_depth_12_min_child_weight_12_subsample_0.5_colsample_bytree_0.5\"\n",
      "Getting predictions\n",
      "pr_56_cm_fatalities003_nl_baseline_rf_test_transform_standardize_n_estimators_100_n_jobs_12_learning_rate_0.05_max_depth_12_min_child_weight_12_subsample_0.5_colsample_bytree_0.5.parquet\n",
      "cm_fatalities003_nl_baseline_rf_test_transform_standardize_n_estimators_100_n_jobs_12_learning_rate_0.05_max_depth_12_min_child_weight_12_subsample_0.5_colsample_bytree_0.5 , run Fatalities003 does not exist, predicting\n",
      "**************************************************************\n",
      "Evaluating model fatalities003_nl_baseline_rf\n",
      "pr_56_cm_fatalities003_nl_baseline_rf_calib_transform_standardize_n_estimators_100_n_jobs_12_learning_rate_0.05_max_depth_12_min_child_weight_12_subsample_0.5_colsample_bytree_0.5.parquet\n",
      "mse_standardize 274190.4472426388\n",
      "**************************************************************\n",
      "transform_raw_n_estimators_100_n_jobs_12_learning_rate_0.05_max_depth_12_min_child_weight_12_subsample_0.5_colsample_bytree_0.5\n",
      "{'n_estimators': 100, 'n_jobs': 12, 'learning_rate': 0.05, 'max_depth': 12, 'min_child_weight': 12, 'subsample': 0.5, 'colsample_bytree': 0.5}\n",
      "Training model fatalities003_nl_baseline_rf\n",
      "Calibration partition (raw)\n",
      " * == Performing a run: \"fatalities003_nl_baseline_rf_calib_transform_raw_n_estimators_100_n_jobs_12_learning_rate_0.05_max_depth_12_min_child_weight_12_subsample_0.5_colsample_bytree_0.5\" == * \n",
      "Training model(s)...\n",
      "Storing \"fatalities003_nl_baseline_rf_calib_transform_raw_n_estimators_100_n_jobs_12_learning_rate_0.05_max_depth_12_min_child_weight_12_subsample_0.5_colsample_bytree_0.5\"\n",
      "Getting predictions\n",
      "pr_56_cm_fatalities003_nl_baseline_rf_calib_transform_raw_n_estimators_100_n_jobs_12_learning_rate_0.05_max_depth_12_min_child_weight_12_subsample_0.5_colsample_bytree_0.5.parquet\n",
      "cm_fatalities003_nl_baseline_rf_calib_transform_raw_n_estimators_100_n_jobs_12_learning_rate_0.05_max_depth_12_min_child_weight_12_subsample_0.5_colsample_bytree_0.5 , run Fatalities003 does not exist, predicting\n",
      "Test partition (raw)\n",
      " * == Performing a run: \"fatalities003_nl_baseline_rf_test_transform_raw_n_estimators_100_n_jobs_12_learning_rate_0.05_max_depth_12_min_child_weight_12_subsample_0.5_colsample_bytree_0.5\" == * \n",
      "Training model(s)...\n",
      "Storing \"fatalities003_nl_baseline_rf_test_transform_raw_n_estimators_100_n_jobs_12_learning_rate_0.05_max_depth_12_min_child_weight_12_subsample_0.5_colsample_bytree_0.5\"\n",
      "Getting predictions\n",
      "pr_56_cm_fatalities003_nl_baseline_rf_test_transform_raw_n_estimators_100_n_jobs_12_learning_rate_0.05_max_depth_12_min_child_weight_12_subsample_0.5_colsample_bytree_0.5.parquet\n",
      "cm_fatalities003_nl_baseline_rf_test_transform_raw_n_estimators_100_n_jobs_12_learning_rate_0.05_max_depth_12_min_child_weight_12_subsample_0.5_colsample_bytree_0.5 , run Fatalities003 does not exist, predicting\n",
      "**************************************************************\n",
      "Evaluating model fatalities003_nl_baseline_rf\n",
      "pr_56_cm_fatalities003_nl_baseline_rf_calib_transform_raw_n_estimators_100_n_jobs_12_learning_rate_0.05_max_depth_12_min_child_weight_12_subsample_0.5_colsample_bytree_0.5.parquet\n",
      "mse_raw 229773.5045758467\n",
      "**************************************************************\n",
      "transform_normalize_n_estimators_100_n_jobs_12_learning_rate_0.05_max_depth_12_min_child_weight_12_subsample_0.5_colsample_bytree_0.5\n",
      "{'n_estimators': 100, 'n_jobs': 12, 'learning_rate': 0.05, 'max_depth': 12, 'min_child_weight': 12, 'subsample': 0.5, 'colsample_bytree': 0.5}\n",
      "Training model fatalities003_nl_baseline_rf\n",
      "Calibration partition (normalize)\n",
      " * == Performing a run: \"fatalities003_nl_baseline_rf_calib_transform_normalize_n_estimators_100_n_jobs_12_learning_rate_0.05_max_depth_12_min_child_weight_12_subsample_0.5_colsample_bytree_0.5\" == * \n",
      "Training model(s)...\n",
      "Storing \"fatalities003_nl_baseline_rf_calib_transform_normalize_n_estimators_100_n_jobs_12_learning_rate_0.05_max_depth_12_min_child_weight_12_subsample_0.5_colsample_bytree_0.5\"\n",
      "Getting predictions\n",
      "pr_56_cm_fatalities003_nl_baseline_rf_calib_transform_normalize_n_estimators_100_n_jobs_12_learning_rate_0.05_max_depth_12_min_child_weight_12_subsample_0.5_colsample_bytree_0.5.parquet\n",
      "cm_fatalities003_nl_baseline_rf_calib_transform_normalize_n_estimators_100_n_jobs_12_learning_rate_0.05_max_depth_12_min_child_weight_12_subsample_0.5_colsample_bytree_0.5 , run Fatalities003 does not exist, predicting\n",
      "Test partition (normalize)\n",
      " * == Performing a run: \"fatalities003_nl_baseline_rf_test_transform_normalize_n_estimators_100_n_jobs_12_learning_rate_0.05_max_depth_12_min_child_weight_12_subsample_0.5_colsample_bytree_0.5\" == * \n",
      "Training model(s)...\n",
      "Storing \"fatalities003_nl_baseline_rf_test_transform_normalize_n_estimators_100_n_jobs_12_learning_rate_0.05_max_depth_12_min_child_weight_12_subsample_0.5_colsample_bytree_0.5\"\n",
      "Getting predictions\n",
      "pr_56_cm_fatalities003_nl_baseline_rf_test_transform_normalize_n_estimators_100_n_jobs_12_learning_rate_0.05_max_depth_12_min_child_weight_12_subsample_0.5_colsample_bytree_0.5.parquet\n",
      "cm_fatalities003_nl_baseline_rf_test_transform_normalize_n_estimators_100_n_jobs_12_learning_rate_0.05_max_depth_12_min_child_weight_12_subsample_0.5_colsample_bytree_0.5 , run Fatalities003 does not exist, predicting\n",
      "**************************************************************\n",
      "Evaluating model fatalities003_nl_baseline_rf\n",
      "pr_56_cm_fatalities003_nl_baseline_rf_calib_transform_normalize_n_estimators_100_n_jobs_12_learning_rate_0.05_max_depth_12_min_child_weight_12_subsample_0.5_colsample_bytree_0.5.parquet\n",
      "mse_normalize 8963611.119130949\n",
      "**************************************************************\n"
     ]
    }
   ],
   "source": [
    "for sweep_file in sweep_config_path.iterdir():\n",
    "    if sweep_file.is_file():\n",
    "        model_file = model_config_path / sweep_file.name\n",
    "        if not model_file.is_file():\n",
    "            raise FileNotFoundError(f'The corresponding model configuration file {model_file} does not exist.')\n",
    "\n",
    "        sweep_config = get_config_from_path(sweep_file, 'sweep')\n",
    "        model_config = get_config_from_path(model_file, 'model')\n",
    "    \n",
    "        if sweep_file.stem.split('_')[-2] == 'hurdle':\n",
    "            continue # Currently Hurdle models are not supported\n",
    "        model = sweep_file.stem.split('_')[-1]\n",
    "        sweep_paras = PARA_DICT[model]\n",
    "        sweep_id = wandb.sweep(sweep_config, project=wandb_config['project'],\n",
    "                               entity=wandb_config['entity'])\n",
    "        wandb.agent(sweep_id, function=train)\n",
    "    break"
   ],
   "metadata": {
    "collapsed": false,
    "ExecuteTime": {
     "end_time": "2023-12-06T12:31:45.498916Z",
     "start_time": "2023-12-06T12:25:39.735744Z"
    }
   },
   "id": "a626b357890f0e85"
  },
  {
   "cell_type": "code",
   "execution_count": 8,
   "outputs": [],
   "source": [],
   "metadata": {
    "collapsed": false,
    "ExecuteTime": {
     "end_time": "2023-12-06T12:20:13.642330Z",
     "start_time": "2023-12-06T12:20:13.633366Z"
    }
   },
   "id": "19bce815f945bbae"
  }
 ],
 "metadata": {
  "kernelspec": {
   "display_name": "Python 3",
   "language": "python",
   "name": "python3"
  },
  "language_info": {
   "codemirror_mode": {
    "name": "ipython",
    "version": 2
   },
   "file_extension": ".py",
   "mimetype": "text/x-python",
   "name": "python",
   "nbconvert_exporter": "python",
   "pygments_lexer": "ipython2",
   "version": "2.7.6"
  }
 },
 "nbformat": 4,
 "nbformat_minor": 5
}
