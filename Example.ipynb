{
 "cells": [
  {
   "cell_type": "code",
   "execution_count": 1,
   "id": "initial_id",
   "metadata": {
    "collapsed": true,
    "ExecuteTime": {
     "end_time": "2023-12-12T10:34:18.684097Z",
     "start_time": "2023-12-12T10:34:14.192530Z"
    }
   },
   "outputs": [],
   "source": [
    "import numpy as np\n",
    "import warnings\n",
    "warnings.filterwarnings('ignore')\n",
    "import wandb\n",
    "from pathlib import Path\n",
    "\n",
    "from views_forecasts.extensions import *\n",
    "from utils import fetch_data, transform_data, get_config_path, get_config_from_path, retrain_transformed_sweep, evaluate\n",
    "from utils_map import plot_cm_map\n",
    "# import importlib\n",
    "# import utils  \n",
    "# importlib.reload(utils)\n",
    "\n",
    "import os\n",
    "os.environ['WANDB_SILENT'] = 'true'\n",
    "\n",
    "PARA_DICT = {\n",
    "    'rf': ['transform', 'n_estimators', 'n_jobs', 'learning_rate', 'max_depth', 'min_child_weight', 'subsample', 'colsample_bytree'],\n",
    "    'xgb': ['transform', 'n_estimators', 'n_jobs', 'learning_rate', 'max_depth', 'min_child_weight', 'subsample', 'colsample_bytree'],\n",
    "    'gbm': ['transform', 'n_estimators', 'n_jobs', 'learning_rate', 'max_depth', 'min_samples_split', 'min_samples_leaf']\n",
    "}"
   ]
  },
  {
   "cell_type": "code",
   "execution_count": 2,
   "outputs": [],
   "source": [
    "level = 'cm'\n",
    "config_path = Path('./my_config')"
   ],
   "metadata": {
    "collapsed": false,
    "ExecuteTime": {
     "end_time": "2023-12-12T10:34:18.690353Z",
     "start_time": "2023-12-12T10:34:18.685165Z"
    }
   },
   "id": "258d80492423936e"
  },
  {
   "cell_type": "code",
   "execution_count": 3,
   "outputs": [
    {
     "name": "stdout",
     "output_type": "stream",
     "text": [
      "Fetching query sets\n",
      "Fetching datasets\n",
      " .     "
     ]
    }
   ],
   "source": [
    "transforms = ['raw', 'log', 'normalize', 'standardize']\n",
    "Datasets_transformed = {}\n",
    "para_transformed = {}\n",
    "qslist, Datasets = fetch_data(level)\n",
    "for t in transforms:\n",
    "    Datasets_transformed[t], para_transformed[t] = transform_data(Datasets, t, by_group=True)"
   ],
   "metadata": {
    "collapsed": false,
    "ExecuteTime": {
     "end_time": "2023-12-12T10:38:39.687636Z",
     "start_time": "2023-12-12T10:34:18.687540Z"
    }
   },
   "id": "8c67aa78538f2606"
  },
  {
   "cell_type": "code",
   "execution_count": 4,
   "outputs": [],
   "source": [
    "def train():\n",
    "    run = wandb.init(config=common_config, project=wandb_config['project'], entity=wandb_config['entity'])\n",
    "    wandb.config.update(model_config, allow_val_change=True)\n",
    "    \n",
    "    run_name = ''\n",
    "    for para in sweep_paras:\n",
    "        run_name += f'{para}_{run.config[para]}_'\n",
    "    run_name = run_name.rstrip('_')\n",
    "    wandb.run.name = run_name\n",
    "    \n",
    "    retrain_transformed_sweep(Datasets_transformed, sweep_paras)\n",
    "    evaluate('calib', para_transformed, by_group=True, plot_map=True)\n",
    "    run.finish()"
   ],
   "metadata": {
    "collapsed": false,
    "ExecuteTime": {
     "end_time": "2023-12-12T10:38:39.693715Z",
     "start_time": "2023-12-12T10:38:39.689805Z"
    }
   },
   "id": "fe9dd60a4acbe489"
  },
  {
   "cell_type": "code",
   "execution_count": 5,
   "outputs": [],
   "source": [
    "common_config_path, wandb_config_path, model_config_path, sweep_config_path = get_config_path(config_path)\n",
    "common_config = get_config_from_path(common_config_path, 'common')\n",
    "wandb_config = get_config_from_path(wandb_config_path, 'wandb')"
   ],
   "metadata": {
    "collapsed": false,
    "ExecuteTime": {
     "end_time": "2023-12-12T10:38:39.698396Z",
     "start_time": "2023-12-12T10:38:39.692442Z"
    }
   },
   "id": "31ef9d81989d847e"
  },
  {
   "cell_type": "code",
   "execution_count": 6,
   "outputs": [
    {
     "name": "stdout",
     "output_type": "stream",
     "text": [
      "Create sweep with ID: raqaib7u\n",
      "Sweep URL: https://wandb.ai/model-development-and-deployment/add_map/sweeps/raqaib7u\n"
     ]
    },
    {
     "data": {
      "text/plain": "VBox(children=(Label(value='Waiting for wandb.init()...\\r'), FloatProgress(value=0.01112789675567506, max=1.0)…",
      "application/vnd.jupyter.widget-view+json": {
       "version_major": 2,
       "version_minor": 0,
       "model_id": "8cd801826e644a36a81272e73cfe3792"
      }
     },
     "metadata": {},
     "output_type": "display_data"
    },
    {
     "name": "stdout",
     "output_type": "stream",
     "text": [
      "{'n_estimators': 100, 'n_jobs': 12, 'learning_rate': 0.05, 'max_depth': 12, 'min_child_weight': 12, 'subsample': 0.5, 'colsample_bytree': 0.5}\n",
      "Training model fatalities003_nl_baseline_rf\n",
      "Calibration partition (log)\n",
      " * == Performing a run: \"fatalities003_nl_baseline_rf_calib_transform_log_n_estimators_100_n_jobs_12_learning_rate_0.05_max_depth_12_min_child_weight_12_subsample_0.5_colsample_bytree_0.5\" == * \n",
      "Model object named \"fatalities003_nl_baseline_rf_calib_transform_log_n_estimators_100_n_jobs_12_learning_rate_0.05_max_depth_12_min_child_weight_12_subsample_0.5_colsample_bytree_0.5\" with equivalent metadata already exists.\n",
      "Fetching \"fatalities003_nl_baseline_rf_calib_transform_log_n_estimators_100_n_jobs_12_learning_rate_0.05_max_depth_12_min_child_weight_12_subsample_0.5_colsample_bytree_0.5\" from storage\n",
      "Getting predictions\n",
      "pr_56_cm_fatalities003_nl_baseline_rf_calib_transform_log_n_estimators_100_n_jobs_12_learning_rate_0.05_max_depth_12_min_child_weight_12_subsample_0.5_colsample_bytree_0.5.parquet\n",
      "Test partition (log)\n",
      " * == Performing a run: \"fatalities003_nl_baseline_rf_test_transform_log_n_estimators_100_n_jobs_12_learning_rate_0.05_max_depth_12_min_child_weight_12_subsample_0.5_colsample_bytree_0.5\" == * \n",
      "Model object named \"fatalities003_nl_baseline_rf_test_transform_log_n_estimators_100_n_jobs_12_learning_rate_0.05_max_depth_12_min_child_weight_12_subsample_0.5_colsample_bytree_0.5\" with equivalent metadata already exists.\n",
      "Fetching \"fatalities003_nl_baseline_rf_test_transform_log_n_estimators_100_n_jobs_12_learning_rate_0.05_max_depth_12_min_child_weight_12_subsample_0.5_colsample_bytree_0.5\" from storage\n",
      "Getting predictions\n",
      "pr_56_cm_fatalities003_nl_baseline_rf_test_transform_log_n_estimators_100_n_jobs_12_learning_rate_0.05_max_depth_12_min_child_weight_12_subsample_0.5_colsample_bytree_0.5.parquet\n",
      "**************************************************************\n",
      "Evaluating model fatalities003_nl_baseline_rf\n",
      "pr_56_cm_fatalities003_nl_baseline_rf_calib_transform_log_n_estimators_100_n_jobs_12_learning_rate_0.05_max_depth_12_min_child_weight_12_subsample_0.5_colsample_bytree_0.5.parquet\n",
      "**************************************************************\n",
      "{'n_estimators': 100, 'n_jobs': 12, 'learning_rate': 0.05, 'max_depth': 12, 'min_child_weight': 12, 'subsample': 0.5, 'colsample_bytree': 0.5}\n",
      "Training model fatalities003_nl_baseline_rf\n",
      "Calibration partition (standardize)\n",
      " * == Performing a run: \"fatalities003_nl_baseline_rf_calib_transform_standardize_n_estimators_100_n_jobs_12_learning_rate_0.05_max_depth_12_min_child_weight_12_subsample_0.5_colsample_bytree_0.5\" == * \n",
      "Model object named \"fatalities003_nl_baseline_rf_calib_transform_standardize_n_estimators_100_n_jobs_12_learning_rate_0.05_max_depth_12_min_child_weight_12_subsample_0.5_colsample_bytree_0.5\" with equivalent metadata already exists.\n",
      "Fetching \"fatalities003_nl_baseline_rf_calib_transform_standardize_n_estimators_100_n_jobs_12_learning_rate_0.05_max_depth_12_min_child_weight_12_subsample_0.5_colsample_bytree_0.5\" from storage\n",
      "Getting predictions\n",
      "pr_56_cm_fatalities003_nl_baseline_rf_calib_transform_standardize_n_estimators_100_n_jobs_12_learning_rate_0.05_max_depth_12_min_child_weight_12_subsample_0.5_colsample_bytree_0.5.parquet\n",
      "Test partition (standardize)\n",
      " * == Performing a run: \"fatalities003_nl_baseline_rf_test_transform_standardize_n_estimators_100_n_jobs_12_learning_rate_0.05_max_depth_12_min_child_weight_12_subsample_0.5_colsample_bytree_0.5\" == * \n",
      "Model object named \"fatalities003_nl_baseline_rf_test_transform_standardize_n_estimators_100_n_jobs_12_learning_rate_0.05_max_depth_12_min_child_weight_12_subsample_0.5_colsample_bytree_0.5\" with equivalent metadata already exists.\n",
      "Fetching \"fatalities003_nl_baseline_rf_test_transform_standardize_n_estimators_100_n_jobs_12_learning_rate_0.05_max_depth_12_min_child_weight_12_subsample_0.5_colsample_bytree_0.5\" from storage\n",
      "Getting predictions\n",
      "pr_56_cm_fatalities003_nl_baseline_rf_test_transform_standardize_n_estimators_100_n_jobs_12_learning_rate_0.05_max_depth_12_min_child_weight_12_subsample_0.5_colsample_bytree_0.5.parquet\n",
      "**************************************************************\n",
      "Evaluating model fatalities003_nl_baseline_rf\n",
      "pr_56_cm_fatalities003_nl_baseline_rf_calib_transform_standardize_n_estimators_100_n_jobs_12_learning_rate_0.05_max_depth_12_min_child_weight_12_subsample_0.5_colsample_bytree_0.5.parquet\n",
      "**************************************************************\n",
      "{'n_estimators': 100, 'n_jobs': 12, 'learning_rate': 0.05, 'max_depth': 12, 'min_child_weight': 12, 'subsample': 0.5, 'colsample_bytree': 0.5}\n",
      "Training model fatalities003_nl_baseline_rf\n",
      "Calibration partition (raw)\n",
      " * == Performing a run: \"fatalities003_nl_baseline_rf_calib_transform_raw_n_estimators_100_n_jobs_12_learning_rate_0.05_max_depth_12_min_child_weight_12_subsample_0.5_colsample_bytree_0.5\" == * \n",
      "Model object named \"fatalities003_nl_baseline_rf_calib_transform_raw_n_estimators_100_n_jobs_12_learning_rate_0.05_max_depth_12_min_child_weight_12_subsample_0.5_colsample_bytree_0.5\" with equivalent metadata already exists.\n",
      "Fetching \"fatalities003_nl_baseline_rf_calib_transform_raw_n_estimators_100_n_jobs_12_learning_rate_0.05_max_depth_12_min_child_weight_12_subsample_0.5_colsample_bytree_0.5\" from storage\n",
      "Getting predictions\n",
      "pr_56_cm_fatalities003_nl_baseline_rf_calib_transform_raw_n_estimators_100_n_jobs_12_learning_rate_0.05_max_depth_12_min_child_weight_12_subsample_0.5_colsample_bytree_0.5.parquet\n",
      "Test partition (raw)\n",
      " * == Performing a run: \"fatalities003_nl_baseline_rf_test_transform_raw_n_estimators_100_n_jobs_12_learning_rate_0.05_max_depth_12_min_child_weight_12_subsample_0.5_colsample_bytree_0.5\" == * \n",
      "Model object named \"fatalities003_nl_baseline_rf_test_transform_raw_n_estimators_100_n_jobs_12_learning_rate_0.05_max_depth_12_min_child_weight_12_subsample_0.5_colsample_bytree_0.5\" with equivalent metadata already exists.\n",
      "Fetching \"fatalities003_nl_baseline_rf_test_transform_raw_n_estimators_100_n_jobs_12_learning_rate_0.05_max_depth_12_min_child_weight_12_subsample_0.5_colsample_bytree_0.5\" from storage\n",
      "Getting predictions\n",
      "pr_56_cm_fatalities003_nl_baseline_rf_test_transform_raw_n_estimators_100_n_jobs_12_learning_rate_0.05_max_depth_12_min_child_weight_12_subsample_0.5_colsample_bytree_0.5.parquet\n",
      "**************************************************************\n",
      "Evaluating model fatalities003_nl_baseline_rf\n",
      "pr_56_cm_fatalities003_nl_baseline_rf_calib_transform_raw_n_estimators_100_n_jobs_12_learning_rate_0.05_max_depth_12_min_child_weight_12_subsample_0.5_colsample_bytree_0.5.parquet\n",
      "**************************************************************\n"
     ]
    },
    {
     "data": {
      "text/plain": "VBox(children=(Label(value='Waiting for wandb.init()...\\r'), FloatProgress(value=0.011141128233349364, max=1.0…",
      "application/vnd.jupyter.widget-view+json": {
       "version_major": 2,
       "version_minor": 0,
       "model_id": "3409a09c5d4146c4b80e7309a27a87dd"
      }
     },
     "metadata": {},
     "output_type": "display_data"
    },
    {
     "name": "stdout",
     "output_type": "stream",
     "text": [
      "{'n_estimators': 100, 'n_jobs': 12, 'learning_rate': 0.05, 'max_depth': 12, 'min_child_weight': 12, 'subsample': 0.5, 'colsample_bytree': 0.5}\n",
      "Training model fatalities003_nl_baseline_rf\n",
      "Calibration partition (normalize)\n",
      " * == Performing a run: \"fatalities003_nl_baseline_rf_calib_transform_normalize_n_estimators_100_n_jobs_12_learning_rate_0.05_max_depth_12_min_child_weight_12_subsample_0.5_colsample_bytree_0.5\" == * \n",
      "Model object named \"fatalities003_nl_baseline_rf_calib_transform_normalize_n_estimators_100_n_jobs_12_learning_rate_0.05_max_depth_12_min_child_weight_12_subsample_0.5_colsample_bytree_0.5\" with equivalent metadata already exists.\n",
      "Fetching \"fatalities003_nl_baseline_rf_calib_transform_normalize_n_estimators_100_n_jobs_12_learning_rate_0.05_max_depth_12_min_child_weight_12_subsample_0.5_colsample_bytree_0.5\" from storage\n",
      "Getting predictions\n",
      "pr_56_cm_fatalities003_nl_baseline_rf_calib_transform_normalize_n_estimators_100_n_jobs_12_learning_rate_0.05_max_depth_12_min_child_weight_12_subsample_0.5_colsample_bytree_0.5.parquet\n",
      "Test partition (normalize)\n",
      " * == Performing a run: \"fatalities003_nl_baseline_rf_test_transform_normalize_n_estimators_100_n_jobs_12_learning_rate_0.05_max_depth_12_min_child_weight_12_subsample_0.5_colsample_bytree_0.5\" == * \n",
      "Model object named \"fatalities003_nl_baseline_rf_test_transform_normalize_n_estimators_100_n_jobs_12_learning_rate_0.05_max_depth_12_min_child_weight_12_subsample_0.5_colsample_bytree_0.5\" with equivalent metadata already exists.\n",
      "Fetching \"fatalities003_nl_baseline_rf_test_transform_normalize_n_estimators_100_n_jobs_12_learning_rate_0.05_max_depth_12_min_child_weight_12_subsample_0.5_colsample_bytree_0.5\" from storage\n",
      "Getting predictions\n",
      "pr_56_cm_fatalities003_nl_baseline_rf_test_transform_normalize_n_estimators_100_n_jobs_12_learning_rate_0.05_max_depth_12_min_child_weight_12_subsample_0.5_colsample_bytree_0.5.parquet\n",
      "**************************************************************\n",
      "Evaluating model fatalities003_nl_baseline_rf\n",
      "pr_56_cm_fatalities003_nl_baseline_rf_calib_transform_normalize_n_estimators_100_n_jobs_12_learning_rate_0.05_max_depth_12_min_child_weight_12_subsample_0.5_colsample_bytree_0.5.parquet\n",
      "**************************************************************\n",
      "{'n_estimators': 100, 'n_jobs': 15, 'learning_rate': 0.05, 'max_depth': 12, 'min_child_weight': 12, 'subsample': 0.5, 'colsample_bytree': 0.5}\n",
      "Training model fatalities003_nl_baseline_rf\n",
      "Calibration partition (log)\n",
      " * == Performing a run: \"fatalities003_nl_baseline_rf_calib_transform_log_n_estimators_100_n_jobs_15_learning_rate_0.05_max_depth_12_min_child_weight_12_subsample_0.5_colsample_bytree_0.5\" == * \n",
      "Training model(s)...\n",
      "Storing \"fatalities003_nl_baseline_rf_calib_transform_log_n_estimators_100_n_jobs_15_learning_rate_0.05_max_depth_12_min_child_weight_12_subsample_0.5_colsample_bytree_0.5\"\n",
      "Getting predictions\n",
      "pr_56_cm_fatalities003_nl_baseline_rf_calib_transform_log_n_estimators_100_n_jobs_15_learning_rate_0.05_max_depth_12_min_child_weight_12_subsample_0.5_colsample_bytree_0.5.parquet\n",
      "cm_fatalities003_nl_baseline_rf_calib_transform_log_n_estimators_100_n_jobs_15_learning_rate_0.05_max_depth_12_min_child_weight_12_subsample_0.5_colsample_bytree_0.5 , run Fatalities003 does not exist, predicting\n",
      "Test partition (log)\n",
      " * == Performing a run: \"fatalities003_nl_baseline_rf_test_transform_log_n_estimators_100_n_jobs_15_learning_rate_0.05_max_depth_12_min_child_weight_12_subsample_0.5_colsample_bytree_0.5\" == * \n",
      "Training model(s)...\n",
      "Storing \"fatalities003_nl_baseline_rf_test_transform_log_n_estimators_100_n_jobs_15_learning_rate_0.05_max_depth_12_min_child_weight_12_subsample_0.5_colsample_bytree_0.5\"\n",
      "Getting predictions\n",
      "pr_56_cm_fatalities003_nl_baseline_rf_test_transform_log_n_estimators_100_n_jobs_15_learning_rate_0.05_max_depth_12_min_child_weight_12_subsample_0.5_colsample_bytree_0.5.parquet\n",
      "cm_fatalities003_nl_baseline_rf_test_transform_log_n_estimators_100_n_jobs_15_learning_rate_0.05_max_depth_12_min_child_weight_12_subsample_0.5_colsample_bytree_0.5 , run Fatalities003 does not exist, predicting\n",
      "**************************************************************\n",
      "Evaluating model fatalities003_nl_baseline_rf\n",
      "pr_56_cm_fatalities003_nl_baseline_rf_calib_transform_log_n_estimators_100_n_jobs_15_learning_rate_0.05_max_depth_12_min_child_weight_12_subsample_0.5_colsample_bytree_0.5.parquet\n",
      "**************************************************************\n",
      "{'n_estimators': 100, 'n_jobs': 15, 'learning_rate': 0.05, 'max_depth': 12, 'min_child_weight': 12, 'subsample': 0.5, 'colsample_bytree': 0.5}\n",
      "Training model fatalities003_nl_baseline_rf\n",
      "Calibration partition (standardize)\n",
      " * == Performing a run: \"fatalities003_nl_baseline_rf_calib_transform_standardize_n_estimators_100_n_jobs_15_learning_rate_0.05_max_depth_12_min_child_weight_12_subsample_0.5_colsample_bytree_0.5\" == * \n",
      "Training model(s)...\n",
      "Storing \"fatalities003_nl_baseline_rf_calib_transform_standardize_n_estimators_100_n_jobs_15_learning_rate_0.05_max_depth_12_min_child_weight_12_subsample_0.5_colsample_bytree_0.5\"\n",
      "Getting predictions\n",
      "pr_56_cm_fatalities003_nl_baseline_rf_calib_transform_standardize_n_estimators_100_n_jobs_15_learning_rate_0.05_max_depth_12_min_child_weight_12_subsample_0.5_colsample_bytree_0.5.parquet\n",
      "cm_fatalities003_nl_baseline_rf_calib_transform_standardize_n_estimators_100_n_jobs_15_learning_rate_0.05_max_depth_12_min_child_weight_12_subsample_0.5_colsample_bytree_0.5 , run Fatalities003 does not exist, predicting\n",
      "Test partition (standardize)\n",
      " * == Performing a run: \"fatalities003_nl_baseline_rf_test_transform_standardize_n_estimators_100_n_jobs_15_learning_rate_0.05_max_depth_12_min_child_weight_12_subsample_0.5_colsample_bytree_0.5\" == * \n",
      "Training model(s)...\n",
      "Storing \"fatalities003_nl_baseline_rf_test_transform_standardize_n_estimators_100_n_jobs_15_learning_rate_0.05_max_depth_12_min_child_weight_12_subsample_0.5_colsample_bytree_0.5\"\n",
      "Getting predictions\n",
      "pr_56_cm_fatalities003_nl_baseline_rf_test_transform_standardize_n_estimators_100_n_jobs_15_learning_rate_0.05_max_depth_12_min_child_weight_12_subsample_0.5_colsample_bytree_0.5.parquet\n",
      "cm_fatalities003_nl_baseline_rf_test_transform_standardize_n_estimators_100_n_jobs_15_learning_rate_0.05_max_depth_12_min_child_weight_12_subsample_0.5_colsample_bytree_0.5 , run Fatalities003 does not exist, predicting\n",
      "**************************************************************\n",
      "Evaluating model fatalities003_nl_baseline_rf\n",
      "pr_56_cm_fatalities003_nl_baseline_rf_calib_transform_standardize_n_estimators_100_n_jobs_15_learning_rate_0.05_max_depth_12_min_child_weight_12_subsample_0.5_colsample_bytree_0.5.parquet\n",
      "**************************************************************\n",
      "{'n_estimators': 100, 'n_jobs': 15, 'learning_rate': 0.05, 'max_depth': 12, 'min_child_weight': 12, 'subsample': 0.5, 'colsample_bytree': 0.5}\n",
      "Training model fatalities003_nl_baseline_rf\n",
      "Calibration partition (raw)\n",
      " * == Performing a run: \"fatalities003_nl_baseline_rf_calib_transform_raw_n_estimators_100_n_jobs_15_learning_rate_0.05_max_depth_12_min_child_weight_12_subsample_0.5_colsample_bytree_0.5\" == * \n",
      "Training model(s)...\n",
      "Storing \"fatalities003_nl_baseline_rf_calib_transform_raw_n_estimators_100_n_jobs_15_learning_rate_0.05_max_depth_12_min_child_weight_12_subsample_0.5_colsample_bytree_0.5\"\n",
      "Getting predictions\n",
      "pr_56_cm_fatalities003_nl_baseline_rf_calib_transform_raw_n_estimators_100_n_jobs_15_learning_rate_0.05_max_depth_12_min_child_weight_12_subsample_0.5_colsample_bytree_0.5.parquet\n",
      "cm_fatalities003_nl_baseline_rf_calib_transform_raw_n_estimators_100_n_jobs_15_learning_rate_0.05_max_depth_12_min_child_weight_12_subsample_0.5_colsample_bytree_0.5 , run Fatalities003 does not exist, predicting\n",
      "Test partition (raw)\n",
      " * == Performing a run: \"fatalities003_nl_baseline_rf_test_transform_raw_n_estimators_100_n_jobs_15_learning_rate_0.05_max_depth_12_min_child_weight_12_subsample_0.5_colsample_bytree_0.5\" == * \n",
      "Training model(s)...\n",
      "Storing \"fatalities003_nl_baseline_rf_test_transform_raw_n_estimators_100_n_jobs_15_learning_rate_0.05_max_depth_12_min_child_weight_12_subsample_0.5_colsample_bytree_0.5\"\n",
      "Getting predictions\n",
      "pr_56_cm_fatalities003_nl_baseline_rf_test_transform_raw_n_estimators_100_n_jobs_15_learning_rate_0.05_max_depth_12_min_child_weight_12_subsample_0.5_colsample_bytree_0.5.parquet\n",
      "cm_fatalities003_nl_baseline_rf_test_transform_raw_n_estimators_100_n_jobs_15_learning_rate_0.05_max_depth_12_min_child_weight_12_subsample_0.5_colsample_bytree_0.5 , run Fatalities003 does not exist, predicting\n",
      "**************************************************************\n",
      "Evaluating model fatalities003_nl_baseline_rf\n",
      "pr_56_cm_fatalities003_nl_baseline_rf_calib_transform_raw_n_estimators_100_n_jobs_15_learning_rate_0.05_max_depth_12_min_child_weight_12_subsample_0.5_colsample_bytree_0.5.parquet\n",
      "**************************************************************\n",
      "{'n_estimators': 100, 'n_jobs': 15, 'learning_rate': 0.05, 'max_depth': 12, 'min_child_weight': 12, 'subsample': 0.5, 'colsample_bytree': 0.5}\n",
      "Training model fatalities003_nl_baseline_rf\n",
      "Calibration partition (normalize)\n",
      " * == Performing a run: \"fatalities003_nl_baseline_rf_calib_transform_normalize_n_estimators_100_n_jobs_15_learning_rate_0.05_max_depth_12_min_child_weight_12_subsample_0.5_colsample_bytree_0.5\" == * \n",
      "Training model(s)...\n",
      "Storing \"fatalities003_nl_baseline_rf_calib_transform_normalize_n_estimators_100_n_jobs_15_learning_rate_0.05_max_depth_12_min_child_weight_12_subsample_0.5_colsample_bytree_0.5\"\n",
      "Getting predictions\n",
      "pr_56_cm_fatalities003_nl_baseline_rf_calib_transform_normalize_n_estimators_100_n_jobs_15_learning_rate_0.05_max_depth_12_min_child_weight_12_subsample_0.5_colsample_bytree_0.5.parquet\n",
      "cm_fatalities003_nl_baseline_rf_calib_transform_normalize_n_estimators_100_n_jobs_15_learning_rate_0.05_max_depth_12_min_child_weight_12_subsample_0.5_colsample_bytree_0.5 , run Fatalities003 does not exist, predicting\n",
      "Test partition (normalize)\n",
      " * == Performing a run: \"fatalities003_nl_baseline_rf_test_transform_normalize_n_estimators_100_n_jobs_15_learning_rate_0.05_max_depth_12_min_child_weight_12_subsample_0.5_colsample_bytree_0.5\" == * \n",
      "Training model(s)...\n",
      "Storing \"fatalities003_nl_baseline_rf_test_transform_normalize_n_estimators_100_n_jobs_15_learning_rate_0.05_max_depth_12_min_child_weight_12_subsample_0.5_colsample_bytree_0.5\"\n",
      "Getting predictions\n",
      "pr_56_cm_fatalities003_nl_baseline_rf_test_transform_normalize_n_estimators_100_n_jobs_15_learning_rate_0.05_max_depth_12_min_child_weight_12_subsample_0.5_colsample_bytree_0.5.parquet\n",
      "cm_fatalities003_nl_baseline_rf_test_transform_normalize_n_estimators_100_n_jobs_15_learning_rate_0.05_max_depth_12_min_child_weight_12_subsample_0.5_colsample_bytree_0.5 , run Fatalities003 does not exist, predicting\n",
      "**************************************************************\n",
      "Evaluating model fatalities003_nl_baseline_rf\n",
      "pr_56_cm_fatalities003_nl_baseline_rf_calib_transform_normalize_n_estimators_100_n_jobs_15_learning_rate_0.05_max_depth_12_min_child_weight_12_subsample_0.5_colsample_bytree_0.5.parquet\n",
      "**************************************************************\n",
      "Finish sweeping over model fatalities003_nl_baseline_rf\n"
     ]
    }
   ],
   "source": [
    "for sweep_file in sweep_config_path.iterdir():\n",
    "    if sweep_file.is_file():\n",
    "        model_file = model_config_path / sweep_file.name\n",
    "        if not model_file.is_file():\n",
    "            raise FileNotFoundError(f'The corresponding model configuration file {model_file} does not exist.')\n",
    "\n",
    "        sweep_config = get_config_from_path(sweep_file, 'sweep')\n",
    "        model_config = get_config_from_path(model_file, 'model')\n",
    "    \n",
    "        if sweep_file.stem.split('_')[-2] == 'hurdle':\n",
    "            continue # Currently Hurdle models are not supported\n",
    "        model = sweep_file.stem.split('_')[-1]\n",
    "        sweep_paras = PARA_DICT[model]\n",
    "        sweep_id = wandb.sweep(sweep_config, project=wandb_config['project'],\n",
    "                               entity=wandb_config['entity'])\n",
    "        wandb.agent(sweep_id, function=train)\n",
    "        print(f'Finish sweeping over model {sweep_file.stem}')\n",
    "    break"
   ],
   "metadata": {
    "collapsed": false,
    "ExecuteTime": {
     "end_time": "2023-12-12T10:55:00.074149Z",
     "start_time": "2023-12-12T10:38:39.696496Z"
    }
   },
   "id": "a626b357890f0e85"
  },
  {
   "cell_type": "code",
   "execution_count": 11,
   "outputs": [],
   "source": [
    "stepcols = ['ged_sb_dep']\n",
    "steps = [*range(1, 36 + 1, 1)]\n",
    "for step in steps:\n",
    "    stepcols.append('step_pred_' + str(step))\n",
    "run_id = 'Fatalities003'\n",
    "name = 'cm_fatalities003_nl_baseline_rf_calib_transform_raw_n_estimators_100_n_jobs_15_learning_rate_0.05_max_depth_12_min_child_weight_12_subsample_0.5_colsample_bytree_0.5'"
   ],
   "metadata": {
    "collapsed": false,
    "ExecuteTime": {
     "end_time": "2023-12-12T11:03:25.375767Z",
     "start_time": "2023-12-12T11:03:25.362071Z"
    }
   },
   "id": "19bce815f945bbae"
  },
  {
   "cell_type": "code",
   "execution_count": 12,
   "outputs": [
    {
     "name": "stdout",
     "output_type": "stream",
     "text": [
      "pr_56_cm_fatalities003_nl_baseline_rf_calib_transform_raw_n_estimators_100_n_jobs_15_learning_rate_0.05_max_depth_12_min_child_weight_12_subsample_0.5_colsample_bytree_0.5.parquet\n"
     ]
    },
    {
     "data": {
      "text/plain": "                     ged_sb_dep  step_pred_1  step_pred_2  step_pred_3  \\\nmonth_id country_id                                                      \n397      1                  0.0     1.651095     1.689242     1.657279   \n         2                  0.0     3.204240     3.025700     2.939039   \n         3                  0.0     2.058623     1.834005     1.912669   \n         4                  0.0     0.555807     0.557101     0.612779   \n         5                  0.0     3.265088     3.040656     3.225754   \n...                         ...          ...          ...          ...   \n444      242                0.0     0.952560     2.511681     0.899215   \n         243                0.0     0.888121     0.780973     0.772871   \n         244                0.0     0.514005     0.573902     0.520572   \n         245                0.0     3.458892     5.573108     9.200547   \n         246               14.0     6.743328     8.704333     4.956068   \n\n                     step_pred_4  step_pred_5  step_pred_6  step_pred_7  \\\nmonth_id country_id                                                       \n397      1              0.913426     0.979597     1.065750     0.787519   \n         2              1.457489     1.581790     1.575650     1.085819   \n         3              1.009168     1.172435     1.024413     0.774664   \n         4              0.613710     0.634974     0.942594     0.608548   \n         5              1.547952     1.757818     1.631098     1.095765   \n...                          ...          ...          ...          ...   \n444      242            2.616912     1.150216     0.674771     0.804736   \n         243            0.718171     0.822518     0.779895     0.784185   \n         244            0.526588     0.546783     0.530654     0.552278   \n         245            5.286830     6.728735     7.581571     5.567369   \n         246            8.057429     7.786879     5.698065    10.741589   \n\n                     step_pred_8  step_pred_9  ...  step_pred_27  \\\nmonth_id country_id                            ...                 \n397      1              0.919267     0.836542  ...      0.698809   \n         2              1.564273     1.311603  ...      0.733626   \n         3              1.049518     0.965083  ...      0.619093   \n         4              0.648162     0.608087  ...      0.787829   \n         5              1.619773     1.376115  ...      0.743519   \n...                          ...          ...  ...           ...   \n444      242            0.797980     0.836487  ...      1.489074   \n         243            0.843954     0.843327  ...      0.963516   \n         244            0.673362     0.531548  ...      0.573374   \n         245            6.420694     5.976310  ...      4.409314   \n         246            5.404877     3.818746  ...      7.737101   \n\n                     step_pred_28  step_pred_29  step_pred_30  step_pred_31  \\\nmonth_id country_id                                                           \n397      1               0.687637      0.650110      0.653180      0.696426   \n         2               0.694635      0.608645      0.702105      0.721626   \n         3               0.600686      0.616504      0.580385      0.594178   \n         4               0.899514      1.137710      0.772197      0.844141   \n         5               0.729198      0.627620      0.705535      0.750535   \n...                           ...           ...           ...           ...   \n444      242             1.951522      1.318421      0.960552      1.177219   \n         243             1.062782      0.719849      0.939175      0.949503   \n         244             0.681835      0.678342      0.662469      0.613124   \n         245             4.210153      3.821799      5.964530      5.077895   \n         246             8.889780      8.268359      6.366716      5.391199   \n\n                     step_pred_32  step_pred_33  step_pred_34  step_pred_35  \\\nmonth_id country_id                                                           \n397      1               0.604014      0.565468      0.674215      0.576182   \n         2               0.617485      0.519229      0.568201      0.610041   \n         3               0.592638      0.520877      0.557706      0.587092   \n         4               0.973165      1.078962      1.244385      1.054108   \n         5               0.639610      0.527611      0.581906      0.630597   \n...                           ...           ...           ...           ...   \n444      242             0.836330      1.184410      0.849898      0.951530   \n         243             0.844645      0.999449      0.838120      1.003479   \n         244             0.594671      0.676165      0.609238      0.609334   \n         245             4.411976      5.496883      5.285884      3.480923   \n         246             8.824881      5.879320      8.697441      7.644091   \n\n                     step_pred_36  \nmonth_id country_id                \n397      1               0.701868  \n         2               0.778324  \n         3               0.705077  \n         4               0.920116  \n         5               0.788689  \n...                           ...  \n444      242             1.018249  \n         243             1.053536  \n         244             0.627836  \n         245             2.899676  \n         246             8.788382  \n\n[9168 rows x 37 columns]",
      "text/html": "<div>\n<style scoped>\n    .dataframe tbody tr th:only-of-type {\n        vertical-align: middle;\n    }\n\n    .dataframe tbody tr th {\n        vertical-align: top;\n    }\n\n    .dataframe thead th {\n        text-align: right;\n    }\n</style>\n<table border=\"1\" class=\"dataframe\">\n  <thead>\n    <tr style=\"text-align: right;\">\n      <th></th>\n      <th></th>\n      <th>ged_sb_dep</th>\n      <th>step_pred_1</th>\n      <th>step_pred_2</th>\n      <th>step_pred_3</th>\n      <th>step_pred_4</th>\n      <th>step_pred_5</th>\n      <th>step_pred_6</th>\n      <th>step_pred_7</th>\n      <th>step_pred_8</th>\n      <th>step_pred_9</th>\n      <th>...</th>\n      <th>step_pred_27</th>\n      <th>step_pred_28</th>\n      <th>step_pred_29</th>\n      <th>step_pred_30</th>\n      <th>step_pred_31</th>\n      <th>step_pred_32</th>\n      <th>step_pred_33</th>\n      <th>step_pred_34</th>\n      <th>step_pred_35</th>\n      <th>step_pred_36</th>\n    </tr>\n    <tr>\n      <th>month_id</th>\n      <th>country_id</th>\n      <th></th>\n      <th></th>\n      <th></th>\n      <th></th>\n      <th></th>\n      <th></th>\n      <th></th>\n      <th></th>\n      <th></th>\n      <th></th>\n      <th></th>\n      <th></th>\n      <th></th>\n      <th></th>\n      <th></th>\n      <th></th>\n      <th></th>\n      <th></th>\n      <th></th>\n      <th></th>\n      <th></th>\n    </tr>\n  </thead>\n  <tbody>\n    <tr>\n      <th rowspan=\"5\" valign=\"top\">397</th>\n      <th>1</th>\n      <td>0.0</td>\n      <td>1.651095</td>\n      <td>1.689242</td>\n      <td>1.657279</td>\n      <td>0.913426</td>\n      <td>0.979597</td>\n      <td>1.065750</td>\n      <td>0.787519</td>\n      <td>0.919267</td>\n      <td>0.836542</td>\n      <td>...</td>\n      <td>0.698809</td>\n      <td>0.687637</td>\n      <td>0.650110</td>\n      <td>0.653180</td>\n      <td>0.696426</td>\n      <td>0.604014</td>\n      <td>0.565468</td>\n      <td>0.674215</td>\n      <td>0.576182</td>\n      <td>0.701868</td>\n    </tr>\n    <tr>\n      <th>2</th>\n      <td>0.0</td>\n      <td>3.204240</td>\n      <td>3.025700</td>\n      <td>2.939039</td>\n      <td>1.457489</td>\n      <td>1.581790</td>\n      <td>1.575650</td>\n      <td>1.085819</td>\n      <td>1.564273</td>\n      <td>1.311603</td>\n      <td>...</td>\n      <td>0.733626</td>\n      <td>0.694635</td>\n      <td>0.608645</td>\n      <td>0.702105</td>\n      <td>0.721626</td>\n      <td>0.617485</td>\n      <td>0.519229</td>\n      <td>0.568201</td>\n      <td>0.610041</td>\n      <td>0.778324</td>\n    </tr>\n    <tr>\n      <th>3</th>\n      <td>0.0</td>\n      <td>2.058623</td>\n      <td>1.834005</td>\n      <td>1.912669</td>\n      <td>1.009168</td>\n      <td>1.172435</td>\n      <td>1.024413</td>\n      <td>0.774664</td>\n      <td>1.049518</td>\n      <td>0.965083</td>\n      <td>...</td>\n      <td>0.619093</td>\n      <td>0.600686</td>\n      <td>0.616504</td>\n      <td>0.580385</td>\n      <td>0.594178</td>\n      <td>0.592638</td>\n      <td>0.520877</td>\n      <td>0.557706</td>\n      <td>0.587092</td>\n      <td>0.705077</td>\n    </tr>\n    <tr>\n      <th>4</th>\n      <td>0.0</td>\n      <td>0.555807</td>\n      <td>0.557101</td>\n      <td>0.612779</td>\n      <td>0.613710</td>\n      <td>0.634974</td>\n      <td>0.942594</td>\n      <td>0.608548</td>\n      <td>0.648162</td>\n      <td>0.608087</td>\n      <td>...</td>\n      <td>0.787829</td>\n      <td>0.899514</td>\n      <td>1.137710</td>\n      <td>0.772197</td>\n      <td>0.844141</td>\n      <td>0.973165</td>\n      <td>1.078962</td>\n      <td>1.244385</td>\n      <td>1.054108</td>\n      <td>0.920116</td>\n    </tr>\n    <tr>\n      <th>5</th>\n      <td>0.0</td>\n      <td>3.265088</td>\n      <td>3.040656</td>\n      <td>3.225754</td>\n      <td>1.547952</td>\n      <td>1.757818</td>\n      <td>1.631098</td>\n      <td>1.095765</td>\n      <td>1.619773</td>\n      <td>1.376115</td>\n      <td>...</td>\n      <td>0.743519</td>\n      <td>0.729198</td>\n      <td>0.627620</td>\n      <td>0.705535</td>\n      <td>0.750535</td>\n      <td>0.639610</td>\n      <td>0.527611</td>\n      <td>0.581906</td>\n      <td>0.630597</td>\n      <td>0.788689</td>\n    </tr>\n    <tr>\n      <th>...</th>\n      <th>...</th>\n      <td>...</td>\n      <td>...</td>\n      <td>...</td>\n      <td>...</td>\n      <td>...</td>\n      <td>...</td>\n      <td>...</td>\n      <td>...</td>\n      <td>...</td>\n      <td>...</td>\n      <td>...</td>\n      <td>...</td>\n      <td>...</td>\n      <td>...</td>\n      <td>...</td>\n      <td>...</td>\n      <td>...</td>\n      <td>...</td>\n      <td>...</td>\n      <td>...</td>\n      <td>...</td>\n    </tr>\n    <tr>\n      <th rowspan=\"5\" valign=\"top\">444</th>\n      <th>242</th>\n      <td>0.0</td>\n      <td>0.952560</td>\n      <td>2.511681</td>\n      <td>0.899215</td>\n      <td>2.616912</td>\n      <td>1.150216</td>\n      <td>0.674771</td>\n      <td>0.804736</td>\n      <td>0.797980</td>\n      <td>0.836487</td>\n      <td>...</td>\n      <td>1.489074</td>\n      <td>1.951522</td>\n      <td>1.318421</td>\n      <td>0.960552</td>\n      <td>1.177219</td>\n      <td>0.836330</td>\n      <td>1.184410</td>\n      <td>0.849898</td>\n      <td>0.951530</td>\n      <td>1.018249</td>\n    </tr>\n    <tr>\n      <th>243</th>\n      <td>0.0</td>\n      <td>0.888121</td>\n      <td>0.780973</td>\n      <td>0.772871</td>\n      <td>0.718171</td>\n      <td>0.822518</td>\n      <td>0.779895</td>\n      <td>0.784185</td>\n      <td>0.843954</td>\n      <td>0.843327</td>\n      <td>...</td>\n      <td>0.963516</td>\n      <td>1.062782</td>\n      <td>0.719849</td>\n      <td>0.939175</td>\n      <td>0.949503</td>\n      <td>0.844645</td>\n      <td>0.999449</td>\n      <td>0.838120</td>\n      <td>1.003479</td>\n      <td>1.053536</td>\n    </tr>\n    <tr>\n      <th>244</th>\n      <td>0.0</td>\n      <td>0.514005</td>\n      <td>0.573902</td>\n      <td>0.520572</td>\n      <td>0.526588</td>\n      <td>0.546783</td>\n      <td>0.530654</td>\n      <td>0.552278</td>\n      <td>0.673362</td>\n      <td>0.531548</td>\n      <td>...</td>\n      <td>0.573374</td>\n      <td>0.681835</td>\n      <td>0.678342</td>\n      <td>0.662469</td>\n      <td>0.613124</td>\n      <td>0.594671</td>\n      <td>0.676165</td>\n      <td>0.609238</td>\n      <td>0.609334</td>\n      <td>0.627836</td>\n    </tr>\n    <tr>\n      <th>245</th>\n      <td>0.0</td>\n      <td>3.458892</td>\n      <td>5.573108</td>\n      <td>9.200547</td>\n      <td>5.286830</td>\n      <td>6.728735</td>\n      <td>7.581571</td>\n      <td>5.567369</td>\n      <td>6.420694</td>\n      <td>5.976310</td>\n      <td>...</td>\n      <td>4.409314</td>\n      <td>4.210153</td>\n      <td>3.821799</td>\n      <td>5.964530</td>\n      <td>5.077895</td>\n      <td>4.411976</td>\n      <td>5.496883</td>\n      <td>5.285884</td>\n      <td>3.480923</td>\n      <td>2.899676</td>\n    </tr>\n    <tr>\n      <th>246</th>\n      <td>14.0</td>\n      <td>6.743328</td>\n      <td>8.704333</td>\n      <td>4.956068</td>\n      <td>8.057429</td>\n      <td>7.786879</td>\n      <td>5.698065</td>\n      <td>10.741589</td>\n      <td>5.404877</td>\n      <td>3.818746</td>\n      <td>...</td>\n      <td>7.737101</td>\n      <td>8.889780</td>\n      <td>8.268359</td>\n      <td>6.366716</td>\n      <td>5.391199</td>\n      <td>8.824881</td>\n      <td>5.879320</td>\n      <td>8.697441</td>\n      <td>7.644091</td>\n      <td>8.788382</td>\n    </tr>\n  </tbody>\n</table>\n<p>9168 rows × 37 columns</p>\n</div>"
     },
     "execution_count": 12,
     "metadata": {},
     "output_type": "execute_result"
    }
   ],
   "source": [
    "df = pd.DataFrame.forecasts.read_store(run=run_id, name=name).replace([np.inf, -np.inf], 0)[stepcols]\n",
    "df"
   ],
   "metadata": {
    "collapsed": false,
    "ExecuteTime": {
     "end_time": "2023-12-12T11:03:29.206403Z",
     "start_time": "2023-12-12T11:03:26.028184Z"
    }
   },
   "id": "a37a789c560bc713"
  },
  {
   "cell_type": "code",
   "execution_count": 9,
   "outputs": [
    {
     "data": {
      "text/plain": "                     ged_sb_dep  step_pred_1  step_pred_2  step_pred_3  \\\nmonth_id country_id                                                      \n397      1                  0.0     0.613933     0.616953     0.615754   \n         2                  0.0     0.628708     0.627454     0.626578   \n         3                  0.0     0.620750     0.618255     0.618701   \n         4                  0.0     0.623216     0.613123     0.613084   \n         5                  0.0     0.628965     0.627593     0.626561   \n...                         ...          ...          ...          ...   \n444      242                0.0     0.627109     0.635177     0.629947   \n         243                0.0     0.646165     0.636574     0.633543   \n         244                0.0     0.614472     0.614351     0.612793   \n         245                0.0     0.694161     0.798478     0.900139   \n         246               14.0     0.887280     0.842067     0.759033   \n\n                     step_pred_4  step_pred_5  step_pred_6  step_pred_7  \\\nmonth_id country_id                                                       \n397      1              0.614390     0.616320     0.616750     0.614932   \n         2              0.623116     0.627264     0.625510     0.623309   \n         3              0.618201     0.619136     0.617050     0.617961   \n         4              0.613172     0.614843     0.615930     0.614272   \n         5              0.623811     0.628646     0.624390     0.624241   \n...                          ...          ...          ...          ...   \n444      242            0.625829     0.630717     0.627193     0.628726   \n         243            0.626536     0.643574     0.631771     0.638303   \n         244            0.612464     0.612587     0.613666     0.612700   \n         245            0.834527     0.846576     0.877188     0.880774   \n         246            0.913548     0.898830     0.806334     0.801293   \n\n                     step_pred_8  step_pred_9  ...  step_pred_27  \\\nmonth_id country_id                            ...                 \n397      1              0.620469     0.617564  ...      0.617548   \n         2              0.636764     0.630672  ...      0.621717   \n         3              0.624933     0.621965  ...      0.616367   \n         4              0.615191     0.614701  ...      0.624097   \n         5              0.636951     0.631354  ...      0.622985   \n...                          ...          ...  ...           ...   \n444      242            0.621645     0.630045  ...      0.640423   \n         243            0.638083     0.628973  ...      0.641926   \n         244            0.614742     0.613690  ...      0.620062   \n         245            0.885611     0.882882  ...      0.781598   \n         246            0.829002     0.765058  ...      0.868647   \n\n                     step_pred_28  step_pred_29  step_pred_30  step_pred_31  \\\nmonth_id country_id                                                           \n397      1               0.616562      0.615784      0.617495      0.619100   \n         2               0.615270      0.616696      0.617528      0.622300   \n         3               0.612105      0.616021      0.612847      0.615287   \n         4               0.625719      0.633003      0.623588      0.631281   \n         5               0.615514      0.616201      0.617878      0.622994   \n...                           ...           ...           ...           ...   \n444      242             0.655568      0.629049      0.635070      0.639029   \n         243             0.659257      0.626271      0.643949      0.646233   \n         244             0.620757      0.621573      0.620810      0.616627   \n         245             0.763405      0.765723      0.832082      0.844601   \n         246             0.854042      0.821235      0.806700      0.776165   \n\n                     step_pred_32  step_pred_33  step_pred_34  step_pred_35  \\\nmonth_id country_id                                                           \n397      1               0.617310      0.613890      0.617663      0.614962   \n         2               0.619750      0.613505      0.619197      0.620475   \n         3               0.614563      0.611961      0.614759      0.615695   \n         4               0.633249      0.636581      0.634476      0.641765   \n         5               0.619938      0.613623      0.619270      0.621060   \n...                           ...           ...           ...           ...   \n444      242             0.633139      0.637537      0.638622      0.649304   \n         243             0.638871      0.646016      0.635770      0.646017   \n         244             0.620747      0.615645      0.619771      0.616820   \n         245             0.834185      0.850778      0.833401      0.790267   \n         246             0.855380      0.824179      0.850644      0.860339   \n\n                     step_pred_36  \nmonth_id country_id                \n397      1               0.620047  \n         2               0.622134  \n         3               0.617963  \n         4               0.637501  \n         5               0.622389  \n...                           ...  \n444      242             0.653889  \n         243             0.653868  \n         244             0.616574  \n         245             0.765193  \n         246             0.822973  \n\n[9168 rows x 37 columns]",
      "text/html": "<div>\n<style scoped>\n    .dataframe tbody tr th:only-of-type {\n        vertical-align: middle;\n    }\n\n    .dataframe tbody tr th {\n        vertical-align: top;\n    }\n\n    .dataframe thead th {\n        text-align: right;\n    }\n</style>\n<table border=\"1\" class=\"dataframe\">\n  <thead>\n    <tr style=\"text-align: right;\">\n      <th></th>\n      <th></th>\n      <th>ged_sb_dep</th>\n      <th>step_pred_1</th>\n      <th>step_pred_2</th>\n      <th>step_pred_3</th>\n      <th>step_pred_4</th>\n      <th>step_pred_5</th>\n      <th>step_pred_6</th>\n      <th>step_pred_7</th>\n      <th>step_pred_8</th>\n      <th>step_pred_9</th>\n      <th>...</th>\n      <th>step_pred_27</th>\n      <th>step_pred_28</th>\n      <th>step_pred_29</th>\n      <th>step_pred_30</th>\n      <th>step_pred_31</th>\n      <th>step_pred_32</th>\n      <th>step_pred_33</th>\n      <th>step_pred_34</th>\n      <th>step_pred_35</th>\n      <th>step_pred_36</th>\n    </tr>\n    <tr>\n      <th>month_id</th>\n      <th>country_id</th>\n      <th></th>\n      <th></th>\n      <th></th>\n      <th></th>\n      <th></th>\n      <th></th>\n      <th></th>\n      <th></th>\n      <th></th>\n      <th></th>\n      <th></th>\n      <th></th>\n      <th></th>\n      <th></th>\n      <th></th>\n      <th></th>\n      <th></th>\n      <th></th>\n      <th></th>\n      <th></th>\n      <th></th>\n    </tr>\n  </thead>\n  <tbody>\n    <tr>\n      <th rowspan=\"5\" valign=\"top\">397</th>\n      <th>1</th>\n      <td>0.0</td>\n      <td>0.613933</td>\n      <td>0.616953</td>\n      <td>0.615754</td>\n      <td>0.614390</td>\n      <td>0.616320</td>\n      <td>0.616750</td>\n      <td>0.614932</td>\n      <td>0.620469</td>\n      <td>0.617564</td>\n      <td>...</td>\n      <td>0.617548</td>\n      <td>0.616562</td>\n      <td>0.615784</td>\n      <td>0.617495</td>\n      <td>0.619100</td>\n      <td>0.617310</td>\n      <td>0.613890</td>\n      <td>0.617663</td>\n      <td>0.614962</td>\n      <td>0.620047</td>\n    </tr>\n    <tr>\n      <th>2</th>\n      <td>0.0</td>\n      <td>0.628708</td>\n      <td>0.627454</td>\n      <td>0.626578</td>\n      <td>0.623116</td>\n      <td>0.627264</td>\n      <td>0.625510</td>\n      <td>0.623309</td>\n      <td>0.636764</td>\n      <td>0.630672</td>\n      <td>...</td>\n      <td>0.621717</td>\n      <td>0.615270</td>\n      <td>0.616696</td>\n      <td>0.617528</td>\n      <td>0.622300</td>\n      <td>0.619750</td>\n      <td>0.613505</td>\n      <td>0.619197</td>\n      <td>0.620475</td>\n      <td>0.622134</td>\n    </tr>\n    <tr>\n      <th>3</th>\n      <td>0.0</td>\n      <td>0.620750</td>\n      <td>0.618255</td>\n      <td>0.618701</td>\n      <td>0.618201</td>\n      <td>0.619136</td>\n      <td>0.617050</td>\n      <td>0.617961</td>\n      <td>0.624933</td>\n      <td>0.621965</td>\n      <td>...</td>\n      <td>0.616367</td>\n      <td>0.612105</td>\n      <td>0.616021</td>\n      <td>0.612847</td>\n      <td>0.615287</td>\n      <td>0.614563</td>\n      <td>0.611961</td>\n      <td>0.614759</td>\n      <td>0.615695</td>\n      <td>0.617963</td>\n    </tr>\n    <tr>\n      <th>4</th>\n      <td>0.0</td>\n      <td>0.623216</td>\n      <td>0.613123</td>\n      <td>0.613084</td>\n      <td>0.613172</td>\n      <td>0.614843</td>\n      <td>0.615930</td>\n      <td>0.614272</td>\n      <td>0.615191</td>\n      <td>0.614701</td>\n      <td>...</td>\n      <td>0.624097</td>\n      <td>0.625719</td>\n      <td>0.633003</td>\n      <td>0.623588</td>\n      <td>0.631281</td>\n      <td>0.633249</td>\n      <td>0.636581</td>\n      <td>0.634476</td>\n      <td>0.641765</td>\n      <td>0.637501</td>\n    </tr>\n    <tr>\n      <th>5</th>\n      <td>0.0</td>\n      <td>0.628965</td>\n      <td>0.627593</td>\n      <td>0.626561</td>\n      <td>0.623811</td>\n      <td>0.628646</td>\n      <td>0.624390</td>\n      <td>0.624241</td>\n      <td>0.636951</td>\n      <td>0.631354</td>\n      <td>...</td>\n      <td>0.622985</td>\n      <td>0.615514</td>\n      <td>0.616201</td>\n      <td>0.617878</td>\n      <td>0.622994</td>\n      <td>0.619938</td>\n      <td>0.613623</td>\n      <td>0.619270</td>\n      <td>0.621060</td>\n      <td>0.622389</td>\n    </tr>\n    <tr>\n      <th>...</th>\n      <th>...</th>\n      <td>...</td>\n      <td>...</td>\n      <td>...</td>\n      <td>...</td>\n      <td>...</td>\n      <td>...</td>\n      <td>...</td>\n      <td>...</td>\n      <td>...</td>\n      <td>...</td>\n      <td>...</td>\n      <td>...</td>\n      <td>...</td>\n      <td>...</td>\n      <td>...</td>\n      <td>...</td>\n      <td>...</td>\n      <td>...</td>\n      <td>...</td>\n      <td>...</td>\n      <td>...</td>\n    </tr>\n    <tr>\n      <th rowspan=\"5\" valign=\"top\">444</th>\n      <th>242</th>\n      <td>0.0</td>\n      <td>0.627109</td>\n      <td>0.635177</td>\n      <td>0.629947</td>\n      <td>0.625829</td>\n      <td>0.630717</td>\n      <td>0.627193</td>\n      <td>0.628726</td>\n      <td>0.621645</td>\n      <td>0.630045</td>\n      <td>...</td>\n      <td>0.640423</td>\n      <td>0.655568</td>\n      <td>0.629049</td>\n      <td>0.635070</td>\n      <td>0.639029</td>\n      <td>0.633139</td>\n      <td>0.637537</td>\n      <td>0.638622</td>\n      <td>0.649304</td>\n      <td>0.653889</td>\n    </tr>\n    <tr>\n      <th>243</th>\n      <td>0.0</td>\n      <td>0.646165</td>\n      <td>0.636574</td>\n      <td>0.633543</td>\n      <td>0.626536</td>\n      <td>0.643574</td>\n      <td>0.631771</td>\n      <td>0.638303</td>\n      <td>0.638083</td>\n      <td>0.628973</td>\n      <td>...</td>\n      <td>0.641926</td>\n      <td>0.659257</td>\n      <td>0.626271</td>\n      <td>0.643949</td>\n      <td>0.646233</td>\n      <td>0.638871</td>\n      <td>0.646016</td>\n      <td>0.635770</td>\n      <td>0.646017</td>\n      <td>0.653868</td>\n    </tr>\n    <tr>\n      <th>244</th>\n      <td>0.0</td>\n      <td>0.614472</td>\n      <td>0.614351</td>\n      <td>0.612793</td>\n      <td>0.612464</td>\n      <td>0.612587</td>\n      <td>0.613666</td>\n      <td>0.612700</td>\n      <td>0.614742</td>\n      <td>0.613690</td>\n      <td>...</td>\n      <td>0.620062</td>\n      <td>0.620757</td>\n      <td>0.621573</td>\n      <td>0.620810</td>\n      <td>0.616627</td>\n      <td>0.620747</td>\n      <td>0.615645</td>\n      <td>0.619771</td>\n      <td>0.616820</td>\n      <td>0.616574</td>\n    </tr>\n    <tr>\n      <th>245</th>\n      <td>0.0</td>\n      <td>0.694161</td>\n      <td>0.798478</td>\n      <td>0.900139</td>\n      <td>0.834527</td>\n      <td>0.846576</td>\n      <td>0.877188</td>\n      <td>0.880774</td>\n      <td>0.885611</td>\n      <td>0.882882</td>\n      <td>...</td>\n      <td>0.781598</td>\n      <td>0.763405</td>\n      <td>0.765723</td>\n      <td>0.832082</td>\n      <td>0.844601</td>\n      <td>0.834185</td>\n      <td>0.850778</td>\n      <td>0.833401</td>\n      <td>0.790267</td>\n      <td>0.765193</td>\n    </tr>\n    <tr>\n      <th>246</th>\n      <td>14.0</td>\n      <td>0.887280</td>\n      <td>0.842067</td>\n      <td>0.759033</td>\n      <td>0.913548</td>\n      <td>0.898830</td>\n      <td>0.806334</td>\n      <td>0.801293</td>\n      <td>0.829002</td>\n      <td>0.765058</td>\n      <td>...</td>\n      <td>0.868647</td>\n      <td>0.854042</td>\n      <td>0.821235</td>\n      <td>0.806700</td>\n      <td>0.776165</td>\n      <td>0.855380</td>\n      <td>0.824179</td>\n      <td>0.850644</td>\n      <td>0.860339</td>\n      <td>0.822973</td>\n    </tr>\n  </tbody>\n</table>\n<p>9168 rows × 37 columns</p>\n</div>"
     },
     "execution_count": 9,
     "metadata": {},
     "output_type": "execute_result"
    }
   ],
   "source": [
    "df = np.exp(df) - 1\n",
    "df"
   ],
   "metadata": {
    "collapsed": false,
    "ExecuteTime": {
     "end_time": "2023-12-12T11:00:06.528273Z",
     "start_time": "2023-12-12T11:00:06.517542Z"
    }
   },
   "id": "21fe2cd3e6378778"
  },
  {
   "cell_type": "code",
   "execution_count": 13,
   "outputs": [
    {
     "data": {
      "text/plain": "         ged_sb_dep  step_pred_1  step_pred_2  step_pred_3  step_pred_4  \\\ncount   9168.000000  9168.000000  9168.000000  9168.000000  9168.000000   \nmean      43.984293     2.763453     2.719436     2.763168     1.894036   \nstd      478.269169     3.672684     3.542995     3.772312     2.644334   \nmin        0.000000     0.480216     0.480745     0.482173     0.490586   \n25%        0.000000     0.748876     0.772803     0.729018     0.711627   \n50%        0.000000     2.634222     2.419861     2.716885     1.371664   \n75%        0.000000     3.265092     3.173449     3.235476     1.622635   \nmax    19000.000000    46.281792    47.852463    49.803467    33.822624   \n\n       step_pred_5  step_pred_6  step_pred_7  step_pred_8  step_pred_9  ...  \\\ncount  9168.000000  9168.000000  9168.000000  9168.000000  9168.000000  ...   \nmean      1.928245     1.827149     1.621647     1.837690     1.649706  ...   \nstd       2.367929     2.027407     1.869207     2.093655     1.758595  ...   \nmin       0.491545     0.485932     0.496379     0.491325     0.493941  ...   \n25%       0.791510     0.739163     0.752162     0.738416     0.753256  ...   \n50%       1.396560     1.437981     1.095765     1.448651     1.228742  ...   \n75%       1.757818     1.741029     1.335304     1.620372     1.421709  ...   \nmax      28.254168    28.297398    17.863476    23.644480    18.066242  ...   \n\n       step_pred_27  step_pred_28  step_pred_29  step_pred_30  step_pred_31  \\\ncount   9168.000000   9168.000000   9168.000000   9168.000000   9168.000000   \nmean       1.242454      1.237369      1.164332      1.202674      1.216925   \nstd        1.432982      1.447862      1.432327      1.397935      1.329776   \nmin        0.000000      0.000000      0.000000      0.000000      0.000000   \n25%        0.650071      0.647873      0.608584      0.632843      0.649850   \n50%        0.745319      0.729310      0.657638      0.716428      0.750603   \n75%        0.967016      0.993814      0.858438      0.967920      0.985358   \nmax       20.867840     22.295361     28.512068     24.516321     16.908724   \n\n       step_pred_32  step_pred_33  step_pred_34  step_pred_35  step_pred_36  \ncount   9168.000000   9168.000000   9168.000000   9168.000000   9168.000000  \nmean       1.166410      1.115325      1.138484      1.148242      1.224143  \nstd        1.451369      1.308437      1.410775      1.367916      1.252939  \nmin        0.000000      0.000000      0.000000      0.000000      0.000000  \n25%        0.600785      0.527729      0.576196      0.598334      0.699598  \n50%        0.643519      0.587826      0.602538      0.630868      0.793501  \n75%        0.851137      0.967359      0.895460      0.911281      1.062088  \nmax       20.122360     16.604708     29.344843     22.985306     15.077058  \n\n[8 rows x 37 columns]",
      "text/html": "<div>\n<style scoped>\n    .dataframe tbody tr th:only-of-type {\n        vertical-align: middle;\n    }\n\n    .dataframe tbody tr th {\n        vertical-align: top;\n    }\n\n    .dataframe thead th {\n        text-align: right;\n    }\n</style>\n<table border=\"1\" class=\"dataframe\">\n  <thead>\n    <tr style=\"text-align: right;\">\n      <th></th>\n      <th>ged_sb_dep</th>\n      <th>step_pred_1</th>\n      <th>step_pred_2</th>\n      <th>step_pred_3</th>\n      <th>step_pred_4</th>\n      <th>step_pred_5</th>\n      <th>step_pred_6</th>\n      <th>step_pred_7</th>\n      <th>step_pred_8</th>\n      <th>step_pred_9</th>\n      <th>...</th>\n      <th>step_pred_27</th>\n      <th>step_pred_28</th>\n      <th>step_pred_29</th>\n      <th>step_pred_30</th>\n      <th>step_pred_31</th>\n      <th>step_pred_32</th>\n      <th>step_pred_33</th>\n      <th>step_pred_34</th>\n      <th>step_pred_35</th>\n      <th>step_pred_36</th>\n    </tr>\n  </thead>\n  <tbody>\n    <tr>\n      <th>count</th>\n      <td>9168.000000</td>\n      <td>9168.000000</td>\n      <td>9168.000000</td>\n      <td>9168.000000</td>\n      <td>9168.000000</td>\n      <td>9168.000000</td>\n      <td>9168.000000</td>\n      <td>9168.000000</td>\n      <td>9168.000000</td>\n      <td>9168.000000</td>\n      <td>...</td>\n      <td>9168.000000</td>\n      <td>9168.000000</td>\n      <td>9168.000000</td>\n      <td>9168.000000</td>\n      <td>9168.000000</td>\n      <td>9168.000000</td>\n      <td>9168.000000</td>\n      <td>9168.000000</td>\n      <td>9168.000000</td>\n      <td>9168.000000</td>\n    </tr>\n    <tr>\n      <th>mean</th>\n      <td>43.984293</td>\n      <td>2.763453</td>\n      <td>2.719436</td>\n      <td>2.763168</td>\n      <td>1.894036</td>\n      <td>1.928245</td>\n      <td>1.827149</td>\n      <td>1.621647</td>\n      <td>1.837690</td>\n      <td>1.649706</td>\n      <td>...</td>\n      <td>1.242454</td>\n      <td>1.237369</td>\n      <td>1.164332</td>\n      <td>1.202674</td>\n      <td>1.216925</td>\n      <td>1.166410</td>\n      <td>1.115325</td>\n      <td>1.138484</td>\n      <td>1.148242</td>\n      <td>1.224143</td>\n    </tr>\n    <tr>\n      <th>std</th>\n      <td>478.269169</td>\n      <td>3.672684</td>\n      <td>3.542995</td>\n      <td>3.772312</td>\n      <td>2.644334</td>\n      <td>2.367929</td>\n      <td>2.027407</td>\n      <td>1.869207</td>\n      <td>2.093655</td>\n      <td>1.758595</td>\n      <td>...</td>\n      <td>1.432982</td>\n      <td>1.447862</td>\n      <td>1.432327</td>\n      <td>1.397935</td>\n      <td>1.329776</td>\n      <td>1.451369</td>\n      <td>1.308437</td>\n      <td>1.410775</td>\n      <td>1.367916</td>\n      <td>1.252939</td>\n    </tr>\n    <tr>\n      <th>min</th>\n      <td>0.000000</td>\n      <td>0.480216</td>\n      <td>0.480745</td>\n      <td>0.482173</td>\n      <td>0.490586</td>\n      <td>0.491545</td>\n      <td>0.485932</td>\n      <td>0.496379</td>\n      <td>0.491325</td>\n      <td>0.493941</td>\n      <td>...</td>\n      <td>0.000000</td>\n      <td>0.000000</td>\n      <td>0.000000</td>\n      <td>0.000000</td>\n      <td>0.000000</td>\n      <td>0.000000</td>\n      <td>0.000000</td>\n      <td>0.000000</td>\n      <td>0.000000</td>\n      <td>0.000000</td>\n    </tr>\n    <tr>\n      <th>25%</th>\n      <td>0.000000</td>\n      <td>0.748876</td>\n      <td>0.772803</td>\n      <td>0.729018</td>\n      <td>0.711627</td>\n      <td>0.791510</td>\n      <td>0.739163</td>\n      <td>0.752162</td>\n      <td>0.738416</td>\n      <td>0.753256</td>\n      <td>...</td>\n      <td>0.650071</td>\n      <td>0.647873</td>\n      <td>0.608584</td>\n      <td>0.632843</td>\n      <td>0.649850</td>\n      <td>0.600785</td>\n      <td>0.527729</td>\n      <td>0.576196</td>\n      <td>0.598334</td>\n      <td>0.699598</td>\n    </tr>\n    <tr>\n      <th>50%</th>\n      <td>0.000000</td>\n      <td>2.634222</td>\n      <td>2.419861</td>\n      <td>2.716885</td>\n      <td>1.371664</td>\n      <td>1.396560</td>\n      <td>1.437981</td>\n      <td>1.095765</td>\n      <td>1.448651</td>\n      <td>1.228742</td>\n      <td>...</td>\n      <td>0.745319</td>\n      <td>0.729310</td>\n      <td>0.657638</td>\n      <td>0.716428</td>\n      <td>0.750603</td>\n      <td>0.643519</td>\n      <td>0.587826</td>\n      <td>0.602538</td>\n      <td>0.630868</td>\n      <td>0.793501</td>\n    </tr>\n    <tr>\n      <th>75%</th>\n      <td>0.000000</td>\n      <td>3.265092</td>\n      <td>3.173449</td>\n      <td>3.235476</td>\n      <td>1.622635</td>\n      <td>1.757818</td>\n      <td>1.741029</td>\n      <td>1.335304</td>\n      <td>1.620372</td>\n      <td>1.421709</td>\n      <td>...</td>\n      <td>0.967016</td>\n      <td>0.993814</td>\n      <td>0.858438</td>\n      <td>0.967920</td>\n      <td>0.985358</td>\n      <td>0.851137</td>\n      <td>0.967359</td>\n      <td>0.895460</td>\n      <td>0.911281</td>\n      <td>1.062088</td>\n    </tr>\n    <tr>\n      <th>max</th>\n      <td>19000.000000</td>\n      <td>46.281792</td>\n      <td>47.852463</td>\n      <td>49.803467</td>\n      <td>33.822624</td>\n      <td>28.254168</td>\n      <td>28.297398</td>\n      <td>17.863476</td>\n      <td>23.644480</td>\n      <td>18.066242</td>\n      <td>...</td>\n      <td>20.867840</td>\n      <td>22.295361</td>\n      <td>28.512068</td>\n      <td>24.516321</td>\n      <td>16.908724</td>\n      <td>20.122360</td>\n      <td>16.604708</td>\n      <td>29.344843</td>\n      <td>22.985306</td>\n      <td>15.077058</td>\n    </tr>\n  </tbody>\n</table>\n<p>8 rows × 37 columns</p>\n</div>"
     },
     "execution_count": 13,
     "metadata": {},
     "output_type": "execute_result"
    }
   ],
   "source": [
    "df.describe()"
   ],
   "metadata": {
    "collapsed": false,
    "ExecuteTime": {
     "end_time": "2023-12-12T11:03:33.874262Z",
     "start_time": "2023-12-12T11:03:33.827616Z"
    }
   },
   "id": "6e9378d119c62c2e"
  },
  {
   "cell_type": "code",
   "execution_count": 64,
   "outputs": [],
   "source": [],
   "metadata": {
    "collapsed": false,
    "ExecuteTime": {
     "end_time": "2023-12-11T13:49:43.956794Z",
     "start_time": "2023-12-11T13:49:43.947908Z"
    }
   },
   "id": "1d03c7d561984dfe"
  },
  {
   "cell_type": "code",
   "execution_count": 125,
   "outputs": [],
   "source": [],
   "metadata": {
    "collapsed": false,
    "ExecuteTime": {
     "end_time": "2023-12-11T14:27:30.127907Z",
     "start_time": "2023-12-11T14:27:30.117871Z"
    }
   },
   "id": "445d010c8d28ae73"
  },
  {
   "cell_type": "code",
   "execution_count": 103,
   "outputs": [],
   "source": [
    "stepcols = ['ged_sb_dep']\n",
    "steps = [*range(1, 36 + 1, 1)]\n",
    "for step in steps:\n",
    "    stepcols.append('step_pred_' + str(step))\n",
    "run_id = 'Fatalities003'\n",
    "name = 'cm_fatalities003_nl_topics_rf_calib_transform_raw_n_estimators_250_n_jobs_12_learning_rate_0.05_max_depth_12_min_child_weight_12_subsample_0.5_colsample_bytree_0.5'"
   ],
   "metadata": {
    "collapsed": false,
    "ExecuteTime": {
     "end_time": "2023-12-11T14:03:14.983971Z",
     "start_time": "2023-12-11T14:03:14.974332Z"
    }
   },
   "id": "e8971c89dfcd233d"
  },
  {
   "cell_type": "code",
   "execution_count": 112,
   "outputs": [
    {
     "name": "stdout",
     "output_type": "stream",
     "text": [
      "pr_56_cm_fatalities003_nl_topics_rf_calib_transform_raw_n_estimators_250_n_jobs_12_learning_rate_0.05_max_depth_12_min_child_weight_12_subsample_0.5_colsample_bytree_0.5.parquet\n"
     ]
    }
   ],
   "source": [
    "df = pd.DataFrame.forecasts.read_store(run=run_id, name=name).replace([np.inf, -np.inf], 0)[stepcols]"
   ],
   "metadata": {
    "collapsed": false,
    "ExecuteTime": {
     "end_time": "2023-12-11T14:22:15.548327Z",
     "start_time": "2023-12-11T14:22:11.600288Z"
    }
   },
   "id": "7aa55be484747bbe"
  },
  {
   "cell_type": "code",
   "execution_count": 113,
   "outputs": [
    {
     "data": {
      "text/plain": "                     ged_sb_dep  step_pred_1  step_pred_2  step_pred_3  \\\nmonth_id country_id                                                      \n397      1                  0.0     1.888033     1.536575     2.049761   \n         2                  0.0     3.313491     2.442976     3.095902   \n         3                  0.0     1.746300     1.800268     1.744825   \n         4                  0.0     0.487359     0.500316     0.511034   \n         5                  0.0     3.312054     2.441470     3.093398   \n...                         ...          ...          ...          ...   \n444      242                0.0     4.505231     5.732021     4.511056   \n         243                0.0     0.564945     0.647136     0.593240   \n         244                0.0     0.670239     1.084977     0.824759   \n         245                0.0     5.004318     6.232212     8.742626   \n         246               14.0     9.258842     6.313660     5.660348   \n\n                     step_pred_4  step_pred_5  step_pred_6  step_pred_7  \\\nmonth_id country_id                                                       \n397      1              1.194238     1.080280     1.230281     1.012267   \n         2              1.791524     1.584468     1.561841     1.353563   \n         3              1.028135     1.015283     1.214884     0.834816   \n         4              0.510376     0.575729     0.510639     0.576125   \n         5              1.789339     1.576807     1.559876     1.353323   \n...                          ...          ...          ...          ...   \n444      242           11.456407     1.927837     1.705806     2.175097   \n         243            0.794530     0.965720     0.944105     0.807292   \n         244            0.710583     1.426395     1.099138     1.305220   \n         245            7.999347     5.930683     6.081397     5.129094   \n         246            9.425748     6.468810     4.595462     5.049151   \n\n                     step_pred_8  step_pred_9  ...  step_pred_27  \\\nmonth_id country_id                            ...                 \n397      1              0.979016     1.124231  ...      0.605951   \n         2              1.191040     1.440145  ...      0.726233   \n         3              0.719306     0.796419  ...      1.161782   \n         4              0.510816     0.504026  ...      0.665250   \n         5              1.190878     1.439366  ...      0.723306   \n...                          ...          ...  ...           ...   \n444      242            7.634606     8.995864  ...      9.225223   \n         243            1.222221     1.019295  ...      1.075368   \n         244            1.311780     0.932088  ...      2.428319   \n         245            5.645001     6.278614  ...      3.930102   \n         246            5.514345     3.922381  ...      4.013035   \n\n                     step_pred_28  step_pred_29  step_pred_30  step_pred_31  \\\nmonth_id country_id                                                           \n397      1               0.616939      0.591293      0.696502      0.823638   \n         2               0.770196      0.647228      0.721609      0.706091   \n         3               1.024357      0.661682      0.779543      0.571230   \n         4               0.683974      0.645012      0.484309      1.083846   \n         5               0.757622      0.646705      0.720935      0.699926   \n...                           ...           ...           ...           ...   \n444      242             3.546402      3.188511      5.113416      3.803534   \n         243             1.527027      0.485269      0.516639      0.520443   \n         244             3.952767      0.813094      1.311723      0.843666   \n         245             2.930245      3.637518      4.189796      4.103630   \n         246             4.528634      4.591595      4.488104      4.181655   \n\n                     step_pred_32  step_pred_33  step_pred_34  step_pred_35  \\\nmonth_id country_id                                                           \n397      1               0.557715      0.525643      0.541731      0.555350   \n         2               0.572721      0.510407      0.583434      0.579779   \n         3               0.505648      0.748100      0.514143      0.524082   \n         4               1.449021      1.139949      0.482186      0.479546   \n         5               0.572176      0.510458      0.581869      0.579295   \n...                           ...           ...           ...           ...   \n444      242             3.561557      3.248026      2.929720      2.788255   \n         243             0.820115      0.501266      0.590600      0.635062   \n         244             1.109788      2.646547      1.136765      1.150167   \n         245             3.408108      2.996001      3.379579      2.662481   \n         246             4.353747      4.082720      4.914077      3.916251   \n\n                     step_pred_36  \nmonth_id country_id                \n397      1               0.671805  \n         2               0.788106  \n         3               0.612821  \n         4               0.479713  \n         5               0.787506  \n...                           ...  \n444      242             3.098599  \n         243             1.199985  \n         244             1.101795  \n         245             2.405901  \n         246             4.367278  \n\n[9168 rows x 37 columns]",
      "text/html": "<div>\n<style scoped>\n    .dataframe tbody tr th:only-of-type {\n        vertical-align: middle;\n    }\n\n    .dataframe tbody tr th {\n        vertical-align: top;\n    }\n\n    .dataframe thead th {\n        text-align: right;\n    }\n</style>\n<table border=\"1\" class=\"dataframe\">\n  <thead>\n    <tr style=\"text-align: right;\">\n      <th></th>\n      <th></th>\n      <th>ged_sb_dep</th>\n      <th>step_pred_1</th>\n      <th>step_pred_2</th>\n      <th>step_pred_3</th>\n      <th>step_pred_4</th>\n      <th>step_pred_5</th>\n      <th>step_pred_6</th>\n      <th>step_pred_7</th>\n      <th>step_pred_8</th>\n      <th>step_pred_9</th>\n      <th>...</th>\n      <th>step_pred_27</th>\n      <th>step_pred_28</th>\n      <th>step_pred_29</th>\n      <th>step_pred_30</th>\n      <th>step_pred_31</th>\n      <th>step_pred_32</th>\n      <th>step_pred_33</th>\n      <th>step_pred_34</th>\n      <th>step_pred_35</th>\n      <th>step_pred_36</th>\n    </tr>\n    <tr>\n      <th>month_id</th>\n      <th>country_id</th>\n      <th></th>\n      <th></th>\n      <th></th>\n      <th></th>\n      <th></th>\n      <th></th>\n      <th></th>\n      <th></th>\n      <th></th>\n      <th></th>\n      <th></th>\n      <th></th>\n      <th></th>\n      <th></th>\n      <th></th>\n      <th></th>\n      <th></th>\n      <th></th>\n      <th></th>\n      <th></th>\n      <th></th>\n    </tr>\n  </thead>\n  <tbody>\n    <tr>\n      <th rowspan=\"5\" valign=\"top\">397</th>\n      <th>1</th>\n      <td>0.0</td>\n      <td>1.888033</td>\n      <td>1.536575</td>\n      <td>2.049761</td>\n      <td>1.194238</td>\n      <td>1.080280</td>\n      <td>1.230281</td>\n      <td>1.012267</td>\n      <td>0.979016</td>\n      <td>1.124231</td>\n      <td>...</td>\n      <td>0.605951</td>\n      <td>0.616939</td>\n      <td>0.591293</td>\n      <td>0.696502</td>\n      <td>0.823638</td>\n      <td>0.557715</td>\n      <td>0.525643</td>\n      <td>0.541731</td>\n      <td>0.555350</td>\n      <td>0.671805</td>\n    </tr>\n    <tr>\n      <th>2</th>\n      <td>0.0</td>\n      <td>3.313491</td>\n      <td>2.442976</td>\n      <td>3.095902</td>\n      <td>1.791524</td>\n      <td>1.584468</td>\n      <td>1.561841</td>\n      <td>1.353563</td>\n      <td>1.191040</td>\n      <td>1.440145</td>\n      <td>...</td>\n      <td>0.726233</td>\n      <td>0.770196</td>\n      <td>0.647228</td>\n      <td>0.721609</td>\n      <td>0.706091</td>\n      <td>0.572721</td>\n      <td>0.510407</td>\n      <td>0.583434</td>\n      <td>0.579779</td>\n      <td>0.788106</td>\n    </tr>\n    <tr>\n      <th>3</th>\n      <td>0.0</td>\n      <td>1.746300</td>\n      <td>1.800268</td>\n      <td>1.744825</td>\n      <td>1.028135</td>\n      <td>1.015283</td>\n      <td>1.214884</td>\n      <td>0.834816</td>\n      <td>0.719306</td>\n      <td>0.796419</td>\n      <td>...</td>\n      <td>1.161782</td>\n      <td>1.024357</td>\n      <td>0.661682</td>\n      <td>0.779543</td>\n      <td>0.571230</td>\n      <td>0.505648</td>\n      <td>0.748100</td>\n      <td>0.514143</td>\n      <td>0.524082</td>\n      <td>0.612821</td>\n    </tr>\n    <tr>\n      <th>4</th>\n      <td>0.0</td>\n      <td>0.487359</td>\n      <td>0.500316</td>\n      <td>0.511034</td>\n      <td>0.510376</td>\n      <td>0.575729</td>\n      <td>0.510639</td>\n      <td>0.576125</td>\n      <td>0.510816</td>\n      <td>0.504026</td>\n      <td>...</td>\n      <td>0.665250</td>\n      <td>0.683974</td>\n      <td>0.645012</td>\n      <td>0.484309</td>\n      <td>1.083846</td>\n      <td>1.449021</td>\n      <td>1.139949</td>\n      <td>0.482186</td>\n      <td>0.479546</td>\n      <td>0.479713</td>\n    </tr>\n    <tr>\n      <th>5</th>\n      <td>0.0</td>\n      <td>3.312054</td>\n      <td>2.441470</td>\n      <td>3.093398</td>\n      <td>1.789339</td>\n      <td>1.576807</td>\n      <td>1.559876</td>\n      <td>1.353323</td>\n      <td>1.190878</td>\n      <td>1.439366</td>\n      <td>...</td>\n      <td>0.723306</td>\n      <td>0.757622</td>\n      <td>0.646705</td>\n      <td>0.720935</td>\n      <td>0.699926</td>\n      <td>0.572176</td>\n      <td>0.510458</td>\n      <td>0.581869</td>\n      <td>0.579295</td>\n      <td>0.787506</td>\n    </tr>\n    <tr>\n      <th>...</th>\n      <th>...</th>\n      <td>...</td>\n      <td>...</td>\n      <td>...</td>\n      <td>...</td>\n      <td>...</td>\n      <td>...</td>\n      <td>...</td>\n      <td>...</td>\n      <td>...</td>\n      <td>...</td>\n      <td>...</td>\n      <td>...</td>\n      <td>...</td>\n      <td>...</td>\n      <td>...</td>\n      <td>...</td>\n      <td>...</td>\n      <td>...</td>\n      <td>...</td>\n      <td>...</td>\n      <td>...</td>\n    </tr>\n    <tr>\n      <th rowspan=\"5\" valign=\"top\">444</th>\n      <th>242</th>\n      <td>0.0</td>\n      <td>4.505231</td>\n      <td>5.732021</td>\n      <td>4.511056</td>\n      <td>11.456407</td>\n      <td>1.927837</td>\n      <td>1.705806</td>\n      <td>2.175097</td>\n      <td>7.634606</td>\n      <td>8.995864</td>\n      <td>...</td>\n      <td>9.225223</td>\n      <td>3.546402</td>\n      <td>3.188511</td>\n      <td>5.113416</td>\n      <td>3.803534</td>\n      <td>3.561557</td>\n      <td>3.248026</td>\n      <td>2.929720</td>\n      <td>2.788255</td>\n      <td>3.098599</td>\n    </tr>\n    <tr>\n      <th>243</th>\n      <td>0.0</td>\n      <td>0.564945</td>\n      <td>0.647136</td>\n      <td>0.593240</td>\n      <td>0.794530</td>\n      <td>0.965720</td>\n      <td>0.944105</td>\n      <td>0.807292</td>\n      <td>1.222221</td>\n      <td>1.019295</td>\n      <td>...</td>\n      <td>1.075368</td>\n      <td>1.527027</td>\n      <td>0.485269</td>\n      <td>0.516639</td>\n      <td>0.520443</td>\n      <td>0.820115</td>\n      <td>0.501266</td>\n      <td>0.590600</td>\n      <td>0.635062</td>\n      <td>1.199985</td>\n    </tr>\n    <tr>\n      <th>244</th>\n      <td>0.0</td>\n      <td>0.670239</td>\n      <td>1.084977</td>\n      <td>0.824759</td>\n      <td>0.710583</td>\n      <td>1.426395</td>\n      <td>1.099138</td>\n      <td>1.305220</td>\n      <td>1.311780</td>\n      <td>0.932088</td>\n      <td>...</td>\n      <td>2.428319</td>\n      <td>3.952767</td>\n      <td>0.813094</td>\n      <td>1.311723</td>\n      <td>0.843666</td>\n      <td>1.109788</td>\n      <td>2.646547</td>\n      <td>1.136765</td>\n      <td>1.150167</td>\n      <td>1.101795</td>\n    </tr>\n    <tr>\n      <th>245</th>\n      <td>0.0</td>\n      <td>5.004318</td>\n      <td>6.232212</td>\n      <td>8.742626</td>\n      <td>7.999347</td>\n      <td>5.930683</td>\n      <td>6.081397</td>\n      <td>5.129094</td>\n      <td>5.645001</td>\n      <td>6.278614</td>\n      <td>...</td>\n      <td>3.930102</td>\n      <td>2.930245</td>\n      <td>3.637518</td>\n      <td>4.189796</td>\n      <td>4.103630</td>\n      <td>3.408108</td>\n      <td>2.996001</td>\n      <td>3.379579</td>\n      <td>2.662481</td>\n      <td>2.405901</td>\n    </tr>\n    <tr>\n      <th>246</th>\n      <td>14.0</td>\n      <td>9.258842</td>\n      <td>6.313660</td>\n      <td>5.660348</td>\n      <td>9.425748</td>\n      <td>6.468810</td>\n      <td>4.595462</td>\n      <td>5.049151</td>\n      <td>5.514345</td>\n      <td>3.922381</td>\n      <td>...</td>\n      <td>4.013035</td>\n      <td>4.528634</td>\n      <td>4.591595</td>\n      <td>4.488104</td>\n      <td>4.181655</td>\n      <td>4.353747</td>\n      <td>4.082720</td>\n      <td>4.914077</td>\n      <td>3.916251</td>\n      <td>4.367278</td>\n    </tr>\n  </tbody>\n</table>\n<p>9168 rows × 37 columns</p>\n</div>"
     },
     "execution_count": 113,
     "metadata": {},
     "output_type": "execute_result"
    }
   ],
   "source": [
    "df"
   ],
   "metadata": {
    "collapsed": false,
    "ExecuteTime": {
     "end_time": "2023-12-11T14:22:15.559487Z",
     "start_time": "2023-12-11T14:22:15.549264Z"
    }
   },
   "id": "8dba7577f52de4ef"
  },
  {
   "cell_type": "code",
   "execution_count": 114,
   "outputs": [
    {
     "data": {
      "text/plain": "         ged_sb_dep  step_pred_1  step_pred_2  step_pred_3  step_pred_4  \\\ncount   9168.000000  9168.000000  9168.000000  9168.000000  9168.000000   \nmean      43.984293     3.064313     2.938524     3.024721     2.463671   \nstd      478.269169     4.013247     3.939282     3.012343     2.652986   \nmin        0.000000     0.476367     0.476422     0.476632     0.476452   \n25%        0.000000     1.141073     1.428083     1.226387     1.061084   \n50%        0.000000     2.967103     2.444391     3.093398     1.789339   \n75%        0.000000     3.312054     2.837250     3.346230     2.211347   \nmax    19000.000000    57.567913    58.776665    34.229748    25.622738   \n\n       step_pred_5  step_pred_6  step_pred_7  step_pred_8  step_pred_9  ...  \\\ncount  9168.000000  9168.000000  9168.000000  9168.000000  9168.000000  ...   \nmean      2.344805     2.241646     2.080354     2.044865     2.113336  ...   \nstd       2.608635     2.326226     2.094101     2.217072     2.182770  ...   \nmin       0.476629     0.476453     0.476443     0.476490     0.476624  ...   \n25%       1.030640     1.074640     0.995747     0.931747     0.949853  ...   \n50%       1.576807     1.629165     1.357512     1.201662     1.439366  ...   \n75%       2.121895     2.075090     1.941592     2.056416     2.010623  ...   \nmax      30.410690    36.324074    19.378551    22.624584    20.225647  ...   \n\n       step_pred_27  step_pred_28  step_pred_29  step_pred_30  step_pred_31  \\\ncount   9168.000000   9168.000000   9168.000000   9168.000000   9168.000000   \nmean       1.541634      1.638868      1.574594      1.621234      1.630235   \nstd        1.607832      1.771869      1.728240      1.659796      1.791969   \nmin        0.000000      0.000000      0.000000      0.000000      0.000000   \n25%        0.719530      0.752138      0.645578      0.720144      0.699926   \n50%        0.785038      0.801496      0.758299      0.817740      0.767103   \n75%        1.746570      1.930422      1.836017      1.928235      1.854694   \nmax       19.464668     20.670267     17.030479     17.005161     19.832689   \n\n       step_pred_32  step_pred_33  step_pred_34  step_pred_35  step_pred_36  \ncount   9168.000000   9168.000000   9168.000000   9168.000000   9168.000000  \nmean       1.545550      1.448616      1.550858      1.503650      1.700572  \nstd        1.802667      1.751915      1.778156      1.798335      2.024134  \nmin        0.000000      0.000000      0.000000      0.000000      0.000000  \n25%        0.572176      0.512930      0.581869      0.579295      0.768986  \n50%        0.699220      0.666647      0.680501      0.691359      0.833531  \n75%        1.792060      1.655463      1.842366      1.660575      1.698188  \nmax       28.565922     27.920639     24.754251     28.713552     22.110678  \n\n[8 rows x 37 columns]",
      "text/html": "<div>\n<style scoped>\n    .dataframe tbody tr th:only-of-type {\n        vertical-align: middle;\n    }\n\n    .dataframe tbody tr th {\n        vertical-align: top;\n    }\n\n    .dataframe thead th {\n        text-align: right;\n    }\n</style>\n<table border=\"1\" class=\"dataframe\">\n  <thead>\n    <tr style=\"text-align: right;\">\n      <th></th>\n      <th>ged_sb_dep</th>\n      <th>step_pred_1</th>\n      <th>step_pred_2</th>\n      <th>step_pred_3</th>\n      <th>step_pred_4</th>\n      <th>step_pred_5</th>\n      <th>step_pred_6</th>\n      <th>step_pred_7</th>\n      <th>step_pred_8</th>\n      <th>step_pred_9</th>\n      <th>...</th>\n      <th>step_pred_27</th>\n      <th>step_pred_28</th>\n      <th>step_pred_29</th>\n      <th>step_pred_30</th>\n      <th>step_pred_31</th>\n      <th>step_pred_32</th>\n      <th>step_pred_33</th>\n      <th>step_pred_34</th>\n      <th>step_pred_35</th>\n      <th>step_pred_36</th>\n    </tr>\n  </thead>\n  <tbody>\n    <tr>\n      <th>count</th>\n      <td>9168.000000</td>\n      <td>9168.000000</td>\n      <td>9168.000000</td>\n      <td>9168.000000</td>\n      <td>9168.000000</td>\n      <td>9168.000000</td>\n      <td>9168.000000</td>\n      <td>9168.000000</td>\n      <td>9168.000000</td>\n      <td>9168.000000</td>\n      <td>...</td>\n      <td>9168.000000</td>\n      <td>9168.000000</td>\n      <td>9168.000000</td>\n      <td>9168.000000</td>\n      <td>9168.000000</td>\n      <td>9168.000000</td>\n      <td>9168.000000</td>\n      <td>9168.000000</td>\n      <td>9168.000000</td>\n      <td>9168.000000</td>\n    </tr>\n    <tr>\n      <th>mean</th>\n      <td>43.984293</td>\n      <td>3.064313</td>\n      <td>2.938524</td>\n      <td>3.024721</td>\n      <td>2.463671</td>\n      <td>2.344805</td>\n      <td>2.241646</td>\n      <td>2.080354</td>\n      <td>2.044865</td>\n      <td>2.113336</td>\n      <td>...</td>\n      <td>1.541634</td>\n      <td>1.638868</td>\n      <td>1.574594</td>\n      <td>1.621234</td>\n      <td>1.630235</td>\n      <td>1.545550</td>\n      <td>1.448616</td>\n      <td>1.550858</td>\n      <td>1.503650</td>\n      <td>1.700572</td>\n    </tr>\n    <tr>\n      <th>std</th>\n      <td>478.269169</td>\n      <td>4.013247</td>\n      <td>3.939282</td>\n      <td>3.012343</td>\n      <td>2.652986</td>\n      <td>2.608635</td>\n      <td>2.326226</td>\n      <td>2.094101</td>\n      <td>2.217072</td>\n      <td>2.182770</td>\n      <td>...</td>\n      <td>1.607832</td>\n      <td>1.771869</td>\n      <td>1.728240</td>\n      <td>1.659796</td>\n      <td>1.791969</td>\n      <td>1.802667</td>\n      <td>1.751915</td>\n      <td>1.778156</td>\n      <td>1.798335</td>\n      <td>2.024134</td>\n    </tr>\n    <tr>\n      <th>min</th>\n      <td>0.000000</td>\n      <td>0.476367</td>\n      <td>0.476422</td>\n      <td>0.476632</td>\n      <td>0.476452</td>\n      <td>0.476629</td>\n      <td>0.476453</td>\n      <td>0.476443</td>\n      <td>0.476490</td>\n      <td>0.476624</td>\n      <td>...</td>\n      <td>0.000000</td>\n      <td>0.000000</td>\n      <td>0.000000</td>\n      <td>0.000000</td>\n      <td>0.000000</td>\n      <td>0.000000</td>\n      <td>0.000000</td>\n      <td>0.000000</td>\n      <td>0.000000</td>\n      <td>0.000000</td>\n    </tr>\n    <tr>\n      <th>25%</th>\n      <td>0.000000</td>\n      <td>1.141073</td>\n      <td>1.428083</td>\n      <td>1.226387</td>\n      <td>1.061084</td>\n      <td>1.030640</td>\n      <td>1.074640</td>\n      <td>0.995747</td>\n      <td>0.931747</td>\n      <td>0.949853</td>\n      <td>...</td>\n      <td>0.719530</td>\n      <td>0.752138</td>\n      <td>0.645578</td>\n      <td>0.720144</td>\n      <td>0.699926</td>\n      <td>0.572176</td>\n      <td>0.512930</td>\n      <td>0.581869</td>\n      <td>0.579295</td>\n      <td>0.768986</td>\n    </tr>\n    <tr>\n      <th>50%</th>\n      <td>0.000000</td>\n      <td>2.967103</td>\n      <td>2.444391</td>\n      <td>3.093398</td>\n      <td>1.789339</td>\n      <td>1.576807</td>\n      <td>1.629165</td>\n      <td>1.357512</td>\n      <td>1.201662</td>\n      <td>1.439366</td>\n      <td>...</td>\n      <td>0.785038</td>\n      <td>0.801496</td>\n      <td>0.758299</td>\n      <td>0.817740</td>\n      <td>0.767103</td>\n      <td>0.699220</td>\n      <td>0.666647</td>\n      <td>0.680501</td>\n      <td>0.691359</td>\n      <td>0.833531</td>\n    </tr>\n    <tr>\n      <th>75%</th>\n      <td>0.000000</td>\n      <td>3.312054</td>\n      <td>2.837250</td>\n      <td>3.346230</td>\n      <td>2.211347</td>\n      <td>2.121895</td>\n      <td>2.075090</td>\n      <td>1.941592</td>\n      <td>2.056416</td>\n      <td>2.010623</td>\n      <td>...</td>\n      <td>1.746570</td>\n      <td>1.930422</td>\n      <td>1.836017</td>\n      <td>1.928235</td>\n      <td>1.854694</td>\n      <td>1.792060</td>\n      <td>1.655463</td>\n      <td>1.842366</td>\n      <td>1.660575</td>\n      <td>1.698188</td>\n    </tr>\n    <tr>\n      <th>max</th>\n      <td>19000.000000</td>\n      <td>57.567913</td>\n      <td>58.776665</td>\n      <td>34.229748</td>\n      <td>25.622738</td>\n      <td>30.410690</td>\n      <td>36.324074</td>\n      <td>19.378551</td>\n      <td>22.624584</td>\n      <td>20.225647</td>\n      <td>...</td>\n      <td>19.464668</td>\n      <td>20.670267</td>\n      <td>17.030479</td>\n      <td>17.005161</td>\n      <td>19.832689</td>\n      <td>28.565922</td>\n      <td>27.920639</td>\n      <td>24.754251</td>\n      <td>28.713552</td>\n      <td>22.110678</td>\n    </tr>\n  </tbody>\n</table>\n<p>8 rows × 37 columns</p>\n</div>"
     },
     "execution_count": 114,
     "metadata": {},
     "output_type": "execute_result"
    }
   ],
   "source": [
    "df.describe()"
   ],
   "metadata": {
    "collapsed": false,
    "ExecuteTime": {
     "end_time": "2023-12-11T14:22:19.557740Z",
     "start_time": "2023-12-11T14:22:19.503254Z"
    }
   },
   "id": "abfcbd5ee6d836b9"
  },
  {
   "cell_type": "code",
   "execution_count": 141,
   "outputs": [],
   "source": [
    "months = df.index.levels[0].tolist()"
   ],
   "metadata": {
    "collapsed": false,
    "ExecuteTime": {
     "end_time": "2023-12-11T15:21:07.510159Z",
     "start_time": "2023-12-11T15:21:07.497247Z"
    }
   },
   "id": "1f945c280cb0f245"
  },
  {
   "cell_type": "code",
   "execution_count": 147,
   "outputs": [],
   "source": [
    "months = df.index.levels[0].tolist()\n",
    "step_preds = [f'step_pred_{i}' for i in range(1, 37)]\n",
    "wandb.init(project='test', entity='model-development-and-deployment')\n",
    "for month in [399, 400]:\n",
    "    for step in ['step_pred_1']:\n",
    "        fig = plot_cm_map(df, month, step)\n",
    "        \n",
    "        wandb.log({f'month_{month}_step_{step}': wandb.Image(fig)})\n",
    "        \n",
    "        \n",
    "wandb.finish()"
   ],
   "metadata": {
    "collapsed": false,
    "ExecuteTime": {
     "end_time": "2023-12-11T15:38:17.083246Z",
     "start_time": "2023-12-11T15:38:04.537090Z"
    }
   },
   "id": "fcc3800763d6a860"
  },
  {
   "cell_type": "code",
   "execution_count": null,
   "outputs": [],
   "source": [],
   "metadata": {
    "collapsed": false
   },
   "id": "1fc4f03637d477cf"
  }
 ],
 "metadata": {
  "kernelspec": {
   "display_name": "Python 3",
   "language": "python",
   "name": "python3"
  },
  "language_info": {
   "codemirror_mode": {
    "name": "ipython",
    "version": 2
   },
   "file_extension": ".py",
   "mimetype": "text/x-python",
   "name": "python",
   "nbconvert_exporter": "python",
   "pygments_lexer": "ipython2",
   "version": "2.7.6"
  }
 },
 "nbformat": 4,
 "nbformat_minor": 5
}
