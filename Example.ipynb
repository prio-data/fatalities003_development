{
 "cells": [
  {
   "cell_type": "markdown",
   "source": [
    "## To do\n",
    "1. Add argparse \n",
    "2. Clean sweep"
   ],
   "metadata": {
    "collapsed": false
   },
   "id": "595f9409cb812d0"
  },
  {
   "cell_type": "code",
   "execution_count": 1,
   "id": "initial_id",
   "metadata": {
    "collapsed": true,
    "ExecuteTime": {
     "end_time": "2023-11-21T12:07:08.845810Z",
     "start_time": "2023-11-21T12:07:06.943777Z"
    }
   },
   "outputs": [],
   "source": [
    "import numpy as np\n",
    "import warnings\n",
    "warnings.filterwarnings(\"ignore\")\n",
    "import wandb\n",
    "import copy\n",
    "\n",
    "from views_forecasts.extensions import *\n",
    "from utils import fetch_data, transform_data, retrain_transformed, evaluate\n",
    "from ModelConfig import model_config\n",
    "from CommonConfig import common_config, wandb_config"
   ]
  },
  {
   "cell_type": "code",
   "execution_count": 2,
   "outputs": [
    {
     "name": "stdout",
     "output_type": "stream",
     "text": [
      " .     "
     ]
    }
   ],
   "source": [
    "level = 'cm'\n",
    "transforms = ['log']\n",
    "Datasets_transformed = {}\n",
    "para_transformed = {}\n",
    "qslist, Datasets = fetch_data(level)\n",
    "for t in transforms:\n",
    "    Datasets_transformed[t], para_transformed[t] = transform_data(Datasets, t)"
   ],
   "metadata": {
    "collapsed": false,
    "ExecuteTime": {
     "end_time": "2023-11-19T10:11:09.927756Z",
     "start_time": "2023-11-19T10:00:06.365347Z"
    }
   },
   "id": "350064f79f378eb4"
  },
  {
   "cell_type": "code",
   "execution_count": 3,
   "outputs": [],
   "source": [
    "sweep_configuration = {\n",
    "    'name': model_config['modelname'],\n",
    "    \"method\": \"grid\",\n",
    "    \"metric\": {\n",
    "        \"goal\": \"minimize\",\n",
    "        'name': \"mse\",\n",
    "    },\n",
    "    \"parameters\": {\n",
    "        \"n_estimators\": {\"values\": [100, 200, 300]},\n",
    "        \"n_jobs\": {\"values\": [12]},\n",
    "        \"learning_rate\": {\"values\": [0.05, 0.1, 0.2]}\n",
    "    }\n",
    "}\n",
    "\n",
    "def train():\n",
    "    wandb.init(config=common_config)\n",
    "    wandb.config.update(model_config, allow_val_change=True)\n",
    "    retrain_transformed(Datasets_transformed, transforms)\n",
    "    evaluate('calib', transforms, para_transformed, evaluate_raw=False)\n"
   ],
   "metadata": {
    "collapsed": false,
    "ExecuteTime": {
     "end_time": "2023-11-19T10:11:09.931329Z",
     "start_time": "2023-11-19T10:11:09.929422Z"
    }
   },
   "id": "d27535db37951b21"
  },
  {
   "cell_type": "code",
   "execution_count": 4,
   "outputs": [
    {
     "name": "stdout",
     "output_type": "stream",
     "text": [
      "Create sweep with ID: ajrs06xj\n",
      "Sweep URL: https://wandb.ai/model-development-and-deployment/training_example_2/sweeps/ajrs06xj\n"
     ]
    },
    {
     "name": "stderr",
     "output_type": "stream",
     "text": [
      "wandb: Agent Starting Run: 1vpnr5od with config:\n",
      "wandb: \tlearning_rate: 0.05\n",
      "wandb: \tn_estimators: 100\n",
      "wandb: \tn_jobs: 12\n",
      "wandb: Currently logged in as: xiaolong-sun (model-development-and-deployment). Use `wandb login --relogin` to force relogin\n"
     ]
    },
    {
     "data": {
      "text/plain": "<IPython.core.display.HTML object>",
      "text/html": "Tracking run with wandb version 0.16.0"
     },
     "metadata": {},
     "output_type": "display_data"
    },
    {
     "data": {
      "text/plain": "<IPython.core.display.HTML object>",
      "text/html": "Run data is saved locally in <code>/Users/xiaolong/Weights-and-Biases/wandb/run-20231119_111112-1vpnr5od</code>"
     },
     "metadata": {},
     "output_type": "display_data"
    },
    {
     "data": {
      "text/plain": "<IPython.core.display.HTML object>",
      "text/html": "Syncing run <strong><a href='https://wandb.ai/model-development-and-deployment/training_example_2/runs/1vpnr5od' target=\"_blank\">classic-sweep-1</a></strong> to <a href='https://wandb.ai/model-development-and-deployment/training_example_2' target=\"_blank\">Weights & Biases</a> (<a href='https://wandb.me/run' target=\"_blank\">docs</a>)<br/>Sweep page: <a href='https://wandb.ai/model-development-and-deployment/training_example_2/sweeps/ajrs06xj' target=\"_blank\">https://wandb.ai/model-development-and-deployment/training_example_2/sweeps/ajrs06xj</a>"
     },
     "metadata": {},
     "output_type": "display_data"
    },
    {
     "data": {
      "text/plain": "<IPython.core.display.HTML object>",
      "text/html": " View project at <a href='https://wandb.ai/model-development-and-deployment/training_example_2' target=\"_blank\">https://wandb.ai/model-development-and-deployment/training_example_2</a>"
     },
     "metadata": {},
     "output_type": "display_data"
    },
    {
     "data": {
      "text/plain": "<IPython.core.display.HTML object>",
      "text/html": " View sweep at <a href='https://wandb.ai/model-development-and-deployment/training_example_2/sweeps/ajrs06xj' target=\"_blank\">https://wandb.ai/model-development-and-deployment/training_example_2/sweeps/ajrs06xj</a>"
     },
     "metadata": {},
     "output_type": "display_data"
    },
    {
     "data": {
      "text/plain": "<IPython.core.display.HTML object>",
      "text/html": " View run at <a href='https://wandb.ai/model-development-and-deployment/training_example_2/runs/1vpnr5od' target=\"_blank\">https://wandb.ai/model-development-and-deployment/training_example_2/runs/1vpnr5od</a>"
     },
     "metadata": {},
     "output_type": "display_data"
    },
    {
     "name": "stdout",
     "output_type": "stream",
     "text": [
      "fatalities003_nl_baseline_rf\n",
      "Calibration partition\n",
      " * == Performing a run: \"fatalities003_nl_baseline_rf_calib_log\" == * \n",
      "Model object named \"fatalities003_nl_baseline_rf_calib_log\" with equivalent metadata already exists.\n",
      "Retrain is true, overwriting \"fatalities003_nl_baseline_rf_calib_log\"\n",
      "Training model(s)...\n",
      "Storing \"fatalities003_nl_baseline_rf_calib_log\"\n",
      "Getting predictions\n",
      "pr_56_cm_fatalities003_nl_baseline_rf_calib_log_estimators_100_lr_0.05.parquet\n",
      "cm_fatalities003_nl_baseline_rf_calib_log_estimators_100_lr_0.05 , run Fatalities003 does not exist, predicting\n",
      "Test partition\n",
      " * == Performing a run: \"fatalities003_nl_baseline_rf_test_log\" == * \n",
      "Model object named \"fatalities003_nl_baseline_rf_test_log\" with equivalent metadata already exists.\n",
      "Retrain is true, overwriting \"fatalities003_nl_baseline_rf_test_log\"\n",
      "Training model(s)...\n",
      "Storing \"fatalities003_nl_baseline_rf_test_log\"\n",
      "Getting predictions\n",
      "pr_56_cm_fatalities003_nl_baseline_rf_test_log_estimators_100_lr_0.05.parquet\n",
      "cm_fatalities003_nl_baseline_rf_test_log_estimators_100_lr_0.05 , run Fatalities003 does not exist, predicting\n",
      "**************************************************************\n",
      "Evaluating models\n",
      "pr_56_cm_fatalities003_nl_baseline_rf_calib_log_estimators_100_lr_0.05.parquet\n",
      "mse 230570.73603967126\n"
     ]
    },
    {
     "data": {
      "text/plain": "VBox(children=(Label(value='0.001 MB of 0.001 MB uploaded\\r'), FloatProgress(value=1.0, max=1.0)))",
      "application/vnd.jupyter.widget-view+json": {
       "version_major": 2,
       "version_minor": 0,
       "model_id": "bbec2179802d41cf8cc8ad3acb74d5fd"
      }
     },
     "metadata": {},
     "output_type": "display_data"
    },
    {
     "data": {
      "text/plain": "<IPython.core.display.HTML object>",
      "text/html": "<style>\n    table.wandb td:nth-child(1) { padding: 0 10px; text-align: left ; width: auto;} td:nth-child(2) {text-align: left ; width: 100%}\n    .wandb-row { display: flex; flex-direction: row; flex-wrap: wrap; justify-content: flex-start; width: 100% }\n    .wandb-col { display: flex; flex-direction: column; flex-basis: 100%; flex: 1; padding: 10px; }\n    </style>\n<div class=\"wandb-row\"><div class=\"wandb-col\"><h3>Run history:</h3><br/><table class=\"wandb\"><tr><td>mse</td><td>▁</td></tr></table><br/></div><div class=\"wandb-col\"><h3>Run summary:</h3><br/><table class=\"wandb\"><tr><td>mse</td><td>230570.73604</td></tr></table><br/></div></div>"
     },
     "metadata": {},
     "output_type": "display_data"
    },
    {
     "data": {
      "text/plain": "<IPython.core.display.HTML object>",
      "text/html": " View run <strong style=\"color:#cdcd00\">classic-sweep-1</strong> at: <a href='https://wandb.ai/model-development-and-deployment/training_example_2/runs/1vpnr5od' target=\"_blank\">https://wandb.ai/model-development-and-deployment/training_example_2/runs/1vpnr5od</a><br/>Synced 6 W&B file(s), 0 media file(s), 0 artifact file(s) and 0 other file(s)"
     },
     "metadata": {},
     "output_type": "display_data"
    },
    {
     "data": {
      "text/plain": "<IPython.core.display.HTML object>",
      "text/html": "Find logs at: <code>./wandb/run-20231119_111112-1vpnr5od/logs</code>"
     },
     "metadata": {},
     "output_type": "display_data"
    },
    {
     "name": "stderr",
     "output_type": "stream",
     "text": [
      "wandb: Agent Starting Run: iyvzomqw with config:\n",
      "wandb: \tlearning_rate: 0.05\n",
      "wandb: \tn_estimators: 200\n",
      "wandb: \tn_jobs: 12\n"
     ]
    },
    {
     "data": {
      "text/plain": "<IPython.core.display.HTML object>",
      "text/html": "Tracking run with wandb version 0.16.0"
     },
     "metadata": {},
     "output_type": "display_data"
    },
    {
     "data": {
      "text/plain": "<IPython.core.display.HTML object>",
      "text/html": "Run data is saved locally in <code>/Users/xiaolong/Weights-and-Biases/wandb/run-20231119_111236-iyvzomqw</code>"
     },
     "metadata": {},
     "output_type": "display_data"
    },
    {
     "data": {
      "text/plain": "<IPython.core.display.HTML object>",
      "text/html": "Syncing run <strong><a href='https://wandb.ai/model-development-and-deployment/training_example_2/runs/iyvzomqw' target=\"_blank\">good-sweep-2</a></strong> to <a href='https://wandb.ai/model-development-and-deployment/training_example_2' target=\"_blank\">Weights & Biases</a> (<a href='https://wandb.me/run' target=\"_blank\">docs</a>)<br/>Sweep page: <a href='https://wandb.ai/model-development-and-deployment/training_example_2/sweeps/ajrs06xj' target=\"_blank\">https://wandb.ai/model-development-and-deployment/training_example_2/sweeps/ajrs06xj</a>"
     },
     "metadata": {},
     "output_type": "display_data"
    },
    {
     "data": {
      "text/plain": "<IPython.core.display.HTML object>",
      "text/html": " View project at <a href='https://wandb.ai/model-development-and-deployment/training_example_2' target=\"_blank\">https://wandb.ai/model-development-and-deployment/training_example_2</a>"
     },
     "metadata": {},
     "output_type": "display_data"
    },
    {
     "data": {
      "text/plain": "<IPython.core.display.HTML object>",
      "text/html": " View sweep at <a href='https://wandb.ai/model-development-and-deployment/training_example_2/sweeps/ajrs06xj' target=\"_blank\">https://wandb.ai/model-development-and-deployment/training_example_2/sweeps/ajrs06xj</a>"
     },
     "metadata": {},
     "output_type": "display_data"
    },
    {
     "data": {
      "text/plain": "<IPython.core.display.HTML object>",
      "text/html": " View run at <a href='https://wandb.ai/model-development-and-deployment/training_example_2/runs/iyvzomqw' target=\"_blank\">https://wandb.ai/model-development-and-deployment/training_example_2/runs/iyvzomqw</a>"
     },
     "metadata": {},
     "output_type": "display_data"
    },
    {
     "name": "stdout",
     "output_type": "stream",
     "text": [
      "fatalities003_nl_baseline_rf\n",
      "Calibration partition\n",
      " * == Performing a run: \"fatalities003_nl_baseline_rf_calib_log\" == * \n",
      "Model object named \"fatalities003_nl_baseline_rf_calib_log\" with equivalent metadata already exists.\n",
      "Retrain is true, overwriting \"fatalities003_nl_baseline_rf_calib_log\"\n",
      "Training model(s)...\n",
      "Storing \"fatalities003_nl_baseline_rf_calib_log\"\n",
      "Getting predictions\n",
      "pr_56_cm_fatalities003_nl_baseline_rf_calib_log_estimators_200_lr_0.05.parquet\n",
      "cm_fatalities003_nl_baseline_rf_calib_log_estimators_200_lr_0.05 , run Fatalities003 does not exist, predicting\n",
      "Test partition\n",
      " * == Performing a run: \"fatalities003_nl_baseline_rf_test_log\" == * \n",
      "Model object named \"fatalities003_nl_baseline_rf_test_log\" with equivalent metadata already exists.\n",
      "Retrain is true, overwriting \"fatalities003_nl_baseline_rf_test_log\"\n",
      "Training model(s)...\n",
      "Storing \"fatalities003_nl_baseline_rf_test_log\"\n",
      "Getting predictions\n",
      "pr_56_cm_fatalities003_nl_baseline_rf_test_log_estimators_200_lr_0.05.parquet\n",
      "cm_fatalities003_nl_baseline_rf_test_log_estimators_200_lr_0.05 , run Fatalities003 does not exist, predicting\n",
      "**************************************************************\n",
      "Evaluating models\n",
      "pr_56_cm_fatalities003_nl_baseline_rf_calib_log_estimators_200_lr_0.05.parquet\n",
      "mse 230570.73269130572\n"
     ]
    },
    {
     "data": {
      "text/plain": "VBox(children=(Label(value='0.001 MB of 0.001 MB uploaded\\r'), FloatProgress(value=1.0, max=1.0)))",
      "application/vnd.jupyter.widget-view+json": {
       "version_major": 2,
       "version_minor": 0,
       "model_id": "2aaed57204f944b7b2c9e732cc28bdae"
      }
     },
     "metadata": {},
     "output_type": "display_data"
    },
    {
     "data": {
      "text/plain": "<IPython.core.display.HTML object>",
      "text/html": "<style>\n    table.wandb td:nth-child(1) { padding: 0 10px; text-align: left ; width: auto;} td:nth-child(2) {text-align: left ; width: 100%}\n    .wandb-row { display: flex; flex-direction: row; flex-wrap: wrap; justify-content: flex-start; width: 100% }\n    .wandb-col { display: flex; flex-direction: column; flex-basis: 100%; flex: 1; padding: 10px; }\n    </style>\n<div class=\"wandb-row\"><div class=\"wandb-col\"><h3>Run history:</h3><br/><table class=\"wandb\"><tr><td>mse</td><td>▁</td></tr></table><br/></div><div class=\"wandb-col\"><h3>Run summary:</h3><br/><table class=\"wandb\"><tr><td>mse</td><td>230570.73269</td></tr></table><br/></div></div>"
     },
     "metadata": {},
     "output_type": "display_data"
    },
    {
     "data": {
      "text/plain": "<IPython.core.display.HTML object>",
      "text/html": " View run <strong style=\"color:#cdcd00\">good-sweep-2</strong> at: <a href='https://wandb.ai/model-development-and-deployment/training_example_2/runs/iyvzomqw' target=\"_blank\">https://wandb.ai/model-development-and-deployment/training_example_2/runs/iyvzomqw</a><br/>Synced 6 W&B file(s), 0 media file(s), 0 artifact file(s) and 0 other file(s)"
     },
     "metadata": {},
     "output_type": "display_data"
    },
    {
     "data": {
      "text/plain": "<IPython.core.display.HTML object>",
      "text/html": "Find logs at: <code>./wandb/run-20231119_111236-iyvzomqw/logs</code>"
     },
     "metadata": {},
     "output_type": "display_data"
    },
    {
     "name": "stderr",
     "output_type": "stream",
     "text": [
      "wandb: Agent Starting Run: ty6qar6k with config:\n",
      "wandb: \tlearning_rate: 0.05\n",
      "wandb: \tn_estimators: 300\n",
      "wandb: \tn_jobs: 12\n"
     ]
    },
    {
     "data": {
      "text/plain": "<IPython.core.display.HTML object>",
      "text/html": "Tracking run with wandb version 0.16.0"
     },
     "metadata": {},
     "output_type": "display_data"
    },
    {
     "data": {
      "text/plain": "<IPython.core.display.HTML object>",
      "text/html": "Run data is saved locally in <code>/Users/xiaolong/Weights-and-Biases/wandb/run-20231119_111451-ty6qar6k</code>"
     },
     "metadata": {},
     "output_type": "display_data"
    },
    {
     "data": {
      "text/plain": "<IPython.core.display.HTML object>",
      "text/html": "Syncing run <strong><a href='https://wandb.ai/model-development-and-deployment/training_example_2/runs/ty6qar6k' target=\"_blank\">rural-sweep-3</a></strong> to <a href='https://wandb.ai/model-development-and-deployment/training_example_2' target=\"_blank\">Weights & Biases</a> (<a href='https://wandb.me/run' target=\"_blank\">docs</a>)<br/>Sweep page: <a href='https://wandb.ai/model-development-and-deployment/training_example_2/sweeps/ajrs06xj' target=\"_blank\">https://wandb.ai/model-development-and-deployment/training_example_2/sweeps/ajrs06xj</a>"
     },
     "metadata": {},
     "output_type": "display_data"
    },
    {
     "data": {
      "text/plain": "<IPython.core.display.HTML object>",
      "text/html": " View project at <a href='https://wandb.ai/model-development-and-deployment/training_example_2' target=\"_blank\">https://wandb.ai/model-development-and-deployment/training_example_2</a>"
     },
     "metadata": {},
     "output_type": "display_data"
    },
    {
     "data": {
      "text/plain": "<IPython.core.display.HTML object>",
      "text/html": " View sweep at <a href='https://wandb.ai/model-development-and-deployment/training_example_2/sweeps/ajrs06xj' target=\"_blank\">https://wandb.ai/model-development-and-deployment/training_example_2/sweeps/ajrs06xj</a>"
     },
     "metadata": {},
     "output_type": "display_data"
    },
    {
     "data": {
      "text/plain": "<IPython.core.display.HTML object>",
      "text/html": " View run at <a href='https://wandb.ai/model-development-and-deployment/training_example_2/runs/ty6qar6k' target=\"_blank\">https://wandb.ai/model-development-and-deployment/training_example_2/runs/ty6qar6k</a>"
     },
     "metadata": {},
     "output_type": "display_data"
    },
    {
     "name": "stdout",
     "output_type": "stream",
     "text": [
      "fatalities003_nl_baseline_rf\n",
      "Calibration partition\n",
      " * == Performing a run: \"fatalities003_nl_baseline_rf_calib_log\" == * \n",
      "Model object named \"fatalities003_nl_baseline_rf_calib_log\" with equivalent metadata already exists.\n",
      "Retrain is true, overwriting \"fatalities003_nl_baseline_rf_calib_log\"\n",
      "Training model(s)...\n",
      "Storing \"fatalities003_nl_baseline_rf_calib_log\"\n",
      "Getting predictions\n",
      "pr_56_cm_fatalities003_nl_baseline_rf_calib_log_estimators_300_lr_0.05.parquet\n",
      "cm_fatalities003_nl_baseline_rf_calib_log_estimators_300_lr_0.05 , run Fatalities003 does not exist, predicting\n",
      "Test partition\n",
      " * == Performing a run: \"fatalities003_nl_baseline_rf_test_log\" == * \n",
      "Model object named \"fatalities003_nl_baseline_rf_test_log\" with equivalent metadata already exists.\n",
      "Retrain is true, overwriting \"fatalities003_nl_baseline_rf_test_log\"\n",
      "Training model(s)...\n",
      "Storing \"fatalities003_nl_baseline_rf_test_log\"\n",
      "Getting predictions\n",
      "pr_56_cm_fatalities003_nl_baseline_rf_test_log_estimators_300_lr_0.05.parquet\n",
      "cm_fatalities003_nl_baseline_rf_test_log_estimators_300_lr_0.05 , run Fatalities003 does not exist, predicting\n",
      "**************************************************************\n",
      "Evaluating models\n",
      "pr_56_cm_fatalities003_nl_baseline_rf_calib_log_estimators_300_lr_0.05.parquet\n",
      "mse 230570.7619828193\n"
     ]
    },
    {
     "data": {
      "text/plain": "VBox(children=(Label(value='0.001 MB of 0.019 MB uploaded\\r'), FloatProgress(value=0.05132280557834291, max=1.…",
      "application/vnd.jupyter.widget-view+json": {
       "version_major": 2,
       "version_minor": 0,
       "model_id": "b8b0cb6f0d0e4ffbb249be855fac33db"
      }
     },
     "metadata": {},
     "output_type": "display_data"
    },
    {
     "data": {
      "text/plain": "<IPython.core.display.HTML object>",
      "text/html": "<style>\n    table.wandb td:nth-child(1) { padding: 0 10px; text-align: left ; width: auto;} td:nth-child(2) {text-align: left ; width: 100%}\n    .wandb-row { display: flex; flex-direction: row; flex-wrap: wrap; justify-content: flex-start; width: 100% }\n    .wandb-col { display: flex; flex-direction: column; flex-basis: 100%; flex: 1; padding: 10px; }\n    </style>\n<div class=\"wandb-row\"><div class=\"wandb-col\"><h3>Run history:</h3><br/><table class=\"wandb\"><tr><td>mse</td><td>▁</td></tr></table><br/></div><div class=\"wandb-col\"><h3>Run summary:</h3><br/><table class=\"wandb\"><tr><td>mse</td><td>230570.76198</td></tr></table><br/></div></div>"
     },
     "metadata": {},
     "output_type": "display_data"
    },
    {
     "data": {
      "text/plain": "<IPython.core.display.HTML object>",
      "text/html": " View run <strong style=\"color:#cdcd00\">rural-sweep-3</strong> at: <a href='https://wandb.ai/model-development-and-deployment/training_example_2/runs/ty6qar6k' target=\"_blank\">https://wandb.ai/model-development-and-deployment/training_example_2/runs/ty6qar6k</a><br/>Synced 6 W&B file(s), 0 media file(s), 0 artifact file(s) and 0 other file(s)"
     },
     "metadata": {},
     "output_type": "display_data"
    },
    {
     "data": {
      "text/plain": "<IPython.core.display.HTML object>",
      "text/html": "Find logs at: <code>./wandb/run-20231119_111451-ty6qar6k/logs</code>"
     },
     "metadata": {},
     "output_type": "display_data"
    },
    {
     "name": "stderr",
     "output_type": "stream",
     "text": [
      "wandb: Agent Starting Run: jac9fovt with config:\n",
      "wandb: \tlearning_rate: 0.1\n",
      "wandb: \tn_estimators: 100\n",
      "wandb: \tn_jobs: 12\n"
     ]
    },
    {
     "data": {
      "text/plain": "<IPython.core.display.HTML object>",
      "text/html": "Tracking run with wandb version 0.16.0"
     },
     "metadata": {},
     "output_type": "display_data"
    },
    {
     "data": {
      "text/plain": "<IPython.core.display.HTML object>",
      "text/html": "Run data is saved locally in <code>/Users/xiaolong/Weights-and-Biases/wandb/run-20231119_111752-jac9fovt</code>"
     },
     "metadata": {},
     "output_type": "display_data"
    },
    {
     "data": {
      "text/plain": "<IPython.core.display.HTML object>",
      "text/html": "Syncing run <strong><a href='https://wandb.ai/model-development-and-deployment/training_example_2/runs/jac9fovt' target=\"_blank\">whole-sweep-4</a></strong> to <a href='https://wandb.ai/model-development-and-deployment/training_example_2' target=\"_blank\">Weights & Biases</a> (<a href='https://wandb.me/run' target=\"_blank\">docs</a>)<br/>Sweep page: <a href='https://wandb.ai/model-development-and-deployment/training_example_2/sweeps/ajrs06xj' target=\"_blank\">https://wandb.ai/model-development-and-deployment/training_example_2/sweeps/ajrs06xj</a>"
     },
     "metadata": {},
     "output_type": "display_data"
    },
    {
     "data": {
      "text/plain": "<IPython.core.display.HTML object>",
      "text/html": " View project at <a href='https://wandb.ai/model-development-and-deployment/training_example_2' target=\"_blank\">https://wandb.ai/model-development-and-deployment/training_example_2</a>"
     },
     "metadata": {},
     "output_type": "display_data"
    },
    {
     "data": {
      "text/plain": "<IPython.core.display.HTML object>",
      "text/html": " View sweep at <a href='https://wandb.ai/model-development-and-deployment/training_example_2/sweeps/ajrs06xj' target=\"_blank\">https://wandb.ai/model-development-and-deployment/training_example_2/sweeps/ajrs06xj</a>"
     },
     "metadata": {},
     "output_type": "display_data"
    },
    {
     "data": {
      "text/plain": "<IPython.core.display.HTML object>",
      "text/html": " View run at <a href='https://wandb.ai/model-development-and-deployment/training_example_2/runs/jac9fovt' target=\"_blank\">https://wandb.ai/model-development-and-deployment/training_example_2/runs/jac9fovt</a>"
     },
     "metadata": {},
     "output_type": "display_data"
    },
    {
     "name": "stdout",
     "output_type": "stream",
     "text": [
      "fatalities003_nl_baseline_rf\n",
      "Calibration partition\n",
      " * == Performing a run: \"fatalities003_nl_baseline_rf_calib_log\" == * \n",
      "Model object named \"fatalities003_nl_baseline_rf_calib_log\" with equivalent metadata already exists.\n",
      "Retrain is true, overwriting \"fatalities003_nl_baseline_rf_calib_log\"\n",
      "Training model(s)...\n",
      "Storing \"fatalities003_nl_baseline_rf_calib_log\"\n",
      "Getting predictions\n",
      "pr_56_cm_fatalities003_nl_baseline_rf_calib_log_estimators_100_lr_0.1.parquet\n",
      "cm_fatalities003_nl_baseline_rf_calib_log_estimators_100_lr_0.1 , run Fatalities003 does not exist, predicting\n",
      "Test partition\n",
      " * == Performing a run: \"fatalities003_nl_baseline_rf_test_log\" == * \n",
      "Model object named \"fatalities003_nl_baseline_rf_test_log\" with equivalent metadata already exists.\n",
      "Retrain is true, overwriting \"fatalities003_nl_baseline_rf_test_log\"\n",
      "Training model(s)...\n",
      "Storing \"fatalities003_nl_baseline_rf_test_log\"\n",
      "Getting predictions\n",
      "pr_56_cm_fatalities003_nl_baseline_rf_test_log_estimators_100_lr_0.1.parquet\n",
      "cm_fatalities003_nl_baseline_rf_test_log_estimators_100_lr_0.1 , run Fatalities003 does not exist, predicting\n",
      "**************************************************************\n",
      "Evaluating models\n",
      "pr_56_cm_fatalities003_nl_baseline_rf_calib_log_estimators_100_lr_0.1.parquet\n",
      "mse 230542.31800877582\n"
     ]
    },
    {
     "data": {
      "text/plain": "VBox(children=(Label(value='0.001 MB of 0.001 MB uploaded\\r'), FloatProgress(value=1.0, max=1.0)))",
      "application/vnd.jupyter.widget-view+json": {
       "version_major": 2,
       "version_minor": 0,
       "model_id": "35f6ce4950744fcca56104e2a34a6daa"
      }
     },
     "metadata": {},
     "output_type": "display_data"
    },
    {
     "data": {
      "text/plain": "<IPython.core.display.HTML object>",
      "text/html": "<style>\n    table.wandb td:nth-child(1) { padding: 0 10px; text-align: left ; width: auto;} td:nth-child(2) {text-align: left ; width: 100%}\n    .wandb-row { display: flex; flex-direction: row; flex-wrap: wrap; justify-content: flex-start; width: 100% }\n    .wandb-col { display: flex; flex-direction: column; flex-basis: 100%; flex: 1; padding: 10px; }\n    </style>\n<div class=\"wandb-row\"><div class=\"wandb-col\"><h3>Run history:</h3><br/><table class=\"wandb\"><tr><td>mse</td><td>▁</td></tr></table><br/></div><div class=\"wandb-col\"><h3>Run summary:</h3><br/><table class=\"wandb\"><tr><td>mse</td><td>230542.31801</td></tr></table><br/></div></div>"
     },
     "metadata": {},
     "output_type": "display_data"
    },
    {
     "data": {
      "text/plain": "<IPython.core.display.HTML object>",
      "text/html": " View run <strong style=\"color:#cdcd00\">whole-sweep-4</strong> at: <a href='https://wandb.ai/model-development-and-deployment/training_example_2/runs/jac9fovt' target=\"_blank\">https://wandb.ai/model-development-and-deployment/training_example_2/runs/jac9fovt</a><br/>Synced 6 W&B file(s), 0 media file(s), 0 artifact file(s) and 0 other file(s)"
     },
     "metadata": {},
     "output_type": "display_data"
    },
    {
     "data": {
      "text/plain": "<IPython.core.display.HTML object>",
      "text/html": "Find logs at: <code>./wandb/run-20231119_111752-jac9fovt/logs</code>"
     },
     "metadata": {},
     "output_type": "display_data"
    },
    {
     "name": "stderr",
     "output_type": "stream",
     "text": [
      "wandb: Sweep Agent: Waiting for job.\n",
      "wandb: Job received.\n",
      "wandb: Agent Starting Run: 5pv60jab with config:\n",
      "wandb: \tlearning_rate: 0.1\n",
      "wandb: \tn_estimators: 200\n",
      "wandb: \tn_jobs: 12\n"
     ]
    },
    {
     "data": {
      "text/plain": "VBox(children=(Label(value='Waiting for wandb.init()...\\r'), FloatProgress(value=0.011224338888294168, max=1.0…",
      "application/vnd.jupyter.widget-view+json": {
       "version_major": 2,
       "version_minor": 0,
       "model_id": "a2da1327f84a438cbe17c755c0af7623"
      }
     },
     "metadata": {},
     "output_type": "display_data"
    },
    {
     "data": {
      "text/plain": "<IPython.core.display.HTML object>",
      "text/html": "Tracking run with wandb version 0.16.0"
     },
     "metadata": {},
     "output_type": "display_data"
    },
    {
     "data": {
      "text/plain": "<IPython.core.display.HTML object>",
      "text/html": "Run data is saved locally in <code>/Users/xiaolong/Weights-and-Biases/wandb/run-20231119_111925-5pv60jab</code>"
     },
     "metadata": {},
     "output_type": "display_data"
    },
    {
     "data": {
      "text/plain": "<IPython.core.display.HTML object>",
      "text/html": "Syncing run <strong><a href='https://wandb.ai/model-development-and-deployment/training_example_2/runs/5pv60jab' target=\"_blank\">smart-sweep-5</a></strong> to <a href='https://wandb.ai/model-development-and-deployment/training_example_2' target=\"_blank\">Weights & Biases</a> (<a href='https://wandb.me/run' target=\"_blank\">docs</a>)<br/>Sweep page: <a href='https://wandb.ai/model-development-and-deployment/training_example_2/sweeps/ajrs06xj' target=\"_blank\">https://wandb.ai/model-development-and-deployment/training_example_2/sweeps/ajrs06xj</a>"
     },
     "metadata": {},
     "output_type": "display_data"
    },
    {
     "data": {
      "text/plain": "<IPython.core.display.HTML object>",
      "text/html": " View project at <a href='https://wandb.ai/model-development-and-deployment/training_example_2' target=\"_blank\">https://wandb.ai/model-development-and-deployment/training_example_2</a>"
     },
     "metadata": {},
     "output_type": "display_data"
    },
    {
     "data": {
      "text/plain": "<IPython.core.display.HTML object>",
      "text/html": " View sweep at <a href='https://wandb.ai/model-development-and-deployment/training_example_2/sweeps/ajrs06xj' target=\"_blank\">https://wandb.ai/model-development-and-deployment/training_example_2/sweeps/ajrs06xj</a>"
     },
     "metadata": {},
     "output_type": "display_data"
    },
    {
     "data": {
      "text/plain": "<IPython.core.display.HTML object>",
      "text/html": " View run at <a href='https://wandb.ai/model-development-and-deployment/training_example_2/runs/5pv60jab' target=\"_blank\">https://wandb.ai/model-development-and-deployment/training_example_2/runs/5pv60jab</a>"
     },
     "metadata": {},
     "output_type": "display_data"
    },
    {
     "name": "stdout",
     "output_type": "stream",
     "text": [
      "fatalities003_nl_baseline_rf\n",
      "Calibration partition\n",
      " * == Performing a run: \"fatalities003_nl_baseline_rf_calib_log\" == * \n",
      "Model object named \"fatalities003_nl_baseline_rf_calib_log\" with equivalent metadata already exists.\n",
      "Retrain is true, overwriting \"fatalities003_nl_baseline_rf_calib_log\"\n",
      "Training model(s)...\n",
      "Storing \"fatalities003_nl_baseline_rf_calib_log\"\n",
      "Getting predictions\n",
      "pr_56_cm_fatalities003_nl_baseline_rf_calib_log_estimators_200_lr_0.1.parquet\n",
      "cm_fatalities003_nl_baseline_rf_calib_log_estimators_200_lr_0.1 , run Fatalities003 does not exist, predicting\n",
      "Test partition\n",
      " * == Performing a run: \"fatalities003_nl_baseline_rf_test_log\" == * \n",
      "Model object named \"fatalities003_nl_baseline_rf_test_log\" with equivalent metadata already exists.\n",
      "Retrain is true, overwriting \"fatalities003_nl_baseline_rf_test_log\"\n",
      "Training model(s)...\n",
      "Storing \"fatalities003_nl_baseline_rf_test_log\"\n",
      "Getting predictions\n",
      "pr_56_cm_fatalities003_nl_baseline_rf_test_log_estimators_200_lr_0.1.parquet\n",
      "cm_fatalities003_nl_baseline_rf_test_log_estimators_200_lr_0.1 , run Fatalities003 does not exist, predicting\n",
      "**************************************************************\n",
      "Evaluating models\n",
      "pr_56_cm_fatalities003_nl_baseline_rf_calib_log_estimators_200_lr_0.1.parquet\n",
      "mse 230542.3107394397\n"
     ]
    },
    {
     "data": {
      "text/plain": "VBox(children=(Label(value='0.001 MB of 0.001 MB uploaded\\r'), FloatProgress(value=1.0, max=1.0)))",
      "application/vnd.jupyter.widget-view+json": {
       "version_major": 2,
       "version_minor": 0,
       "model_id": "c7b15a0420964363a6e4fd77e29b5b0b"
      }
     },
     "metadata": {},
     "output_type": "display_data"
    },
    {
     "data": {
      "text/plain": "<IPython.core.display.HTML object>",
      "text/html": "<style>\n    table.wandb td:nth-child(1) { padding: 0 10px; text-align: left ; width: auto;} td:nth-child(2) {text-align: left ; width: 100%}\n    .wandb-row { display: flex; flex-direction: row; flex-wrap: wrap; justify-content: flex-start; width: 100% }\n    .wandb-col { display: flex; flex-direction: column; flex-basis: 100%; flex: 1; padding: 10px; }\n    </style>\n<div class=\"wandb-row\"><div class=\"wandb-col\"><h3>Run history:</h3><br/><table class=\"wandb\"><tr><td>mse</td><td>▁</td></tr></table><br/></div><div class=\"wandb-col\"><h3>Run summary:</h3><br/><table class=\"wandb\"><tr><td>mse</td><td>230542.31074</td></tr></table><br/></div></div>"
     },
     "metadata": {},
     "output_type": "display_data"
    },
    {
     "data": {
      "text/plain": "<IPython.core.display.HTML object>",
      "text/html": " View run <strong style=\"color:#cdcd00\">smart-sweep-5</strong> at: <a href='https://wandb.ai/model-development-and-deployment/training_example_2/runs/5pv60jab' target=\"_blank\">https://wandb.ai/model-development-and-deployment/training_example_2/runs/5pv60jab</a><br/>Synced 6 W&B file(s), 0 media file(s), 0 artifact file(s) and 0 other file(s)"
     },
     "metadata": {},
     "output_type": "display_data"
    },
    {
     "data": {
      "text/plain": "<IPython.core.display.HTML object>",
      "text/html": "Find logs at: <code>./wandb/run-20231119_111925-5pv60jab/logs</code>"
     },
     "metadata": {},
     "output_type": "display_data"
    },
    {
     "name": "stderr",
     "output_type": "stream",
     "text": [
      "wandb: Agent Starting Run: 6cib8dfx with config:\n",
      "wandb: \tlearning_rate: 0.1\n",
      "wandb: \tn_estimators: 300\n",
      "wandb: \tn_jobs: 12\n"
     ]
    },
    {
     "data": {
      "text/plain": "<IPython.core.display.HTML object>",
      "text/html": "Tracking run with wandb version 0.16.0"
     },
     "metadata": {},
     "output_type": "display_data"
    },
    {
     "data": {
      "text/plain": "<IPython.core.display.HTML object>",
      "text/html": "Run data is saved locally in <code>/Users/xiaolong/Weights-and-Biases/wandb/run-20231119_112135-6cib8dfx</code>"
     },
     "metadata": {},
     "output_type": "display_data"
    },
    {
     "data": {
      "text/plain": "<IPython.core.display.HTML object>",
      "text/html": "Syncing run <strong><a href='https://wandb.ai/model-development-and-deployment/training_example_2/runs/6cib8dfx' target=\"_blank\">fresh-sweep-6</a></strong> to <a href='https://wandb.ai/model-development-and-deployment/training_example_2' target=\"_blank\">Weights & Biases</a> (<a href='https://wandb.me/run' target=\"_blank\">docs</a>)<br/>Sweep page: <a href='https://wandb.ai/model-development-and-deployment/training_example_2/sweeps/ajrs06xj' target=\"_blank\">https://wandb.ai/model-development-and-deployment/training_example_2/sweeps/ajrs06xj</a>"
     },
     "metadata": {},
     "output_type": "display_data"
    },
    {
     "data": {
      "text/plain": "<IPython.core.display.HTML object>",
      "text/html": " View project at <a href='https://wandb.ai/model-development-and-deployment/training_example_2' target=\"_blank\">https://wandb.ai/model-development-and-deployment/training_example_2</a>"
     },
     "metadata": {},
     "output_type": "display_data"
    },
    {
     "data": {
      "text/plain": "<IPython.core.display.HTML object>",
      "text/html": " View sweep at <a href='https://wandb.ai/model-development-and-deployment/training_example_2/sweeps/ajrs06xj' target=\"_blank\">https://wandb.ai/model-development-and-deployment/training_example_2/sweeps/ajrs06xj</a>"
     },
     "metadata": {},
     "output_type": "display_data"
    },
    {
     "data": {
      "text/plain": "<IPython.core.display.HTML object>",
      "text/html": " View run at <a href='https://wandb.ai/model-development-and-deployment/training_example_2/runs/6cib8dfx' target=\"_blank\">https://wandb.ai/model-development-and-deployment/training_example_2/runs/6cib8dfx</a>"
     },
     "metadata": {},
     "output_type": "display_data"
    },
    {
     "name": "stdout",
     "output_type": "stream",
     "text": [
      "fatalities003_nl_baseline_rf\n",
      "Calibration partition\n",
      " * == Performing a run: \"fatalities003_nl_baseline_rf_calib_log\" == * \n",
      "Model object named \"fatalities003_nl_baseline_rf_calib_log\" with equivalent metadata already exists.\n",
      "Retrain is true, overwriting \"fatalities003_nl_baseline_rf_calib_log\"\n",
      "Training model(s)...\n",
      "Storing \"fatalities003_nl_baseline_rf_calib_log\"\n",
      "Getting predictions\n",
      "pr_56_cm_fatalities003_nl_baseline_rf_calib_log_estimators_300_lr_0.1.parquet\n",
      "cm_fatalities003_nl_baseline_rf_calib_log_estimators_300_lr_0.1 , run Fatalities003 does not exist, predicting\n",
      "Test partition\n",
      " * == Performing a run: \"fatalities003_nl_baseline_rf_test_log\" == * \n",
      "Model object named \"fatalities003_nl_baseline_rf_test_log\" with equivalent metadata already exists.\n",
      "Retrain is true, overwriting \"fatalities003_nl_baseline_rf_test_log\"\n",
      "Training model(s)...\n",
      "Storing \"fatalities003_nl_baseline_rf_test_log\"\n",
      "Getting predictions\n",
      "pr_56_cm_fatalities003_nl_baseline_rf_test_log_estimators_300_lr_0.1.parquet\n",
      "cm_fatalities003_nl_baseline_rf_test_log_estimators_300_lr_0.1 , run Fatalities003 does not exist, predicting\n",
      "**************************************************************\n",
      "Evaluating models\n",
      "pr_56_cm_fatalities003_nl_baseline_rf_calib_log_estimators_300_lr_0.1.parquet\n",
      "mse 230542.38110457914\n"
     ]
    },
    {
     "data": {
      "text/plain": "VBox(children=(Label(value='0.001 MB of 0.001 MB uploaded\\r'), FloatProgress(value=1.0, max=1.0)))",
      "application/vnd.jupyter.widget-view+json": {
       "version_major": 2,
       "version_minor": 0,
       "model_id": "ff15fdee2a804cba9cd0b7f02fab3a8f"
      }
     },
     "metadata": {},
     "output_type": "display_data"
    },
    {
     "data": {
      "text/plain": "<IPython.core.display.HTML object>",
      "text/html": "<style>\n    table.wandb td:nth-child(1) { padding: 0 10px; text-align: left ; width: auto;} td:nth-child(2) {text-align: left ; width: 100%}\n    .wandb-row { display: flex; flex-direction: row; flex-wrap: wrap; justify-content: flex-start; width: 100% }\n    .wandb-col { display: flex; flex-direction: column; flex-basis: 100%; flex: 1; padding: 10px; }\n    </style>\n<div class=\"wandb-row\"><div class=\"wandb-col\"><h3>Run history:</h3><br/><table class=\"wandb\"><tr><td>mse</td><td>▁</td></tr></table><br/></div><div class=\"wandb-col\"><h3>Run summary:</h3><br/><table class=\"wandb\"><tr><td>mse</td><td>230542.3811</td></tr></table><br/></div></div>"
     },
     "metadata": {},
     "output_type": "display_data"
    },
    {
     "data": {
      "text/plain": "<IPython.core.display.HTML object>",
      "text/html": " View run <strong style=\"color:#cdcd00\">fresh-sweep-6</strong> at: <a href='https://wandb.ai/model-development-and-deployment/training_example_2/runs/6cib8dfx' target=\"_blank\">https://wandb.ai/model-development-and-deployment/training_example_2/runs/6cib8dfx</a><br/>Synced 6 W&B file(s), 0 media file(s), 0 artifact file(s) and 0 other file(s)"
     },
     "metadata": {},
     "output_type": "display_data"
    },
    {
     "data": {
      "text/plain": "<IPython.core.display.HTML object>",
      "text/html": "Find logs at: <code>./wandb/run-20231119_112135-6cib8dfx/logs</code>"
     },
     "metadata": {},
     "output_type": "display_data"
    },
    {
     "name": "stderr",
     "output_type": "stream",
     "text": [
      "wandb: Agent Starting Run: vy3afban with config:\n",
      "wandb: \tlearning_rate: 0.2\n",
      "wandb: \tn_estimators: 100\n",
      "wandb: \tn_jobs: 12\n"
     ]
    },
    {
     "data": {
      "text/plain": "<IPython.core.display.HTML object>",
      "text/html": "Tracking run with wandb version 0.16.0"
     },
     "metadata": {},
     "output_type": "display_data"
    },
    {
     "data": {
      "text/plain": "<IPython.core.display.HTML object>",
      "text/html": "Run data is saved locally in <code>/Users/xiaolong/Weights-and-Biases/wandb/run-20231119_112438-vy3afban</code>"
     },
     "metadata": {},
     "output_type": "display_data"
    },
    {
     "data": {
      "text/plain": "<IPython.core.display.HTML object>",
      "text/html": "Syncing run <strong><a href='https://wandb.ai/model-development-and-deployment/training_example_2/runs/vy3afban' target=\"_blank\">exalted-sweep-7</a></strong> to <a href='https://wandb.ai/model-development-and-deployment/training_example_2' target=\"_blank\">Weights & Biases</a> (<a href='https://wandb.me/run' target=\"_blank\">docs</a>)<br/>Sweep page: <a href='https://wandb.ai/model-development-and-deployment/training_example_2/sweeps/ajrs06xj' target=\"_blank\">https://wandb.ai/model-development-and-deployment/training_example_2/sweeps/ajrs06xj</a>"
     },
     "metadata": {},
     "output_type": "display_data"
    },
    {
     "data": {
      "text/plain": "<IPython.core.display.HTML object>",
      "text/html": " View project at <a href='https://wandb.ai/model-development-and-deployment/training_example_2' target=\"_blank\">https://wandb.ai/model-development-and-deployment/training_example_2</a>"
     },
     "metadata": {},
     "output_type": "display_data"
    },
    {
     "data": {
      "text/plain": "<IPython.core.display.HTML object>",
      "text/html": " View sweep at <a href='https://wandb.ai/model-development-and-deployment/training_example_2/sweeps/ajrs06xj' target=\"_blank\">https://wandb.ai/model-development-and-deployment/training_example_2/sweeps/ajrs06xj</a>"
     },
     "metadata": {},
     "output_type": "display_data"
    },
    {
     "data": {
      "text/plain": "<IPython.core.display.HTML object>",
      "text/html": " View run at <a href='https://wandb.ai/model-development-and-deployment/training_example_2/runs/vy3afban' target=\"_blank\">https://wandb.ai/model-development-and-deployment/training_example_2/runs/vy3afban</a>"
     },
     "metadata": {},
     "output_type": "display_data"
    },
    {
     "name": "stdout",
     "output_type": "stream",
     "text": [
      "fatalities003_nl_baseline_rf\n",
      "Calibration partition\n",
      " * == Performing a run: \"fatalities003_nl_baseline_rf_calib_log\" == * \n",
      "Model object named \"fatalities003_nl_baseline_rf_calib_log\" with equivalent metadata already exists.\n",
      "Retrain is true, overwriting \"fatalities003_nl_baseline_rf_calib_log\"\n",
      "Training model(s)...\n",
      "Storing \"fatalities003_nl_baseline_rf_calib_log\"\n",
      "Getting predictions\n",
      "pr_56_cm_fatalities003_nl_baseline_rf_calib_log_estimators_100_lr_0.2.parquet\n",
      "cm_fatalities003_nl_baseline_rf_calib_log_estimators_100_lr_0.2 , run Fatalities003 does not exist, predicting\n",
      "Test partition\n",
      " * == Performing a run: \"fatalities003_nl_baseline_rf_test_log\" == * \n",
      "Model object named \"fatalities003_nl_baseline_rf_test_log\" with equivalent metadata already exists.\n",
      "Retrain is true, overwriting \"fatalities003_nl_baseline_rf_test_log\"\n",
      "Training model(s)...\n",
      "Storing \"fatalities003_nl_baseline_rf_test_log\"\n",
      "Getting predictions\n",
      "pr_56_cm_fatalities003_nl_baseline_rf_test_log_estimators_100_lr_0.2.parquet\n",
      "cm_fatalities003_nl_baseline_rf_test_log_estimators_100_lr_0.2 , run Fatalities003 does not exist, predicting\n",
      "**************************************************************\n",
      "Evaluating models\n",
      "pr_56_cm_fatalities003_nl_baseline_rf_calib_log_estimators_100_lr_0.2.parquet\n",
      "mse 230467.62451095402\n"
     ]
    },
    {
     "data": {
      "text/plain": "VBox(children=(Label(value='0.001 MB of 0.008 MB uploaded\\r'), FloatProgress(value=0.11605797101449275, max=1.…",
      "application/vnd.jupyter.widget-view+json": {
       "version_major": 2,
       "version_minor": 0,
       "model_id": "2d524c3bb31a49708ecbfd7546fbe9c7"
      }
     },
     "metadata": {},
     "output_type": "display_data"
    },
    {
     "data": {
      "text/plain": "<IPython.core.display.HTML object>",
      "text/html": "<style>\n    table.wandb td:nth-child(1) { padding: 0 10px; text-align: left ; width: auto;} td:nth-child(2) {text-align: left ; width: 100%}\n    .wandb-row { display: flex; flex-direction: row; flex-wrap: wrap; justify-content: flex-start; width: 100% }\n    .wandb-col { display: flex; flex-direction: column; flex-basis: 100%; flex: 1; padding: 10px; }\n    </style>\n<div class=\"wandb-row\"><div class=\"wandb-col\"><h3>Run history:</h3><br/><table class=\"wandb\"><tr><td>mse</td><td>▁</td></tr></table><br/></div><div class=\"wandb-col\"><h3>Run summary:</h3><br/><table class=\"wandb\"><tr><td>mse</td><td>230467.62451</td></tr></table><br/></div></div>"
     },
     "metadata": {},
     "output_type": "display_data"
    },
    {
     "data": {
      "text/plain": "<IPython.core.display.HTML object>",
      "text/html": " View run <strong style=\"color:#cdcd00\">exalted-sweep-7</strong> at: <a href='https://wandb.ai/model-development-and-deployment/training_example_2/runs/vy3afban' target=\"_blank\">https://wandb.ai/model-development-and-deployment/training_example_2/runs/vy3afban</a><br/>Synced 6 W&B file(s), 0 media file(s), 0 artifact file(s) and 0 other file(s)"
     },
     "metadata": {},
     "output_type": "display_data"
    },
    {
     "data": {
      "text/plain": "<IPython.core.display.HTML object>",
      "text/html": "Find logs at: <code>./wandb/run-20231119_112438-vy3afban/logs</code>"
     },
     "metadata": {},
     "output_type": "display_data"
    },
    {
     "name": "stderr",
     "output_type": "stream",
     "text": [
      "wandb: Agent Starting Run: 1e6usc9q with config:\n",
      "wandb: \tlearning_rate: 0.2\n",
      "wandb: \tn_estimators: 200\n",
      "wandb: \tn_jobs: 12\n"
     ]
    },
    {
     "data": {
      "text/plain": "<IPython.core.display.HTML object>",
      "text/html": "Tracking run with wandb version 0.16.0"
     },
     "metadata": {},
     "output_type": "display_data"
    },
    {
     "data": {
      "text/plain": "<IPython.core.display.HTML object>",
      "text/html": "Run data is saved locally in <code>/Users/xiaolong/Weights-and-Biases/wandb/run-20231119_112607-1e6usc9q</code>"
     },
     "metadata": {},
     "output_type": "display_data"
    },
    {
     "data": {
      "text/plain": "<IPython.core.display.HTML object>",
      "text/html": "Syncing run <strong><a href='https://wandb.ai/model-development-and-deployment/training_example_2/runs/1e6usc9q' target=\"_blank\">crimson-sweep-8</a></strong> to <a href='https://wandb.ai/model-development-and-deployment/training_example_2' target=\"_blank\">Weights & Biases</a> (<a href='https://wandb.me/run' target=\"_blank\">docs</a>)<br/>Sweep page: <a href='https://wandb.ai/model-development-and-deployment/training_example_2/sweeps/ajrs06xj' target=\"_blank\">https://wandb.ai/model-development-and-deployment/training_example_2/sweeps/ajrs06xj</a>"
     },
     "metadata": {},
     "output_type": "display_data"
    },
    {
     "data": {
      "text/plain": "<IPython.core.display.HTML object>",
      "text/html": " View project at <a href='https://wandb.ai/model-development-and-deployment/training_example_2' target=\"_blank\">https://wandb.ai/model-development-and-deployment/training_example_2</a>"
     },
     "metadata": {},
     "output_type": "display_data"
    },
    {
     "data": {
      "text/plain": "<IPython.core.display.HTML object>",
      "text/html": " View sweep at <a href='https://wandb.ai/model-development-and-deployment/training_example_2/sweeps/ajrs06xj' target=\"_blank\">https://wandb.ai/model-development-and-deployment/training_example_2/sweeps/ajrs06xj</a>"
     },
     "metadata": {},
     "output_type": "display_data"
    },
    {
     "data": {
      "text/plain": "<IPython.core.display.HTML object>",
      "text/html": " View run at <a href='https://wandb.ai/model-development-and-deployment/training_example_2/runs/1e6usc9q' target=\"_blank\">https://wandb.ai/model-development-and-deployment/training_example_2/runs/1e6usc9q</a>"
     },
     "metadata": {},
     "output_type": "display_data"
    },
    {
     "name": "stdout",
     "output_type": "stream",
     "text": [
      "fatalities003_nl_baseline_rf\n",
      "Calibration partition\n",
      " * == Performing a run: \"fatalities003_nl_baseline_rf_calib_log\" == * \n",
      "Model object named \"fatalities003_nl_baseline_rf_calib_log\" with equivalent metadata already exists.\n",
      "Retrain is true, overwriting \"fatalities003_nl_baseline_rf_calib_log\"\n",
      "Training model(s)...\n",
      "Storing \"fatalities003_nl_baseline_rf_calib_log\"\n",
      "Getting predictions\n",
      "pr_56_cm_fatalities003_nl_baseline_rf_calib_log_estimators_200_lr_0.2.parquet\n",
      "cm_fatalities003_nl_baseline_rf_calib_log_estimators_200_lr_0.2 , run Fatalities003 does not exist, predicting\n",
      "Test partition\n",
      " * == Performing a run: \"fatalities003_nl_baseline_rf_test_log\" == * \n",
      "Model object named \"fatalities003_nl_baseline_rf_test_log\" with equivalent metadata already exists.\n",
      "Retrain is true, overwriting \"fatalities003_nl_baseline_rf_test_log\"\n",
      "Training model(s)...\n",
      "Storing \"fatalities003_nl_baseline_rf_test_log\"\n",
      "Getting predictions\n",
      "pr_56_cm_fatalities003_nl_baseline_rf_test_log_estimators_200_lr_0.2.parquet\n",
      "cm_fatalities003_nl_baseline_rf_test_log_estimators_200_lr_0.2 , run Fatalities003 does not exist, predicting\n",
      "**************************************************************\n",
      "Evaluating models\n",
      "pr_56_cm_fatalities003_nl_baseline_rf_calib_log_estimators_200_lr_0.2.parquet\n",
      "mse 230467.6076039277\n"
     ]
    },
    {
     "data": {
      "text/plain": "VBox(children=(Label(value='0.001 MB of 0.019 MB uploaded\\r'), FloatProgress(value=0.05134913306658459, max=1.…",
      "application/vnd.jupyter.widget-view+json": {
       "version_major": 2,
       "version_minor": 0,
       "model_id": "983f9f5a017d49e7a7e42feec3b45d92"
      }
     },
     "metadata": {},
     "output_type": "display_data"
    },
    {
     "data": {
      "text/plain": "<IPython.core.display.HTML object>",
      "text/html": "<style>\n    table.wandb td:nth-child(1) { padding: 0 10px; text-align: left ; width: auto;} td:nth-child(2) {text-align: left ; width: 100%}\n    .wandb-row { display: flex; flex-direction: row; flex-wrap: wrap; justify-content: flex-start; width: 100% }\n    .wandb-col { display: flex; flex-direction: column; flex-basis: 100%; flex: 1; padding: 10px; }\n    </style>\n<div class=\"wandb-row\"><div class=\"wandb-col\"><h3>Run history:</h3><br/><table class=\"wandb\"><tr><td>mse</td><td>▁</td></tr></table><br/></div><div class=\"wandb-col\"><h3>Run summary:</h3><br/><table class=\"wandb\"><tr><td>mse</td><td>230467.6076</td></tr></table><br/></div></div>"
     },
     "metadata": {},
     "output_type": "display_data"
    },
    {
     "data": {
      "text/plain": "<IPython.core.display.HTML object>",
      "text/html": " View run <strong style=\"color:#cdcd00\">crimson-sweep-8</strong> at: <a href='https://wandb.ai/model-development-and-deployment/training_example_2/runs/1e6usc9q' target=\"_blank\">https://wandb.ai/model-development-and-deployment/training_example_2/runs/1e6usc9q</a><br/>Synced 6 W&B file(s), 0 media file(s), 0 artifact file(s) and 0 other file(s)"
     },
     "metadata": {},
     "output_type": "display_data"
    },
    {
     "data": {
      "text/plain": "<IPython.core.display.HTML object>",
      "text/html": "Find logs at: <code>./wandb/run-20231119_112607-1e6usc9q/logs</code>"
     },
     "metadata": {},
     "output_type": "display_data"
    },
    {
     "name": "stderr",
     "output_type": "stream",
     "text": [
      "wandb: Agent Starting Run: aa8nf0z0 with config:\n",
      "wandb: \tlearning_rate: 0.2\n",
      "wandb: \tn_estimators: 300\n",
      "wandb: \tn_jobs: 12\n"
     ]
    },
    {
     "data": {
      "text/plain": "<IPython.core.display.HTML object>",
      "text/html": "Tracking run with wandb version 0.16.0"
     },
     "metadata": {},
     "output_type": "display_data"
    },
    {
     "data": {
      "text/plain": "<IPython.core.display.HTML object>",
      "text/html": "Run data is saved locally in <code>/Users/xiaolong/Weights-and-Biases/wandb/run-20231119_112816-aa8nf0z0</code>"
     },
     "metadata": {},
     "output_type": "display_data"
    },
    {
     "data": {
      "text/plain": "<IPython.core.display.HTML object>",
      "text/html": "Syncing run <strong><a href='https://wandb.ai/model-development-and-deployment/training_example_2/runs/aa8nf0z0' target=\"_blank\">jumping-sweep-9</a></strong> to <a href='https://wandb.ai/model-development-and-deployment/training_example_2' target=\"_blank\">Weights & Biases</a> (<a href='https://wandb.me/run' target=\"_blank\">docs</a>)<br/>Sweep page: <a href='https://wandb.ai/model-development-and-deployment/training_example_2/sweeps/ajrs06xj' target=\"_blank\">https://wandb.ai/model-development-and-deployment/training_example_2/sweeps/ajrs06xj</a>"
     },
     "metadata": {},
     "output_type": "display_data"
    },
    {
     "data": {
      "text/plain": "<IPython.core.display.HTML object>",
      "text/html": " View project at <a href='https://wandb.ai/model-development-and-deployment/training_example_2' target=\"_blank\">https://wandb.ai/model-development-and-deployment/training_example_2</a>"
     },
     "metadata": {},
     "output_type": "display_data"
    },
    {
     "data": {
      "text/plain": "<IPython.core.display.HTML object>",
      "text/html": " View sweep at <a href='https://wandb.ai/model-development-and-deployment/training_example_2/sweeps/ajrs06xj' target=\"_blank\">https://wandb.ai/model-development-and-deployment/training_example_2/sweeps/ajrs06xj</a>"
     },
     "metadata": {},
     "output_type": "display_data"
    },
    {
     "data": {
      "text/plain": "<IPython.core.display.HTML object>",
      "text/html": " View run at <a href='https://wandb.ai/model-development-and-deployment/training_example_2/runs/aa8nf0z0' target=\"_blank\">https://wandb.ai/model-development-and-deployment/training_example_2/runs/aa8nf0z0</a>"
     },
     "metadata": {},
     "output_type": "display_data"
    },
    {
     "name": "stdout",
     "output_type": "stream",
     "text": [
      "fatalities003_nl_baseline_rf\n",
      "Calibration partition\n",
      " * == Performing a run: \"fatalities003_nl_baseline_rf_calib_log\" == * \n",
      "Model object named \"fatalities003_nl_baseline_rf_calib_log\" with equivalent metadata already exists.\n",
      "Retrain is true, overwriting \"fatalities003_nl_baseline_rf_calib_log\"\n",
      "Training model(s)...\n",
      "Storing \"fatalities003_nl_baseline_rf_calib_log\"\n",
      "Getting predictions\n",
      "pr_56_cm_fatalities003_nl_baseline_rf_calib_log_estimators_300_lr_0.2.parquet\n",
      "cm_fatalities003_nl_baseline_rf_calib_log_estimators_300_lr_0.2 , run Fatalities003 does not exist, predicting\n",
      "Test partition\n",
      " * == Performing a run: \"fatalities003_nl_baseline_rf_test_log\" == * \n",
      "Model object named \"fatalities003_nl_baseline_rf_test_log\" with equivalent metadata already exists.\n",
      "Retrain is true, overwriting \"fatalities003_nl_baseline_rf_test_log\"\n",
      "Training model(s)...\n",
      "Storing \"fatalities003_nl_baseline_rf_test_log\"\n",
      "Getting predictions\n",
      "pr_56_cm_fatalities003_nl_baseline_rf_test_log_estimators_300_lr_0.2.parquet\n",
      "cm_fatalities003_nl_baseline_rf_test_log_estimators_300_lr_0.2 , run Fatalities003 does not exist, predicting\n",
      "**************************************************************\n",
      "Evaluating models\n",
      "pr_56_cm_fatalities003_nl_baseline_rf_calib_log_estimators_300_lr_0.2.parquet\n",
      "mse 230467.81067284368\n"
     ]
    },
    {
     "data": {
      "text/plain": "VBox(children=(Label(value='0.001 MB of 0.001 MB uploaded\\r'), FloatProgress(value=1.0, max=1.0)))",
      "application/vnd.jupyter.widget-view+json": {
       "version_major": 2,
       "version_minor": 0,
       "model_id": "563a2598b6d54afbab469ecc8995f581"
      }
     },
     "metadata": {},
     "output_type": "display_data"
    },
    {
     "data": {
      "text/plain": "<IPython.core.display.HTML object>",
      "text/html": "<style>\n    table.wandb td:nth-child(1) { padding: 0 10px; text-align: left ; width: auto;} td:nth-child(2) {text-align: left ; width: 100%}\n    .wandb-row { display: flex; flex-direction: row; flex-wrap: wrap; justify-content: flex-start; width: 100% }\n    .wandb-col { display: flex; flex-direction: column; flex-basis: 100%; flex: 1; padding: 10px; }\n    </style>\n<div class=\"wandb-row\"><div class=\"wandb-col\"><h3>Run history:</h3><br/><table class=\"wandb\"><tr><td>mse</td><td>▁</td></tr></table><br/></div><div class=\"wandb-col\"><h3>Run summary:</h3><br/><table class=\"wandb\"><tr><td>mse</td><td>230467.81067</td></tr></table><br/></div></div>"
     },
     "metadata": {},
     "output_type": "display_data"
    },
    {
     "data": {
      "text/plain": "<IPython.core.display.HTML object>",
      "text/html": " View run <strong style=\"color:#cdcd00\">jumping-sweep-9</strong> at: <a href='https://wandb.ai/model-development-and-deployment/training_example_2/runs/aa8nf0z0' target=\"_blank\">https://wandb.ai/model-development-and-deployment/training_example_2/runs/aa8nf0z0</a><br/>Synced 6 W&B file(s), 0 media file(s), 0 artifact file(s) and 0 other file(s)"
     },
     "metadata": {},
     "output_type": "display_data"
    },
    {
     "data": {
      "text/plain": "<IPython.core.display.HTML object>",
      "text/html": "Find logs at: <code>./wandb/run-20231119_112816-aa8nf0z0/logs</code>"
     },
     "metadata": {},
     "output_type": "display_data"
    },
    {
     "name": "stderr",
     "output_type": "stream",
     "text": [
      "wandb: Sweep Agent: Waiting for job.\n",
      "wandb: Sweep Agent: Exiting.\n"
     ]
    }
   ],
   "source": [
    "sweep_id = wandb.sweep(sweep_configuration, project=wandb_config['project'])\n",
    "wandb.agent(sweep_id, function=train)"
   ],
   "metadata": {
    "collapsed": false,
    "ExecuteTime": {
     "end_time": "2023-11-19T10:31:27.926633Z",
     "start_time": "2023-11-19T10:11:09.952902Z"
    }
   },
   "id": "78037068bfd32ce8"
  },
  {
   "cell_type": "code",
   "execution_count": null,
   "outputs": [],
   "source": [],
   "metadata": {
    "collapsed": false
   },
   "id": "81c11af04700a0bb"
  }
 ],
 "metadata": {
  "kernelspec": {
   "display_name": "Python 3",
   "language": "python",
   "name": "python3"
  },
  "language_info": {
   "codemirror_mode": {
    "name": "ipython",
    "version": 2
   },
   "file_extension": ".py",
   "mimetype": "text/x-python",
   "name": "python",
   "nbconvert_exporter": "python",
   "pygments_lexer": "ipython2",
   "version": "2.7.6"
  }
 },
 "nbformat": 4,
 "nbformat_minor": 5
}
