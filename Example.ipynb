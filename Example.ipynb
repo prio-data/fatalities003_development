{
 "cells": [
  {
   "cell_type": "code",
   "execution_count": 1,
   "id": "initial_id",
   "metadata": {
    "collapsed": true,
    "ExecuteTime": {
     "end_time": "2023-12-19T13:13:32.173537Z",
     "start_time": "2023-12-19T13:13:30.020523Z"
    }
   },
   "outputs": [],
   "source": [
    "import numpy as np\n",
    "import warnings\n",
    "warnings.filterwarnings('ignore')\n",
    "import wandb\n",
    "from pathlib import Path\n",
    "\n",
    "from views_forecasts.extensions import *\n",
    "from utils import fetch_data, transform_data, get_config_path, get_config_from_path, retrain_transformed_sweep, evaluate\n",
    "from utils_map import plot_cm_map, plot_pgm_map\n",
    "\n",
    "import os\n",
    "os.environ['WANDB_SILENT'] = 'true'\n"
   ]
  },
  {
   "cell_type": "code",
   "execution_count": 2,
   "outputs": [],
   "source": [
    "level = 'cm'\n",
    "config_path = Path('./my_config_cm')"
   ],
   "metadata": {
    "collapsed": false,
    "ExecuteTime": {
     "end_time": "2023-12-19T13:13:32.178386Z",
     "start_time": "2023-12-19T13:13:32.174576Z"
    }
   },
   "id": "258d80492423936e"
  },
  {
   "cell_type": "code",
   "execution_count": 3,
   "outputs": [
    {
     "name": "stdout",
     "output_type": "stream",
     "text": [
      "Fetching query sets\n",
      " .     Fetching datasets\n",
      " .     "
     ]
    }
   ],
   "source": [
    "transforms = ['raw', 'log', 'normalize', 'standardize']\n",
    "Datasets_transformed = {}\n",
    "para_transformed = {}\n",
    "qslist, Datasets = fetch_data(level)\n",
    "for t in transforms:\n",
    "    Datasets_transformed[t], para_transformed[t] = transform_data(Datasets, t, level, by_group=True)"
   ],
   "metadata": {
    "collapsed": false,
    "ExecuteTime": {
     "end_time": "2023-12-19T13:23:54.529505Z",
     "start_time": "2023-12-19T13:13:32.177367Z"
    }
   },
   "id": "8c67aa78538f2606"
  },
  {
   "cell_type": "code",
   "execution_count": 16,
   "outputs": [],
   "source": [
    "def train():\n",
    "    run = wandb.init()\n",
    "    model_paras = [para for para in run.config.keys() if para !='transform']\n",
    "    run_name = f'transform_{run.config[\"transform\"]}'\n",
    "    for para in model_paras:\n",
    "        run_name += f'_{para}_{run.config[para]}'\n",
    "    wandb.run.name = run_name\n",
    "    # print(run_name)\n",
    "    \n",
    "    wandb.config.update(common_config, allow_val_change=True)\n",
    "    wandb.config.update(model_config, allow_val_change=True)\n",
    "    \n",
    "    retrain_transformed_sweep(Datasets_transformed, model_paras)\n",
    "    evaluate('calib', para_transformed, by_group=True)\n",
    "    run.finish()"
   ],
   "metadata": {
    "collapsed": false,
    "ExecuteTime": {
     "end_time": "2023-12-19T09:44:46.690399Z",
     "start_time": "2023-12-19T09:44:46.680243Z"
    }
   },
   "id": "fe9dd60a4acbe489"
  },
  {
   "cell_type": "code",
   "execution_count": 15,
   "outputs": [],
   "source": [
    "common_config_path, wandb_config_path, model_config_path, sweep_config_path = get_config_path(config_path)\n",
    "common_config = get_config_from_path(common_config_path, 'common')\n",
    "wandb_config = get_config_from_path(wandb_config_path, 'wandb')"
   ],
   "metadata": {
    "collapsed": false,
    "ExecuteTime": {
     "end_time": "2023-12-19T09:43:52.824141Z",
     "start_time": "2023-12-19T09:43:52.819462Z"
    }
   },
   "id": "31ef9d81989d847e"
  },
  {
   "cell_type": "code",
   "execution_count": 12,
   "outputs": [
    {
     "name": "stdout",
     "output_type": "stream",
     "text": [
      "Create sweep with ID: 7wx39ouu\n",
      "Sweep URL: https://wandb.ai/model-development-and-deployment/test001/sweeps/7wx39ouu\n",
      "['learning_rate', 'n_estimators', 'n_jobs', 'transform']\n",
      "['learning_rate', 'n_estimators', 'n_jobs', 'transform']\n",
      "Finish sweeping over model fatalities003_pgm_baseline_lgbm\n"
     ]
    }
   ],
   "source": [
    "for sweep_file in sweep_config_path.iterdir():\n",
    "    if sweep_file.is_file():\n",
    "        model_file = model_config_path / sweep_file.name\n",
    "        if not model_file.is_file():\n",
    "            raise FileNotFoundError(f'The corresponding model configuration file {model_file} does not exist.')\n",
    "\n",
    "        sweep_config = get_config_from_path(sweep_file, 'sweep')\n",
    "        model_config = get_config_from_path(model_file, 'model')\n",
    "    \n",
    "        if sweep_file.stem.split('_')[-2] == 'hurdle':\n",
    "            continue # Currently Hurdle models are not supported\n",
    "        model = sweep_file.stem.split('_')[-1]\n",
    "        # sweep_paras = PARA_DICT[model]\n",
    "        sweep_id = wandb.sweep(sweep_config, project=wandb_config['project'],\n",
    "                               entity=wandb_config['entity'])\n",
    "        wandb.agent(sweep_id, function=train)\n",
    "        print(f'Finish sweeping over model {sweep_file.stem}')\n",
    "    break"
   ],
   "metadata": {
    "collapsed": false,
    "ExecuteTime": {
     "end_time": "2023-12-19T09:34:41.368908Z",
     "start_time": "2023-12-19T09:34:16.913763Z"
    }
   },
   "id": "a626b357890f0e85"
  },
  {
   "cell_type": "code",
   "execution_count": 11,
   "outputs": [],
   "source": [
    "stepcols = ['ged_sb_dep']\n",
    "steps = [*range(1, 36 + 1, 1)]\n",
    "for step in steps:\n",
    "    stepcols.append('step_pred_' + str(step))\n",
    "run_id = 'Fatalities003'\n",
    "name = 'cm_fatalities003_nl_baseline_rf_calib_transform_raw_n_estimators_100_n_jobs_15_learning_rate_0.05_max_depth_12_min_child_weight_12_subsample_0.5_colsample_bytree_0.5'"
   ],
   "metadata": {
    "collapsed": false,
    "ExecuteTime": {
     "end_time": "2023-12-12T11:03:25.375767Z",
     "start_time": "2023-12-12T11:03:25.362071Z"
    }
   },
   "id": "19bce815f945bbae"
  },
  {
   "cell_type": "code",
   "execution_count": 14,
   "outputs": [
    {
     "name": "stdout",
     "output_type": "stream",
     "text": [
      "pr_56_cm_fatalities003_nl_baseline_rf_calib_transform_raw_n_estimators_100_n_jobs_15_learning_rate_0.05_max_depth_12_min_child_weight_12_subsample_0.5_colsample_bytree_0.5.parquet\n"
     ]
    },
    {
     "data": {
      "text/plain": "         ged_sb_dep  step_pred_1  step_pred_2  step_pred_3  step_pred_4  \\\ncount   9168.000000  9168.000000  9168.000000  9168.000000  9168.000000   \nmean      43.984293     2.763453     2.719436     2.763168     1.894036   \nstd      478.269169     3.672684     3.542995     3.772312     2.644334   \nmin        0.000000     0.480216     0.480745     0.482173     0.490586   \n25%        0.000000     0.748876     0.772803     0.729018     0.711627   \n50%        0.000000     2.634222     2.419861     2.716885     1.371664   \n75%        0.000000     3.265092     3.173449     3.235476     1.622635   \nmax    19000.000000    46.281792    47.852463    49.803467    33.822624   \n\n       step_pred_5  step_pred_6  step_pred_7  step_pred_8  step_pred_9  ...  \\\ncount  9168.000000  9168.000000  9168.000000  9168.000000  9168.000000  ...   \nmean      1.928245     1.827149     1.621647     1.837690     1.649706  ...   \nstd       2.367929     2.027407     1.869207     2.093655     1.758595  ...   \nmin       0.491545     0.485932     0.496379     0.491325     0.493941  ...   \n25%       0.791510     0.739163     0.752162     0.738416     0.753256  ...   \n50%       1.396560     1.437981     1.095765     1.448651     1.228742  ...   \n75%       1.757818     1.741029     1.335304     1.620372     1.421709  ...   \nmax      28.254168    28.297398    17.863476    23.644480    18.066242  ...   \n\n       step_pred_27  step_pred_28  step_pred_29  step_pred_30  step_pred_31  \\\ncount   9168.000000   9168.000000   9168.000000   9168.000000   9168.000000   \nmean       1.242454      1.237369      1.164332      1.202674      1.216925   \nstd        1.432982      1.447862      1.432327      1.397935      1.329776   \nmin        0.000000      0.000000      0.000000      0.000000      0.000000   \n25%        0.650071      0.647873      0.608584      0.632843      0.649850   \n50%        0.745319      0.729310      0.657638      0.716428      0.750603   \n75%        0.967016      0.993814      0.858438      0.967920      0.985358   \nmax       20.867840     22.295361     28.512068     24.516321     16.908724   \n\n       step_pred_32  step_pred_33  step_pred_34  step_pred_35  step_pred_36  \ncount   9168.000000   9168.000000   9168.000000   9168.000000   9168.000000  \nmean       1.166410      1.115325      1.138484      1.148242      1.224143  \nstd        1.451369      1.308437      1.410775      1.367916      1.252939  \nmin        0.000000      0.000000      0.000000      0.000000      0.000000  \n25%        0.600785      0.527729      0.576196      0.598334      0.699598  \n50%        0.643519      0.587826      0.602538      0.630868      0.793501  \n75%        0.851137      0.967359      0.895460      0.911281      1.062088  \nmax       20.122360     16.604708     29.344843     22.985306     15.077058  \n\n[8 rows x 37 columns]",
      "text/html": "<div>\n<style scoped>\n    .dataframe tbody tr th:only-of-type {\n        vertical-align: middle;\n    }\n\n    .dataframe tbody tr th {\n        vertical-align: top;\n    }\n\n    .dataframe thead th {\n        text-align: right;\n    }\n</style>\n<table border=\"1\" class=\"dataframe\">\n  <thead>\n    <tr style=\"text-align: right;\">\n      <th></th>\n      <th>ged_sb_dep</th>\n      <th>step_pred_1</th>\n      <th>step_pred_2</th>\n      <th>step_pred_3</th>\n      <th>step_pred_4</th>\n      <th>step_pred_5</th>\n      <th>step_pred_6</th>\n      <th>step_pred_7</th>\n      <th>step_pred_8</th>\n      <th>step_pred_9</th>\n      <th>...</th>\n      <th>step_pred_27</th>\n      <th>step_pred_28</th>\n      <th>step_pred_29</th>\n      <th>step_pred_30</th>\n      <th>step_pred_31</th>\n      <th>step_pred_32</th>\n      <th>step_pred_33</th>\n      <th>step_pred_34</th>\n      <th>step_pred_35</th>\n      <th>step_pred_36</th>\n    </tr>\n  </thead>\n  <tbody>\n    <tr>\n      <th>count</th>\n      <td>9168.000000</td>\n      <td>9168.000000</td>\n      <td>9168.000000</td>\n      <td>9168.000000</td>\n      <td>9168.000000</td>\n      <td>9168.000000</td>\n      <td>9168.000000</td>\n      <td>9168.000000</td>\n      <td>9168.000000</td>\n      <td>9168.000000</td>\n      <td>...</td>\n      <td>9168.000000</td>\n      <td>9168.000000</td>\n      <td>9168.000000</td>\n      <td>9168.000000</td>\n      <td>9168.000000</td>\n      <td>9168.000000</td>\n      <td>9168.000000</td>\n      <td>9168.000000</td>\n      <td>9168.000000</td>\n      <td>9168.000000</td>\n    </tr>\n    <tr>\n      <th>mean</th>\n      <td>43.984293</td>\n      <td>2.763453</td>\n      <td>2.719436</td>\n      <td>2.763168</td>\n      <td>1.894036</td>\n      <td>1.928245</td>\n      <td>1.827149</td>\n      <td>1.621647</td>\n      <td>1.837690</td>\n      <td>1.649706</td>\n      <td>...</td>\n      <td>1.242454</td>\n      <td>1.237369</td>\n      <td>1.164332</td>\n      <td>1.202674</td>\n      <td>1.216925</td>\n      <td>1.166410</td>\n      <td>1.115325</td>\n      <td>1.138484</td>\n      <td>1.148242</td>\n      <td>1.224143</td>\n    </tr>\n    <tr>\n      <th>std</th>\n      <td>478.269169</td>\n      <td>3.672684</td>\n      <td>3.542995</td>\n      <td>3.772312</td>\n      <td>2.644334</td>\n      <td>2.367929</td>\n      <td>2.027407</td>\n      <td>1.869207</td>\n      <td>2.093655</td>\n      <td>1.758595</td>\n      <td>...</td>\n      <td>1.432982</td>\n      <td>1.447862</td>\n      <td>1.432327</td>\n      <td>1.397935</td>\n      <td>1.329776</td>\n      <td>1.451369</td>\n      <td>1.308437</td>\n      <td>1.410775</td>\n      <td>1.367916</td>\n      <td>1.252939</td>\n    </tr>\n    <tr>\n      <th>min</th>\n      <td>0.000000</td>\n      <td>0.480216</td>\n      <td>0.480745</td>\n      <td>0.482173</td>\n      <td>0.490586</td>\n      <td>0.491545</td>\n      <td>0.485932</td>\n      <td>0.496379</td>\n      <td>0.491325</td>\n      <td>0.493941</td>\n      <td>...</td>\n      <td>0.000000</td>\n      <td>0.000000</td>\n      <td>0.000000</td>\n      <td>0.000000</td>\n      <td>0.000000</td>\n      <td>0.000000</td>\n      <td>0.000000</td>\n      <td>0.000000</td>\n      <td>0.000000</td>\n      <td>0.000000</td>\n    </tr>\n    <tr>\n      <th>25%</th>\n      <td>0.000000</td>\n      <td>0.748876</td>\n      <td>0.772803</td>\n      <td>0.729018</td>\n      <td>0.711627</td>\n      <td>0.791510</td>\n      <td>0.739163</td>\n      <td>0.752162</td>\n      <td>0.738416</td>\n      <td>0.753256</td>\n      <td>...</td>\n      <td>0.650071</td>\n      <td>0.647873</td>\n      <td>0.608584</td>\n      <td>0.632843</td>\n      <td>0.649850</td>\n      <td>0.600785</td>\n      <td>0.527729</td>\n      <td>0.576196</td>\n      <td>0.598334</td>\n      <td>0.699598</td>\n    </tr>\n    <tr>\n      <th>50%</th>\n      <td>0.000000</td>\n      <td>2.634222</td>\n      <td>2.419861</td>\n      <td>2.716885</td>\n      <td>1.371664</td>\n      <td>1.396560</td>\n      <td>1.437981</td>\n      <td>1.095765</td>\n      <td>1.448651</td>\n      <td>1.228742</td>\n      <td>...</td>\n      <td>0.745319</td>\n      <td>0.729310</td>\n      <td>0.657638</td>\n      <td>0.716428</td>\n      <td>0.750603</td>\n      <td>0.643519</td>\n      <td>0.587826</td>\n      <td>0.602538</td>\n      <td>0.630868</td>\n      <td>0.793501</td>\n    </tr>\n    <tr>\n      <th>75%</th>\n      <td>0.000000</td>\n      <td>3.265092</td>\n      <td>3.173449</td>\n      <td>3.235476</td>\n      <td>1.622635</td>\n      <td>1.757818</td>\n      <td>1.741029</td>\n      <td>1.335304</td>\n      <td>1.620372</td>\n      <td>1.421709</td>\n      <td>...</td>\n      <td>0.967016</td>\n      <td>0.993814</td>\n      <td>0.858438</td>\n      <td>0.967920</td>\n      <td>0.985358</td>\n      <td>0.851137</td>\n      <td>0.967359</td>\n      <td>0.895460</td>\n      <td>0.911281</td>\n      <td>1.062088</td>\n    </tr>\n    <tr>\n      <th>max</th>\n      <td>19000.000000</td>\n      <td>46.281792</td>\n      <td>47.852463</td>\n      <td>49.803467</td>\n      <td>33.822624</td>\n      <td>28.254168</td>\n      <td>28.297398</td>\n      <td>17.863476</td>\n      <td>23.644480</td>\n      <td>18.066242</td>\n      <td>...</td>\n      <td>20.867840</td>\n      <td>22.295361</td>\n      <td>28.512068</td>\n      <td>24.516321</td>\n      <td>16.908724</td>\n      <td>20.122360</td>\n      <td>16.604708</td>\n      <td>29.344843</td>\n      <td>22.985306</td>\n      <td>15.077058</td>\n    </tr>\n  </tbody>\n</table>\n<p>8 rows × 37 columns</p>\n</div>"
     },
     "execution_count": 14,
     "metadata": {},
     "output_type": "execute_result"
    }
   ],
   "source": [
    "name = 'cm_fatalities003_nl_baseline_rf_calib_transform_raw_n_estimators_100_n_jobs_15_learning_rate_0.05_max_depth_12_min_child_weight_12_subsample_0.5_colsample_bytree_0.5'\n",
    "df = pd.DataFrame.forecasts.read_store(run=run_id, name=name).replace([np.inf, -np.inf], 0)[stepcols]\n",
    "df.describe()"
   ],
   "metadata": {
    "collapsed": false,
    "ExecuteTime": {
     "end_time": "2023-12-12T11:14:39.214842Z",
     "start_time": "2023-12-12T11:14:36.043225Z"
    }
   },
   "id": "a37a789c560bc713"
  },
  {
   "cell_type": "code",
   "execution_count": 22,
   "outputs": [
    {
     "name": "stdout",
     "output_type": "stream",
     "text": [
      "pr_56_cm_fatalities003_nl_baseline_rf_calib_transform_log_n_estimators_100_n_jobs_15_learning_rate_0.05_max_depth_12_min_child_weight_12_subsample_0.5_colsample_bytree_0.5.parquet\n"
     ]
    },
    {
     "data": {
      "text/plain": "                     ged_sb_dep  step_pred_1  step_pred_2  step_pred_3  \\\nmonth_id country_id                                                      \n397      1                  0.0     0.613933     0.616953     0.615754   \n         2                  0.0     0.628708     0.627454     0.626578   \n         3                  0.0     0.620750     0.618255     0.618701   \n         4                  0.0     0.623216     0.613123     0.613084   \n         5                  0.0     0.628965     0.627593     0.626561   \n...                         ...          ...          ...          ...   \n444      242                0.0     0.627109     0.635177     0.629947   \n         243                0.0     0.646165     0.636574     0.633543   \n         244                0.0     0.614472     0.614351     0.612793   \n         245                0.0     0.694161     0.798478     0.900139   \n         246               14.0     0.887280     0.842067     0.759033   \n\n                     step_pred_4  step_pred_5  step_pred_6  step_pred_7  \\\nmonth_id country_id                                                       \n397      1              0.614390     0.616320     0.616750     0.614932   \n         2              0.623116     0.627264     0.625510     0.623309   \n         3              0.618201     0.619136     0.617050     0.617961   \n         4              0.613172     0.614843     0.615930     0.614272   \n         5              0.623811     0.628646     0.624390     0.624241   \n...                          ...          ...          ...          ...   \n444      242            0.625829     0.630717     0.627193     0.628726   \n         243            0.626536     0.643574     0.631771     0.638303   \n         244            0.612464     0.612587     0.613666     0.612700   \n         245            0.834527     0.846576     0.877188     0.880774   \n         246            0.913548     0.898830     0.806334     0.801293   \n\n                     step_pred_8  step_pred_9  ...  step_pred_27  \\\nmonth_id country_id                            ...                 \n397      1              0.620469     0.617564  ...      0.617548   \n         2              0.636764     0.630672  ...      0.621717   \n         3              0.624933     0.621965  ...      0.616367   \n         4              0.615191     0.614701  ...      0.624097   \n         5              0.636951     0.631354  ...      0.622985   \n...                          ...          ...  ...           ...   \n444      242            0.621645     0.630045  ...      0.640423   \n         243            0.638083     0.628973  ...      0.641926   \n         244            0.614742     0.613690  ...      0.620062   \n         245            0.885611     0.882882  ...      0.781598   \n         246            0.829002     0.765058  ...      0.868647   \n\n                     step_pred_28  step_pred_29  step_pred_30  step_pred_31  \\\nmonth_id country_id                                                           \n397      1               0.616562      0.615784      0.617495      0.619100   \n         2               0.615270      0.616696      0.617528      0.622300   \n         3               0.612105      0.616021      0.612847      0.615287   \n         4               0.625719      0.633003      0.623588      0.631281   \n         5               0.615514      0.616201      0.617878      0.622994   \n...                           ...           ...           ...           ...   \n444      242             0.655568      0.629049      0.635070      0.639029   \n         243             0.659257      0.626271      0.643949      0.646233   \n         244             0.620757      0.621573      0.620810      0.616627   \n         245             0.763405      0.765723      0.832082      0.844601   \n         246             0.854042      0.821235      0.806700      0.776165   \n\n                     step_pred_32  step_pred_33  step_pred_34  step_pred_35  \\\nmonth_id country_id                                                           \n397      1               0.617310      0.613890      0.617663      0.614962   \n         2               0.619750      0.613505      0.619197      0.620475   \n         3               0.614563      0.611961      0.614759      0.615695   \n         4               0.633249      0.636581      0.634476      0.641765   \n         5               0.619938      0.613623      0.619270      0.621060   \n...                           ...           ...           ...           ...   \n444      242             0.633139      0.637537      0.638622      0.649304   \n         243             0.638871      0.646016      0.635770      0.646017   \n         244             0.620747      0.615645      0.619771      0.616820   \n         245             0.834185      0.850778      0.833401      0.790267   \n         246             0.855380      0.824179      0.850644      0.860339   \n\n                     step_pred_36  \nmonth_id country_id                \n397      1               0.620047  \n         2               0.622134  \n         3               0.617963  \n         4               0.637501  \n         5               0.622389  \n...                           ...  \n444      242             0.653889  \n         243             0.653868  \n         244             0.616574  \n         245             0.765193  \n         246             0.822973  \n\n[9168 rows x 37 columns]",
      "text/html": "<div>\n<style scoped>\n    .dataframe tbody tr th:only-of-type {\n        vertical-align: middle;\n    }\n\n    .dataframe tbody tr th {\n        vertical-align: top;\n    }\n\n    .dataframe thead th {\n        text-align: right;\n    }\n</style>\n<table border=\"1\" class=\"dataframe\">\n  <thead>\n    <tr style=\"text-align: right;\">\n      <th></th>\n      <th></th>\n      <th>ged_sb_dep</th>\n      <th>step_pred_1</th>\n      <th>step_pred_2</th>\n      <th>step_pred_3</th>\n      <th>step_pred_4</th>\n      <th>step_pred_5</th>\n      <th>step_pred_6</th>\n      <th>step_pred_7</th>\n      <th>step_pred_8</th>\n      <th>step_pred_9</th>\n      <th>...</th>\n      <th>step_pred_27</th>\n      <th>step_pred_28</th>\n      <th>step_pred_29</th>\n      <th>step_pred_30</th>\n      <th>step_pred_31</th>\n      <th>step_pred_32</th>\n      <th>step_pred_33</th>\n      <th>step_pred_34</th>\n      <th>step_pred_35</th>\n      <th>step_pred_36</th>\n    </tr>\n    <tr>\n      <th>month_id</th>\n      <th>country_id</th>\n      <th></th>\n      <th></th>\n      <th></th>\n      <th></th>\n      <th></th>\n      <th></th>\n      <th></th>\n      <th></th>\n      <th></th>\n      <th></th>\n      <th></th>\n      <th></th>\n      <th></th>\n      <th></th>\n      <th></th>\n      <th></th>\n      <th></th>\n      <th></th>\n      <th></th>\n      <th></th>\n      <th></th>\n    </tr>\n  </thead>\n  <tbody>\n    <tr>\n      <th rowspan=\"5\" valign=\"top\">397</th>\n      <th>1</th>\n      <td>0.0</td>\n      <td>0.613933</td>\n      <td>0.616953</td>\n      <td>0.615754</td>\n      <td>0.614390</td>\n      <td>0.616320</td>\n      <td>0.616750</td>\n      <td>0.614932</td>\n      <td>0.620469</td>\n      <td>0.617564</td>\n      <td>...</td>\n      <td>0.617548</td>\n      <td>0.616562</td>\n      <td>0.615784</td>\n      <td>0.617495</td>\n      <td>0.619100</td>\n      <td>0.617310</td>\n      <td>0.613890</td>\n      <td>0.617663</td>\n      <td>0.614962</td>\n      <td>0.620047</td>\n    </tr>\n    <tr>\n      <th>2</th>\n      <td>0.0</td>\n      <td>0.628708</td>\n      <td>0.627454</td>\n      <td>0.626578</td>\n      <td>0.623116</td>\n      <td>0.627264</td>\n      <td>0.625510</td>\n      <td>0.623309</td>\n      <td>0.636764</td>\n      <td>0.630672</td>\n      <td>...</td>\n      <td>0.621717</td>\n      <td>0.615270</td>\n      <td>0.616696</td>\n      <td>0.617528</td>\n      <td>0.622300</td>\n      <td>0.619750</td>\n      <td>0.613505</td>\n      <td>0.619197</td>\n      <td>0.620475</td>\n      <td>0.622134</td>\n    </tr>\n    <tr>\n      <th>3</th>\n      <td>0.0</td>\n      <td>0.620750</td>\n      <td>0.618255</td>\n      <td>0.618701</td>\n      <td>0.618201</td>\n      <td>0.619136</td>\n      <td>0.617050</td>\n      <td>0.617961</td>\n      <td>0.624933</td>\n      <td>0.621965</td>\n      <td>...</td>\n      <td>0.616367</td>\n      <td>0.612105</td>\n      <td>0.616021</td>\n      <td>0.612847</td>\n      <td>0.615287</td>\n      <td>0.614563</td>\n      <td>0.611961</td>\n      <td>0.614759</td>\n      <td>0.615695</td>\n      <td>0.617963</td>\n    </tr>\n    <tr>\n      <th>4</th>\n      <td>0.0</td>\n      <td>0.623216</td>\n      <td>0.613123</td>\n      <td>0.613084</td>\n      <td>0.613172</td>\n      <td>0.614843</td>\n      <td>0.615930</td>\n      <td>0.614272</td>\n      <td>0.615191</td>\n      <td>0.614701</td>\n      <td>...</td>\n      <td>0.624097</td>\n      <td>0.625719</td>\n      <td>0.633003</td>\n      <td>0.623588</td>\n      <td>0.631281</td>\n      <td>0.633249</td>\n      <td>0.636581</td>\n      <td>0.634476</td>\n      <td>0.641765</td>\n      <td>0.637501</td>\n    </tr>\n    <tr>\n      <th>5</th>\n      <td>0.0</td>\n      <td>0.628965</td>\n      <td>0.627593</td>\n      <td>0.626561</td>\n      <td>0.623811</td>\n      <td>0.628646</td>\n      <td>0.624390</td>\n      <td>0.624241</td>\n      <td>0.636951</td>\n      <td>0.631354</td>\n      <td>...</td>\n      <td>0.622985</td>\n      <td>0.615514</td>\n      <td>0.616201</td>\n      <td>0.617878</td>\n      <td>0.622994</td>\n      <td>0.619938</td>\n      <td>0.613623</td>\n      <td>0.619270</td>\n      <td>0.621060</td>\n      <td>0.622389</td>\n    </tr>\n    <tr>\n      <th>...</th>\n      <th>...</th>\n      <td>...</td>\n      <td>...</td>\n      <td>...</td>\n      <td>...</td>\n      <td>...</td>\n      <td>...</td>\n      <td>...</td>\n      <td>...</td>\n      <td>...</td>\n      <td>...</td>\n      <td>...</td>\n      <td>...</td>\n      <td>...</td>\n      <td>...</td>\n      <td>...</td>\n      <td>...</td>\n      <td>...</td>\n      <td>...</td>\n      <td>...</td>\n      <td>...</td>\n      <td>...</td>\n    </tr>\n    <tr>\n      <th rowspan=\"5\" valign=\"top\">444</th>\n      <th>242</th>\n      <td>0.0</td>\n      <td>0.627109</td>\n      <td>0.635177</td>\n      <td>0.629947</td>\n      <td>0.625829</td>\n      <td>0.630717</td>\n      <td>0.627193</td>\n      <td>0.628726</td>\n      <td>0.621645</td>\n      <td>0.630045</td>\n      <td>...</td>\n      <td>0.640423</td>\n      <td>0.655568</td>\n      <td>0.629049</td>\n      <td>0.635070</td>\n      <td>0.639029</td>\n      <td>0.633139</td>\n      <td>0.637537</td>\n      <td>0.638622</td>\n      <td>0.649304</td>\n      <td>0.653889</td>\n    </tr>\n    <tr>\n      <th>243</th>\n      <td>0.0</td>\n      <td>0.646165</td>\n      <td>0.636574</td>\n      <td>0.633543</td>\n      <td>0.626536</td>\n      <td>0.643574</td>\n      <td>0.631771</td>\n      <td>0.638303</td>\n      <td>0.638083</td>\n      <td>0.628973</td>\n      <td>...</td>\n      <td>0.641926</td>\n      <td>0.659257</td>\n      <td>0.626271</td>\n      <td>0.643949</td>\n      <td>0.646233</td>\n      <td>0.638871</td>\n      <td>0.646016</td>\n      <td>0.635770</td>\n      <td>0.646017</td>\n      <td>0.653868</td>\n    </tr>\n    <tr>\n      <th>244</th>\n      <td>0.0</td>\n      <td>0.614472</td>\n      <td>0.614351</td>\n      <td>0.612793</td>\n      <td>0.612464</td>\n      <td>0.612587</td>\n      <td>0.613666</td>\n      <td>0.612700</td>\n      <td>0.614742</td>\n      <td>0.613690</td>\n      <td>...</td>\n      <td>0.620062</td>\n      <td>0.620757</td>\n      <td>0.621573</td>\n      <td>0.620810</td>\n      <td>0.616627</td>\n      <td>0.620747</td>\n      <td>0.615645</td>\n      <td>0.619771</td>\n      <td>0.616820</td>\n      <td>0.616574</td>\n    </tr>\n    <tr>\n      <th>245</th>\n      <td>0.0</td>\n      <td>0.694161</td>\n      <td>0.798478</td>\n      <td>0.900139</td>\n      <td>0.834527</td>\n      <td>0.846576</td>\n      <td>0.877188</td>\n      <td>0.880774</td>\n      <td>0.885611</td>\n      <td>0.882882</td>\n      <td>...</td>\n      <td>0.781598</td>\n      <td>0.763405</td>\n      <td>0.765723</td>\n      <td>0.832082</td>\n      <td>0.844601</td>\n      <td>0.834185</td>\n      <td>0.850778</td>\n      <td>0.833401</td>\n      <td>0.790267</td>\n      <td>0.765193</td>\n    </tr>\n    <tr>\n      <th>246</th>\n      <td>14.0</td>\n      <td>0.887280</td>\n      <td>0.842067</td>\n      <td>0.759033</td>\n      <td>0.913548</td>\n      <td>0.898830</td>\n      <td>0.806334</td>\n      <td>0.801293</td>\n      <td>0.829002</td>\n      <td>0.765058</td>\n      <td>...</td>\n      <td>0.868647</td>\n      <td>0.854042</td>\n      <td>0.821235</td>\n      <td>0.806700</td>\n      <td>0.776165</td>\n      <td>0.855380</td>\n      <td>0.824179</td>\n      <td>0.850644</td>\n      <td>0.860339</td>\n      <td>0.822973</td>\n    </tr>\n  </tbody>\n</table>\n<p>9168 rows × 37 columns</p>\n</div>"
     },
     "execution_count": 22,
     "metadata": {},
     "output_type": "execute_result"
    }
   ],
   "source": [
    "name = 'cm_fatalities003_nl_baseline_rf_calib_transform_log_n_estimators_100_n_jobs_15_learning_rate_0.05_max_depth_12_min_child_weight_12_subsample_0.5_colsample_bytree_0.5'\n",
    "df = pd.DataFrame.forecasts.read_store(run=run_id, name=name).replace([np.inf, -np.inf], 0)[stepcols]\n",
    "df = np.exp(df) - 1\n",
    "df"
   ],
   "metadata": {
    "collapsed": false,
    "ExecuteTime": {
     "end_time": "2023-12-12T11:27:28.142544Z",
     "start_time": "2023-12-12T11:27:24.777917Z"
    }
   },
   "id": "21fe2cd3e6378778"
  },
  {
   "cell_type": "code",
   "execution_count": 17,
   "outputs": [
    {
     "data": {
      "text/plain": "            mean_val   std_val\ncountry_id                    \n1           0.000000  0.000000\n2           0.000000  0.000000\n3           0.045775  1.096525\n4           0.191315  3.660668\n5           0.000000  0.000000\n...              ...       ...\n248         0.000000       NaN\n250         0.000000       NaN\n252         0.000000       NaN\n253         1.000000       NaN\n254         0.000000       NaN\n\n[213 rows x 2 columns]",
      "text/html": "<div>\n<style scoped>\n    .dataframe tbody tr th:only-of-type {\n        vertical-align: middle;\n    }\n\n    .dataframe tbody tr th {\n        vertical-align: top;\n    }\n\n    .dataframe thead th {\n        text-align: right;\n    }\n</style>\n<table border=\"1\" class=\"dataframe\">\n  <thead>\n    <tr style=\"text-align: right;\">\n      <th></th>\n      <th>mean_val</th>\n      <th>std_val</th>\n    </tr>\n    <tr>\n      <th>country_id</th>\n      <th></th>\n      <th></th>\n    </tr>\n  </thead>\n  <tbody>\n    <tr>\n      <th>1</th>\n      <td>0.000000</td>\n      <td>0.000000</td>\n    </tr>\n    <tr>\n      <th>2</th>\n      <td>0.000000</td>\n      <td>0.000000</td>\n    </tr>\n    <tr>\n      <th>3</th>\n      <td>0.045775</td>\n      <td>1.096525</td>\n    </tr>\n    <tr>\n      <th>4</th>\n      <td>0.191315</td>\n      <td>3.660668</td>\n    </tr>\n    <tr>\n      <th>5</th>\n      <td>0.000000</td>\n      <td>0.000000</td>\n    </tr>\n    <tr>\n      <th>...</th>\n      <td>...</td>\n      <td>...</td>\n    </tr>\n    <tr>\n      <th>248</th>\n      <td>0.000000</td>\n      <td>NaN</td>\n    </tr>\n    <tr>\n      <th>250</th>\n      <td>0.000000</td>\n      <td>NaN</td>\n    </tr>\n    <tr>\n      <th>252</th>\n      <td>0.000000</td>\n      <td>NaN</td>\n    </tr>\n    <tr>\n      <th>253</th>\n      <td>1.000000</td>\n      <td>NaN</td>\n    </tr>\n    <tr>\n      <th>254</th>\n      <td>0.000000</td>\n      <td>NaN</td>\n    </tr>\n  </tbody>\n</table>\n<p>213 rows × 2 columns</p>\n</div>"
     },
     "execution_count": 17,
     "metadata": {},
     "output_type": "execute_result"
    }
   ],
   "source": [
    "para_transformed['standardize']['baseline003']"
   ],
   "metadata": {
    "collapsed": false,
    "ExecuteTime": {
     "end_time": "2023-12-12T11:20:04.018812Z",
     "start_time": "2023-12-12T11:20:04.011318Z"
    }
   },
   "id": "6159cab37e34b2ad"
  },
  {
   "cell_type": "code",
   "execution_count": 20,
   "outputs": [
    {
     "name": "stdout",
     "output_type": "stream",
     "text": [
      "pr_56_cm_fatalities003_nl_baseline_rf_calib_transform_standardize_n_estimators_100_n_jobs_15_learning_rate_0.05_max_depth_12_min_child_weight_12_subsample_0.5_colsample_bytree_0.5.parquet\n"
     ]
    },
    {
     "data": {
      "text/plain": "                     ged_sb_dep  step_pred_1  step_pred_2  step_pred_3  \\\nmonth_id country_id                                                      \n397      1                  0.0     0.000000     0.000000     0.000000   \n         2                  0.0     0.000000     0.000000     0.000000   \n         3                  0.0     0.568336     0.568134     0.568391   \n         4                  0.0     1.916907     1.916631     1.907969   \n         5                  0.0     0.000000     0.000000     0.000000   \n...                         ...          ...          ...          ...   \n444      242                0.0     0.544947     0.548019     0.551224   \n         243                0.0     3.179936     3.166709     3.163791   \n         244                0.0     0.287449     0.287058     0.287274   \n         245                0.0   169.287914   171.018399   172.103673   \n         246               14.0    40.774208    40.938232    39.934496   \n\n                     step_pred_4  step_pred_5  step_pred_6  step_pred_7  \\\nmonth_id country_id                                                       \n397      1              0.000000     0.000000     0.000000     0.000000   \n         2              0.000000     0.000000     0.000000     0.000000   \n         3              0.566591     0.566438     0.566815     0.566233   \n         4              1.906660     1.917911     1.909212     1.909986   \n         5              0.000000     0.000000     0.000000     0.000000   \n...                          ...          ...          ...          ...   \n444      242            0.547349     0.547731     0.547068     0.548666   \n         243            3.158991     3.160678     3.169139     3.157281   \n         244            0.287270     0.287344     0.287443     0.287834   \n         245          170.782257   170.767298   170.756183   170.928340   \n         246           41.167741    41.285561    40.292174    40.108534   \n\n                     step_pred_8  step_pred_9  ...  step_pred_27  \\\nmonth_id country_id                            ...                 \n397      1              0.000000     0.000000  ...      0.000000   \n         2              0.000000     0.000000  ...      0.000000   \n         3              0.567021     0.568354  ...      0.566616   \n         4              1.912638     1.906618  ...      1.916026   \n         5              0.000000     0.000000  ...      0.000000   \n...                          ...          ...  ...           ...   \n444      242            0.548416     0.547005  ...      0.554154   \n         243            3.165691     3.173427  ...      3.174238   \n         244            0.288015     0.287467  ...      0.288000   \n         245          170.894070   170.555161  ...    169.847792   \n         246           40.244101    40.322599  ...     40.612325   \n\n                     step_pred_28  step_pred_29  step_pred_30  step_pred_31  \\\nmonth_id country_id                                                           \n397      1               0.000000      0.000000      0.000000      0.000000   \n         2               0.000000      0.000000      0.000000      0.000000   \n         3               0.566050      0.565800      0.567109      0.566194   \n         4               1.918890      1.932348      1.915606      1.918482   \n         5               0.000000      0.000000      0.000000      0.000000   \n...                           ...           ...           ...           ...   \n444      242             0.553195      0.550166      0.550887      0.552065   \n         243             3.182089      3.155188      3.166767      3.164034   \n         244             0.287278      0.287829      0.287174      0.287844   \n         245           169.446313    169.744989    170.488995    170.782842   \n         246            40.423381     40.802971     40.113731     40.172517   \n\n                     step_pred_32  step_pred_33  step_pred_34  step_pred_35  \\\nmonth_id country_id                                                           \n397      1               0.000000      0.000000      0.000000      0.000000   \n         2               0.000000      0.000000      0.000000      0.000000   \n         3               0.566755      0.565418      0.565348      0.565413   \n         4               1.927866      1.924985      1.921892      1.930486   \n         5               0.000000      0.000000      0.000000      0.000000   \n...                           ...           ...           ...           ...   \n444      242             0.550052      0.549318      0.556122      0.554823   \n         243             3.156653      3.177890      3.168548      3.178139   \n         244             0.287389      0.289995      0.287656      0.287030   \n         245           170.696890    170.838378    170.295155    169.780164   \n         246            40.592571     40.595710     41.188865     40.638531   \n\n                     step_pred_36  \nmonth_id country_id                \n397      1               0.000000  \n         2               0.000000  \n         3               0.565428  \n         4               1.924796  \n         5               0.000000  \n...                           ...  \n444      242             0.553363  \n         243             3.168908  \n         244             0.287577  \n         245           169.350488  \n         246            40.741678  \n\n[9168 rows x 37 columns]",
      "text/html": "<div>\n<style scoped>\n    .dataframe tbody tr th:only-of-type {\n        vertical-align: middle;\n    }\n\n    .dataframe tbody tr th {\n        vertical-align: top;\n    }\n\n    .dataframe thead th {\n        text-align: right;\n    }\n</style>\n<table border=\"1\" class=\"dataframe\">\n  <thead>\n    <tr style=\"text-align: right;\">\n      <th></th>\n      <th></th>\n      <th>ged_sb_dep</th>\n      <th>step_pred_1</th>\n      <th>step_pred_2</th>\n      <th>step_pred_3</th>\n      <th>step_pred_4</th>\n      <th>step_pred_5</th>\n      <th>step_pred_6</th>\n      <th>step_pred_7</th>\n      <th>step_pred_8</th>\n      <th>step_pred_9</th>\n      <th>...</th>\n      <th>step_pred_27</th>\n      <th>step_pred_28</th>\n      <th>step_pred_29</th>\n      <th>step_pred_30</th>\n      <th>step_pred_31</th>\n      <th>step_pred_32</th>\n      <th>step_pred_33</th>\n      <th>step_pred_34</th>\n      <th>step_pred_35</th>\n      <th>step_pred_36</th>\n    </tr>\n    <tr>\n      <th>month_id</th>\n      <th>country_id</th>\n      <th></th>\n      <th></th>\n      <th></th>\n      <th></th>\n      <th></th>\n      <th></th>\n      <th></th>\n      <th></th>\n      <th></th>\n      <th></th>\n      <th></th>\n      <th></th>\n      <th></th>\n      <th></th>\n      <th></th>\n      <th></th>\n      <th></th>\n      <th></th>\n      <th></th>\n      <th></th>\n      <th></th>\n    </tr>\n  </thead>\n  <tbody>\n    <tr>\n      <th rowspan=\"5\" valign=\"top\">397</th>\n      <th>1</th>\n      <td>0.0</td>\n      <td>0.000000</td>\n      <td>0.000000</td>\n      <td>0.000000</td>\n      <td>0.000000</td>\n      <td>0.000000</td>\n      <td>0.000000</td>\n      <td>0.000000</td>\n      <td>0.000000</td>\n      <td>0.000000</td>\n      <td>...</td>\n      <td>0.000000</td>\n      <td>0.000000</td>\n      <td>0.000000</td>\n      <td>0.000000</td>\n      <td>0.000000</td>\n      <td>0.000000</td>\n      <td>0.000000</td>\n      <td>0.000000</td>\n      <td>0.000000</td>\n      <td>0.000000</td>\n    </tr>\n    <tr>\n      <th>2</th>\n      <td>0.0</td>\n      <td>0.000000</td>\n      <td>0.000000</td>\n      <td>0.000000</td>\n      <td>0.000000</td>\n      <td>0.000000</td>\n      <td>0.000000</td>\n      <td>0.000000</td>\n      <td>0.000000</td>\n      <td>0.000000</td>\n      <td>...</td>\n      <td>0.000000</td>\n      <td>0.000000</td>\n      <td>0.000000</td>\n      <td>0.000000</td>\n      <td>0.000000</td>\n      <td>0.000000</td>\n      <td>0.000000</td>\n      <td>0.000000</td>\n      <td>0.000000</td>\n      <td>0.000000</td>\n    </tr>\n    <tr>\n      <th>3</th>\n      <td>0.0</td>\n      <td>0.568336</td>\n      <td>0.568134</td>\n      <td>0.568391</td>\n      <td>0.566591</td>\n      <td>0.566438</td>\n      <td>0.566815</td>\n      <td>0.566233</td>\n      <td>0.567021</td>\n      <td>0.568354</td>\n      <td>...</td>\n      <td>0.566616</td>\n      <td>0.566050</td>\n      <td>0.565800</td>\n      <td>0.567109</td>\n      <td>0.566194</td>\n      <td>0.566755</td>\n      <td>0.565418</td>\n      <td>0.565348</td>\n      <td>0.565413</td>\n      <td>0.565428</td>\n    </tr>\n    <tr>\n      <th>4</th>\n      <td>0.0</td>\n      <td>1.916907</td>\n      <td>1.916631</td>\n      <td>1.907969</td>\n      <td>1.906660</td>\n      <td>1.917911</td>\n      <td>1.909212</td>\n      <td>1.909986</td>\n      <td>1.912638</td>\n      <td>1.906618</td>\n      <td>...</td>\n      <td>1.916026</td>\n      <td>1.918890</td>\n      <td>1.932348</td>\n      <td>1.915606</td>\n      <td>1.918482</td>\n      <td>1.927866</td>\n      <td>1.924985</td>\n      <td>1.921892</td>\n      <td>1.930486</td>\n      <td>1.924796</td>\n    </tr>\n    <tr>\n      <th>5</th>\n      <td>0.0</td>\n      <td>0.000000</td>\n      <td>0.000000</td>\n      <td>0.000000</td>\n      <td>0.000000</td>\n      <td>0.000000</td>\n      <td>0.000000</td>\n      <td>0.000000</td>\n      <td>0.000000</td>\n      <td>0.000000</td>\n      <td>...</td>\n      <td>0.000000</td>\n      <td>0.000000</td>\n      <td>0.000000</td>\n      <td>0.000000</td>\n      <td>0.000000</td>\n      <td>0.000000</td>\n      <td>0.000000</td>\n      <td>0.000000</td>\n      <td>0.000000</td>\n      <td>0.000000</td>\n    </tr>\n    <tr>\n      <th>...</th>\n      <th>...</th>\n      <td>...</td>\n      <td>...</td>\n      <td>...</td>\n      <td>...</td>\n      <td>...</td>\n      <td>...</td>\n      <td>...</td>\n      <td>...</td>\n      <td>...</td>\n      <td>...</td>\n      <td>...</td>\n      <td>...</td>\n      <td>...</td>\n      <td>...</td>\n      <td>...</td>\n      <td>...</td>\n      <td>...</td>\n      <td>...</td>\n      <td>...</td>\n      <td>...</td>\n      <td>...</td>\n    </tr>\n    <tr>\n      <th rowspan=\"5\" valign=\"top\">444</th>\n      <th>242</th>\n      <td>0.0</td>\n      <td>0.544947</td>\n      <td>0.548019</td>\n      <td>0.551224</td>\n      <td>0.547349</td>\n      <td>0.547731</td>\n      <td>0.547068</td>\n      <td>0.548666</td>\n      <td>0.548416</td>\n      <td>0.547005</td>\n      <td>...</td>\n      <td>0.554154</td>\n      <td>0.553195</td>\n      <td>0.550166</td>\n      <td>0.550887</td>\n      <td>0.552065</td>\n      <td>0.550052</td>\n      <td>0.549318</td>\n      <td>0.556122</td>\n      <td>0.554823</td>\n      <td>0.553363</td>\n    </tr>\n    <tr>\n      <th>243</th>\n      <td>0.0</td>\n      <td>3.179936</td>\n      <td>3.166709</td>\n      <td>3.163791</td>\n      <td>3.158991</td>\n      <td>3.160678</td>\n      <td>3.169139</td>\n      <td>3.157281</td>\n      <td>3.165691</td>\n      <td>3.173427</td>\n      <td>...</td>\n      <td>3.174238</td>\n      <td>3.182089</td>\n      <td>3.155188</td>\n      <td>3.166767</td>\n      <td>3.164034</td>\n      <td>3.156653</td>\n      <td>3.177890</td>\n      <td>3.168548</td>\n      <td>3.178139</td>\n      <td>3.168908</td>\n    </tr>\n    <tr>\n      <th>244</th>\n      <td>0.0</td>\n      <td>0.287449</td>\n      <td>0.287058</td>\n      <td>0.287274</td>\n      <td>0.287270</td>\n      <td>0.287344</td>\n      <td>0.287443</td>\n      <td>0.287834</td>\n      <td>0.288015</td>\n      <td>0.287467</td>\n      <td>...</td>\n      <td>0.288000</td>\n      <td>0.287278</td>\n      <td>0.287829</td>\n      <td>0.287174</td>\n      <td>0.287844</td>\n      <td>0.287389</td>\n      <td>0.289995</td>\n      <td>0.287656</td>\n      <td>0.287030</td>\n      <td>0.287577</td>\n    </tr>\n    <tr>\n      <th>245</th>\n      <td>0.0</td>\n      <td>169.287914</td>\n      <td>171.018399</td>\n      <td>172.103673</td>\n      <td>170.782257</td>\n      <td>170.767298</td>\n      <td>170.756183</td>\n      <td>170.928340</td>\n      <td>170.894070</td>\n      <td>170.555161</td>\n      <td>...</td>\n      <td>169.847792</td>\n      <td>169.446313</td>\n      <td>169.744989</td>\n      <td>170.488995</td>\n      <td>170.782842</td>\n      <td>170.696890</td>\n      <td>170.838378</td>\n      <td>170.295155</td>\n      <td>169.780164</td>\n      <td>169.350488</td>\n    </tr>\n    <tr>\n      <th>246</th>\n      <td>14.0</td>\n      <td>40.774208</td>\n      <td>40.938232</td>\n      <td>39.934496</td>\n      <td>41.167741</td>\n      <td>41.285561</td>\n      <td>40.292174</td>\n      <td>40.108534</td>\n      <td>40.244101</td>\n      <td>40.322599</td>\n      <td>...</td>\n      <td>40.612325</td>\n      <td>40.423381</td>\n      <td>40.802971</td>\n      <td>40.113731</td>\n      <td>40.172517</td>\n      <td>40.592571</td>\n      <td>40.595710</td>\n      <td>41.188865</td>\n      <td>40.638531</td>\n      <td>40.741678</td>\n    </tr>\n  </tbody>\n</table>\n<p>9168 rows × 37 columns</p>\n</div>"
     },
     "execution_count": 20,
     "metadata": {},
     "output_type": "execute_result"
    }
   ],
   "source": [
    "def standardize_retransform(x, mean_val, std_val):\n",
    "    return x * std_val + mean_val\n",
    "name = 'cm_fatalities003_nl_baseline_rf_calib_transform_standardize_n_estimators_100_n_jobs_15_learning_rate_0.05_max_depth_12_min_child_weight_12_subsample_0.5_colsample_bytree_0.5'\n",
    "df_para_model = para_transformed['standardize']['baseline003']\n",
    "df = pd.DataFrame.forecasts.read_store(run=run_id, name=name).replace([np.inf, -np.inf], 0)[stepcols]\n",
    "df = df.apply(lambda row: standardize_retransform(row, df_para_model['mean_val'].loc[row.name[1]], df_para_model['std_val'].loc[row.name[1]]), axis=1)\n",
    "df"
   ],
   "metadata": {
    "collapsed": false,
    "ExecuteTime": {
     "end_time": "2023-12-12T11:21:43.908176Z",
     "start_time": "2023-12-12T11:21:37.438884Z"
    }
   },
   "id": "6e9378d119c62c2e"
  },
  {
   "cell_type": "code",
   "execution_count": 21,
   "outputs": [
    {
     "name": "stdout",
     "output_type": "stream",
     "text": [
      "pr_56_cm_fatalities003_nl_baseline_rf_calib_transform_normalize_n_estimators_100_n_jobs_15_learning_rate_0.05_max_depth_12_min_child_weight_12_subsample_0.5_colsample_bytree_0.5.parquet\n"
     ]
    },
    {
     "data": {
      "text/plain": "                     ged_sb_dep  step_pred_1  step_pred_2  step_pred_3  \\\nmonth_id country_id                                                      \n397      1                  0.0     0.000000     0.000000     0.000000   \n         2                  0.0     0.000000     0.000000     0.000000   \n         3                  0.0    14.746427    14.736396    14.736063   \n         4                  0.0    44.668164    44.661583    44.659625   \n         5                  0.0     0.000000     0.000000     0.000000   \n...                         ...          ...          ...          ...   \n444      242                0.0    11.884318    11.887568    11.892138   \n         243                0.0    82.752975    82.744921    82.723121   \n         244                0.0     5.701192     5.700891     5.701339   \n         245                0.0   283.673317   284.429160   285.377931   \n         246               14.0   406.370638   406.428091   405.319159   \n\n                     step_pred_4  step_pred_5  step_pred_6  step_pred_7  \\\nmonth_id country_id                                                       \n397      1              0.000000     0.000000     0.000000     0.000000   \n         2              0.000000     0.000000     0.000000     0.000000   \n         3             14.731823    14.731092    14.732048    14.728331   \n         4             44.662051    44.671018    44.675338    44.661264   \n         5              0.000000     0.000000     0.000000     0.000000   \n...                          ...          ...          ...          ...   \n444      242           11.880030    11.885156    11.880813    11.884962   \n         243           82.693921    82.734260    82.716271    82.747084   \n         244            5.701179     5.701680     5.700988     5.701654   \n         245          284.684418   284.766448   284.755489   284.891159   \n         246          407.016908   407.037503   406.100954   405.724470   \n\n                     step_pred_8  step_pred_9  ...  step_pred_27  \\\nmonth_id country_id                            ...                 \n397      1              0.000000     0.000000  ...      0.000000   \n         2              0.000000     0.000000  ...      0.000000   \n         3             14.731538    14.732114  ...     14.729359   \n         4             44.658174    44.672436  ...     44.673901   \n         5              0.000000     0.000000  ...      0.000000   \n...                          ...          ...  ...           ...   \n444      242           11.896341    11.889368  ...     11.896967   \n         243           82.766997    82.727093  ...     82.729873   \n         244            5.701597     5.701646  ...      5.701873   \n         245          284.817942   284.527486  ...    283.939055   \n         246          406.027871   405.754869  ...    406.343229   \n\n                     step_pred_28  step_pred_29  step_pred_30  step_pred_31  \\\nmonth_id country_id                                                           \n397      1               0.000000      0.000000      0.000000      0.000000   \n         2               0.000000      0.000000      0.000000      0.000000   \n         3              14.728168     14.728981     14.729588     14.728914   \n         4              44.694856     44.690306     44.684804     44.699713   \n         5               0.000000      0.000000      0.000000      0.000000   \n...                           ...           ...           ...           ...   \n444      242            11.899932     11.880910     11.889268     11.886983   \n         243            82.769180     82.717168     82.746119     82.770429   \n         244             5.701480      5.701562      5.701800      5.701632   \n         245           283.795121    283.869650    284.467958    284.630210   \n         246           405.932927    406.510319    405.687004    405.615593   \n\n                     step_pred_32  step_pred_33  step_pred_34  step_pred_35  \\\nmonth_id country_id                                                           \n397      1               0.000000      0.000000      0.000000      0.000000   \n         2               0.000000      0.000000      0.000000      0.000000   \n         3              14.730579     14.727331     14.727019     14.726715   \n         4              44.702128     44.710939     44.715611     44.709955   \n         5               0.000000      0.000000      0.000000      0.000000   \n...                           ...           ...           ...           ...   \n444      242            11.885408     11.883394     11.887187     11.899642   \n         243            82.716753     82.732606     82.718293     82.798629   \n         244             5.701535      5.702786      5.702155      5.701668   \n         245           284.633880    284.569441    284.349471    284.030341   \n         246           406.278531    406.324787    406.361595    406.407952   \n\n                     step_pred_36  \nmonth_id country_id                \n397      1               0.000000  \n         2               0.000000  \n         3              14.727497  \n         4              44.697604  \n         5               0.000000  \n...                           ...  \n444      242            11.893121  \n         243            82.751222  \n         244             5.702101  \n         245           283.822163  \n         246           406.086819  \n\n[9168 rows x 37 columns]",
      "text/html": "<div>\n<style scoped>\n    .dataframe tbody tr th:only-of-type {\n        vertical-align: middle;\n    }\n\n    .dataframe tbody tr th {\n        vertical-align: top;\n    }\n\n    .dataframe thead th {\n        text-align: right;\n    }\n</style>\n<table border=\"1\" class=\"dataframe\">\n  <thead>\n    <tr style=\"text-align: right;\">\n      <th></th>\n      <th></th>\n      <th>ged_sb_dep</th>\n      <th>step_pred_1</th>\n      <th>step_pred_2</th>\n      <th>step_pred_3</th>\n      <th>step_pred_4</th>\n      <th>step_pred_5</th>\n      <th>step_pred_6</th>\n      <th>step_pred_7</th>\n      <th>step_pred_8</th>\n      <th>step_pred_9</th>\n      <th>...</th>\n      <th>step_pred_27</th>\n      <th>step_pred_28</th>\n      <th>step_pred_29</th>\n      <th>step_pred_30</th>\n      <th>step_pred_31</th>\n      <th>step_pred_32</th>\n      <th>step_pred_33</th>\n      <th>step_pred_34</th>\n      <th>step_pred_35</th>\n      <th>step_pred_36</th>\n    </tr>\n    <tr>\n      <th>month_id</th>\n      <th>country_id</th>\n      <th></th>\n      <th></th>\n      <th></th>\n      <th></th>\n      <th></th>\n      <th></th>\n      <th></th>\n      <th></th>\n      <th></th>\n      <th></th>\n      <th></th>\n      <th></th>\n      <th></th>\n      <th></th>\n      <th></th>\n      <th></th>\n      <th></th>\n      <th></th>\n      <th></th>\n      <th></th>\n      <th></th>\n    </tr>\n  </thead>\n  <tbody>\n    <tr>\n      <th rowspan=\"5\" valign=\"top\">397</th>\n      <th>1</th>\n      <td>0.0</td>\n      <td>0.000000</td>\n      <td>0.000000</td>\n      <td>0.000000</td>\n      <td>0.000000</td>\n      <td>0.000000</td>\n      <td>0.000000</td>\n      <td>0.000000</td>\n      <td>0.000000</td>\n      <td>0.000000</td>\n      <td>...</td>\n      <td>0.000000</td>\n      <td>0.000000</td>\n      <td>0.000000</td>\n      <td>0.000000</td>\n      <td>0.000000</td>\n      <td>0.000000</td>\n      <td>0.000000</td>\n      <td>0.000000</td>\n      <td>0.000000</td>\n      <td>0.000000</td>\n    </tr>\n    <tr>\n      <th>2</th>\n      <td>0.0</td>\n      <td>0.000000</td>\n      <td>0.000000</td>\n      <td>0.000000</td>\n      <td>0.000000</td>\n      <td>0.000000</td>\n      <td>0.000000</td>\n      <td>0.000000</td>\n      <td>0.000000</td>\n      <td>0.000000</td>\n      <td>...</td>\n      <td>0.000000</td>\n      <td>0.000000</td>\n      <td>0.000000</td>\n      <td>0.000000</td>\n      <td>0.000000</td>\n      <td>0.000000</td>\n      <td>0.000000</td>\n      <td>0.000000</td>\n      <td>0.000000</td>\n      <td>0.000000</td>\n    </tr>\n    <tr>\n      <th>3</th>\n      <td>0.0</td>\n      <td>14.746427</td>\n      <td>14.736396</td>\n      <td>14.736063</td>\n      <td>14.731823</td>\n      <td>14.731092</td>\n      <td>14.732048</td>\n      <td>14.728331</td>\n      <td>14.731538</td>\n      <td>14.732114</td>\n      <td>...</td>\n      <td>14.729359</td>\n      <td>14.728168</td>\n      <td>14.728981</td>\n      <td>14.729588</td>\n      <td>14.728914</td>\n      <td>14.730579</td>\n      <td>14.727331</td>\n      <td>14.727019</td>\n      <td>14.726715</td>\n      <td>14.727497</td>\n    </tr>\n    <tr>\n      <th>4</th>\n      <td>0.0</td>\n      <td>44.668164</td>\n      <td>44.661583</td>\n      <td>44.659625</td>\n      <td>44.662051</td>\n      <td>44.671018</td>\n      <td>44.675338</td>\n      <td>44.661264</td>\n      <td>44.658174</td>\n      <td>44.672436</td>\n      <td>...</td>\n      <td>44.673901</td>\n      <td>44.694856</td>\n      <td>44.690306</td>\n      <td>44.684804</td>\n      <td>44.699713</td>\n      <td>44.702128</td>\n      <td>44.710939</td>\n      <td>44.715611</td>\n      <td>44.709955</td>\n      <td>44.697604</td>\n    </tr>\n    <tr>\n      <th>5</th>\n      <td>0.0</td>\n      <td>0.000000</td>\n      <td>0.000000</td>\n      <td>0.000000</td>\n      <td>0.000000</td>\n      <td>0.000000</td>\n      <td>0.000000</td>\n      <td>0.000000</td>\n      <td>0.000000</td>\n      <td>0.000000</td>\n      <td>...</td>\n      <td>0.000000</td>\n      <td>0.000000</td>\n      <td>0.000000</td>\n      <td>0.000000</td>\n      <td>0.000000</td>\n      <td>0.000000</td>\n      <td>0.000000</td>\n      <td>0.000000</td>\n      <td>0.000000</td>\n      <td>0.000000</td>\n    </tr>\n    <tr>\n      <th>...</th>\n      <th>...</th>\n      <td>...</td>\n      <td>...</td>\n      <td>...</td>\n      <td>...</td>\n      <td>...</td>\n      <td>...</td>\n      <td>...</td>\n      <td>...</td>\n      <td>...</td>\n      <td>...</td>\n      <td>...</td>\n      <td>...</td>\n      <td>...</td>\n      <td>...</td>\n      <td>...</td>\n      <td>...</td>\n      <td>...</td>\n      <td>...</td>\n      <td>...</td>\n      <td>...</td>\n      <td>...</td>\n    </tr>\n    <tr>\n      <th rowspan=\"5\" valign=\"top\">444</th>\n      <th>242</th>\n      <td>0.0</td>\n      <td>11.884318</td>\n      <td>11.887568</td>\n      <td>11.892138</td>\n      <td>11.880030</td>\n      <td>11.885156</td>\n      <td>11.880813</td>\n      <td>11.884962</td>\n      <td>11.896341</td>\n      <td>11.889368</td>\n      <td>...</td>\n      <td>11.896967</td>\n      <td>11.899932</td>\n      <td>11.880910</td>\n      <td>11.889268</td>\n      <td>11.886983</td>\n      <td>11.885408</td>\n      <td>11.883394</td>\n      <td>11.887187</td>\n      <td>11.899642</td>\n      <td>11.893121</td>\n    </tr>\n    <tr>\n      <th>243</th>\n      <td>0.0</td>\n      <td>82.752975</td>\n      <td>82.744921</td>\n      <td>82.723121</td>\n      <td>82.693921</td>\n      <td>82.734260</td>\n      <td>82.716271</td>\n      <td>82.747084</td>\n      <td>82.766997</td>\n      <td>82.727093</td>\n      <td>...</td>\n      <td>82.729873</td>\n      <td>82.769180</td>\n      <td>82.717168</td>\n      <td>82.746119</td>\n      <td>82.770429</td>\n      <td>82.716753</td>\n      <td>82.732606</td>\n      <td>82.718293</td>\n      <td>82.798629</td>\n      <td>82.751222</td>\n    </tr>\n    <tr>\n      <th>244</th>\n      <td>0.0</td>\n      <td>5.701192</td>\n      <td>5.700891</td>\n      <td>5.701339</td>\n      <td>5.701179</td>\n      <td>5.701680</td>\n      <td>5.700988</td>\n      <td>5.701654</td>\n      <td>5.701597</td>\n      <td>5.701646</td>\n      <td>...</td>\n      <td>5.701873</td>\n      <td>5.701480</td>\n      <td>5.701562</td>\n      <td>5.701800</td>\n      <td>5.701632</td>\n      <td>5.701535</td>\n      <td>5.702786</td>\n      <td>5.702155</td>\n      <td>5.701668</td>\n      <td>5.702101</td>\n    </tr>\n    <tr>\n      <th>245</th>\n      <td>0.0</td>\n      <td>283.673317</td>\n      <td>284.429160</td>\n      <td>285.377931</td>\n      <td>284.684418</td>\n      <td>284.766448</td>\n      <td>284.755489</td>\n      <td>284.891159</td>\n      <td>284.817942</td>\n      <td>284.527486</td>\n      <td>...</td>\n      <td>283.939055</td>\n      <td>283.795121</td>\n      <td>283.869650</td>\n      <td>284.467958</td>\n      <td>284.630210</td>\n      <td>284.633880</td>\n      <td>284.569441</td>\n      <td>284.349471</td>\n      <td>284.030341</td>\n      <td>283.822163</td>\n    </tr>\n    <tr>\n      <th>246</th>\n      <td>14.0</td>\n      <td>406.370638</td>\n      <td>406.428091</td>\n      <td>405.319159</td>\n      <td>407.016908</td>\n      <td>407.037503</td>\n      <td>406.100954</td>\n      <td>405.724470</td>\n      <td>406.027871</td>\n      <td>405.754869</td>\n      <td>...</td>\n      <td>406.343229</td>\n      <td>405.932927</td>\n      <td>406.510319</td>\n      <td>405.687004</td>\n      <td>405.615593</td>\n      <td>406.278531</td>\n      <td>406.324787</td>\n      <td>406.361595</td>\n      <td>406.407952</td>\n      <td>406.086819</td>\n    </tr>\n  </tbody>\n</table>\n<p>9168 rows × 37 columns</p>\n</div>"
     },
     "execution_count": 21,
     "metadata": {},
     "output_type": "execute_result"
    }
   ],
   "source": [
    "def normalize_retransform(x, min_val, max_val, b=1, a=0):\n",
    "    return (x - a) / (b - a) * (max_val - min_val) + min_val\n",
    "name = 'cm_fatalities003_nl_baseline_rf_calib_transform_normalize_n_estimators_100_n_jobs_15_learning_rate_0.05_max_depth_12_min_child_weight_12_subsample_0.5_colsample_bytree_0.5'\n",
    "df_para_model = para_transformed['normalize']['baseline003']\n",
    "df = pd.DataFrame.forecasts.read_store(run=run_id, name=name).replace([np.inf, -np.inf], 0)[stepcols]\n",
    "df = df.apply(lambda row: normalize_retransform(row, df_para_model['min_val'].loc[row.name[1]], df_para_model['max_val'].loc[row.name[1]]), axis=1)\n",
    "df\n"
   ],
   "metadata": {
    "collapsed": false,
    "ExecuteTime": {
     "end_time": "2023-12-12T11:22:26.573014Z",
     "start_time": "2023-12-12T11:22:22.527686Z"
    }
   },
   "id": "1d03c7d561984dfe"
  },
  {
   "cell_type": "code",
   "execution_count": 113,
   "outputs": [
    {
     "data": {
      "text/plain": "                     ged_sb_dep  step_pred_1  step_pred_2  step_pred_3  \\\nmonth_id country_id                                                      \n397      1                  0.0     1.888033     1.536575     2.049761   \n         2                  0.0     3.313491     2.442976     3.095902   \n         3                  0.0     1.746300     1.800268     1.744825   \n         4                  0.0     0.487359     0.500316     0.511034   \n         5                  0.0     3.312054     2.441470     3.093398   \n...                         ...          ...          ...          ...   \n444      242                0.0     4.505231     5.732021     4.511056   \n         243                0.0     0.564945     0.647136     0.593240   \n         244                0.0     0.670239     1.084977     0.824759   \n         245                0.0     5.004318     6.232212     8.742626   \n         246               14.0     9.258842     6.313660     5.660348   \n\n                     step_pred_4  step_pred_5  step_pred_6  step_pred_7  \\\nmonth_id country_id                                                       \n397      1              1.194238     1.080280     1.230281     1.012267   \n         2              1.791524     1.584468     1.561841     1.353563   \n         3              1.028135     1.015283     1.214884     0.834816   \n         4              0.510376     0.575729     0.510639     0.576125   \n         5              1.789339     1.576807     1.559876     1.353323   \n...                          ...          ...          ...          ...   \n444      242           11.456407     1.927837     1.705806     2.175097   \n         243            0.794530     0.965720     0.944105     0.807292   \n         244            0.710583     1.426395     1.099138     1.305220   \n         245            7.999347     5.930683     6.081397     5.129094   \n         246            9.425748     6.468810     4.595462     5.049151   \n\n                     step_pred_8  step_pred_9  ...  step_pred_27  \\\nmonth_id country_id                            ...                 \n397      1              0.979016     1.124231  ...      0.605951   \n         2              1.191040     1.440145  ...      0.726233   \n         3              0.719306     0.796419  ...      1.161782   \n         4              0.510816     0.504026  ...      0.665250   \n         5              1.190878     1.439366  ...      0.723306   \n...                          ...          ...  ...           ...   \n444      242            7.634606     8.995864  ...      9.225223   \n         243            1.222221     1.019295  ...      1.075368   \n         244            1.311780     0.932088  ...      2.428319   \n         245            5.645001     6.278614  ...      3.930102   \n         246            5.514345     3.922381  ...      4.013035   \n\n                     step_pred_28  step_pred_29  step_pred_30  step_pred_31  \\\nmonth_id country_id                                                           \n397      1               0.616939      0.591293      0.696502      0.823638   \n         2               0.770196      0.647228      0.721609      0.706091   \n         3               1.024357      0.661682      0.779543      0.571230   \n         4               0.683974      0.645012      0.484309      1.083846   \n         5               0.757622      0.646705      0.720935      0.699926   \n...                           ...           ...           ...           ...   \n444      242             3.546402      3.188511      5.113416      3.803534   \n         243             1.527027      0.485269      0.516639      0.520443   \n         244             3.952767      0.813094      1.311723      0.843666   \n         245             2.930245      3.637518      4.189796      4.103630   \n         246             4.528634      4.591595      4.488104      4.181655   \n\n                     step_pred_32  step_pred_33  step_pred_34  step_pred_35  \\\nmonth_id country_id                                                           \n397      1               0.557715      0.525643      0.541731      0.555350   \n         2               0.572721      0.510407      0.583434      0.579779   \n         3               0.505648      0.748100      0.514143      0.524082   \n         4               1.449021      1.139949      0.482186      0.479546   \n         5               0.572176      0.510458      0.581869      0.579295   \n...                           ...           ...           ...           ...   \n444      242             3.561557      3.248026      2.929720      2.788255   \n         243             0.820115      0.501266      0.590600      0.635062   \n         244             1.109788      2.646547      1.136765      1.150167   \n         245             3.408108      2.996001      3.379579      2.662481   \n         246             4.353747      4.082720      4.914077      3.916251   \n\n                     step_pred_36  \nmonth_id country_id                \n397      1               0.671805  \n         2               0.788106  \n         3               0.612821  \n         4               0.479713  \n         5               0.787506  \n...                           ...  \n444      242             3.098599  \n         243             1.199985  \n         244             1.101795  \n         245             2.405901  \n         246             4.367278  \n\n[9168 rows x 37 columns]",
      "text/html": "<div>\n<style scoped>\n    .dataframe tbody tr th:only-of-type {\n        vertical-align: middle;\n    }\n\n    .dataframe tbody tr th {\n        vertical-align: top;\n    }\n\n    .dataframe thead th {\n        text-align: right;\n    }\n</style>\n<table border=\"1\" class=\"dataframe\">\n  <thead>\n    <tr style=\"text-align: right;\">\n      <th></th>\n      <th></th>\n      <th>ged_sb_dep</th>\n      <th>step_pred_1</th>\n      <th>step_pred_2</th>\n      <th>step_pred_3</th>\n      <th>step_pred_4</th>\n      <th>step_pred_5</th>\n      <th>step_pred_6</th>\n      <th>step_pred_7</th>\n      <th>step_pred_8</th>\n      <th>step_pred_9</th>\n      <th>...</th>\n      <th>step_pred_27</th>\n      <th>step_pred_28</th>\n      <th>step_pred_29</th>\n      <th>step_pred_30</th>\n      <th>step_pred_31</th>\n      <th>step_pred_32</th>\n      <th>step_pred_33</th>\n      <th>step_pred_34</th>\n      <th>step_pred_35</th>\n      <th>step_pred_36</th>\n    </tr>\n    <tr>\n      <th>month_id</th>\n      <th>country_id</th>\n      <th></th>\n      <th></th>\n      <th></th>\n      <th></th>\n      <th></th>\n      <th></th>\n      <th></th>\n      <th></th>\n      <th></th>\n      <th></th>\n      <th></th>\n      <th></th>\n      <th></th>\n      <th></th>\n      <th></th>\n      <th></th>\n      <th></th>\n      <th></th>\n      <th></th>\n      <th></th>\n      <th></th>\n    </tr>\n  </thead>\n  <tbody>\n    <tr>\n      <th rowspan=\"5\" valign=\"top\">397</th>\n      <th>1</th>\n      <td>0.0</td>\n      <td>1.888033</td>\n      <td>1.536575</td>\n      <td>2.049761</td>\n      <td>1.194238</td>\n      <td>1.080280</td>\n      <td>1.230281</td>\n      <td>1.012267</td>\n      <td>0.979016</td>\n      <td>1.124231</td>\n      <td>...</td>\n      <td>0.605951</td>\n      <td>0.616939</td>\n      <td>0.591293</td>\n      <td>0.696502</td>\n      <td>0.823638</td>\n      <td>0.557715</td>\n      <td>0.525643</td>\n      <td>0.541731</td>\n      <td>0.555350</td>\n      <td>0.671805</td>\n    </tr>\n    <tr>\n      <th>2</th>\n      <td>0.0</td>\n      <td>3.313491</td>\n      <td>2.442976</td>\n      <td>3.095902</td>\n      <td>1.791524</td>\n      <td>1.584468</td>\n      <td>1.561841</td>\n      <td>1.353563</td>\n      <td>1.191040</td>\n      <td>1.440145</td>\n      <td>...</td>\n      <td>0.726233</td>\n      <td>0.770196</td>\n      <td>0.647228</td>\n      <td>0.721609</td>\n      <td>0.706091</td>\n      <td>0.572721</td>\n      <td>0.510407</td>\n      <td>0.583434</td>\n      <td>0.579779</td>\n      <td>0.788106</td>\n    </tr>\n    <tr>\n      <th>3</th>\n      <td>0.0</td>\n      <td>1.746300</td>\n      <td>1.800268</td>\n      <td>1.744825</td>\n      <td>1.028135</td>\n      <td>1.015283</td>\n      <td>1.214884</td>\n      <td>0.834816</td>\n      <td>0.719306</td>\n      <td>0.796419</td>\n      <td>...</td>\n      <td>1.161782</td>\n      <td>1.024357</td>\n      <td>0.661682</td>\n      <td>0.779543</td>\n      <td>0.571230</td>\n      <td>0.505648</td>\n      <td>0.748100</td>\n      <td>0.514143</td>\n      <td>0.524082</td>\n      <td>0.612821</td>\n    </tr>\n    <tr>\n      <th>4</th>\n      <td>0.0</td>\n      <td>0.487359</td>\n      <td>0.500316</td>\n      <td>0.511034</td>\n      <td>0.510376</td>\n      <td>0.575729</td>\n      <td>0.510639</td>\n      <td>0.576125</td>\n      <td>0.510816</td>\n      <td>0.504026</td>\n      <td>...</td>\n      <td>0.665250</td>\n      <td>0.683974</td>\n      <td>0.645012</td>\n      <td>0.484309</td>\n      <td>1.083846</td>\n      <td>1.449021</td>\n      <td>1.139949</td>\n      <td>0.482186</td>\n      <td>0.479546</td>\n      <td>0.479713</td>\n    </tr>\n    <tr>\n      <th>5</th>\n      <td>0.0</td>\n      <td>3.312054</td>\n      <td>2.441470</td>\n      <td>3.093398</td>\n      <td>1.789339</td>\n      <td>1.576807</td>\n      <td>1.559876</td>\n      <td>1.353323</td>\n      <td>1.190878</td>\n      <td>1.439366</td>\n      <td>...</td>\n      <td>0.723306</td>\n      <td>0.757622</td>\n      <td>0.646705</td>\n      <td>0.720935</td>\n      <td>0.699926</td>\n      <td>0.572176</td>\n      <td>0.510458</td>\n      <td>0.581869</td>\n      <td>0.579295</td>\n      <td>0.787506</td>\n    </tr>\n    <tr>\n      <th>...</th>\n      <th>...</th>\n      <td>...</td>\n      <td>...</td>\n      <td>...</td>\n      <td>...</td>\n      <td>...</td>\n      <td>...</td>\n      <td>...</td>\n      <td>...</td>\n      <td>...</td>\n      <td>...</td>\n      <td>...</td>\n      <td>...</td>\n      <td>...</td>\n      <td>...</td>\n      <td>...</td>\n      <td>...</td>\n      <td>...</td>\n      <td>...</td>\n      <td>...</td>\n      <td>...</td>\n      <td>...</td>\n    </tr>\n    <tr>\n      <th rowspan=\"5\" valign=\"top\">444</th>\n      <th>242</th>\n      <td>0.0</td>\n      <td>4.505231</td>\n      <td>5.732021</td>\n      <td>4.511056</td>\n      <td>11.456407</td>\n      <td>1.927837</td>\n      <td>1.705806</td>\n      <td>2.175097</td>\n      <td>7.634606</td>\n      <td>8.995864</td>\n      <td>...</td>\n      <td>9.225223</td>\n      <td>3.546402</td>\n      <td>3.188511</td>\n      <td>5.113416</td>\n      <td>3.803534</td>\n      <td>3.561557</td>\n      <td>3.248026</td>\n      <td>2.929720</td>\n      <td>2.788255</td>\n      <td>3.098599</td>\n    </tr>\n    <tr>\n      <th>243</th>\n      <td>0.0</td>\n      <td>0.564945</td>\n      <td>0.647136</td>\n      <td>0.593240</td>\n      <td>0.794530</td>\n      <td>0.965720</td>\n      <td>0.944105</td>\n      <td>0.807292</td>\n      <td>1.222221</td>\n      <td>1.019295</td>\n      <td>...</td>\n      <td>1.075368</td>\n      <td>1.527027</td>\n      <td>0.485269</td>\n      <td>0.516639</td>\n      <td>0.520443</td>\n      <td>0.820115</td>\n      <td>0.501266</td>\n      <td>0.590600</td>\n      <td>0.635062</td>\n      <td>1.199985</td>\n    </tr>\n    <tr>\n      <th>244</th>\n      <td>0.0</td>\n      <td>0.670239</td>\n      <td>1.084977</td>\n      <td>0.824759</td>\n      <td>0.710583</td>\n      <td>1.426395</td>\n      <td>1.099138</td>\n      <td>1.305220</td>\n      <td>1.311780</td>\n      <td>0.932088</td>\n      <td>...</td>\n      <td>2.428319</td>\n      <td>3.952767</td>\n      <td>0.813094</td>\n      <td>1.311723</td>\n      <td>0.843666</td>\n      <td>1.109788</td>\n      <td>2.646547</td>\n      <td>1.136765</td>\n      <td>1.150167</td>\n      <td>1.101795</td>\n    </tr>\n    <tr>\n      <th>245</th>\n      <td>0.0</td>\n      <td>5.004318</td>\n      <td>6.232212</td>\n      <td>8.742626</td>\n      <td>7.999347</td>\n      <td>5.930683</td>\n      <td>6.081397</td>\n      <td>5.129094</td>\n      <td>5.645001</td>\n      <td>6.278614</td>\n      <td>...</td>\n      <td>3.930102</td>\n      <td>2.930245</td>\n      <td>3.637518</td>\n      <td>4.189796</td>\n      <td>4.103630</td>\n      <td>3.408108</td>\n      <td>2.996001</td>\n      <td>3.379579</td>\n      <td>2.662481</td>\n      <td>2.405901</td>\n    </tr>\n    <tr>\n      <th>246</th>\n      <td>14.0</td>\n      <td>9.258842</td>\n      <td>6.313660</td>\n      <td>5.660348</td>\n      <td>9.425748</td>\n      <td>6.468810</td>\n      <td>4.595462</td>\n      <td>5.049151</td>\n      <td>5.514345</td>\n      <td>3.922381</td>\n      <td>...</td>\n      <td>4.013035</td>\n      <td>4.528634</td>\n      <td>4.591595</td>\n      <td>4.488104</td>\n      <td>4.181655</td>\n      <td>4.353747</td>\n      <td>4.082720</td>\n      <td>4.914077</td>\n      <td>3.916251</td>\n      <td>4.367278</td>\n    </tr>\n  </tbody>\n</table>\n<p>9168 rows × 37 columns</p>\n</div>"
     },
     "execution_count": 113,
     "metadata": {},
     "output_type": "execute_result"
    }
   ],
   "source": [
    "stepcols = ['ged_sb_dep']\n",
    "steps = [*range(1, 36 + 1, 1)]\n",
    "for step in steps:\n",
    "    stepcols.append('step_pred_' + str(step))\n",
    "run_id = 'Fatalities003'\n",
    "name = 'cm_fatalities003_nl_topics_rf_calib_transform_raw_n_estimators_250_n_jobs_12_learning_rate_0.05_max_depth_12_min_child_weight_12_subsample_0.5_colsample_bytree_0.5'\n",
    "df = pd.DataFrame.forecasts.read_store(run=run_id, name=name).replace([np.inf, -np.inf], 0)[stepcols]\n",
    "df"
   ],
   "metadata": {
    "collapsed": false,
    "ExecuteTime": {
     "end_time": "2023-12-11T14:22:15.559487Z",
     "start_time": "2023-12-11T14:22:15.549264Z"
    }
   },
   "id": "8dba7577f52de4ef"
  },
  {
   "cell_type": "code",
   "execution_count": 114,
   "outputs": [
    {
     "data": {
      "text/plain": "         ged_sb_dep  step_pred_1  step_pred_2  step_pred_3  step_pred_4  \\\ncount   9168.000000  9168.000000  9168.000000  9168.000000  9168.000000   \nmean      43.984293     3.064313     2.938524     3.024721     2.463671   \nstd      478.269169     4.013247     3.939282     3.012343     2.652986   \nmin        0.000000     0.476367     0.476422     0.476632     0.476452   \n25%        0.000000     1.141073     1.428083     1.226387     1.061084   \n50%        0.000000     2.967103     2.444391     3.093398     1.789339   \n75%        0.000000     3.312054     2.837250     3.346230     2.211347   \nmax    19000.000000    57.567913    58.776665    34.229748    25.622738   \n\n       step_pred_5  step_pred_6  step_pred_7  step_pred_8  step_pred_9  ...  \\\ncount  9168.000000  9168.000000  9168.000000  9168.000000  9168.000000  ...   \nmean      2.344805     2.241646     2.080354     2.044865     2.113336  ...   \nstd       2.608635     2.326226     2.094101     2.217072     2.182770  ...   \nmin       0.476629     0.476453     0.476443     0.476490     0.476624  ...   \n25%       1.030640     1.074640     0.995747     0.931747     0.949853  ...   \n50%       1.576807     1.629165     1.357512     1.201662     1.439366  ...   \n75%       2.121895     2.075090     1.941592     2.056416     2.010623  ...   \nmax      30.410690    36.324074    19.378551    22.624584    20.225647  ...   \n\n       step_pred_27  step_pred_28  step_pred_29  step_pred_30  step_pred_31  \\\ncount   9168.000000   9168.000000   9168.000000   9168.000000   9168.000000   \nmean       1.541634      1.638868      1.574594      1.621234      1.630235   \nstd        1.607832      1.771869      1.728240      1.659796      1.791969   \nmin        0.000000      0.000000      0.000000      0.000000      0.000000   \n25%        0.719530      0.752138      0.645578      0.720144      0.699926   \n50%        0.785038      0.801496      0.758299      0.817740      0.767103   \n75%        1.746570      1.930422      1.836017      1.928235      1.854694   \nmax       19.464668     20.670267     17.030479     17.005161     19.832689   \n\n       step_pred_32  step_pred_33  step_pred_34  step_pred_35  step_pred_36  \ncount   9168.000000   9168.000000   9168.000000   9168.000000   9168.000000  \nmean       1.545550      1.448616      1.550858      1.503650      1.700572  \nstd        1.802667      1.751915      1.778156      1.798335      2.024134  \nmin        0.000000      0.000000      0.000000      0.000000      0.000000  \n25%        0.572176      0.512930      0.581869      0.579295      0.768986  \n50%        0.699220      0.666647      0.680501      0.691359      0.833531  \n75%        1.792060      1.655463      1.842366      1.660575      1.698188  \nmax       28.565922     27.920639     24.754251     28.713552     22.110678  \n\n[8 rows x 37 columns]",
      "text/html": "<div>\n<style scoped>\n    .dataframe tbody tr th:only-of-type {\n        vertical-align: middle;\n    }\n\n    .dataframe tbody tr th {\n        vertical-align: top;\n    }\n\n    .dataframe thead th {\n        text-align: right;\n    }\n</style>\n<table border=\"1\" class=\"dataframe\">\n  <thead>\n    <tr style=\"text-align: right;\">\n      <th></th>\n      <th>ged_sb_dep</th>\n      <th>step_pred_1</th>\n      <th>step_pred_2</th>\n      <th>step_pred_3</th>\n      <th>step_pred_4</th>\n      <th>step_pred_5</th>\n      <th>step_pred_6</th>\n      <th>step_pred_7</th>\n      <th>step_pred_8</th>\n      <th>step_pred_9</th>\n      <th>...</th>\n      <th>step_pred_27</th>\n      <th>step_pred_28</th>\n      <th>step_pred_29</th>\n      <th>step_pred_30</th>\n      <th>step_pred_31</th>\n      <th>step_pred_32</th>\n      <th>step_pred_33</th>\n      <th>step_pred_34</th>\n      <th>step_pred_35</th>\n      <th>step_pred_36</th>\n    </tr>\n  </thead>\n  <tbody>\n    <tr>\n      <th>count</th>\n      <td>9168.000000</td>\n      <td>9168.000000</td>\n      <td>9168.000000</td>\n      <td>9168.000000</td>\n      <td>9168.000000</td>\n      <td>9168.000000</td>\n      <td>9168.000000</td>\n      <td>9168.000000</td>\n      <td>9168.000000</td>\n      <td>9168.000000</td>\n      <td>...</td>\n      <td>9168.000000</td>\n      <td>9168.000000</td>\n      <td>9168.000000</td>\n      <td>9168.000000</td>\n      <td>9168.000000</td>\n      <td>9168.000000</td>\n      <td>9168.000000</td>\n      <td>9168.000000</td>\n      <td>9168.000000</td>\n      <td>9168.000000</td>\n    </tr>\n    <tr>\n      <th>mean</th>\n      <td>43.984293</td>\n      <td>3.064313</td>\n      <td>2.938524</td>\n      <td>3.024721</td>\n      <td>2.463671</td>\n      <td>2.344805</td>\n      <td>2.241646</td>\n      <td>2.080354</td>\n      <td>2.044865</td>\n      <td>2.113336</td>\n      <td>...</td>\n      <td>1.541634</td>\n      <td>1.638868</td>\n      <td>1.574594</td>\n      <td>1.621234</td>\n      <td>1.630235</td>\n      <td>1.545550</td>\n      <td>1.448616</td>\n      <td>1.550858</td>\n      <td>1.503650</td>\n      <td>1.700572</td>\n    </tr>\n    <tr>\n      <th>std</th>\n      <td>478.269169</td>\n      <td>4.013247</td>\n      <td>3.939282</td>\n      <td>3.012343</td>\n      <td>2.652986</td>\n      <td>2.608635</td>\n      <td>2.326226</td>\n      <td>2.094101</td>\n      <td>2.217072</td>\n      <td>2.182770</td>\n      <td>...</td>\n      <td>1.607832</td>\n      <td>1.771869</td>\n      <td>1.728240</td>\n      <td>1.659796</td>\n      <td>1.791969</td>\n      <td>1.802667</td>\n      <td>1.751915</td>\n      <td>1.778156</td>\n      <td>1.798335</td>\n      <td>2.024134</td>\n    </tr>\n    <tr>\n      <th>min</th>\n      <td>0.000000</td>\n      <td>0.476367</td>\n      <td>0.476422</td>\n      <td>0.476632</td>\n      <td>0.476452</td>\n      <td>0.476629</td>\n      <td>0.476453</td>\n      <td>0.476443</td>\n      <td>0.476490</td>\n      <td>0.476624</td>\n      <td>...</td>\n      <td>0.000000</td>\n      <td>0.000000</td>\n      <td>0.000000</td>\n      <td>0.000000</td>\n      <td>0.000000</td>\n      <td>0.000000</td>\n      <td>0.000000</td>\n      <td>0.000000</td>\n      <td>0.000000</td>\n      <td>0.000000</td>\n    </tr>\n    <tr>\n      <th>25%</th>\n      <td>0.000000</td>\n      <td>1.141073</td>\n      <td>1.428083</td>\n      <td>1.226387</td>\n      <td>1.061084</td>\n      <td>1.030640</td>\n      <td>1.074640</td>\n      <td>0.995747</td>\n      <td>0.931747</td>\n      <td>0.949853</td>\n      <td>...</td>\n      <td>0.719530</td>\n      <td>0.752138</td>\n      <td>0.645578</td>\n      <td>0.720144</td>\n      <td>0.699926</td>\n      <td>0.572176</td>\n      <td>0.512930</td>\n      <td>0.581869</td>\n      <td>0.579295</td>\n      <td>0.768986</td>\n    </tr>\n    <tr>\n      <th>50%</th>\n      <td>0.000000</td>\n      <td>2.967103</td>\n      <td>2.444391</td>\n      <td>3.093398</td>\n      <td>1.789339</td>\n      <td>1.576807</td>\n      <td>1.629165</td>\n      <td>1.357512</td>\n      <td>1.201662</td>\n      <td>1.439366</td>\n      <td>...</td>\n      <td>0.785038</td>\n      <td>0.801496</td>\n      <td>0.758299</td>\n      <td>0.817740</td>\n      <td>0.767103</td>\n      <td>0.699220</td>\n      <td>0.666647</td>\n      <td>0.680501</td>\n      <td>0.691359</td>\n      <td>0.833531</td>\n    </tr>\n    <tr>\n      <th>75%</th>\n      <td>0.000000</td>\n      <td>3.312054</td>\n      <td>2.837250</td>\n      <td>3.346230</td>\n      <td>2.211347</td>\n      <td>2.121895</td>\n      <td>2.075090</td>\n      <td>1.941592</td>\n      <td>2.056416</td>\n      <td>2.010623</td>\n      <td>...</td>\n      <td>1.746570</td>\n      <td>1.930422</td>\n      <td>1.836017</td>\n      <td>1.928235</td>\n      <td>1.854694</td>\n      <td>1.792060</td>\n      <td>1.655463</td>\n      <td>1.842366</td>\n      <td>1.660575</td>\n      <td>1.698188</td>\n    </tr>\n    <tr>\n      <th>max</th>\n      <td>19000.000000</td>\n      <td>57.567913</td>\n      <td>58.776665</td>\n      <td>34.229748</td>\n      <td>25.622738</td>\n      <td>30.410690</td>\n      <td>36.324074</td>\n      <td>19.378551</td>\n      <td>22.624584</td>\n      <td>20.225647</td>\n      <td>...</td>\n      <td>19.464668</td>\n      <td>20.670267</td>\n      <td>17.030479</td>\n      <td>17.005161</td>\n      <td>19.832689</td>\n      <td>28.565922</td>\n      <td>27.920639</td>\n      <td>24.754251</td>\n      <td>28.713552</td>\n      <td>22.110678</td>\n    </tr>\n  </tbody>\n</table>\n<p>8 rows × 37 columns</p>\n</div>"
     },
     "execution_count": 114,
     "metadata": {},
     "output_type": "execute_result"
    }
   ],
   "source": [
    "df.describe()"
   ],
   "metadata": {
    "collapsed": false,
    "ExecuteTime": {
     "end_time": "2023-12-11T14:22:19.557740Z",
     "start_time": "2023-12-11T14:22:19.503254Z"
    }
   },
   "id": "abfcbd5ee6d836b9"
  },
  {
   "cell_type": "code",
   "execution_count": 147,
   "outputs": [],
   "source": [
    "months = df.index.levels[0].tolist()\n",
    "step_preds = [f'step_pred_{i}' for i in range(1, 37)]\n",
    "wandb.init(project='test', entity='model-development-and-deployment')\n",
    "for month in [399, 400]:\n",
    "    for step in ['step_pred_1']:\n",
    "        fig = plot_cm_map(df, month, step)\n",
    "        \n",
    "        wandb.log({f'month_{month}_step_{step}': wandb.Image(fig)})\n",
    "        \n",
    "wandb.finish()"
   ],
   "metadata": {
    "collapsed": false,
    "ExecuteTime": {
     "end_time": "2023-12-11T15:38:17.083246Z",
     "start_time": "2023-12-11T15:38:04.537090Z"
    }
   },
   "id": "fcc3800763d6a860"
  },
  {
   "cell_type": "code",
   "execution_count": 2,
   "outputs": [
    {
     "name": "stdout",
     "output_type": "stream",
     "text": [
      "Fetching query sets\n",
      " .     \n",
      "A dataset with 8 columns, with data between t 1 and 852. (13110 units)\n",
      " .     \n",
      "A dataset with 19 columns, with data between t 1 and 852. (13110 units)\n",
      " .     \n",
      "A dataset with 29 columns, with data between t 1 and 852. (13110 units)\n",
      " .     \n",
      "A dataset with 24 columns, with data between t 1 and 852. (13110 units)\n",
      " .     \n",
      "A dataset with 23 columns, with data between t 1 and 852. (13110 units)\n",
      " .     \n",
      "A dataset with 30 columns, with data between t 1 and 852. (13110 units)\n",
      " .     \n",
      "A dataset with 8 columns, with data between t 1 and 852. (13110 units)\n",
      " .     \n",
      "A dataset with 11 columns, with data between t 1 and 852. (13110 units)\n",
      "Fetching datasets\n",
      " .     "
     ]
    }
   ],
   "source": [
    "level = 'pgm'\n",
    "transforms = ['raw', 'log', 'normalize', 'standardize']\n",
    "qslist, Datasets = fetch_data(level)"
   ],
   "metadata": {
    "collapsed": false,
    "ExecuteTime": {
     "end_time": "2023-12-18T17:42:54.621626Z",
     "start_time": "2023-12-18T17:06:07.081113Z"
    }
   },
   "id": "1fc4f03637d477cf"
  },
  {
   "cell_type": "code",
   "execution_count": 23,
   "outputs": [],
   "source": [
    "Datasets_transformed = {}\n",
    "para_transformed = {}\n",
    "for t in transforms:\n",
    "    Datasets_transformed[t], para_transformed[t] = transform_data(Datasets, t, level, by_group=True)"
   ],
   "metadata": {
    "collapsed": false,
    "ExecuteTime": {
     "end_time": "2023-12-19T09:52:12.951619Z",
     "start_time": "2023-12-19T09:51:19.616531Z"
    }
   },
   "id": "c581f879670390a3"
  },
  {
   "cell_type": "code",
   "execution_count": 26,
   "outputs": [],
   "source": [
    "config_path = Path('./my_config_pgm')\n",
    "common_config_path, wandb_config_path, model_config_path, sweep_config_path = get_config_path(config_path)\n",
    "common_config = get_config_from_path(common_config_path, 'common')\n",
    "wandb_config = get_config_from_path(wandb_config_path, 'wandb')"
   ],
   "metadata": {
    "collapsed": false,
    "ExecuteTime": {
     "end_time": "2023-12-19T10:12:59.565332Z",
     "start_time": "2023-12-19T10:12:59.557739Z"
    }
   },
   "id": "907954ac456296cb"
  },
  {
   "cell_type": "code",
   "execution_count": 27,
   "outputs": [
    {
     "name": "stdout",
     "output_type": "stream",
     "text": [
      "Create sweep with ID: 40divblj\n",
      "Sweep URL: https://wandb.ai/model-development-and-deployment/pgm_example_1/sweeps/40divblj\n",
      "transform_log_learning_rate_0.05_n_estimators_100_n_jobs_12\n",
      "{'learning_rate': 0.05, 'n_estimators': 100, 'n_jobs': 12}\n",
      "Training model fatalities003_pgm_baseline_lgbm\n",
      "Calibration partition (log)\n",
      " * == Performing a run: \"pgm_fatalities003_pgm_baseline_lgbm_calib_transform_log_learning_rate_0.05_n_estimators_100_n_jobs_12\" == * \n",
      "Training model(s)...\n",
      "Storing \"pgm_fatalities003_pgm_baseline_lgbm_calib_transform_log_learning_rate_0.05_n_estimators_100_n_jobs_12\"\n",
      "Getting predictions\n",
      "pr_56_pgm_fatalities003_pgm_baseline_lgbm_calib_transform_log_learning_rate_0.05_n_estimators_100_n_jobs_12.parquet\n",
      "pgm_fatalities003_pgm_baseline_lgbm_calib_transform_log_learning_rate_0.05_n_estimators_100_n_jobs_12 , run Fatalities003 does not exist, predicting\n",
      "Test partition (log)\n",
      " * == Performing a run: \"pgm_fatalities003_pgm_baseline_lgbm_test_transform_log_learning_rate_0.05_n_estimators_100_n_jobs_12\" == * \n",
      "Training model(s)...\n",
      "Storing \"pgm_fatalities003_pgm_baseline_lgbm_test_transform_log_learning_rate_0.05_n_estimators_100_n_jobs_12\"\n",
      "Getting predictions\n",
      "pr_56_pgm_fatalities003_pgm_baseline_lgbm_test_transform_log_learning_rate_0.05_n_estimators_100_n_jobs_12.parquet\n",
      "pgm_fatalities003_pgm_baseline_lgbm_test_transform_log_learning_rate_0.05_n_estimators_100_n_jobs_12 , run Fatalities003 does not exist, predicting\n",
      "**************************************************************\n",
      "Evaluating model fatalities003_pgm_baseline_lgbm\n",
      "pr_56_pgm_fatalities003_pgm_baseline_lgbm_calib_transform_log_learning_rate_0.05_n_estimators_100_n_jobs_12.parquet\n",
      "**************************************************************\n",
      "transform_standardize_learning_rate_0.05_n_estimators_100_n_jobs_12\n",
      "{'learning_rate': 0.05, 'n_estimators': 100, 'n_jobs': 12}\n",
      "Training model fatalities003_pgm_baseline_lgbm\n",
      "Calibration partition (standardize)\n",
      " * == Performing a run: \"pgm_fatalities003_pgm_baseline_lgbm_calib_transform_standardize_learning_rate_0.05_n_estimators_100_n_jobs_12\" == * \n",
      "Training model(s)...\n",
      "Storing \"pgm_fatalities003_pgm_baseline_lgbm_calib_transform_standardize_learning_rate_0.05_n_estimators_100_n_jobs_12\"\n",
      "Getting predictions\n",
      "pr_56_pgm_fatalities003_pgm_baseline_lgbm_calib_transform_standardize_learning_rate_0.05_n_estimators_100_n_jobs_12.parquet\n",
      "pgm_fatalities003_pgm_baseline_lgbm_calib_transform_standardize_learning_rate_0.05_n_estimators_100_n_jobs_12 , run Fatalities003 does not exist, predicting\n",
      "Test partition (standardize)\n",
      " * == Performing a run: \"pgm_fatalities003_pgm_baseline_lgbm_test_transform_standardize_learning_rate_0.05_n_estimators_100_n_jobs_12\" == * \n",
      "Training model(s)...\n",
      "Storing \"pgm_fatalities003_pgm_baseline_lgbm_test_transform_standardize_learning_rate_0.05_n_estimators_100_n_jobs_12\"\n",
      "Getting predictions\n",
      "pr_56_pgm_fatalities003_pgm_baseline_lgbm_test_transform_standardize_learning_rate_0.05_n_estimators_100_n_jobs_12.parquet\n",
      "pgm_fatalities003_pgm_baseline_lgbm_test_transform_standardize_learning_rate_0.05_n_estimators_100_n_jobs_12 , run Fatalities003 does not exist, predicting\n",
      "**************************************************************\n",
      "Evaluating model fatalities003_pgm_baseline_lgbm\n",
      "pr_56_pgm_fatalities003_pgm_baseline_lgbm_calib_transform_standardize_learning_rate_0.05_n_estimators_100_n_jobs_12.parquet\n",
      "**************************************************************\n",
      "transform_raw_learning_rate_0.05_n_estimators_100_n_jobs_12\n",
      "{'learning_rate': 0.05, 'n_estimators': 100, 'n_jobs': 12}\n",
      "Training model fatalities003_pgm_baseline_lgbm\n",
      "Calibration partition (raw)\n",
      " * == Performing a run: \"pgm_fatalities003_pgm_baseline_lgbm_calib_transform_raw_learning_rate_0.05_n_estimators_100_n_jobs_12\" == * \n",
      "Training model(s)...\n",
      "Storing \"pgm_fatalities003_pgm_baseline_lgbm_calib_transform_raw_learning_rate_0.05_n_estimators_100_n_jobs_12\"\n",
      "Getting predictions\n",
      "pr_56_pgm_fatalities003_pgm_baseline_lgbm_calib_transform_raw_learning_rate_0.05_n_estimators_100_n_jobs_12.parquet\n",
      "pgm_fatalities003_pgm_baseline_lgbm_calib_transform_raw_learning_rate_0.05_n_estimators_100_n_jobs_12 , run Fatalities003 does not exist, predicting\n",
      "Test partition (raw)\n",
      " * == Performing a run: \"pgm_fatalities003_pgm_baseline_lgbm_test_transform_raw_learning_rate_0.05_n_estimators_100_n_jobs_12\" == * \n",
      "Training model(s)...\n",
      "Storing \"pgm_fatalities003_pgm_baseline_lgbm_test_transform_raw_learning_rate_0.05_n_estimators_100_n_jobs_12\"\n",
      "Getting predictions\n",
      "pr_56_pgm_fatalities003_pgm_baseline_lgbm_test_transform_raw_learning_rate_0.05_n_estimators_100_n_jobs_12.parquet\n",
      "pgm_fatalities003_pgm_baseline_lgbm_test_transform_raw_learning_rate_0.05_n_estimators_100_n_jobs_12 , run Fatalities003 does not exist, predicting\n",
      "**************************************************************\n",
      "Evaluating model fatalities003_pgm_baseline_lgbm\n",
      "pr_56_pgm_fatalities003_pgm_baseline_lgbm_calib_transform_raw_learning_rate_0.05_n_estimators_100_n_jobs_12.parquet\n",
      "**************************************************************\n"
     ]
    },
    {
     "data": {
      "text/plain": "VBox(children=(Label(value='Waiting for wandb.init()...\\r'), FloatProgress(value=0.01116900324446356, max=1.0)…",
      "application/vnd.jupyter.widget-view+json": {
       "version_major": 2,
       "version_minor": 0,
       "model_id": "bc0670ba60074f77a122183cdf4a12ff"
      }
     },
     "metadata": {},
     "output_type": "display_data"
    },
    {
     "name": "stdout",
     "output_type": "stream",
     "text": [
      "transform_normalize_learning_rate_0.05_n_estimators_100_n_jobs_12\n",
      "{'learning_rate': 0.05, 'n_estimators': 100, 'n_jobs': 12}\n",
      "Training model fatalities003_pgm_baseline_lgbm\n",
      "Calibration partition (normalize)\n",
      " * == Performing a run: \"pgm_fatalities003_pgm_baseline_lgbm_calib_transform_normalize_learning_rate_0.05_n_estimators_100_n_jobs_12\" == * \n",
      "Training model(s)...\n",
      "Storing \"pgm_fatalities003_pgm_baseline_lgbm_calib_transform_normalize_learning_rate_0.05_n_estimators_100_n_jobs_12\"\n",
      "Getting predictions\n",
      "pr_56_pgm_fatalities003_pgm_baseline_lgbm_calib_transform_normalize_learning_rate_0.05_n_estimators_100_n_jobs_12.parquet\n",
      "pgm_fatalities003_pgm_baseline_lgbm_calib_transform_normalize_learning_rate_0.05_n_estimators_100_n_jobs_12 , run Fatalities003 does not exist, predicting\n",
      "Finish sweeping over model fatalities003_pgm_baseline_lgbm\n"
     ]
    }
   ],
   "source": [
    "model_name = 'fatalities003_pgm_baseline_lgbm'\n",
    "for sweep_file in sweep_config_path.iterdir():\n",
    "    if sweep_file.is_file():\n",
    "        # Skip if a specific model name is provided and it doesn't match the file\n",
    "        model_name_from_file = sweep_file.stem\n",
    "        if model_name and model_name != model_name_from_file:\n",
    "            continue\n",
    "            \n",
    "        model_file = model_config_path / sweep_file.name\n",
    "        if not model_file.is_file():\n",
    "            raise FileNotFoundError(f'The corresponding model configuration file {model_file} does not exist.')\n",
    "\n",
    "        sweep_config = get_config_from_path(sweep_file, 'sweep')\n",
    "        model_config = get_config_from_path(model_file, 'model')\n",
    "    \n",
    "        if sweep_file.stem.split('_')[-2] == 'hurdle':\n",
    "            continue # Currently Hurdle models are not supported\n",
    "        model = sweep_file.stem.split('_')[-1]\n",
    "        # sweep_paras = PARA_DICT[model]\n",
    "        sweep_id = wandb.sweep(sweep_config, project=wandb_config['project'],\n",
    "                               entity=wandb_config['entity'])\n",
    "        wandb.agent(sweep_id, function=train)\n",
    "        print(f'Finish sweeping over model {sweep_file.stem}')\n",
    "    break\n",
    "    "
   ],
   "metadata": {
    "collapsed": false,
    "ExecuteTime": {
     "end_time": "2023-12-19T10:30:18.626341Z",
     "start_time": "2023-12-19T10:13:01.608509Z"
    }
   },
   "id": "b1e8a6b9599df41"
  },
  {
   "cell_type": "code",
   "execution_count": 5,
   "outputs": [
    {
     "name": "stdout",
     "output_type": "stream",
     "text": [
      "pr_56_pgm_fatalities003_pgm_baseline_lgbm_calib_transform_raw_learning_rate_0.05_n_estimators_100_n_jobs_12.parquet\n"
     ]
    },
    {
     "data": {
      "text/plain": "          ged_sb_dep    step_pred_1    step_pred_2    step_pred_3  \\\ncount  629280.000000  629280.000000  629280.000000  629280.000000   \nmean        0.357143       0.362960       0.235796       0.200281   \nstd        10.742290      22.604209       9.727253       7.633099   \nmin         0.000000    -369.145596    -239.012891    -124.988114   \n25%         0.000000       0.017658       0.019247       0.024417   \n50%         0.000000       0.017658       0.019247       0.024417   \n75%         0.000000       0.017658       0.019247       0.024417   \nmax      1580.000000    3393.240804    3724.499363    2443.864943   \n\n         step_pred_4    step_pred_5    step_pred_6    step_pred_7  \\\ncount  629280.000000  629280.000000  629280.000000  629280.000000   \nmean        0.192233       0.207696       0.253360       0.260690   \nstd         6.278958       7.467056      10.196756      11.820635   \nmin      -323.638512    -198.734169    -123.406325    -115.332386   \n25%         0.025745       0.021106       0.024519       0.024257   \n50%         0.025745       0.021106       0.024519       0.024257   \n75%         0.025745       0.024515       0.024519       0.024257   \nmax      1968.052512    1593.697184    1491.184652    1583.798864   \n\n         step_pred_8    step_pred_9  ...   step_pred_27   step_pred_28  \\\ncount  629280.000000  629280.000000  ...  629280.000000  629280.000000   \nmean        0.217874       0.209900  ...       0.085503       0.115182   \nstd         7.514221       7.488593  ...       3.642885       6.255992   \nmin      -135.203092    -101.517689  ...    -197.290655    -145.531940   \n25%         0.025342       0.029282  ...       0.008430       0.010251   \n50%         0.025342       0.029282  ...       0.008430       0.010251   \n75%         0.025342       0.029282  ...       0.013225       0.030053   \nmax      1334.298983    2667.634904  ...     696.297475    2566.186750   \n\n        step_pred_29   step_pred_30   step_pred_31   step_pred_32  \\\ncount  629280.000000  629280.000000  629280.000000  629280.000000   \nmean        0.102013       0.067152       0.109287       0.095474   \nstd         6.586327       3.511985       5.003973       5.118448   \nmin      -206.145965    -386.248113    -369.163407    -249.280290   \n25%         0.012131       0.008328       0.014634       0.014106   \n50%         0.012395       0.008328       0.014634       0.014106   \n75%         0.014238       0.012387       0.024532       0.028845   \nmax      2621.295037    1203.775368    1397.033959    2085.250237   \n\n        step_pred_33   step_pred_34   step_pred_35   step_pred_36  \ncount  629280.000000  629280.000000  629280.000000  629280.000000  \nmean        0.082626       0.070612       0.074306       0.075961  \nstd         3.472790       3.366107       3.609370       3.346155  \nmin      -290.583883    -219.790766    -197.321224    -355.121646  \n25%         0.013854       0.015003       0.015476       0.017671  \n50%         0.013854       0.015003       0.015476       0.017671  \n75%         0.017388       0.022591       0.017477       0.022242  \nmax       879.143073    1096.635328    1179.015076     619.578114  \n\n[8 rows x 37 columns]",
      "text/html": "<div>\n<style scoped>\n    .dataframe tbody tr th:only-of-type {\n        vertical-align: middle;\n    }\n\n    .dataframe tbody tr th {\n        vertical-align: top;\n    }\n\n    .dataframe thead th {\n        text-align: right;\n    }\n</style>\n<table border=\"1\" class=\"dataframe\">\n  <thead>\n    <tr style=\"text-align: right;\">\n      <th></th>\n      <th>ged_sb_dep</th>\n      <th>step_pred_1</th>\n      <th>step_pred_2</th>\n      <th>step_pred_3</th>\n      <th>step_pred_4</th>\n      <th>step_pred_5</th>\n      <th>step_pred_6</th>\n      <th>step_pred_7</th>\n      <th>step_pred_8</th>\n      <th>step_pred_9</th>\n      <th>...</th>\n      <th>step_pred_27</th>\n      <th>step_pred_28</th>\n      <th>step_pred_29</th>\n      <th>step_pred_30</th>\n      <th>step_pred_31</th>\n      <th>step_pred_32</th>\n      <th>step_pred_33</th>\n      <th>step_pred_34</th>\n      <th>step_pred_35</th>\n      <th>step_pred_36</th>\n    </tr>\n  </thead>\n  <tbody>\n    <tr>\n      <th>count</th>\n      <td>629280.000000</td>\n      <td>629280.000000</td>\n      <td>629280.000000</td>\n      <td>629280.000000</td>\n      <td>629280.000000</td>\n      <td>629280.000000</td>\n      <td>629280.000000</td>\n      <td>629280.000000</td>\n      <td>629280.000000</td>\n      <td>629280.000000</td>\n      <td>...</td>\n      <td>629280.000000</td>\n      <td>629280.000000</td>\n      <td>629280.000000</td>\n      <td>629280.000000</td>\n      <td>629280.000000</td>\n      <td>629280.000000</td>\n      <td>629280.000000</td>\n      <td>629280.000000</td>\n      <td>629280.000000</td>\n      <td>629280.000000</td>\n    </tr>\n    <tr>\n      <th>mean</th>\n      <td>0.357143</td>\n      <td>0.362960</td>\n      <td>0.235796</td>\n      <td>0.200281</td>\n      <td>0.192233</td>\n      <td>0.207696</td>\n      <td>0.253360</td>\n      <td>0.260690</td>\n      <td>0.217874</td>\n      <td>0.209900</td>\n      <td>...</td>\n      <td>0.085503</td>\n      <td>0.115182</td>\n      <td>0.102013</td>\n      <td>0.067152</td>\n      <td>0.109287</td>\n      <td>0.095474</td>\n      <td>0.082626</td>\n      <td>0.070612</td>\n      <td>0.074306</td>\n      <td>0.075961</td>\n    </tr>\n    <tr>\n      <th>std</th>\n      <td>10.742290</td>\n      <td>22.604209</td>\n      <td>9.727253</td>\n      <td>7.633099</td>\n      <td>6.278958</td>\n      <td>7.467056</td>\n      <td>10.196756</td>\n      <td>11.820635</td>\n      <td>7.514221</td>\n      <td>7.488593</td>\n      <td>...</td>\n      <td>3.642885</td>\n      <td>6.255992</td>\n      <td>6.586327</td>\n      <td>3.511985</td>\n      <td>5.003973</td>\n      <td>5.118448</td>\n      <td>3.472790</td>\n      <td>3.366107</td>\n      <td>3.609370</td>\n      <td>3.346155</td>\n    </tr>\n    <tr>\n      <th>min</th>\n      <td>0.000000</td>\n      <td>-369.145596</td>\n      <td>-239.012891</td>\n      <td>-124.988114</td>\n      <td>-323.638512</td>\n      <td>-198.734169</td>\n      <td>-123.406325</td>\n      <td>-115.332386</td>\n      <td>-135.203092</td>\n      <td>-101.517689</td>\n      <td>...</td>\n      <td>-197.290655</td>\n      <td>-145.531940</td>\n      <td>-206.145965</td>\n      <td>-386.248113</td>\n      <td>-369.163407</td>\n      <td>-249.280290</td>\n      <td>-290.583883</td>\n      <td>-219.790766</td>\n      <td>-197.321224</td>\n      <td>-355.121646</td>\n    </tr>\n    <tr>\n      <th>25%</th>\n      <td>0.000000</td>\n      <td>0.017658</td>\n      <td>0.019247</td>\n      <td>0.024417</td>\n      <td>0.025745</td>\n      <td>0.021106</td>\n      <td>0.024519</td>\n      <td>0.024257</td>\n      <td>0.025342</td>\n      <td>0.029282</td>\n      <td>...</td>\n      <td>0.008430</td>\n      <td>0.010251</td>\n      <td>0.012131</td>\n      <td>0.008328</td>\n      <td>0.014634</td>\n      <td>0.014106</td>\n      <td>0.013854</td>\n      <td>0.015003</td>\n      <td>0.015476</td>\n      <td>0.017671</td>\n    </tr>\n    <tr>\n      <th>50%</th>\n      <td>0.000000</td>\n      <td>0.017658</td>\n      <td>0.019247</td>\n      <td>0.024417</td>\n      <td>0.025745</td>\n      <td>0.021106</td>\n      <td>0.024519</td>\n      <td>0.024257</td>\n      <td>0.025342</td>\n      <td>0.029282</td>\n      <td>...</td>\n      <td>0.008430</td>\n      <td>0.010251</td>\n      <td>0.012395</td>\n      <td>0.008328</td>\n      <td>0.014634</td>\n      <td>0.014106</td>\n      <td>0.013854</td>\n      <td>0.015003</td>\n      <td>0.015476</td>\n      <td>0.017671</td>\n    </tr>\n    <tr>\n      <th>75%</th>\n      <td>0.000000</td>\n      <td>0.017658</td>\n      <td>0.019247</td>\n      <td>0.024417</td>\n      <td>0.025745</td>\n      <td>0.024515</td>\n      <td>0.024519</td>\n      <td>0.024257</td>\n      <td>0.025342</td>\n      <td>0.029282</td>\n      <td>...</td>\n      <td>0.013225</td>\n      <td>0.030053</td>\n      <td>0.014238</td>\n      <td>0.012387</td>\n      <td>0.024532</td>\n      <td>0.028845</td>\n      <td>0.017388</td>\n      <td>0.022591</td>\n      <td>0.017477</td>\n      <td>0.022242</td>\n    </tr>\n    <tr>\n      <th>max</th>\n      <td>1580.000000</td>\n      <td>3393.240804</td>\n      <td>3724.499363</td>\n      <td>2443.864943</td>\n      <td>1968.052512</td>\n      <td>1593.697184</td>\n      <td>1491.184652</td>\n      <td>1583.798864</td>\n      <td>1334.298983</td>\n      <td>2667.634904</td>\n      <td>...</td>\n      <td>696.297475</td>\n      <td>2566.186750</td>\n      <td>2621.295037</td>\n      <td>1203.775368</td>\n      <td>1397.033959</td>\n      <td>2085.250237</td>\n      <td>879.143073</td>\n      <td>1096.635328</td>\n      <td>1179.015076</td>\n      <td>619.578114</td>\n    </tr>\n  </tbody>\n</table>\n<p>8 rows × 37 columns</p>\n</div>"
     },
     "execution_count": 5,
     "metadata": {},
     "output_type": "execute_result"
    }
   ],
   "source": [
    "stepcols = ['ged_sb_dep']\n",
    "steps = [*range(1, 36 + 1, 1)]\n",
    "for step in steps:\n",
    "    stepcols.append('step_pred_' + str(step))\n",
    "run_id = 'Fatalities003'\n",
    "name = 'pgm_fatalities003_pgm_baseline_lgbm_calib_transform_raw_learning_rate_0.05_n_estimators_100_n_jobs_12'\n",
    "df = pd.DataFrame.forecasts.read_store(run=run_id, name=name).replace([np.inf, -np.inf], 0)[stepcols]\n",
    "df.describe()"
   ],
   "metadata": {
    "collapsed": false,
    "ExecuteTime": {
     "end_time": "2023-12-19T11:35:32.159992Z",
     "start_time": "2023-12-19T11:35:30.533990Z"
    }
   },
   "id": "59ec48d3a968ba5e"
  },
  {
   "cell_type": "code",
   "execution_count": 6,
   "outputs": [
    {
     "name": "stdout",
     "output_type": "stream",
     "text": [
      "pr_56_pgm_fatalities003_pgm_baseline_lgbm_calib_transform_log_learning_rate_0.05_n_estimators_100_n_jobs_12.parquet\n"
     ]
    },
    {
     "data": {
      "text/plain": "          ged_sb_dep    step_pred_1    step_pred_2    step_pred_3  \\\ncount  629280.000000  629280.000000  629280.000000  629280.000000   \nmean        0.357143       0.025410       0.022007       0.022355   \nstd        10.742290       0.370579       0.320609       0.323944   \nmin         0.000000      -0.075677      -0.042418      -0.069909   \n25%         0.000000       0.000629       0.000654       0.000694   \n50%         0.000000       0.000629       0.000654       0.000694   \n75%         0.000000       0.000629       0.000654       0.000741   \nmax      1580.000000      36.395334      45.864467      29.982219   \n\n         step_pred_4    step_pred_5    step_pred_6    step_pred_7  \\\ncount  629280.000000  629280.000000  629280.000000  629280.000000   \nmean        0.020502       0.017919       0.017827       0.018912   \nstd         0.296664       0.244225       0.267098       0.309219   \nmin        -0.026511      -0.139463      -0.036578      -0.061792   \n25%         0.000698       0.000737       0.000735       0.000778   \n50%         0.000698       0.000737       0.000735       0.000778   \n75%         0.000821       0.000807       0.000885       0.000941   \nmax        36.719954      28.361323      31.178444      29.255667   \n\n         step_pred_8    step_pred_9  ...   step_pred_27   step_pred_28  \\\ncount  629280.000000  629280.000000  ...  629280.000000  629280.000000   \nmean        0.016739       0.016003  ...       0.011237       0.010115   \nstd         0.237498       0.243263  ...       0.203521       0.155079   \nmin        -0.052306      -0.070387  ...      -0.018436      -0.001362   \n25%         0.000755       0.000747  ...       0.000782       0.000783   \n50%         0.000755       0.000795  ...       0.001086       0.001145   \n75%         0.000930       0.000932  ...       0.001426       0.001505   \nmax        34.050488      41.508575  ...      22.562600      19.041801   \n\n        step_pred_29   step_pred_30   step_pred_31   step_pred_32  \\\ncount  629280.000000  629280.000000  629280.000000  629280.000000   \nmean        0.010272       0.009740       0.010019       0.009432   \nstd         0.167599       0.141783       0.165464       0.141041   \nmin        -0.045369      -0.029317      -0.074989      -0.052877   \n25%         0.000716       0.000719       0.000746       0.000750   \n50%         0.001064       0.001069       0.001074       0.001078   \n75%         0.001441       0.001555       0.001477       0.001455   \nmax        17.869934      13.054167      16.279341      13.031511   \n\n        step_pred_33   step_pred_34   step_pred_35   step_pred_36  \ncount  629280.000000  629280.000000  629280.000000  629280.000000  \nmean        0.009757       0.009439       0.008788       0.008548  \nstd         0.173581       0.152443       0.134684       0.115434  \nmin        -0.017900      -0.042569      -0.059149      -0.034537  \n25%         0.000750       0.000789       0.000731       0.000730  \n50%         0.001098       0.001127       0.001113       0.001074  \n75%         0.001437       0.001489       0.001493       0.001542  \nmax        24.287855      21.757464      23.061903      12.259959  \n\n[8 rows x 37 columns]",
      "text/html": "<div>\n<style scoped>\n    .dataframe tbody tr th:only-of-type {\n        vertical-align: middle;\n    }\n\n    .dataframe tbody tr th {\n        vertical-align: top;\n    }\n\n    .dataframe thead th {\n        text-align: right;\n    }\n</style>\n<table border=\"1\" class=\"dataframe\">\n  <thead>\n    <tr style=\"text-align: right;\">\n      <th></th>\n      <th>ged_sb_dep</th>\n      <th>step_pred_1</th>\n      <th>step_pred_2</th>\n      <th>step_pred_3</th>\n      <th>step_pred_4</th>\n      <th>step_pred_5</th>\n      <th>step_pred_6</th>\n      <th>step_pred_7</th>\n      <th>step_pred_8</th>\n      <th>step_pred_9</th>\n      <th>...</th>\n      <th>step_pred_27</th>\n      <th>step_pred_28</th>\n      <th>step_pred_29</th>\n      <th>step_pred_30</th>\n      <th>step_pred_31</th>\n      <th>step_pred_32</th>\n      <th>step_pred_33</th>\n      <th>step_pred_34</th>\n      <th>step_pred_35</th>\n      <th>step_pred_36</th>\n    </tr>\n  </thead>\n  <tbody>\n    <tr>\n      <th>count</th>\n      <td>629280.000000</td>\n      <td>629280.000000</td>\n      <td>629280.000000</td>\n      <td>629280.000000</td>\n      <td>629280.000000</td>\n      <td>629280.000000</td>\n      <td>629280.000000</td>\n      <td>629280.000000</td>\n      <td>629280.000000</td>\n      <td>629280.000000</td>\n      <td>...</td>\n      <td>629280.000000</td>\n      <td>629280.000000</td>\n      <td>629280.000000</td>\n      <td>629280.000000</td>\n      <td>629280.000000</td>\n      <td>629280.000000</td>\n      <td>629280.000000</td>\n      <td>629280.000000</td>\n      <td>629280.000000</td>\n      <td>629280.000000</td>\n    </tr>\n    <tr>\n      <th>mean</th>\n      <td>0.357143</td>\n      <td>0.025410</td>\n      <td>0.022007</td>\n      <td>0.022355</td>\n      <td>0.020502</td>\n      <td>0.017919</td>\n      <td>0.017827</td>\n      <td>0.018912</td>\n      <td>0.016739</td>\n      <td>0.016003</td>\n      <td>...</td>\n      <td>0.011237</td>\n      <td>0.010115</td>\n      <td>0.010272</td>\n      <td>0.009740</td>\n      <td>0.010019</td>\n      <td>0.009432</td>\n      <td>0.009757</td>\n      <td>0.009439</td>\n      <td>0.008788</td>\n      <td>0.008548</td>\n    </tr>\n    <tr>\n      <th>std</th>\n      <td>10.742290</td>\n      <td>0.370579</td>\n      <td>0.320609</td>\n      <td>0.323944</td>\n      <td>0.296664</td>\n      <td>0.244225</td>\n      <td>0.267098</td>\n      <td>0.309219</td>\n      <td>0.237498</td>\n      <td>0.243263</td>\n      <td>...</td>\n      <td>0.203521</td>\n      <td>0.155079</td>\n      <td>0.167599</td>\n      <td>0.141783</td>\n      <td>0.165464</td>\n      <td>0.141041</td>\n      <td>0.173581</td>\n      <td>0.152443</td>\n      <td>0.134684</td>\n      <td>0.115434</td>\n    </tr>\n    <tr>\n      <th>min</th>\n      <td>0.000000</td>\n      <td>-0.075677</td>\n      <td>-0.042418</td>\n      <td>-0.069909</td>\n      <td>-0.026511</td>\n      <td>-0.139463</td>\n      <td>-0.036578</td>\n      <td>-0.061792</td>\n      <td>-0.052306</td>\n      <td>-0.070387</td>\n      <td>...</td>\n      <td>-0.018436</td>\n      <td>-0.001362</td>\n      <td>-0.045369</td>\n      <td>-0.029317</td>\n      <td>-0.074989</td>\n      <td>-0.052877</td>\n      <td>-0.017900</td>\n      <td>-0.042569</td>\n      <td>-0.059149</td>\n      <td>-0.034537</td>\n    </tr>\n    <tr>\n      <th>25%</th>\n      <td>0.000000</td>\n      <td>0.000629</td>\n      <td>0.000654</td>\n      <td>0.000694</td>\n      <td>0.000698</td>\n      <td>0.000737</td>\n      <td>0.000735</td>\n      <td>0.000778</td>\n      <td>0.000755</td>\n      <td>0.000747</td>\n      <td>...</td>\n      <td>0.000782</td>\n      <td>0.000783</td>\n      <td>0.000716</td>\n      <td>0.000719</td>\n      <td>0.000746</td>\n      <td>0.000750</td>\n      <td>0.000750</td>\n      <td>0.000789</td>\n      <td>0.000731</td>\n      <td>0.000730</td>\n    </tr>\n    <tr>\n      <th>50%</th>\n      <td>0.000000</td>\n      <td>0.000629</td>\n      <td>0.000654</td>\n      <td>0.000694</td>\n      <td>0.000698</td>\n      <td>0.000737</td>\n      <td>0.000735</td>\n      <td>0.000778</td>\n      <td>0.000755</td>\n      <td>0.000795</td>\n      <td>...</td>\n      <td>0.001086</td>\n      <td>0.001145</td>\n      <td>0.001064</td>\n      <td>0.001069</td>\n      <td>0.001074</td>\n      <td>0.001078</td>\n      <td>0.001098</td>\n      <td>0.001127</td>\n      <td>0.001113</td>\n      <td>0.001074</td>\n    </tr>\n    <tr>\n      <th>75%</th>\n      <td>0.000000</td>\n      <td>0.000629</td>\n      <td>0.000654</td>\n      <td>0.000741</td>\n      <td>0.000821</td>\n      <td>0.000807</td>\n      <td>0.000885</td>\n      <td>0.000941</td>\n      <td>0.000930</td>\n      <td>0.000932</td>\n      <td>...</td>\n      <td>0.001426</td>\n      <td>0.001505</td>\n      <td>0.001441</td>\n      <td>0.001555</td>\n      <td>0.001477</td>\n      <td>0.001455</td>\n      <td>0.001437</td>\n      <td>0.001489</td>\n      <td>0.001493</td>\n      <td>0.001542</td>\n    </tr>\n    <tr>\n      <th>max</th>\n      <td>1580.000000</td>\n      <td>36.395334</td>\n      <td>45.864467</td>\n      <td>29.982219</td>\n      <td>36.719954</td>\n      <td>28.361323</td>\n      <td>31.178444</td>\n      <td>29.255667</td>\n      <td>34.050488</td>\n      <td>41.508575</td>\n      <td>...</td>\n      <td>22.562600</td>\n      <td>19.041801</td>\n      <td>17.869934</td>\n      <td>13.054167</td>\n      <td>16.279341</td>\n      <td>13.031511</td>\n      <td>24.287855</td>\n      <td>21.757464</td>\n      <td>23.061903</td>\n      <td>12.259959</td>\n    </tr>\n  </tbody>\n</table>\n<p>8 rows × 37 columns</p>\n</div>"
     },
     "execution_count": 6,
     "metadata": {},
     "output_type": "execute_result"
    }
   ],
   "source": [
    "stepcols = ['ged_sb_dep']\n",
    "steps = [*range(1, 36 + 1, 1)]\n",
    "for step in steps:\n",
    "    stepcols.append('step_pred_' + str(step))\n",
    "run_id = 'Fatalities003'\n",
    "name = 'pgm_fatalities003_pgm_baseline_lgbm_calib_transform_log_learning_rate_0.05_n_estimators_100_n_jobs_12'\n",
    "df = pd.DataFrame.forecasts.read_store(run=run_id, name=name).replace([np.inf, -np.inf], 0)[stepcols]\n",
    "df = np.exp(df) - 1\n",
    "df.describe()"
   ],
   "metadata": {
    "collapsed": false,
    "ExecuteTime": {
     "end_time": "2023-12-19T11:36:12.410658Z",
     "start_time": "2023-12-19T11:36:10.589957Z"
    }
   },
   "id": "4736da609d8bf399"
  },
  {
   "cell_type": "code",
   "execution_count": 7,
   "outputs": [
    {
     "ename": "NameError",
     "evalue": "name 'para_transformed' is not defined",
     "output_type": "error",
     "traceback": [
      "\u001B[0;31m---------------------------------------------------------------------------\u001B[0m",
      "\u001B[0;31mNameError\u001B[0m                                 Traceback (most recent call last)",
      "Cell \u001B[0;32mIn[7], line 4\u001B[0m\n\u001B[1;32m      2\u001B[0m     \u001B[38;5;28;01mreturn\u001B[39;00m x \u001B[38;5;241m*\u001B[39m std_val \u001B[38;5;241m+\u001B[39m mean_val\n\u001B[1;32m      3\u001B[0m name \u001B[38;5;241m=\u001B[39m \u001B[38;5;124m'\u001B[39m\u001B[38;5;124mpgm_fatalities003_pgm_baseline_lgbm_calib_transform_standardize_learning_rate_0.05_n_estimators_100_n_jobs_12\u001B[39m\u001B[38;5;124m'\u001B[39m\n\u001B[0;32m----> 4\u001B[0m df_para_model \u001B[38;5;241m=\u001B[39m para_transformed[\u001B[38;5;124m'\u001B[39m\u001B[38;5;124mstandardize\u001B[39m\u001B[38;5;124m'\u001B[39m][\u001B[38;5;124m'\u001B[39m\u001B[38;5;124mbaseline003\u001B[39m\u001B[38;5;124m'\u001B[39m]\n\u001B[1;32m      5\u001B[0m df \u001B[38;5;241m=\u001B[39m pd\u001B[38;5;241m.\u001B[39mDataFrame\u001B[38;5;241m.\u001B[39mforecasts\u001B[38;5;241m.\u001B[39mread_store(run\u001B[38;5;241m=\u001B[39mrun_id, name\u001B[38;5;241m=\u001B[39mname)\u001B[38;5;241m.\u001B[39mreplace([np\u001B[38;5;241m.\u001B[39minf, \u001B[38;5;241m-\u001B[39mnp\u001B[38;5;241m.\u001B[39minf], \u001B[38;5;241m0\u001B[39m)[stepcols]\n\u001B[1;32m      6\u001B[0m df \u001B[38;5;241m=\u001B[39m df\u001B[38;5;241m.\u001B[39mapply(\u001B[38;5;28;01mlambda\u001B[39;00m row: standardize_retransform(row, df_para_model[\u001B[38;5;124m'\u001B[39m\u001B[38;5;124mmean_val\u001B[39m\u001B[38;5;124m'\u001B[39m]\u001B[38;5;241m.\u001B[39mloc[row\u001B[38;5;241m.\u001B[39mname[\u001B[38;5;241m1\u001B[39m]], df_para_model[\u001B[38;5;124m'\u001B[39m\u001B[38;5;124mstd_val\u001B[39m\u001B[38;5;124m'\u001B[39m]\u001B[38;5;241m.\u001B[39mloc[row\u001B[38;5;241m.\u001B[39mname[\u001B[38;5;241m1\u001B[39m]]), axis\u001B[38;5;241m=\u001B[39m\u001B[38;5;241m1\u001B[39m)\n",
      "\u001B[0;31mNameError\u001B[0m: name 'para_transformed' is not defined"
     ]
    }
   ],
   "source": [
    "def standardize_retransform(x, mean_val, std_val):\n",
    "    return x * std_val + mean_val\n",
    "name = 'pgm_fatalities003_pgm_baseline_lgbm_calib_transform_standardize_learning_rate_0.05_n_estimators_100_n_jobs_12'\n",
    "df_para_model = para_transformed['standardize']['baseline003']\n",
    "df = pd.DataFrame.forecasts.read_store(run=run_id, name=name).replace([np.inf, -np.inf], 0)[stepcols]\n",
    "df = df.apply(lambda row: standardize_retransform(row, df_para_model['mean_val'].loc[row.name[1]], df_para_model['std_val'].loc[row.name[1]]), axis=1)\n",
    "df"
   ],
   "metadata": {
    "collapsed": false,
    "ExecuteTime": {
     "end_time": "2023-12-19T11:37:56.333479Z",
     "start_time": "2023-12-19T11:37:56.305949Z"
    }
   },
   "id": "f15cab03b5a18764"
  },
  {
   "cell_type": "code",
   "execution_count": 4,
   "outputs": [],
   "source": [
    "months = df.index.levels[0].tolist()\n",
    "step_preds = [f'step_pred_{i}' for i in range(1, 37)]\n",
    "wandb.init(project='test', entity='model-development-and-deployment')\n",
    "for month in [397]:\n",
    "    for step in step_preds:\n",
    "        fig = plot_pgm_map(df, month, step)\n",
    "        \n",
    "        wandb.log({f'month_{month}_{step}': wandb.Image(fig)})\n",
    "        \n",
    "wandb.finish()"
   ],
   "metadata": {
    "collapsed": false,
    "ExecuteTime": {
     "end_time": "2023-12-19T11:21:57.622729Z",
     "start_time": "2023-12-19T11:21:33.435993Z"
    }
   },
   "id": "12e8c912f8e8b79c"
  },
  {
   "cell_type": "code",
   "execution_count": null,
   "outputs": [],
   "source": [],
   "metadata": {
    "collapsed": false
   },
   "id": "be593c25b27b02fa"
  }
 ],
 "metadata": {
  "kernelspec": {
   "display_name": "Python 3",
   "language": "python",
   "name": "python3"
  },
  "language_info": {
   "codemirror_mode": {
    "name": "ipython",
    "version": 2
   },
   "file_extension": ".py",
   "mimetype": "text/x-python",
   "name": "python",
   "nbconvert_exporter": "python",
   "pygments_lexer": "ipython2",
   "version": "2.7.6"
  }
 },
 "nbformat": 4,
 "nbformat_minor": 5
}
